{
 "cells": [
  {
   "cell_type": "markdown",
   "metadata": {},
   "source": [
    "# Rusty Bargain's App to Attract New Customers"
   ]
  },
  {
   "cell_type": "markdown",
   "metadata": {},
   "source": [
    "## Introduction\n"
   ]
  },
  {
   "cell_type": "markdown",
   "metadata": {},
   "source": [
    "Rusty Bargain used car sales service is developing an app to attract new customers. In that app, you can quickly find out the market value of your car. You have access to historical data: technical specifications, trim versions, and prices. You need to build the model to determine the value. \n",
    "\n",
    "Rusty Bargain is interested in:\n",
    "\n",
    "- the quality of the prediction;\n",
    "- the speed of the prediction;\n",
    "- the time required for training"
   ]
  },
  {
   "cell_type": "markdown",
   "metadata": {},
   "source": [
    "## Data Preprocessing"
   ]
  },
  {
   "cell_type": "code",
   "execution_count": 1,
   "metadata": {},
   "outputs": [],
   "source": [
    "# Important necessary libraries\n",
    "import pandas as pd\n",
    "import seaborn as sns\n",
    "import numpy as np\n",
    "import re\n",
    "from matplotlib import pyplot as plt\n",
    "from scipy import stats as st\n",
    "\n",
    "from catboost import CatBoostRegressor\n",
    "from lightgbm import LGBMRegressor\n",
    "from sklearn.linear_model import LinearRegression, LogisticRegression\n",
    "from sklearn.ensemble import RandomForestRegressor\n",
    "from sklearn.model_selection import train_test_split, GridSearchCV\n",
    "from sklearn.metrics import mean_squared_error\n",
    "from sklearn.preprocessing import StandardScaler\n",
    "\n",
    "import warnings\n",
    "warnings.filterwarnings('ignore')"
   ]
  },
  {
   "cell_type": "markdown",
   "metadata": {},
   "source": [
    "## Data preparation"
   ]
  },
  {
   "cell_type": "code",
   "execution_count": 2,
   "metadata": {},
   "outputs": [
    {
     "data": {
      "text/html": [
       "<div>\n",
       "<style scoped>\n",
       "    .dataframe tbody tr th:only-of-type {\n",
       "        vertical-align: middle;\n",
       "    }\n",
       "\n",
       "    .dataframe tbody tr th {\n",
       "        vertical-align: top;\n",
       "    }\n",
       "\n",
       "    .dataframe thead th {\n",
       "        text-align: right;\n",
       "    }\n",
       "</style>\n",
       "<table border=\"1\" class=\"dataframe\">\n",
       "  <thead>\n",
       "    <tr style=\"text-align: right;\">\n",
       "      <th></th>\n",
       "      <th>DateCrawled</th>\n",
       "      <th>Price</th>\n",
       "      <th>VehicleType</th>\n",
       "      <th>RegistrationYear</th>\n",
       "      <th>Gearbox</th>\n",
       "      <th>Power</th>\n",
       "      <th>Model</th>\n",
       "      <th>Mileage</th>\n",
       "      <th>RegistrationMonth</th>\n",
       "      <th>FuelType</th>\n",
       "      <th>Brand</th>\n",
       "      <th>NotRepaired</th>\n",
       "      <th>DateCreated</th>\n",
       "      <th>NumberOfPictures</th>\n",
       "      <th>PostalCode</th>\n",
       "      <th>LastSeen</th>\n",
       "    </tr>\n",
       "  </thead>\n",
       "  <tbody>\n",
       "    <tr>\n",
       "      <th>0</th>\n",
       "      <td>24/03/2016 11:52</td>\n",
       "      <td>480</td>\n",
       "      <td>NaN</td>\n",
       "      <td>1993</td>\n",
       "      <td>manual</td>\n",
       "      <td>0</td>\n",
       "      <td>golf</td>\n",
       "      <td>150000</td>\n",
       "      <td>0</td>\n",
       "      <td>petrol</td>\n",
       "      <td>volkswagen</td>\n",
       "      <td>NaN</td>\n",
       "      <td>24/03/2016 00:00</td>\n",
       "      <td>0</td>\n",
       "      <td>70435</td>\n",
       "      <td>07/04/2016 03:16</td>\n",
       "    </tr>\n",
       "    <tr>\n",
       "      <th>1</th>\n",
       "      <td>24/03/2016 10:58</td>\n",
       "      <td>18300</td>\n",
       "      <td>coupe</td>\n",
       "      <td>2011</td>\n",
       "      <td>manual</td>\n",
       "      <td>190</td>\n",
       "      <td>NaN</td>\n",
       "      <td>125000</td>\n",
       "      <td>5</td>\n",
       "      <td>gasoline</td>\n",
       "      <td>audi</td>\n",
       "      <td>yes</td>\n",
       "      <td>24/03/2016 00:00</td>\n",
       "      <td>0</td>\n",
       "      <td>66954</td>\n",
       "      <td>07/04/2016 01:46</td>\n",
       "    </tr>\n",
       "    <tr>\n",
       "      <th>2</th>\n",
       "      <td>14/03/2016 12:52</td>\n",
       "      <td>9800</td>\n",
       "      <td>suv</td>\n",
       "      <td>2004</td>\n",
       "      <td>auto</td>\n",
       "      <td>163</td>\n",
       "      <td>grand</td>\n",
       "      <td>125000</td>\n",
       "      <td>8</td>\n",
       "      <td>gasoline</td>\n",
       "      <td>jeep</td>\n",
       "      <td>NaN</td>\n",
       "      <td>14/03/2016 00:00</td>\n",
       "      <td>0</td>\n",
       "      <td>90480</td>\n",
       "      <td>05/04/2016 12:47</td>\n",
       "    </tr>\n",
       "    <tr>\n",
       "      <th>3</th>\n",
       "      <td>17/03/2016 16:54</td>\n",
       "      <td>1500</td>\n",
       "      <td>small</td>\n",
       "      <td>2001</td>\n",
       "      <td>manual</td>\n",
       "      <td>75</td>\n",
       "      <td>golf</td>\n",
       "      <td>150000</td>\n",
       "      <td>6</td>\n",
       "      <td>petrol</td>\n",
       "      <td>volkswagen</td>\n",
       "      <td>no</td>\n",
       "      <td>17/03/2016 00:00</td>\n",
       "      <td>0</td>\n",
       "      <td>91074</td>\n",
       "      <td>17/03/2016 17:40</td>\n",
       "    </tr>\n",
       "    <tr>\n",
       "      <th>4</th>\n",
       "      <td>31/03/2016 17:25</td>\n",
       "      <td>3600</td>\n",
       "      <td>small</td>\n",
       "      <td>2008</td>\n",
       "      <td>manual</td>\n",
       "      <td>69</td>\n",
       "      <td>fabia</td>\n",
       "      <td>90000</td>\n",
       "      <td>7</td>\n",
       "      <td>gasoline</td>\n",
       "      <td>skoda</td>\n",
       "      <td>no</td>\n",
       "      <td>31/03/2016 00:00</td>\n",
       "      <td>0</td>\n",
       "      <td>60437</td>\n",
       "      <td>06/04/2016 10:17</td>\n",
       "    </tr>\n",
       "  </tbody>\n",
       "</table>\n",
       "</div>"
      ],
      "text/plain": [
       "        DateCrawled  Price VehicleType  RegistrationYear Gearbox  Power  \\\n",
       "0  24/03/2016 11:52    480         NaN              1993  manual      0   \n",
       "1  24/03/2016 10:58  18300       coupe              2011  manual    190   \n",
       "2  14/03/2016 12:52   9800         suv              2004    auto    163   \n",
       "3  17/03/2016 16:54   1500       small              2001  manual     75   \n",
       "4  31/03/2016 17:25   3600       small              2008  manual     69   \n",
       "\n",
       "   Model  Mileage  RegistrationMonth  FuelType       Brand NotRepaired  \\\n",
       "0   golf   150000                  0    petrol  volkswagen         NaN   \n",
       "1    NaN   125000                  5  gasoline        audi         yes   \n",
       "2  grand   125000                  8  gasoline        jeep         NaN   \n",
       "3   golf   150000                  6    petrol  volkswagen          no   \n",
       "4  fabia    90000                  7  gasoline       skoda          no   \n",
       "\n",
       "        DateCreated  NumberOfPictures  PostalCode          LastSeen  \n",
       "0  24/03/2016 00:00                 0       70435  07/04/2016 03:16  \n",
       "1  24/03/2016 00:00                 0       66954  07/04/2016 01:46  \n",
       "2  14/03/2016 00:00                 0       90480  05/04/2016 12:47  \n",
       "3  17/03/2016 00:00                 0       91074  17/03/2016 17:40  \n",
       "4  31/03/2016 00:00                 0       60437  06/04/2016 10:17  "
      ]
     },
     "execution_count": 2,
     "metadata": {},
     "output_type": "execute_result"
    }
   ],
   "source": [
    "# Load the datasets\n",
    "car_data = pd.read_csv('datasets/car_data.csv')\n",
    "\n",
    "# Display the first few rows of the dataset\n",
    "car_data.head()"
   ]
  },
  {
   "cell_type": "code",
   "execution_count": 3,
   "metadata": {},
   "outputs": [
    {
     "name": "stdout",
     "output_type": "stream",
     "text": [
      "Index(['date_crawled', 'price', 'vehicle_type', 'registration_year', 'gearbox',\n",
      "       'power', 'model', 'mileage', 'registration_month', 'fuel_type', 'brand',\n",
      "       'not_repaired', 'date_created', 'number_of_pictures', 'postal_code',\n",
      "       'last_seen'],\n",
      "      dtype='object')\n"
     ]
    }
   ],
   "source": [
    "# Convert camelCase column names to snake_case\n",
    "car_data.columns = [re.sub(r'(?<!^)(?=[A-Z])', '_', col).lower() for col in car_data.columns]\n",
    "print(car_data.columns)"
   ]
  },
  {
   "cell_type": "code",
   "execution_count": 4,
   "metadata": {},
   "outputs": [
    {
     "name": "stdout",
     "output_type": "stream",
     "text": [
      "The DataFrame has 354369 rows and 16 columns\n"
     ]
    }
   ],
   "source": [
    "# Display the number of rows and columns in the DataFrame\n",
    "n_rows, n_cols = car_data.shape\n",
    "print(f\"The DataFrame has {n_rows} rows and {n_cols} columns\")"
   ]
  },
  {
   "cell_type": "code",
   "execution_count": 5,
   "metadata": {},
   "outputs": [
    {
     "name": "stdout",
     "output_type": "stream",
     "text": [
      "<class 'pandas.core.frame.DataFrame'>\n",
      "RangeIndex: 354369 entries, 0 to 354368\n",
      "Data columns (total 16 columns):\n",
      " #   Column              Non-Null Count   Dtype \n",
      "---  ------              --------------   ----- \n",
      " 0   date_crawled        354369 non-null  object\n",
      " 1   price               354369 non-null  int64 \n",
      " 2   vehicle_type        316879 non-null  object\n",
      " 3   registration_year   354369 non-null  int64 \n",
      " 4   gearbox             334536 non-null  object\n",
      " 5   power               354369 non-null  int64 \n",
      " 6   model               334664 non-null  object\n",
      " 7   mileage             354369 non-null  int64 \n",
      " 8   registration_month  354369 non-null  int64 \n",
      " 9   fuel_type           321474 non-null  object\n",
      " 10  brand               354369 non-null  object\n",
      " 11  not_repaired        283215 non-null  object\n",
      " 12  date_created        354369 non-null  object\n",
      " 13  number_of_pictures  354369 non-null  int64 \n",
      " 14  postal_code         354369 non-null  int64 \n",
      " 15  last_seen           354369 non-null  object\n",
      "dtypes: int64(7), object(9)\n",
      "memory usage: 43.3+ MB\n"
     ]
    }
   ],
   "source": [
    "# Display informative summary of the datasets\n",
    "car_data.info()"
   ]
  },
  {
   "cell_type": "code",
   "execution_count": 6,
   "metadata": {},
   "outputs": [
    {
     "data": {
      "text/html": [
       "<div>\n",
       "<style scoped>\n",
       "    .dataframe tbody tr th:only-of-type {\n",
       "        vertical-align: middle;\n",
       "    }\n",
       "\n",
       "    .dataframe tbody tr th {\n",
       "        vertical-align: top;\n",
       "    }\n",
       "\n",
       "    .dataframe thead th {\n",
       "        text-align: right;\n",
       "    }\n",
       "</style>\n",
       "<table border=\"1\" class=\"dataframe\">\n",
       "  <thead>\n",
       "    <tr style=\"text-align: right;\">\n",
       "      <th></th>\n",
       "      <th>price</th>\n",
       "      <th>registration_year</th>\n",
       "      <th>power</th>\n",
       "      <th>mileage</th>\n",
       "      <th>registration_month</th>\n",
       "      <th>number_of_pictures</th>\n",
       "      <th>postal_code</th>\n",
       "    </tr>\n",
       "  </thead>\n",
       "  <tbody>\n",
       "    <tr>\n",
       "      <th>count</th>\n",
       "      <td>354369.000000</td>\n",
       "      <td>354369.000000</td>\n",
       "      <td>354369.000000</td>\n",
       "      <td>354369.000000</td>\n",
       "      <td>354369.000000</td>\n",
       "      <td>354369.0</td>\n",
       "      <td>354369.000000</td>\n",
       "    </tr>\n",
       "    <tr>\n",
       "      <th>mean</th>\n",
       "      <td>4416.656776</td>\n",
       "      <td>2004.234448</td>\n",
       "      <td>110.094337</td>\n",
       "      <td>128211.172535</td>\n",
       "      <td>5.714645</td>\n",
       "      <td>0.0</td>\n",
       "      <td>50508.689087</td>\n",
       "    </tr>\n",
       "    <tr>\n",
       "      <th>std</th>\n",
       "      <td>4514.158514</td>\n",
       "      <td>90.227958</td>\n",
       "      <td>189.850405</td>\n",
       "      <td>37905.341530</td>\n",
       "      <td>3.726421</td>\n",
       "      <td>0.0</td>\n",
       "      <td>25783.096248</td>\n",
       "    </tr>\n",
       "    <tr>\n",
       "      <th>min</th>\n",
       "      <td>0.000000</td>\n",
       "      <td>1000.000000</td>\n",
       "      <td>0.000000</td>\n",
       "      <td>5000.000000</td>\n",
       "      <td>0.000000</td>\n",
       "      <td>0.0</td>\n",
       "      <td>1067.000000</td>\n",
       "    </tr>\n",
       "    <tr>\n",
       "      <th>25%</th>\n",
       "      <td>1050.000000</td>\n",
       "      <td>1999.000000</td>\n",
       "      <td>69.000000</td>\n",
       "      <td>125000.000000</td>\n",
       "      <td>3.000000</td>\n",
       "      <td>0.0</td>\n",
       "      <td>30165.000000</td>\n",
       "    </tr>\n",
       "    <tr>\n",
       "      <th>50%</th>\n",
       "      <td>2700.000000</td>\n",
       "      <td>2003.000000</td>\n",
       "      <td>105.000000</td>\n",
       "      <td>150000.000000</td>\n",
       "      <td>6.000000</td>\n",
       "      <td>0.0</td>\n",
       "      <td>49413.000000</td>\n",
       "    </tr>\n",
       "    <tr>\n",
       "      <th>75%</th>\n",
       "      <td>6400.000000</td>\n",
       "      <td>2008.000000</td>\n",
       "      <td>143.000000</td>\n",
       "      <td>150000.000000</td>\n",
       "      <td>9.000000</td>\n",
       "      <td>0.0</td>\n",
       "      <td>71083.000000</td>\n",
       "    </tr>\n",
       "    <tr>\n",
       "      <th>max</th>\n",
       "      <td>20000.000000</td>\n",
       "      <td>9999.000000</td>\n",
       "      <td>20000.000000</td>\n",
       "      <td>150000.000000</td>\n",
       "      <td>12.000000</td>\n",
       "      <td>0.0</td>\n",
       "      <td>99998.000000</td>\n",
       "    </tr>\n",
       "  </tbody>\n",
       "</table>\n",
       "</div>"
      ],
      "text/plain": [
       "               price  registration_year          power        mileage  \\\n",
       "count  354369.000000      354369.000000  354369.000000  354369.000000   \n",
       "mean     4416.656776        2004.234448     110.094337  128211.172535   \n",
       "std      4514.158514          90.227958     189.850405   37905.341530   \n",
       "min         0.000000        1000.000000       0.000000    5000.000000   \n",
       "25%      1050.000000        1999.000000      69.000000  125000.000000   \n",
       "50%      2700.000000        2003.000000     105.000000  150000.000000   \n",
       "75%      6400.000000        2008.000000     143.000000  150000.000000   \n",
       "max     20000.000000        9999.000000   20000.000000  150000.000000   \n",
       "\n",
       "       registration_month  number_of_pictures    postal_code  \n",
       "count       354369.000000            354369.0  354369.000000  \n",
       "mean             5.714645                 0.0   50508.689087  \n",
       "std              3.726421                 0.0   25783.096248  \n",
       "min              0.000000                 0.0    1067.000000  \n",
       "25%              3.000000                 0.0   30165.000000  \n",
       "50%              6.000000                 0.0   49413.000000  \n",
       "75%              9.000000                 0.0   71083.000000  \n",
       "max             12.000000                 0.0   99998.000000  "
      ]
     },
     "execution_count": 6,
     "metadata": {},
     "output_type": "execute_result"
    }
   ],
   "source": [
    "# Display the descriptive statistics of the DataFrame\n",
    "car_data.describe()"
   ]
  },
  {
   "cell_type": "code",
   "execution_count": 7,
   "metadata": {},
   "outputs": [
    {
     "data": {
      "text/plain": [
       "262"
      ]
     },
     "metadata": {},
     "output_type": "display_data"
    },
    {
     "data": {
      "text/plain": [
       "0"
      ]
     },
     "execution_count": 7,
     "metadata": {},
     "output_type": "execute_result"
    }
   ],
   "source": [
    "# Display the number of duplicate rows in the DataFrame\n",
    "display(car_data.duplicated().sum())\n",
    "\n",
    "# Remove duplicate rows from the DataFrame\n",
    "car_data.drop_duplicates(inplace=True)\n",
    "\n",
    "# Checking the number of duplicate rows in the DataFrame after removing duplicate rows\n",
    "car_data.duplicated().sum()"
   ]
  },
  {
   "cell_type": "code",
   "execution_count": 8,
   "metadata": {},
   "outputs": [
    {
     "data": {
      "text/plain": [
       "date_crawled              0\n",
       "price                     0\n",
       "vehicle_type          37484\n",
       "registration_year         0\n",
       "gearbox               19830\n",
       "power                     0\n",
       "model                 19701\n",
       "mileage                   0\n",
       "registration_month        0\n",
       "fuel_type             32889\n",
       "brand                     0\n",
       "not_repaired          71145\n",
       "date_created              0\n",
       "number_of_pictures        0\n",
       "postal_code               0\n",
       "last_seen                 0\n",
       "dtype: int64"
      ]
     },
     "execution_count": 8,
     "metadata": {},
     "output_type": "execute_result"
    }
   ],
   "source": [
    "# Display the number of missing values in the DataFrame\n",
    "car_data.isna().sum() "
   ]
  },
  {
   "cell_type": "code",
   "execution_count": 9,
   "metadata": {},
   "outputs": [],
   "source": [
    "# Fill missing values in the 'vehicle_type', 'gearbox', 'model', 'fuel_type' columns with 'unknown'\n",
    "car_data[['vehicle_type', 'gearbox', 'model', 'fuel_type']] = car_data[['vehicle_type', 'gearbox', 'model', 'fuel_type']].fillna('unknown')\n",
    "\n",
    "# Fill missing values in column 'not_repaired' with 'no info'\n",
    "car_data['not_repaired'] = car_data['not_repaired'].fillna('no info')"
   ]
  },
  {
   "cell_type": "code",
   "execution_count": 10,
   "metadata": {},
   "outputs": [
    {
     "data": {
      "text/plain": [
       "date_crawled          0\n",
       "price                 0\n",
       "vehicle_type          0\n",
       "registration_year     0\n",
       "gearbox               0\n",
       "power                 0\n",
       "model                 0\n",
       "mileage               0\n",
       "registration_month    0\n",
       "fuel_type             0\n",
       "brand                 0\n",
       "not_repaired          0\n",
       "date_created          0\n",
       "number_of_pictures    0\n",
       "postal_code           0\n",
       "last_seen             0\n",
       "dtype: int64"
      ]
     },
     "execution_count": 10,
     "metadata": {},
     "output_type": "execute_result"
    }
   ],
   "source": [
    "# Check for missing values after filling missing values in all columns in the DataFrame.\n",
    "car_data.isna().sum() "
   ]
  },
  {
   "cell_type": "markdown",
   "metadata": {},
   "source": [
    "By analyzing the dataset, there are 262 duplicates and many columns had many missing values found. So, 262 duplicates were dropeed and missing values among all the columns were filled using fillna with 'unknown' expect 'not_repaired' column was filled with 'no info'. "
   ]
  },
  {
   "cell_type": "markdown",
   "metadata": {},
   "source": [
    "## Model training"
   ]
  },
  {
   "cell_type": "code",
   "execution_count": 11,
   "metadata": {},
   "outputs": [],
   "source": [
    "# Drop irrelevant columns to clean the dataset\n",
    "car_data = car_data.drop(\n",
    "    [\n",
    "        'date_crawled',\n",
    "        'date_created',\n",
    "        'last_seen',\n",
    "        'number_of_pictures',\n",
    "        'postal_code'\n",
    "        ],\n",
    "        axis=1)"
   ]
  },
  {
   "cell_type": "code",
   "execution_count": 12,
   "metadata": {},
   "outputs": [],
   "source": [
    "# Use one-hot encoder to convert categorical columns to numerical columns\n",
    "car_data = pd.get_dummies(car_data, columns=['vehicle_type', \n",
    "                                             'gearbox', \n",
    "                                             'model', \n",
    "                                             'fuel_type', \n",
    "                                             'brand', \n",
    "                                             'not_repaired'], drop_first=True)"
   ]
  },
  {
   "cell_type": "markdown",
   "metadata": {},
   "source": [
    "### Splitting the dataset"
   ]
  },
  {
   "cell_type": "code",
   "execution_count": 13,
   "metadata": {},
   "outputs": [],
   "source": [
    "# Split data into training set (60%) and temporary set (40%)\n",
    "car_data_train, car_data_temp = train_test_split(car_data, \n",
    "                                                 test_size=0.40, \n",
    "                                                 random_state=7)"
   ]
  },
  {
   "cell_type": "code",
   "execution_count": 14,
   "metadata": {},
   "outputs": [
    {
     "data": {
      "text/plain": [
       "(212464, 312)"
      ]
     },
     "execution_count": 14,
     "metadata": {},
     "output_type": "execute_result"
    }
   ],
   "source": [
    "# Remove the target column 'price' to get training features\n",
    "features_train = car_data_train.drop(['price'], axis=1)\n",
    "\n",
    "# Print the shape of traininf features\n",
    "features_train.shape"
   ]
  },
  {
   "cell_type": "code",
   "execution_count": 15,
   "metadata": {},
   "outputs": [
    {
     "data": {
      "text/plain": [
       "(212464,)"
      ]
     },
     "execution_count": 15,
     "metadata": {},
     "output_type": "execute_result"
    }
   ],
   "source": [
    "# Extract the target variable 'price' for training\n",
    "target_train = car_data_train['price']\n",
    "\n",
    "# Print the shape of training target\n",
    "target_train.shape"
   ]
  },
  {
   "cell_type": "code",
   "execution_count": 16,
   "metadata": {},
   "outputs": [],
   "source": [
    "# Split the remaining data into validation and test sets (each 20% of original data)\n",
    "car_data_valid, car_data_test = train_test_split(car_data_temp, \n",
    "                                                 test_size=0.50, \n",
    "                                                 random_state=7)"
   ]
  },
  {
   "cell_type": "code",
   "execution_count": 17,
   "metadata": {},
   "outputs": [
    {
     "data": {
      "text/plain": [
       "(70821, 312)"
      ]
     },
     "execution_count": 17,
     "metadata": {},
     "output_type": "execute_result"
    }
   ],
   "source": [
    "# Remove the target column 'price' to get validation features\n",
    "features_valid = car_data_valid.drop(['price'], axis=1)\n",
    "\n",
    "# Print the shape of validation features\n",
    "features_valid.shape"
   ]
  },
  {
   "cell_type": "code",
   "execution_count": 18,
   "metadata": {},
   "outputs": [
    {
     "name": "stdout",
     "output_type": "stream",
     "text": [
      "(70821,)\n"
     ]
    }
   ],
   "source": [
    "# Prepare validation target by selecting the 'price' column\n",
    "target_valid = car_data_valid['price']\n",
    "\n",
    "# Print the shape of validation target\n",
    "print(target_valid.shape)"
   ]
  },
  {
   "cell_type": "code",
   "execution_count": 19,
   "metadata": {},
   "outputs": [
    {
     "name": "stdout",
     "output_type": "stream",
     "text": [
      "(70822, 312)\n"
     ]
    }
   ],
   "source": [
    "# Remove the target column 'price' to get test features\n",
    "features_test = car_data_test.drop(['price'], axis=1)\n",
    "\n",
    "# Print the shape of test features\n",
    "print(features_test.shape)"
   ]
  },
  {
   "cell_type": "code",
   "execution_count": 20,
   "metadata": {},
   "outputs": [
    {
     "name": "stdout",
     "output_type": "stream",
     "text": [
      "(70822,)\n"
     ]
    }
   ],
   "source": [
    "# Prepare test target by selecting the 'price' column\n",
    "target_test = car_data_test['price']\n",
    "\n",
    "# Print the shape of test target\n",
    "print(target_test.shape)"
   ]
  },
  {
   "cell_type": "code",
   "execution_count": 21,
   "metadata": {},
   "outputs": [],
   "source": [
    "# Scale numerical columns in training and validation sets using StandardScaler\n",
    "num_cols = ['power', 'mileage', 'registration_month']\n",
    "scaler = StandardScaler()\n",
    "car_data_train = car_data_train.copy()  \n",
    "\n",
    "# Fit scaler on training data and transform both train and validation data\n",
    "car_data_train[num_cols] = scaler.fit_transform(car_data_train[num_cols])\n",
    "car_data_valid[num_cols] = scaler.transform(car_data_valid[num_cols])"
   ]
  },
  {
   "cell_type": "markdown",
   "metadata": {},
   "source": [
    "### Linear Regression"
   ]
  },
  {
   "cell_type": "code",
   "execution_count": 22,
   "metadata": {},
   "outputs": [
    {
     "name": "stdout",
     "output_type": "stream",
     "text": [
      "CPU times: total: 26.6 s\n",
      "Wall time: 4.51 s\n"
     ]
    },
    {
     "data": {
      "text/html": [
       "<style>#sk-container-id-1 {\n",
       "  /* Definition of color scheme common for light and dark mode */\n",
       "  --sklearn-color-text: black;\n",
       "  --sklearn-color-line: gray;\n",
       "  /* Definition of color scheme for unfitted estimators */\n",
       "  --sklearn-color-unfitted-level-0: #fff5e6;\n",
       "  --sklearn-color-unfitted-level-1: #f6e4d2;\n",
       "  --sklearn-color-unfitted-level-2: #ffe0b3;\n",
       "  --sklearn-color-unfitted-level-3: chocolate;\n",
       "  /* Definition of color scheme for fitted estimators */\n",
       "  --sklearn-color-fitted-level-0: #f0f8ff;\n",
       "  --sklearn-color-fitted-level-1: #d4ebff;\n",
       "  --sklearn-color-fitted-level-2: #b3dbfd;\n",
       "  --sklearn-color-fitted-level-3: cornflowerblue;\n",
       "\n",
       "  /* Specific color for light theme */\n",
       "  --sklearn-color-text-on-default-background: var(--sg-text-color, var(--theme-code-foreground, var(--jp-content-font-color1, black)));\n",
       "  --sklearn-color-background: var(--sg-background-color, var(--theme-background, var(--jp-layout-color0, white)));\n",
       "  --sklearn-color-border-box: var(--sg-text-color, var(--theme-code-foreground, var(--jp-content-font-color1, black)));\n",
       "  --sklearn-color-icon: #696969;\n",
       "\n",
       "  @media (prefers-color-scheme: dark) {\n",
       "    /* Redefinition of color scheme for dark theme */\n",
       "    --sklearn-color-text-on-default-background: var(--sg-text-color, var(--theme-code-foreground, var(--jp-content-font-color1, white)));\n",
       "    --sklearn-color-background: var(--sg-background-color, var(--theme-background, var(--jp-layout-color0, #111)));\n",
       "    --sklearn-color-border-box: var(--sg-text-color, var(--theme-code-foreground, var(--jp-content-font-color1, white)));\n",
       "    --sklearn-color-icon: #878787;\n",
       "  }\n",
       "}\n",
       "\n",
       "#sk-container-id-1 {\n",
       "  color: var(--sklearn-color-text);\n",
       "}\n",
       "\n",
       "#sk-container-id-1 pre {\n",
       "  padding: 0;\n",
       "}\n",
       "\n",
       "#sk-container-id-1 input.sk-hidden--visually {\n",
       "  border: 0;\n",
       "  clip: rect(1px 1px 1px 1px);\n",
       "  clip: rect(1px, 1px, 1px, 1px);\n",
       "  height: 1px;\n",
       "  margin: -1px;\n",
       "  overflow: hidden;\n",
       "  padding: 0;\n",
       "  position: absolute;\n",
       "  width: 1px;\n",
       "}\n",
       "\n",
       "#sk-container-id-1 div.sk-dashed-wrapped {\n",
       "  border: 1px dashed var(--sklearn-color-line);\n",
       "  margin: 0 0.4em 0.5em 0.4em;\n",
       "  box-sizing: border-box;\n",
       "  padding-bottom: 0.4em;\n",
       "  background-color: var(--sklearn-color-background);\n",
       "}\n",
       "\n",
       "#sk-container-id-1 div.sk-container {\n",
       "  /* jupyter's `normalize.less` sets `[hidden] { display: none; }`\n",
       "     but bootstrap.min.css set `[hidden] { display: none !important; }`\n",
       "     so we also need the `!important` here to be able to override the\n",
       "     default hidden behavior on the sphinx rendered scikit-learn.org.\n",
       "     See: https://github.com/scikit-learn/scikit-learn/issues/21755 */\n",
       "  display: inline-block !important;\n",
       "  position: relative;\n",
       "}\n",
       "\n",
       "#sk-container-id-1 div.sk-text-repr-fallback {\n",
       "  display: none;\n",
       "}\n",
       "\n",
       "div.sk-parallel-item,\n",
       "div.sk-serial,\n",
       "div.sk-item {\n",
       "  /* draw centered vertical line to link estimators */\n",
       "  background-image: linear-gradient(var(--sklearn-color-text-on-default-background), var(--sklearn-color-text-on-default-background));\n",
       "  background-size: 2px 100%;\n",
       "  background-repeat: no-repeat;\n",
       "  background-position: center center;\n",
       "}\n",
       "\n",
       "/* Parallel-specific style estimator block */\n",
       "\n",
       "#sk-container-id-1 div.sk-parallel-item::after {\n",
       "  content: \"\";\n",
       "  width: 100%;\n",
       "  border-bottom: 2px solid var(--sklearn-color-text-on-default-background);\n",
       "  flex-grow: 1;\n",
       "}\n",
       "\n",
       "#sk-container-id-1 div.sk-parallel {\n",
       "  display: flex;\n",
       "  align-items: stretch;\n",
       "  justify-content: center;\n",
       "  background-color: var(--sklearn-color-background);\n",
       "  position: relative;\n",
       "}\n",
       "\n",
       "#sk-container-id-1 div.sk-parallel-item {\n",
       "  display: flex;\n",
       "  flex-direction: column;\n",
       "}\n",
       "\n",
       "#sk-container-id-1 div.sk-parallel-item:first-child::after {\n",
       "  align-self: flex-end;\n",
       "  width: 50%;\n",
       "}\n",
       "\n",
       "#sk-container-id-1 div.sk-parallel-item:last-child::after {\n",
       "  align-self: flex-start;\n",
       "  width: 50%;\n",
       "}\n",
       "\n",
       "#sk-container-id-1 div.sk-parallel-item:only-child::after {\n",
       "  width: 0;\n",
       "}\n",
       "\n",
       "/* Serial-specific style estimator block */\n",
       "\n",
       "#sk-container-id-1 div.sk-serial {\n",
       "  display: flex;\n",
       "  flex-direction: column;\n",
       "  align-items: center;\n",
       "  background-color: var(--sklearn-color-background);\n",
       "  padding-right: 1em;\n",
       "  padding-left: 1em;\n",
       "}\n",
       "\n",
       "\n",
       "/* Toggleable style: style used for estimator/Pipeline/ColumnTransformer box that is\n",
       "clickable and can be expanded/collapsed.\n",
       "- Pipeline and ColumnTransformer use this feature and define the default style\n",
       "- Estimators will overwrite some part of the style using the `sk-estimator` class\n",
       "*/\n",
       "\n",
       "/* Pipeline and ColumnTransformer style (default) */\n",
       "\n",
       "#sk-container-id-1 div.sk-toggleable {\n",
       "  /* Default theme specific background. It is overwritten whether we have a\n",
       "  specific estimator or a Pipeline/ColumnTransformer */\n",
       "  background-color: var(--sklearn-color-background);\n",
       "}\n",
       "\n",
       "/* Toggleable label */\n",
       "#sk-container-id-1 label.sk-toggleable__label {\n",
       "  cursor: pointer;\n",
       "  display: block;\n",
       "  width: 100%;\n",
       "  margin-bottom: 0;\n",
       "  padding: 0.5em;\n",
       "  box-sizing: border-box;\n",
       "  text-align: center;\n",
       "}\n",
       "\n",
       "#sk-container-id-1 label.sk-toggleable__label-arrow:before {\n",
       "  /* Arrow on the left of the label */\n",
       "  content: \"▸\";\n",
       "  float: left;\n",
       "  margin-right: 0.25em;\n",
       "  color: var(--sklearn-color-icon);\n",
       "}\n",
       "\n",
       "#sk-container-id-1 label.sk-toggleable__label-arrow:hover:before {\n",
       "  color: var(--sklearn-color-text);\n",
       "}\n",
       "\n",
       "/* Toggleable content - dropdown */\n",
       "\n",
       "#sk-container-id-1 div.sk-toggleable__content {\n",
       "  max-height: 0;\n",
       "  max-width: 0;\n",
       "  overflow: hidden;\n",
       "  text-align: left;\n",
       "  /* unfitted */\n",
       "  background-color: var(--sklearn-color-unfitted-level-0);\n",
       "}\n",
       "\n",
       "#sk-container-id-1 div.sk-toggleable__content.fitted {\n",
       "  /* fitted */\n",
       "  background-color: var(--sklearn-color-fitted-level-0);\n",
       "}\n",
       "\n",
       "#sk-container-id-1 div.sk-toggleable__content pre {\n",
       "  margin: 0.2em;\n",
       "  border-radius: 0.25em;\n",
       "  color: var(--sklearn-color-text);\n",
       "  /* unfitted */\n",
       "  background-color: var(--sklearn-color-unfitted-level-0);\n",
       "}\n",
       "\n",
       "#sk-container-id-1 div.sk-toggleable__content.fitted pre {\n",
       "  /* unfitted */\n",
       "  background-color: var(--sklearn-color-fitted-level-0);\n",
       "}\n",
       "\n",
       "#sk-container-id-1 input.sk-toggleable__control:checked~div.sk-toggleable__content {\n",
       "  /* Expand drop-down */\n",
       "  max-height: 200px;\n",
       "  max-width: 100%;\n",
       "  overflow: auto;\n",
       "}\n",
       "\n",
       "#sk-container-id-1 input.sk-toggleable__control:checked~label.sk-toggleable__label-arrow:before {\n",
       "  content: \"▾\";\n",
       "}\n",
       "\n",
       "/* Pipeline/ColumnTransformer-specific style */\n",
       "\n",
       "#sk-container-id-1 div.sk-label input.sk-toggleable__control:checked~label.sk-toggleable__label {\n",
       "  color: var(--sklearn-color-text);\n",
       "  background-color: var(--sklearn-color-unfitted-level-2);\n",
       "}\n",
       "\n",
       "#sk-container-id-1 div.sk-label.fitted input.sk-toggleable__control:checked~label.sk-toggleable__label {\n",
       "  background-color: var(--sklearn-color-fitted-level-2);\n",
       "}\n",
       "\n",
       "/* Estimator-specific style */\n",
       "\n",
       "/* Colorize estimator box */\n",
       "#sk-container-id-1 div.sk-estimator input.sk-toggleable__control:checked~label.sk-toggleable__label {\n",
       "  /* unfitted */\n",
       "  background-color: var(--sklearn-color-unfitted-level-2);\n",
       "}\n",
       "\n",
       "#sk-container-id-1 div.sk-estimator.fitted input.sk-toggleable__control:checked~label.sk-toggleable__label {\n",
       "  /* fitted */\n",
       "  background-color: var(--sklearn-color-fitted-level-2);\n",
       "}\n",
       "\n",
       "#sk-container-id-1 div.sk-label label.sk-toggleable__label,\n",
       "#sk-container-id-1 div.sk-label label {\n",
       "  /* The background is the default theme color */\n",
       "  color: var(--sklearn-color-text-on-default-background);\n",
       "}\n",
       "\n",
       "/* On hover, darken the color of the background */\n",
       "#sk-container-id-1 div.sk-label:hover label.sk-toggleable__label {\n",
       "  color: var(--sklearn-color-text);\n",
       "  background-color: var(--sklearn-color-unfitted-level-2);\n",
       "}\n",
       "\n",
       "/* Label box, darken color on hover, fitted */\n",
       "#sk-container-id-1 div.sk-label.fitted:hover label.sk-toggleable__label.fitted {\n",
       "  color: var(--sklearn-color-text);\n",
       "  background-color: var(--sklearn-color-fitted-level-2);\n",
       "}\n",
       "\n",
       "/* Estimator label */\n",
       "\n",
       "#sk-container-id-1 div.sk-label label {\n",
       "  font-family: monospace;\n",
       "  font-weight: bold;\n",
       "  display: inline-block;\n",
       "  line-height: 1.2em;\n",
       "}\n",
       "\n",
       "#sk-container-id-1 div.sk-label-container {\n",
       "  text-align: center;\n",
       "}\n",
       "\n",
       "/* Estimator-specific */\n",
       "#sk-container-id-1 div.sk-estimator {\n",
       "  font-family: monospace;\n",
       "  border: 1px dotted var(--sklearn-color-border-box);\n",
       "  border-radius: 0.25em;\n",
       "  box-sizing: border-box;\n",
       "  margin-bottom: 0.5em;\n",
       "  /* unfitted */\n",
       "  background-color: var(--sklearn-color-unfitted-level-0);\n",
       "}\n",
       "\n",
       "#sk-container-id-1 div.sk-estimator.fitted {\n",
       "  /* fitted */\n",
       "  background-color: var(--sklearn-color-fitted-level-0);\n",
       "}\n",
       "\n",
       "/* on hover */\n",
       "#sk-container-id-1 div.sk-estimator:hover {\n",
       "  /* unfitted */\n",
       "  background-color: var(--sklearn-color-unfitted-level-2);\n",
       "}\n",
       "\n",
       "#sk-container-id-1 div.sk-estimator.fitted:hover {\n",
       "  /* fitted */\n",
       "  background-color: var(--sklearn-color-fitted-level-2);\n",
       "}\n",
       "\n",
       "/* Specification for estimator info (e.g. \"i\" and \"?\") */\n",
       "\n",
       "/* Common style for \"i\" and \"?\" */\n",
       "\n",
       ".sk-estimator-doc-link,\n",
       "a:link.sk-estimator-doc-link,\n",
       "a:visited.sk-estimator-doc-link {\n",
       "  float: right;\n",
       "  font-size: smaller;\n",
       "  line-height: 1em;\n",
       "  font-family: monospace;\n",
       "  background-color: var(--sklearn-color-background);\n",
       "  border-radius: 1em;\n",
       "  height: 1em;\n",
       "  width: 1em;\n",
       "  text-decoration: none !important;\n",
       "  margin-left: 1ex;\n",
       "  /* unfitted */\n",
       "  border: var(--sklearn-color-unfitted-level-1) 1pt solid;\n",
       "  color: var(--sklearn-color-unfitted-level-1);\n",
       "}\n",
       "\n",
       ".sk-estimator-doc-link.fitted,\n",
       "a:link.sk-estimator-doc-link.fitted,\n",
       "a:visited.sk-estimator-doc-link.fitted {\n",
       "  /* fitted */\n",
       "  border: var(--sklearn-color-fitted-level-1) 1pt solid;\n",
       "  color: var(--sklearn-color-fitted-level-1);\n",
       "}\n",
       "\n",
       "/* On hover */\n",
       "div.sk-estimator:hover .sk-estimator-doc-link:hover,\n",
       ".sk-estimator-doc-link:hover,\n",
       "div.sk-label-container:hover .sk-estimator-doc-link:hover,\n",
       ".sk-estimator-doc-link:hover {\n",
       "  /* unfitted */\n",
       "  background-color: var(--sklearn-color-unfitted-level-3);\n",
       "  color: var(--sklearn-color-background);\n",
       "  text-decoration: none;\n",
       "}\n",
       "\n",
       "div.sk-estimator.fitted:hover .sk-estimator-doc-link.fitted:hover,\n",
       ".sk-estimator-doc-link.fitted:hover,\n",
       "div.sk-label-container:hover .sk-estimator-doc-link.fitted:hover,\n",
       ".sk-estimator-doc-link.fitted:hover {\n",
       "  /* fitted */\n",
       "  background-color: var(--sklearn-color-fitted-level-3);\n",
       "  color: var(--sklearn-color-background);\n",
       "  text-decoration: none;\n",
       "}\n",
       "\n",
       "/* Span, style for the box shown on hovering the info icon */\n",
       ".sk-estimator-doc-link span {\n",
       "  display: none;\n",
       "  z-index: 9999;\n",
       "  position: relative;\n",
       "  font-weight: normal;\n",
       "  right: .2ex;\n",
       "  padding: .5ex;\n",
       "  margin: .5ex;\n",
       "  width: min-content;\n",
       "  min-width: 20ex;\n",
       "  max-width: 50ex;\n",
       "  color: var(--sklearn-color-text);\n",
       "  box-shadow: 2pt 2pt 4pt #999;\n",
       "  /* unfitted */\n",
       "  background: var(--sklearn-color-unfitted-level-0);\n",
       "  border: .5pt solid var(--sklearn-color-unfitted-level-3);\n",
       "}\n",
       "\n",
       ".sk-estimator-doc-link.fitted span {\n",
       "  /* fitted */\n",
       "  background: var(--sklearn-color-fitted-level-0);\n",
       "  border: var(--sklearn-color-fitted-level-3);\n",
       "}\n",
       "\n",
       ".sk-estimator-doc-link:hover span {\n",
       "  display: block;\n",
       "}\n",
       "\n",
       "/* \"?\"-specific style due to the `<a>` HTML tag */\n",
       "\n",
       "#sk-container-id-1 a.estimator_doc_link {\n",
       "  float: right;\n",
       "  font-size: 1rem;\n",
       "  line-height: 1em;\n",
       "  font-family: monospace;\n",
       "  background-color: var(--sklearn-color-background);\n",
       "  border-radius: 1rem;\n",
       "  height: 1rem;\n",
       "  width: 1rem;\n",
       "  text-decoration: none;\n",
       "  /* unfitted */\n",
       "  color: var(--sklearn-color-unfitted-level-1);\n",
       "  border: var(--sklearn-color-unfitted-level-1) 1pt solid;\n",
       "}\n",
       "\n",
       "#sk-container-id-1 a.estimator_doc_link.fitted {\n",
       "  /* fitted */\n",
       "  border: var(--sklearn-color-fitted-level-1) 1pt solid;\n",
       "  color: var(--sklearn-color-fitted-level-1);\n",
       "}\n",
       "\n",
       "/* On hover */\n",
       "#sk-container-id-1 a.estimator_doc_link:hover {\n",
       "  /* unfitted */\n",
       "  background-color: var(--sklearn-color-unfitted-level-3);\n",
       "  color: var(--sklearn-color-background);\n",
       "  text-decoration: none;\n",
       "}\n",
       "\n",
       "#sk-container-id-1 a.estimator_doc_link.fitted:hover {\n",
       "  /* fitted */\n",
       "  background-color: var(--sklearn-color-fitted-level-3);\n",
       "}\n",
       "</style><div id=\"sk-container-id-1\" class=\"sk-top-container\"><div class=\"sk-text-repr-fallback\"><pre>LinearRegression()</pre><b>In a Jupyter environment, please rerun this cell to show the HTML representation or trust the notebook. <br />On GitHub, the HTML representation is unable to render, please try loading this page with nbviewer.org.</b></div><div class=\"sk-container\" hidden><div class=\"sk-item\"><div class=\"sk-estimator fitted sk-toggleable\"><input class=\"sk-toggleable__control sk-hidden--visually\" id=\"sk-estimator-id-1\" type=\"checkbox\" checked><label for=\"sk-estimator-id-1\" class=\"sk-toggleable__label fitted sk-toggleable__label-arrow fitted\">&nbsp;&nbsp;LinearRegression<a class=\"sk-estimator-doc-link fitted\" rel=\"noreferrer\" target=\"_blank\" href=\"https://scikit-learn.org/1.4/modules/generated/sklearn.linear_model.LinearRegression.html\">?<span>Documentation for LinearRegression</span></a><span class=\"sk-estimator-doc-link fitted\">i<span>Fitted</span></span></label><div class=\"sk-toggleable__content fitted\"><pre>LinearRegression()</pre></div> </div></div></div></div>"
      ],
      "text/plain": [
       "LinearRegression()"
      ]
     },
     "execution_count": 22,
     "metadata": {},
     "output_type": "execute_result"
    }
   ],
   "source": [
    "%%time\n",
    "# Linear Regression model for Sanity Check\n",
    "# Initialize a Linear Regression model\n",
    "model = LinearRegression() \n",
    "\n",
    "# Fit the model on the training dataset\n",
    "model.fit(features_train, target_train)"
   ]
  },
  {
   "cell_type": "code",
   "execution_count": 23,
   "metadata": {},
   "outputs": [
    {
     "name": "stdout",
     "output_type": "stream",
     "text": [
      "CPU times: total: 344 ms\n",
      "Wall time: 246 ms\n"
     ]
    }
   ],
   "source": [
    "%%time\n",
    "# Generate predictions on the validation dataset\n",
    "predictions_valid = model.predict(features_valid)"
   ]
  },
  {
   "cell_type": "code",
   "execution_count": 24,
   "metadata": {},
   "outputs": [
    {
     "name": "stdout",
     "output_type": "stream",
     "text": [
      "RMSE of the linear regression model on the validation set: 3169.213327435372\n"
     ]
    }
   ],
   "source": [
    "# Calculate Root Mean Squared Error (RMSE) to evaluate prediction accuracy\n",
    "rmse = mean_squared_error(target_valid, predictions_valid) ** 0.5 \n",
    "print(\"RMSE of the linear regression model on the validation set:\", rmse)"
   ]
  },
  {
   "cell_type": "markdown",
   "metadata": {},
   "source": [
    "Linear Regression is used for Sanity Check for this project. When running the above model, RMSE is 3169.2133274352436. RMSE measures how far predictions are from actual values. A lower RMSE means better model performance. An RMSE of 3169 and the mean of target column 'price' is 4417 representing that RMSE is almost as large as the mean price suggesting that the model's predictions deviate significantly, and thus not much reliable. The training time for model fiting is 7.7ms while for making predictions is 127ms. It shows that Linear Regression is very fast compared to complex models like Random Forest or Gradient Boosting and Training is slower than predictions which is normal. "
   ]
  },
  {
   "cell_type": "markdown",
   "metadata": {},
   "source": [
    "### Random Forest Regression"
   ]
  },
  {
   "cell_type": "code",
   "execution_count": 25,
   "metadata": {},
   "outputs": [],
   "source": [
    "# Define the hyperparameter grid for GridSearchCV to tune the Random Forest Regressor. \n",
    "param_grid_rf = {\n",
    "    \"n_estimators\": [10, 20, 50], \n",
    "    \"max_depth\": [5, 10],  \n",
    "    \"min_samples_split\": [2, 5],  \n",
    "    \"min_samples_leaf\": [1, 2] \n",
    "}\n",
    "\n",
    "# Initialize a Random Forest Regressor with a fixed random seed for reproducibility\n",
    "rf = RandomForestRegressor(random_state=7)  \n",
    "\n",
    "# Perform hyperparameter tuning using GridSearchCV\n",
    "grid_search_rf = GridSearchCV(\n",
    "    rf, \n",
    "    param_grid_rf, \n",
    "    cv=4, \n",
    "    scoring='neg_root_mean_squared_error', \n",
    "    verbose=1\n",
    "    )"
   ]
  },
  {
   "cell_type": "code",
   "execution_count": 26,
   "metadata": {},
   "outputs": [
    {
     "name": "stdout",
     "output_type": "stream",
     "text": [
      "Fitting 4 folds for each of 24 candidates, totalling 96 fits\n",
      "CPU times: total: 1h 42min 40s\n",
      "Wall time: 1h 46min 14s\n"
     ]
    },
    {
     "data": {
      "text/html": [
       "<style>#sk-container-id-2 {\n",
       "  /* Definition of color scheme common for light and dark mode */\n",
       "  --sklearn-color-text: black;\n",
       "  --sklearn-color-line: gray;\n",
       "  /* Definition of color scheme for unfitted estimators */\n",
       "  --sklearn-color-unfitted-level-0: #fff5e6;\n",
       "  --sklearn-color-unfitted-level-1: #f6e4d2;\n",
       "  --sklearn-color-unfitted-level-2: #ffe0b3;\n",
       "  --sklearn-color-unfitted-level-3: chocolate;\n",
       "  /* Definition of color scheme for fitted estimators */\n",
       "  --sklearn-color-fitted-level-0: #f0f8ff;\n",
       "  --sklearn-color-fitted-level-1: #d4ebff;\n",
       "  --sklearn-color-fitted-level-2: #b3dbfd;\n",
       "  --sklearn-color-fitted-level-3: cornflowerblue;\n",
       "\n",
       "  /* Specific color for light theme */\n",
       "  --sklearn-color-text-on-default-background: var(--sg-text-color, var(--theme-code-foreground, var(--jp-content-font-color1, black)));\n",
       "  --sklearn-color-background: var(--sg-background-color, var(--theme-background, var(--jp-layout-color0, white)));\n",
       "  --sklearn-color-border-box: var(--sg-text-color, var(--theme-code-foreground, var(--jp-content-font-color1, black)));\n",
       "  --sklearn-color-icon: #696969;\n",
       "\n",
       "  @media (prefers-color-scheme: dark) {\n",
       "    /* Redefinition of color scheme for dark theme */\n",
       "    --sklearn-color-text-on-default-background: var(--sg-text-color, var(--theme-code-foreground, var(--jp-content-font-color1, white)));\n",
       "    --sklearn-color-background: var(--sg-background-color, var(--theme-background, var(--jp-layout-color0, #111)));\n",
       "    --sklearn-color-border-box: var(--sg-text-color, var(--theme-code-foreground, var(--jp-content-font-color1, white)));\n",
       "    --sklearn-color-icon: #878787;\n",
       "  }\n",
       "}\n",
       "\n",
       "#sk-container-id-2 {\n",
       "  color: var(--sklearn-color-text);\n",
       "}\n",
       "\n",
       "#sk-container-id-2 pre {\n",
       "  padding: 0;\n",
       "}\n",
       "\n",
       "#sk-container-id-2 input.sk-hidden--visually {\n",
       "  border: 0;\n",
       "  clip: rect(1px 1px 1px 1px);\n",
       "  clip: rect(1px, 1px, 1px, 1px);\n",
       "  height: 1px;\n",
       "  margin: -1px;\n",
       "  overflow: hidden;\n",
       "  padding: 0;\n",
       "  position: absolute;\n",
       "  width: 1px;\n",
       "}\n",
       "\n",
       "#sk-container-id-2 div.sk-dashed-wrapped {\n",
       "  border: 1px dashed var(--sklearn-color-line);\n",
       "  margin: 0 0.4em 0.5em 0.4em;\n",
       "  box-sizing: border-box;\n",
       "  padding-bottom: 0.4em;\n",
       "  background-color: var(--sklearn-color-background);\n",
       "}\n",
       "\n",
       "#sk-container-id-2 div.sk-container {\n",
       "  /* jupyter's `normalize.less` sets `[hidden] { display: none; }`\n",
       "     but bootstrap.min.css set `[hidden] { display: none !important; }`\n",
       "     so we also need the `!important` here to be able to override the\n",
       "     default hidden behavior on the sphinx rendered scikit-learn.org.\n",
       "     See: https://github.com/scikit-learn/scikit-learn/issues/21755 */\n",
       "  display: inline-block !important;\n",
       "  position: relative;\n",
       "}\n",
       "\n",
       "#sk-container-id-2 div.sk-text-repr-fallback {\n",
       "  display: none;\n",
       "}\n",
       "\n",
       "div.sk-parallel-item,\n",
       "div.sk-serial,\n",
       "div.sk-item {\n",
       "  /* draw centered vertical line to link estimators */\n",
       "  background-image: linear-gradient(var(--sklearn-color-text-on-default-background), var(--sklearn-color-text-on-default-background));\n",
       "  background-size: 2px 100%;\n",
       "  background-repeat: no-repeat;\n",
       "  background-position: center center;\n",
       "}\n",
       "\n",
       "/* Parallel-specific style estimator block */\n",
       "\n",
       "#sk-container-id-2 div.sk-parallel-item::after {\n",
       "  content: \"\";\n",
       "  width: 100%;\n",
       "  border-bottom: 2px solid var(--sklearn-color-text-on-default-background);\n",
       "  flex-grow: 1;\n",
       "}\n",
       "\n",
       "#sk-container-id-2 div.sk-parallel {\n",
       "  display: flex;\n",
       "  align-items: stretch;\n",
       "  justify-content: center;\n",
       "  background-color: var(--sklearn-color-background);\n",
       "  position: relative;\n",
       "}\n",
       "\n",
       "#sk-container-id-2 div.sk-parallel-item {\n",
       "  display: flex;\n",
       "  flex-direction: column;\n",
       "}\n",
       "\n",
       "#sk-container-id-2 div.sk-parallel-item:first-child::after {\n",
       "  align-self: flex-end;\n",
       "  width: 50%;\n",
       "}\n",
       "\n",
       "#sk-container-id-2 div.sk-parallel-item:last-child::after {\n",
       "  align-self: flex-start;\n",
       "  width: 50%;\n",
       "}\n",
       "\n",
       "#sk-container-id-2 div.sk-parallel-item:only-child::after {\n",
       "  width: 0;\n",
       "}\n",
       "\n",
       "/* Serial-specific style estimator block */\n",
       "\n",
       "#sk-container-id-2 div.sk-serial {\n",
       "  display: flex;\n",
       "  flex-direction: column;\n",
       "  align-items: center;\n",
       "  background-color: var(--sklearn-color-background);\n",
       "  padding-right: 1em;\n",
       "  padding-left: 1em;\n",
       "}\n",
       "\n",
       "\n",
       "/* Toggleable style: style used for estimator/Pipeline/ColumnTransformer box that is\n",
       "clickable and can be expanded/collapsed.\n",
       "- Pipeline and ColumnTransformer use this feature and define the default style\n",
       "- Estimators will overwrite some part of the style using the `sk-estimator` class\n",
       "*/\n",
       "\n",
       "/* Pipeline and ColumnTransformer style (default) */\n",
       "\n",
       "#sk-container-id-2 div.sk-toggleable {\n",
       "  /* Default theme specific background. It is overwritten whether we have a\n",
       "  specific estimator or a Pipeline/ColumnTransformer */\n",
       "  background-color: var(--sklearn-color-background);\n",
       "}\n",
       "\n",
       "/* Toggleable label */\n",
       "#sk-container-id-2 label.sk-toggleable__label {\n",
       "  cursor: pointer;\n",
       "  display: block;\n",
       "  width: 100%;\n",
       "  margin-bottom: 0;\n",
       "  padding: 0.5em;\n",
       "  box-sizing: border-box;\n",
       "  text-align: center;\n",
       "}\n",
       "\n",
       "#sk-container-id-2 label.sk-toggleable__label-arrow:before {\n",
       "  /* Arrow on the left of the label */\n",
       "  content: \"▸\";\n",
       "  float: left;\n",
       "  margin-right: 0.25em;\n",
       "  color: var(--sklearn-color-icon);\n",
       "}\n",
       "\n",
       "#sk-container-id-2 label.sk-toggleable__label-arrow:hover:before {\n",
       "  color: var(--sklearn-color-text);\n",
       "}\n",
       "\n",
       "/* Toggleable content - dropdown */\n",
       "\n",
       "#sk-container-id-2 div.sk-toggleable__content {\n",
       "  max-height: 0;\n",
       "  max-width: 0;\n",
       "  overflow: hidden;\n",
       "  text-align: left;\n",
       "  /* unfitted */\n",
       "  background-color: var(--sklearn-color-unfitted-level-0);\n",
       "}\n",
       "\n",
       "#sk-container-id-2 div.sk-toggleable__content.fitted {\n",
       "  /* fitted */\n",
       "  background-color: var(--sklearn-color-fitted-level-0);\n",
       "}\n",
       "\n",
       "#sk-container-id-2 div.sk-toggleable__content pre {\n",
       "  margin: 0.2em;\n",
       "  border-radius: 0.25em;\n",
       "  color: var(--sklearn-color-text);\n",
       "  /* unfitted */\n",
       "  background-color: var(--sklearn-color-unfitted-level-0);\n",
       "}\n",
       "\n",
       "#sk-container-id-2 div.sk-toggleable__content.fitted pre {\n",
       "  /* unfitted */\n",
       "  background-color: var(--sklearn-color-fitted-level-0);\n",
       "}\n",
       "\n",
       "#sk-container-id-2 input.sk-toggleable__control:checked~div.sk-toggleable__content {\n",
       "  /* Expand drop-down */\n",
       "  max-height: 200px;\n",
       "  max-width: 100%;\n",
       "  overflow: auto;\n",
       "}\n",
       "\n",
       "#sk-container-id-2 input.sk-toggleable__control:checked~label.sk-toggleable__label-arrow:before {\n",
       "  content: \"▾\";\n",
       "}\n",
       "\n",
       "/* Pipeline/ColumnTransformer-specific style */\n",
       "\n",
       "#sk-container-id-2 div.sk-label input.sk-toggleable__control:checked~label.sk-toggleable__label {\n",
       "  color: var(--sklearn-color-text);\n",
       "  background-color: var(--sklearn-color-unfitted-level-2);\n",
       "}\n",
       "\n",
       "#sk-container-id-2 div.sk-label.fitted input.sk-toggleable__control:checked~label.sk-toggleable__label {\n",
       "  background-color: var(--sklearn-color-fitted-level-2);\n",
       "}\n",
       "\n",
       "/* Estimator-specific style */\n",
       "\n",
       "/* Colorize estimator box */\n",
       "#sk-container-id-2 div.sk-estimator input.sk-toggleable__control:checked~label.sk-toggleable__label {\n",
       "  /* unfitted */\n",
       "  background-color: var(--sklearn-color-unfitted-level-2);\n",
       "}\n",
       "\n",
       "#sk-container-id-2 div.sk-estimator.fitted input.sk-toggleable__control:checked~label.sk-toggleable__label {\n",
       "  /* fitted */\n",
       "  background-color: var(--sklearn-color-fitted-level-2);\n",
       "}\n",
       "\n",
       "#sk-container-id-2 div.sk-label label.sk-toggleable__label,\n",
       "#sk-container-id-2 div.sk-label label {\n",
       "  /* The background is the default theme color */\n",
       "  color: var(--sklearn-color-text-on-default-background);\n",
       "}\n",
       "\n",
       "/* On hover, darken the color of the background */\n",
       "#sk-container-id-2 div.sk-label:hover label.sk-toggleable__label {\n",
       "  color: var(--sklearn-color-text);\n",
       "  background-color: var(--sklearn-color-unfitted-level-2);\n",
       "}\n",
       "\n",
       "/* Label box, darken color on hover, fitted */\n",
       "#sk-container-id-2 div.sk-label.fitted:hover label.sk-toggleable__label.fitted {\n",
       "  color: var(--sklearn-color-text);\n",
       "  background-color: var(--sklearn-color-fitted-level-2);\n",
       "}\n",
       "\n",
       "/* Estimator label */\n",
       "\n",
       "#sk-container-id-2 div.sk-label label {\n",
       "  font-family: monospace;\n",
       "  font-weight: bold;\n",
       "  display: inline-block;\n",
       "  line-height: 1.2em;\n",
       "}\n",
       "\n",
       "#sk-container-id-2 div.sk-label-container {\n",
       "  text-align: center;\n",
       "}\n",
       "\n",
       "/* Estimator-specific */\n",
       "#sk-container-id-2 div.sk-estimator {\n",
       "  font-family: monospace;\n",
       "  border: 1px dotted var(--sklearn-color-border-box);\n",
       "  border-radius: 0.25em;\n",
       "  box-sizing: border-box;\n",
       "  margin-bottom: 0.5em;\n",
       "  /* unfitted */\n",
       "  background-color: var(--sklearn-color-unfitted-level-0);\n",
       "}\n",
       "\n",
       "#sk-container-id-2 div.sk-estimator.fitted {\n",
       "  /* fitted */\n",
       "  background-color: var(--sklearn-color-fitted-level-0);\n",
       "}\n",
       "\n",
       "/* on hover */\n",
       "#sk-container-id-2 div.sk-estimator:hover {\n",
       "  /* unfitted */\n",
       "  background-color: var(--sklearn-color-unfitted-level-2);\n",
       "}\n",
       "\n",
       "#sk-container-id-2 div.sk-estimator.fitted:hover {\n",
       "  /* fitted */\n",
       "  background-color: var(--sklearn-color-fitted-level-2);\n",
       "}\n",
       "\n",
       "/* Specification for estimator info (e.g. \"i\" and \"?\") */\n",
       "\n",
       "/* Common style for \"i\" and \"?\" */\n",
       "\n",
       ".sk-estimator-doc-link,\n",
       "a:link.sk-estimator-doc-link,\n",
       "a:visited.sk-estimator-doc-link {\n",
       "  float: right;\n",
       "  font-size: smaller;\n",
       "  line-height: 1em;\n",
       "  font-family: monospace;\n",
       "  background-color: var(--sklearn-color-background);\n",
       "  border-radius: 1em;\n",
       "  height: 1em;\n",
       "  width: 1em;\n",
       "  text-decoration: none !important;\n",
       "  margin-left: 1ex;\n",
       "  /* unfitted */\n",
       "  border: var(--sklearn-color-unfitted-level-1) 1pt solid;\n",
       "  color: var(--sklearn-color-unfitted-level-1);\n",
       "}\n",
       "\n",
       ".sk-estimator-doc-link.fitted,\n",
       "a:link.sk-estimator-doc-link.fitted,\n",
       "a:visited.sk-estimator-doc-link.fitted {\n",
       "  /* fitted */\n",
       "  border: var(--sklearn-color-fitted-level-1) 1pt solid;\n",
       "  color: var(--sklearn-color-fitted-level-1);\n",
       "}\n",
       "\n",
       "/* On hover */\n",
       "div.sk-estimator:hover .sk-estimator-doc-link:hover,\n",
       ".sk-estimator-doc-link:hover,\n",
       "div.sk-label-container:hover .sk-estimator-doc-link:hover,\n",
       ".sk-estimator-doc-link:hover {\n",
       "  /* unfitted */\n",
       "  background-color: var(--sklearn-color-unfitted-level-3);\n",
       "  color: var(--sklearn-color-background);\n",
       "  text-decoration: none;\n",
       "}\n",
       "\n",
       "div.sk-estimator.fitted:hover .sk-estimator-doc-link.fitted:hover,\n",
       ".sk-estimator-doc-link.fitted:hover,\n",
       "div.sk-label-container:hover .sk-estimator-doc-link.fitted:hover,\n",
       ".sk-estimator-doc-link.fitted:hover {\n",
       "  /* fitted */\n",
       "  background-color: var(--sklearn-color-fitted-level-3);\n",
       "  color: var(--sklearn-color-background);\n",
       "  text-decoration: none;\n",
       "}\n",
       "\n",
       "/* Span, style for the box shown on hovering the info icon */\n",
       ".sk-estimator-doc-link span {\n",
       "  display: none;\n",
       "  z-index: 9999;\n",
       "  position: relative;\n",
       "  font-weight: normal;\n",
       "  right: .2ex;\n",
       "  padding: .5ex;\n",
       "  margin: .5ex;\n",
       "  width: min-content;\n",
       "  min-width: 20ex;\n",
       "  max-width: 50ex;\n",
       "  color: var(--sklearn-color-text);\n",
       "  box-shadow: 2pt 2pt 4pt #999;\n",
       "  /* unfitted */\n",
       "  background: var(--sklearn-color-unfitted-level-0);\n",
       "  border: .5pt solid var(--sklearn-color-unfitted-level-3);\n",
       "}\n",
       "\n",
       ".sk-estimator-doc-link.fitted span {\n",
       "  /* fitted */\n",
       "  background: var(--sklearn-color-fitted-level-0);\n",
       "  border: var(--sklearn-color-fitted-level-3);\n",
       "}\n",
       "\n",
       ".sk-estimator-doc-link:hover span {\n",
       "  display: block;\n",
       "}\n",
       "\n",
       "/* \"?\"-specific style due to the `<a>` HTML tag */\n",
       "\n",
       "#sk-container-id-2 a.estimator_doc_link {\n",
       "  float: right;\n",
       "  font-size: 1rem;\n",
       "  line-height: 1em;\n",
       "  font-family: monospace;\n",
       "  background-color: var(--sklearn-color-background);\n",
       "  border-radius: 1rem;\n",
       "  height: 1rem;\n",
       "  width: 1rem;\n",
       "  text-decoration: none;\n",
       "  /* unfitted */\n",
       "  color: var(--sklearn-color-unfitted-level-1);\n",
       "  border: var(--sklearn-color-unfitted-level-1) 1pt solid;\n",
       "}\n",
       "\n",
       "#sk-container-id-2 a.estimator_doc_link.fitted {\n",
       "  /* fitted */\n",
       "  border: var(--sklearn-color-fitted-level-1) 1pt solid;\n",
       "  color: var(--sklearn-color-fitted-level-1);\n",
       "}\n",
       "\n",
       "/* On hover */\n",
       "#sk-container-id-2 a.estimator_doc_link:hover {\n",
       "  /* unfitted */\n",
       "  background-color: var(--sklearn-color-unfitted-level-3);\n",
       "  color: var(--sklearn-color-background);\n",
       "  text-decoration: none;\n",
       "}\n",
       "\n",
       "#sk-container-id-2 a.estimator_doc_link.fitted:hover {\n",
       "  /* fitted */\n",
       "  background-color: var(--sklearn-color-fitted-level-3);\n",
       "}\n",
       "</style><div id=\"sk-container-id-2\" class=\"sk-top-container\"><div class=\"sk-text-repr-fallback\"><pre>GridSearchCV(cv=4, estimator=RandomForestRegressor(random_state=7),\n",
       "             param_grid={&#x27;max_depth&#x27;: [5, 10], &#x27;min_samples_leaf&#x27;: [1, 2],\n",
       "                         &#x27;min_samples_split&#x27;: [2, 5],\n",
       "                         &#x27;n_estimators&#x27;: [10, 20, 50]},\n",
       "             scoring=&#x27;neg_root_mean_squared_error&#x27;, verbose=1)</pre><b>In a Jupyter environment, please rerun this cell to show the HTML representation or trust the notebook. <br />On GitHub, the HTML representation is unable to render, please try loading this page with nbviewer.org.</b></div><div class=\"sk-container\" hidden><div class=\"sk-item sk-dashed-wrapped\"><div class=\"sk-label-container\"><div class=\"sk-label fitted sk-toggleable\"><input class=\"sk-toggleable__control sk-hidden--visually\" id=\"sk-estimator-id-2\" type=\"checkbox\" ><label for=\"sk-estimator-id-2\" class=\"sk-toggleable__label fitted sk-toggleable__label-arrow fitted\">&nbsp;&nbsp;GridSearchCV<a class=\"sk-estimator-doc-link fitted\" rel=\"noreferrer\" target=\"_blank\" href=\"https://scikit-learn.org/1.4/modules/generated/sklearn.model_selection.GridSearchCV.html\">?<span>Documentation for GridSearchCV</span></a><span class=\"sk-estimator-doc-link fitted\">i<span>Fitted</span></span></label><div class=\"sk-toggleable__content fitted\"><pre>GridSearchCV(cv=4, estimator=RandomForestRegressor(random_state=7),\n",
       "             param_grid={&#x27;max_depth&#x27;: [5, 10], &#x27;min_samples_leaf&#x27;: [1, 2],\n",
       "                         &#x27;min_samples_split&#x27;: [2, 5],\n",
       "                         &#x27;n_estimators&#x27;: [10, 20, 50]},\n",
       "             scoring=&#x27;neg_root_mean_squared_error&#x27;, verbose=1)</pre></div> </div></div><div class=\"sk-parallel\"><div class=\"sk-parallel-item\"><div class=\"sk-item\"><div class=\"sk-label-container\"><div class=\"sk-label fitted sk-toggleable\"><input class=\"sk-toggleable__control sk-hidden--visually\" id=\"sk-estimator-id-3\" type=\"checkbox\" ><label for=\"sk-estimator-id-3\" class=\"sk-toggleable__label fitted sk-toggleable__label-arrow fitted\">estimator: RandomForestRegressor</label><div class=\"sk-toggleable__content fitted\"><pre>RandomForestRegressor(random_state=7)</pre></div> </div></div><div class=\"sk-serial\"><div class=\"sk-item\"><div class=\"sk-estimator fitted sk-toggleable\"><input class=\"sk-toggleable__control sk-hidden--visually\" id=\"sk-estimator-id-4\" type=\"checkbox\" ><label for=\"sk-estimator-id-4\" class=\"sk-toggleable__label fitted sk-toggleable__label-arrow fitted\">&nbsp;RandomForestRegressor<a class=\"sk-estimator-doc-link fitted\" rel=\"noreferrer\" target=\"_blank\" href=\"https://scikit-learn.org/1.4/modules/generated/sklearn.ensemble.RandomForestRegressor.html\">?<span>Documentation for RandomForestRegressor</span></a></label><div class=\"sk-toggleable__content fitted\"><pre>RandomForestRegressor(random_state=7)</pre></div> </div></div></div></div></div></div></div></div></div>"
      ],
      "text/plain": [
       "GridSearchCV(cv=4, estimator=RandomForestRegressor(random_state=7),\n",
       "             param_grid={'max_depth': [5, 10], 'min_samples_leaf': [1, 2],\n",
       "                         'min_samples_split': [2, 5],\n",
       "                         'n_estimators': [10, 20, 50]},\n",
       "             scoring='neg_root_mean_squared_error', verbose=1)"
      ]
     },
     "execution_count": 26,
     "metadata": {},
     "output_type": "execute_result"
    }
   ],
   "source": [
    "%%time\n",
    "# Fit the GridSearchCV to the training data\n",
    "grid_search_rf.fit(features_train, target_train)"
   ]
  },
  {
   "cell_type": "code",
   "execution_count": 27,
   "metadata": {},
   "outputs": [
    {
     "name": "stdout",
     "output_type": "stream",
     "text": [
      "Best Hyperparameters: {'max_depth': 10, 'min_samples_leaf': 2, 'min_samples_split': 2, 'n_estimators': 50}\n"
     ]
    }
   ],
   "source": [
    "# Extract the best hyperparameters found during grid search\n",
    "best_params_rf = grid_search_rf.best_params_\n",
    "\n",
    "# Retrieve the best estimator (model) from the grid search\n",
    "best_model_rf = grid_search_rf.best_estimator_\n",
    "\n",
    "# Print the best hyperparameters\n",
    "print(f\"Best Hyperparameters: {best_params_rf}\")"
   ]
  },
  {
   "cell_type": "code",
   "execution_count": 28,
   "metadata": {},
   "outputs": [
    {
     "name": "stdout",
     "output_type": "stream",
     "text": [
      "CPU times: total: 3min 38s\n",
      "Wall time: 3min 45s\n"
     ]
    },
    {
     "data": {
      "text/html": [
       "<style>#sk-container-id-3 {\n",
       "  /* Definition of color scheme common for light and dark mode */\n",
       "  --sklearn-color-text: black;\n",
       "  --sklearn-color-line: gray;\n",
       "  /* Definition of color scheme for unfitted estimators */\n",
       "  --sklearn-color-unfitted-level-0: #fff5e6;\n",
       "  --sklearn-color-unfitted-level-1: #f6e4d2;\n",
       "  --sklearn-color-unfitted-level-2: #ffe0b3;\n",
       "  --sklearn-color-unfitted-level-3: chocolate;\n",
       "  /* Definition of color scheme for fitted estimators */\n",
       "  --sklearn-color-fitted-level-0: #f0f8ff;\n",
       "  --sklearn-color-fitted-level-1: #d4ebff;\n",
       "  --sklearn-color-fitted-level-2: #b3dbfd;\n",
       "  --sklearn-color-fitted-level-3: cornflowerblue;\n",
       "\n",
       "  /* Specific color for light theme */\n",
       "  --sklearn-color-text-on-default-background: var(--sg-text-color, var(--theme-code-foreground, var(--jp-content-font-color1, black)));\n",
       "  --sklearn-color-background: var(--sg-background-color, var(--theme-background, var(--jp-layout-color0, white)));\n",
       "  --sklearn-color-border-box: var(--sg-text-color, var(--theme-code-foreground, var(--jp-content-font-color1, black)));\n",
       "  --sklearn-color-icon: #696969;\n",
       "\n",
       "  @media (prefers-color-scheme: dark) {\n",
       "    /* Redefinition of color scheme for dark theme */\n",
       "    --sklearn-color-text-on-default-background: var(--sg-text-color, var(--theme-code-foreground, var(--jp-content-font-color1, white)));\n",
       "    --sklearn-color-background: var(--sg-background-color, var(--theme-background, var(--jp-layout-color0, #111)));\n",
       "    --sklearn-color-border-box: var(--sg-text-color, var(--theme-code-foreground, var(--jp-content-font-color1, white)));\n",
       "    --sklearn-color-icon: #878787;\n",
       "  }\n",
       "}\n",
       "\n",
       "#sk-container-id-3 {\n",
       "  color: var(--sklearn-color-text);\n",
       "}\n",
       "\n",
       "#sk-container-id-3 pre {\n",
       "  padding: 0;\n",
       "}\n",
       "\n",
       "#sk-container-id-3 input.sk-hidden--visually {\n",
       "  border: 0;\n",
       "  clip: rect(1px 1px 1px 1px);\n",
       "  clip: rect(1px, 1px, 1px, 1px);\n",
       "  height: 1px;\n",
       "  margin: -1px;\n",
       "  overflow: hidden;\n",
       "  padding: 0;\n",
       "  position: absolute;\n",
       "  width: 1px;\n",
       "}\n",
       "\n",
       "#sk-container-id-3 div.sk-dashed-wrapped {\n",
       "  border: 1px dashed var(--sklearn-color-line);\n",
       "  margin: 0 0.4em 0.5em 0.4em;\n",
       "  box-sizing: border-box;\n",
       "  padding-bottom: 0.4em;\n",
       "  background-color: var(--sklearn-color-background);\n",
       "}\n",
       "\n",
       "#sk-container-id-3 div.sk-container {\n",
       "  /* jupyter's `normalize.less` sets `[hidden] { display: none; }`\n",
       "     but bootstrap.min.css set `[hidden] { display: none !important; }`\n",
       "     so we also need the `!important` here to be able to override the\n",
       "     default hidden behavior on the sphinx rendered scikit-learn.org.\n",
       "     See: https://github.com/scikit-learn/scikit-learn/issues/21755 */\n",
       "  display: inline-block !important;\n",
       "  position: relative;\n",
       "}\n",
       "\n",
       "#sk-container-id-3 div.sk-text-repr-fallback {\n",
       "  display: none;\n",
       "}\n",
       "\n",
       "div.sk-parallel-item,\n",
       "div.sk-serial,\n",
       "div.sk-item {\n",
       "  /* draw centered vertical line to link estimators */\n",
       "  background-image: linear-gradient(var(--sklearn-color-text-on-default-background), var(--sklearn-color-text-on-default-background));\n",
       "  background-size: 2px 100%;\n",
       "  background-repeat: no-repeat;\n",
       "  background-position: center center;\n",
       "}\n",
       "\n",
       "/* Parallel-specific style estimator block */\n",
       "\n",
       "#sk-container-id-3 div.sk-parallel-item::after {\n",
       "  content: \"\";\n",
       "  width: 100%;\n",
       "  border-bottom: 2px solid var(--sklearn-color-text-on-default-background);\n",
       "  flex-grow: 1;\n",
       "}\n",
       "\n",
       "#sk-container-id-3 div.sk-parallel {\n",
       "  display: flex;\n",
       "  align-items: stretch;\n",
       "  justify-content: center;\n",
       "  background-color: var(--sklearn-color-background);\n",
       "  position: relative;\n",
       "}\n",
       "\n",
       "#sk-container-id-3 div.sk-parallel-item {\n",
       "  display: flex;\n",
       "  flex-direction: column;\n",
       "}\n",
       "\n",
       "#sk-container-id-3 div.sk-parallel-item:first-child::after {\n",
       "  align-self: flex-end;\n",
       "  width: 50%;\n",
       "}\n",
       "\n",
       "#sk-container-id-3 div.sk-parallel-item:last-child::after {\n",
       "  align-self: flex-start;\n",
       "  width: 50%;\n",
       "}\n",
       "\n",
       "#sk-container-id-3 div.sk-parallel-item:only-child::after {\n",
       "  width: 0;\n",
       "}\n",
       "\n",
       "/* Serial-specific style estimator block */\n",
       "\n",
       "#sk-container-id-3 div.sk-serial {\n",
       "  display: flex;\n",
       "  flex-direction: column;\n",
       "  align-items: center;\n",
       "  background-color: var(--sklearn-color-background);\n",
       "  padding-right: 1em;\n",
       "  padding-left: 1em;\n",
       "}\n",
       "\n",
       "\n",
       "/* Toggleable style: style used for estimator/Pipeline/ColumnTransformer box that is\n",
       "clickable and can be expanded/collapsed.\n",
       "- Pipeline and ColumnTransformer use this feature and define the default style\n",
       "- Estimators will overwrite some part of the style using the `sk-estimator` class\n",
       "*/\n",
       "\n",
       "/* Pipeline and ColumnTransformer style (default) */\n",
       "\n",
       "#sk-container-id-3 div.sk-toggleable {\n",
       "  /* Default theme specific background. It is overwritten whether we have a\n",
       "  specific estimator or a Pipeline/ColumnTransformer */\n",
       "  background-color: var(--sklearn-color-background);\n",
       "}\n",
       "\n",
       "/* Toggleable label */\n",
       "#sk-container-id-3 label.sk-toggleable__label {\n",
       "  cursor: pointer;\n",
       "  display: block;\n",
       "  width: 100%;\n",
       "  margin-bottom: 0;\n",
       "  padding: 0.5em;\n",
       "  box-sizing: border-box;\n",
       "  text-align: center;\n",
       "}\n",
       "\n",
       "#sk-container-id-3 label.sk-toggleable__label-arrow:before {\n",
       "  /* Arrow on the left of the label */\n",
       "  content: \"▸\";\n",
       "  float: left;\n",
       "  margin-right: 0.25em;\n",
       "  color: var(--sklearn-color-icon);\n",
       "}\n",
       "\n",
       "#sk-container-id-3 label.sk-toggleable__label-arrow:hover:before {\n",
       "  color: var(--sklearn-color-text);\n",
       "}\n",
       "\n",
       "/* Toggleable content - dropdown */\n",
       "\n",
       "#sk-container-id-3 div.sk-toggleable__content {\n",
       "  max-height: 0;\n",
       "  max-width: 0;\n",
       "  overflow: hidden;\n",
       "  text-align: left;\n",
       "  /* unfitted */\n",
       "  background-color: var(--sklearn-color-unfitted-level-0);\n",
       "}\n",
       "\n",
       "#sk-container-id-3 div.sk-toggleable__content.fitted {\n",
       "  /* fitted */\n",
       "  background-color: var(--sklearn-color-fitted-level-0);\n",
       "}\n",
       "\n",
       "#sk-container-id-3 div.sk-toggleable__content pre {\n",
       "  margin: 0.2em;\n",
       "  border-radius: 0.25em;\n",
       "  color: var(--sklearn-color-text);\n",
       "  /* unfitted */\n",
       "  background-color: var(--sklearn-color-unfitted-level-0);\n",
       "}\n",
       "\n",
       "#sk-container-id-3 div.sk-toggleable__content.fitted pre {\n",
       "  /* unfitted */\n",
       "  background-color: var(--sklearn-color-fitted-level-0);\n",
       "}\n",
       "\n",
       "#sk-container-id-3 input.sk-toggleable__control:checked~div.sk-toggleable__content {\n",
       "  /* Expand drop-down */\n",
       "  max-height: 200px;\n",
       "  max-width: 100%;\n",
       "  overflow: auto;\n",
       "}\n",
       "\n",
       "#sk-container-id-3 input.sk-toggleable__control:checked~label.sk-toggleable__label-arrow:before {\n",
       "  content: \"▾\";\n",
       "}\n",
       "\n",
       "/* Pipeline/ColumnTransformer-specific style */\n",
       "\n",
       "#sk-container-id-3 div.sk-label input.sk-toggleable__control:checked~label.sk-toggleable__label {\n",
       "  color: var(--sklearn-color-text);\n",
       "  background-color: var(--sklearn-color-unfitted-level-2);\n",
       "}\n",
       "\n",
       "#sk-container-id-3 div.sk-label.fitted input.sk-toggleable__control:checked~label.sk-toggleable__label {\n",
       "  background-color: var(--sklearn-color-fitted-level-2);\n",
       "}\n",
       "\n",
       "/* Estimator-specific style */\n",
       "\n",
       "/* Colorize estimator box */\n",
       "#sk-container-id-3 div.sk-estimator input.sk-toggleable__control:checked~label.sk-toggleable__label {\n",
       "  /* unfitted */\n",
       "  background-color: var(--sklearn-color-unfitted-level-2);\n",
       "}\n",
       "\n",
       "#sk-container-id-3 div.sk-estimator.fitted input.sk-toggleable__control:checked~label.sk-toggleable__label {\n",
       "  /* fitted */\n",
       "  background-color: var(--sklearn-color-fitted-level-2);\n",
       "}\n",
       "\n",
       "#sk-container-id-3 div.sk-label label.sk-toggleable__label,\n",
       "#sk-container-id-3 div.sk-label label {\n",
       "  /* The background is the default theme color */\n",
       "  color: var(--sklearn-color-text-on-default-background);\n",
       "}\n",
       "\n",
       "/* On hover, darken the color of the background */\n",
       "#sk-container-id-3 div.sk-label:hover label.sk-toggleable__label {\n",
       "  color: var(--sklearn-color-text);\n",
       "  background-color: var(--sklearn-color-unfitted-level-2);\n",
       "}\n",
       "\n",
       "/* Label box, darken color on hover, fitted */\n",
       "#sk-container-id-3 div.sk-label.fitted:hover label.sk-toggleable__label.fitted {\n",
       "  color: var(--sklearn-color-text);\n",
       "  background-color: var(--sklearn-color-fitted-level-2);\n",
       "}\n",
       "\n",
       "/* Estimator label */\n",
       "\n",
       "#sk-container-id-3 div.sk-label label {\n",
       "  font-family: monospace;\n",
       "  font-weight: bold;\n",
       "  display: inline-block;\n",
       "  line-height: 1.2em;\n",
       "}\n",
       "\n",
       "#sk-container-id-3 div.sk-label-container {\n",
       "  text-align: center;\n",
       "}\n",
       "\n",
       "/* Estimator-specific */\n",
       "#sk-container-id-3 div.sk-estimator {\n",
       "  font-family: monospace;\n",
       "  border: 1px dotted var(--sklearn-color-border-box);\n",
       "  border-radius: 0.25em;\n",
       "  box-sizing: border-box;\n",
       "  margin-bottom: 0.5em;\n",
       "  /* unfitted */\n",
       "  background-color: var(--sklearn-color-unfitted-level-0);\n",
       "}\n",
       "\n",
       "#sk-container-id-3 div.sk-estimator.fitted {\n",
       "  /* fitted */\n",
       "  background-color: var(--sklearn-color-fitted-level-0);\n",
       "}\n",
       "\n",
       "/* on hover */\n",
       "#sk-container-id-3 div.sk-estimator:hover {\n",
       "  /* unfitted */\n",
       "  background-color: var(--sklearn-color-unfitted-level-2);\n",
       "}\n",
       "\n",
       "#sk-container-id-3 div.sk-estimator.fitted:hover {\n",
       "  /* fitted */\n",
       "  background-color: var(--sklearn-color-fitted-level-2);\n",
       "}\n",
       "\n",
       "/* Specification for estimator info (e.g. \"i\" and \"?\") */\n",
       "\n",
       "/* Common style for \"i\" and \"?\" */\n",
       "\n",
       ".sk-estimator-doc-link,\n",
       "a:link.sk-estimator-doc-link,\n",
       "a:visited.sk-estimator-doc-link {\n",
       "  float: right;\n",
       "  font-size: smaller;\n",
       "  line-height: 1em;\n",
       "  font-family: monospace;\n",
       "  background-color: var(--sklearn-color-background);\n",
       "  border-radius: 1em;\n",
       "  height: 1em;\n",
       "  width: 1em;\n",
       "  text-decoration: none !important;\n",
       "  margin-left: 1ex;\n",
       "  /* unfitted */\n",
       "  border: var(--sklearn-color-unfitted-level-1) 1pt solid;\n",
       "  color: var(--sklearn-color-unfitted-level-1);\n",
       "}\n",
       "\n",
       ".sk-estimator-doc-link.fitted,\n",
       "a:link.sk-estimator-doc-link.fitted,\n",
       "a:visited.sk-estimator-doc-link.fitted {\n",
       "  /* fitted */\n",
       "  border: var(--sklearn-color-fitted-level-1) 1pt solid;\n",
       "  color: var(--sklearn-color-fitted-level-1);\n",
       "}\n",
       "\n",
       "/* On hover */\n",
       "div.sk-estimator:hover .sk-estimator-doc-link:hover,\n",
       ".sk-estimator-doc-link:hover,\n",
       "div.sk-label-container:hover .sk-estimator-doc-link:hover,\n",
       ".sk-estimator-doc-link:hover {\n",
       "  /* unfitted */\n",
       "  background-color: var(--sklearn-color-unfitted-level-3);\n",
       "  color: var(--sklearn-color-background);\n",
       "  text-decoration: none;\n",
       "}\n",
       "\n",
       "div.sk-estimator.fitted:hover .sk-estimator-doc-link.fitted:hover,\n",
       ".sk-estimator-doc-link.fitted:hover,\n",
       "div.sk-label-container:hover .sk-estimator-doc-link.fitted:hover,\n",
       ".sk-estimator-doc-link.fitted:hover {\n",
       "  /* fitted */\n",
       "  background-color: var(--sklearn-color-fitted-level-3);\n",
       "  color: var(--sklearn-color-background);\n",
       "  text-decoration: none;\n",
       "}\n",
       "\n",
       "/* Span, style for the box shown on hovering the info icon */\n",
       ".sk-estimator-doc-link span {\n",
       "  display: none;\n",
       "  z-index: 9999;\n",
       "  position: relative;\n",
       "  font-weight: normal;\n",
       "  right: .2ex;\n",
       "  padding: .5ex;\n",
       "  margin: .5ex;\n",
       "  width: min-content;\n",
       "  min-width: 20ex;\n",
       "  max-width: 50ex;\n",
       "  color: var(--sklearn-color-text);\n",
       "  box-shadow: 2pt 2pt 4pt #999;\n",
       "  /* unfitted */\n",
       "  background: var(--sklearn-color-unfitted-level-0);\n",
       "  border: .5pt solid var(--sklearn-color-unfitted-level-3);\n",
       "}\n",
       "\n",
       ".sk-estimator-doc-link.fitted span {\n",
       "  /* fitted */\n",
       "  background: var(--sklearn-color-fitted-level-0);\n",
       "  border: var(--sklearn-color-fitted-level-3);\n",
       "}\n",
       "\n",
       ".sk-estimator-doc-link:hover span {\n",
       "  display: block;\n",
       "}\n",
       "\n",
       "/* \"?\"-specific style due to the `<a>` HTML tag */\n",
       "\n",
       "#sk-container-id-3 a.estimator_doc_link {\n",
       "  float: right;\n",
       "  font-size: 1rem;\n",
       "  line-height: 1em;\n",
       "  font-family: monospace;\n",
       "  background-color: var(--sklearn-color-background);\n",
       "  border-radius: 1rem;\n",
       "  height: 1rem;\n",
       "  width: 1rem;\n",
       "  text-decoration: none;\n",
       "  /* unfitted */\n",
       "  color: var(--sklearn-color-unfitted-level-1);\n",
       "  border: var(--sklearn-color-unfitted-level-1) 1pt solid;\n",
       "}\n",
       "\n",
       "#sk-container-id-3 a.estimator_doc_link.fitted {\n",
       "  /* fitted */\n",
       "  border: var(--sklearn-color-fitted-level-1) 1pt solid;\n",
       "  color: var(--sklearn-color-fitted-level-1);\n",
       "}\n",
       "\n",
       "/* On hover */\n",
       "#sk-container-id-3 a.estimator_doc_link:hover {\n",
       "  /* unfitted */\n",
       "  background-color: var(--sklearn-color-unfitted-level-3);\n",
       "  color: var(--sklearn-color-background);\n",
       "  text-decoration: none;\n",
       "}\n",
       "\n",
       "#sk-container-id-3 a.estimator_doc_link.fitted:hover {\n",
       "  /* fitted */\n",
       "  background-color: var(--sklearn-color-fitted-level-3);\n",
       "}\n",
       "</style><div id=\"sk-container-id-3\" class=\"sk-top-container\"><div class=\"sk-text-repr-fallback\"><pre>RandomForestRegressor(max_depth=10, min_samples_leaf=2, n_estimators=50,\n",
       "                      random_state=7)</pre><b>In a Jupyter environment, please rerun this cell to show the HTML representation or trust the notebook. <br />On GitHub, the HTML representation is unable to render, please try loading this page with nbviewer.org.</b></div><div class=\"sk-container\" hidden><div class=\"sk-item\"><div class=\"sk-estimator fitted sk-toggleable\"><input class=\"sk-toggleable__control sk-hidden--visually\" id=\"sk-estimator-id-5\" type=\"checkbox\" checked><label for=\"sk-estimator-id-5\" class=\"sk-toggleable__label fitted sk-toggleable__label-arrow fitted\">&nbsp;&nbsp;RandomForestRegressor<a class=\"sk-estimator-doc-link fitted\" rel=\"noreferrer\" target=\"_blank\" href=\"https://scikit-learn.org/1.4/modules/generated/sklearn.ensemble.RandomForestRegressor.html\">?<span>Documentation for RandomForestRegressor</span></a><span class=\"sk-estimator-doc-link fitted\">i<span>Fitted</span></span></label><div class=\"sk-toggleable__content fitted\"><pre>RandomForestRegressor(max_depth=10, min_samples_leaf=2, n_estimators=50,\n",
       "                      random_state=7)</pre></div> </div></div></div></div>"
      ],
      "text/plain": [
       "RandomForestRegressor(max_depth=10, min_samples_leaf=2, n_estimators=50,\n",
       "                      random_state=7)"
      ]
     },
     "execution_count": 28,
     "metadata": {},
     "output_type": "execute_result"
    }
   ],
   "source": [
    "%%time\n",
    "\n",
    "# Train a Random Forest Regressor with the best hyperparameters found from tuning\n",
    "rf = RandomForestRegressor(random_state=7, \n",
    "                           max_depth=best_params_rf['max_depth'],\n",
    "                           min_samples_leaf=best_params_rf['min_samples_leaf'],\n",
    "                           min_samples_split=best_params_rf['min_samples_split'],\n",
    "                           n_estimators=best_params_rf['n_estimators']\n",
    "                           ) \n",
    "# Fit the Random Forest model on the training dataset              \n",
    "rf.fit(features_train, target_train)"
   ]
  },
  {
   "cell_type": "code",
   "execution_count": 29,
   "metadata": {},
   "outputs": [
    {
     "name": "stdout",
     "output_type": "stream",
     "text": [
      "CPU times: total: 1.2 s\n",
      "Wall time: 1.22 s\n"
     ]
    }
   ],
   "source": [
    "%%time\n",
    "# Predict target values for the validation set using the trained Random Forest model\n",
    "predictions_valid_rf = rf.predict(features_valid)"
   ]
  },
  {
   "cell_type": "code",
   "execution_count": 30,
   "metadata": {},
   "outputs": [
    {
     "name": "stdout",
     "output_type": "stream",
     "text": [
      "Best Parameters: {'max_depth': 10, 'min_samples_leaf': 2, 'min_samples_split': 2, 'n_estimators': 50}\n",
      "Root Mean Squared Error: 2018.2058209696345\n"
     ]
    }
   ],
   "source": [
    "# Calculate RMSE for the Random Forest predictions on the validation set,\n",
    "mse_rf = mean_squared_error(target_valid, predictions_valid_rf)\n",
    "rmse_rf = mse_rf ** 0.5\n",
    "\n",
    "# Print calculated RMSE along with best hyperparameters used for the model\n",
    "print(\"Best Parameters:\", best_params_rf)\n",
    "print(\"Root Mean Squared Error:\", rmse_rf)"
   ]
  },
  {
   "cell_type": "markdown",
   "metadata": {},
   "source": [
    "When running the Random Forest Regressor model with best parameters (max_depth: 10, min_samples_leaf: 2, min_samples_split: 5, n_estimators: 50), RMSE is 2018.2058209696345 suggesting that the model's predictions on average deviate by ~2018 from the actual values. The training time for model fiting is 1min 17s while for making predictions is 256ms. Random Forest trains much slower because it grows many independent decision trees, but it is still the best model based on RMSE. Also, prediction time is slowest becasue it needs to aggregrate results from many tress. "
   ]
  },
  {
   "cell_type": "markdown",
   "metadata": {},
   "source": [
    "### CatBoost Regression"
   ]
  },
  {
   "cell_type": "code",
   "execution_count": 31,
   "metadata": {},
   "outputs": [],
   "source": [
    "# Perform hyperparameter tuning for CatBoost Regressor using GridSearchCV\n",
    "param_grid_cbr = {\n",
    "    'learning_rate': [0.01, 0.05, 0.1],  \n",
    "    'iterations': [10, 20, 30],         \n",
    "    'depth': [1, 2, 5, 10]              \n",
    "}\n",
    "\n",
    "# Initialize a CatBoost Regressor with a fixed random seed for reproducibility\n",
    "cbr = CatBoostRegressor(random_seed=7, \n",
    "                        loss_function=\"RMSE\")  \n",
    "\n",
    "# Perform hyperparameter tuning using Grid search with 4-fold cross-validation\n",
    "grid_search_cbr = GridSearchCV(cbr, \n",
    "                               param_grid_cbr, \n",
    "                               cv=4, \n",
    "                               verbose=1)"
   ]
  },
  {
   "cell_type": "code",
   "execution_count": 32,
   "metadata": {},
   "outputs": [
    {
     "name": "stdout",
     "output_type": "stream",
     "text": [
      "Fitting 4 folds for each of 36 candidates, totalling 144 fits\n",
      "0:\tlearn: 4496.7995412\ttotal: 193ms\tremaining: 1.74s\n",
      "1:\tlearn: 4483.8656752\ttotal: 212ms\tremaining: 848ms\n",
      "2:\tlearn: 4471.1528770\ttotal: 228ms\tremaining: 532ms\n",
      "3:\tlearn: 4458.6578797\ttotal: 245ms\tremaining: 368ms\n",
      "4:\tlearn: 4446.4228049\ttotal: 263ms\tremaining: 263ms\n",
      "5:\tlearn: 4434.3233669\ttotal: 280ms\tremaining: 187ms\n",
      "6:\tlearn: 4422.4325757\ttotal: 298ms\tremaining: 128ms\n",
      "7:\tlearn: 4410.7472953\ttotal: 317ms\tremaining: 79.1ms\n",
      "8:\tlearn: 4399.2644239\ttotal: 334ms\tremaining: 37.1ms\n",
      "9:\tlearn: 4387.9396261\ttotal: 350ms\tremaining: 0us\n",
      "0:\tlearn: 4502.4907229\ttotal: 12.4ms\tremaining: 111ms\n",
      "1:\tlearn: 4489.6618206\ttotal: 23.5ms\tremaining: 94ms\n",
      "2:\tlearn: 4476.8750349\ttotal: 33.9ms\tremaining: 79.1ms\n",
      "3:\tlearn: 4464.3071569\ttotal: 44.5ms\tremaining: 66.7ms\n",
      "4:\tlearn: 4452.0685296\ttotal: 56ms\tremaining: 56ms\n",
      "5:\tlearn: 4439.8978986\ttotal: 66.3ms\tremaining: 44.2ms\n",
      "6:\tlearn: 4428.0491866\ttotal: 76.3ms\tremaining: 32.7ms\n",
      "7:\tlearn: 4416.2649495\ttotal: 87.4ms\tremaining: 21.8ms\n",
      "8:\tlearn: 4404.6846159\ttotal: 97.9ms\tremaining: 10.9ms\n",
      "9:\tlearn: 4393.3051013\ttotal: 109ms\tremaining: 0us\n",
      "0:\tlearn: 4506.5829621\ttotal: 11.5ms\tremaining: 104ms\n",
      "1:\tlearn: 4493.5483358\ttotal: 21.8ms\tremaining: 87.4ms\n",
      "2:\tlearn: 4480.7362935\ttotal: 33.4ms\tremaining: 77.9ms\n",
      "3:\tlearn: 4468.1435514\ttotal: 43.4ms\tremaining: 65.1ms\n",
      "4:\tlearn: 4455.7668601\ttotal: 53.9ms\tremaining: 53.9ms\n",
      "5:\tlearn: 4443.6876499\ttotal: 63.8ms\tremaining: 42.5ms\n",
      "6:\tlearn: 4431.7030566\ttotal: 74.1ms\tremaining: 31.7ms\n",
      "7:\tlearn: 4420.0090801\ttotal: 84.8ms\tremaining: 21.2ms\n",
      "8:\tlearn: 4408.4058307\ttotal: 95.2ms\tremaining: 10.6ms\n",
      "9:\tlearn: 4397.0864450\ttotal: 105ms\tremaining: 0us\n",
      "0:\tlearn: 4512.0550802\ttotal: 12.7ms\tremaining: 114ms\n",
      "1:\tlearn: 4499.0834460\ttotal: 23.5ms\tremaining: 94.1ms\n",
      "2:\tlearn: 4486.4371067\ttotal: 35.2ms\tremaining: 82.2ms\n",
      "3:\tlearn: 4473.8739447\ttotal: 45.4ms\tremaining: 68.1ms\n",
      "4:\tlearn: 4461.6287901\ttotal: 55.8ms\tremaining: 55.8ms\n",
      "5:\tlearn: 4449.5946055\ttotal: 65.9ms\tremaining: 43.9ms\n",
      "6:\tlearn: 4437.7682255\ttotal: 76ms\tremaining: 32.6ms\n",
      "7:\tlearn: 4425.9585373\ttotal: 86.7ms\tremaining: 21.7ms\n",
      "8:\tlearn: 4414.3531941\ttotal: 97.3ms\tremaining: 10.8ms\n",
      "9:\tlearn: 4402.9491047\ttotal: 107ms\tremaining: 0us\n",
      "0:\tlearn: 4445.1169067\ttotal: 11.8ms\tremaining: 107ms\n",
      "1:\tlearn: 4385.7748338\ttotal: 22.9ms\tremaining: 91.6ms\n",
      "2:\tlearn: 4330.8668423\ttotal: 34.1ms\tremaining: 79.5ms\n",
      "3:\tlearn: 4280.6832220\ttotal: 44.2ms\tremaining: 66.3ms\n",
      "4:\tlearn: 4234.3060184\ttotal: 54.5ms\tremaining: 54.5ms\n",
      "5:\tlearn: 4190.3136903\ttotal: 65.1ms\tremaining: 43.4ms\n",
      "6:\tlearn: 4147.8016147\ttotal: 75.8ms\tremaining: 32.5ms\n",
      "7:\tlearn: 4108.0009530\ttotal: 86.4ms\tremaining: 21.6ms\n",
      "8:\tlearn: 4068.9103720\ttotal: 97.6ms\tremaining: 10.8ms\n",
      "9:\tlearn: 4033.1138240\ttotal: 109ms\tremaining: 0us\n",
      "0:\tlearn: 4450.6396030\ttotal: 12.7ms\tremaining: 115ms\n",
      "1:\tlearn: 4391.1912032\ttotal: 23.2ms\tremaining: 92.9ms\n",
      "2:\tlearn: 4336.0438519\ttotal: 34.2ms\tremaining: 79.8ms\n",
      "3:\tlearn: 4285.6639559\ttotal: 45.2ms\tremaining: 67.7ms\n",
      "4:\tlearn: 4239.1904716\ttotal: 56.1ms\tremaining: 56.1ms\n",
      "5:\tlearn: 4195.1153887\ttotal: 67ms\tremaining: 44.6ms\n",
      "6:\tlearn: 4152.5117416\ttotal: 77.5ms\tremaining: 33.2ms\n",
      "7:\tlearn: 4112.3242987\ttotal: 88.5ms\tremaining: 22.1ms\n",
      "8:\tlearn: 4073.0624677\ttotal: 99.1ms\tremaining: 11ms\n",
      "9:\tlearn: 4037.1867118\ttotal: 110ms\tremaining: 0us\n",
      "0:\tlearn: 4455.3530102\ttotal: 12.5ms\tremaining: 112ms\n",
      "1:\tlearn: 4394.8901385\ttotal: 23.2ms\tremaining: 92.7ms\n",
      "2:\tlearn: 4339.5989787\ttotal: 33.4ms\tremaining: 77.9ms\n",
      "3:\tlearn: 4289.7178764\ttotal: 44.2ms\tremaining: 66.3ms\n",
      "4:\tlearn: 4242.5347144\ttotal: 54.6ms\tremaining: 54.6ms\n",
      "5:\tlearn: 4198.6020660\ttotal: 65.6ms\tremaining: 43.7ms\n",
      "6:\tlearn: 4156.4895198\ttotal: 77.2ms\tremaining: 33.1ms\n",
      "7:\tlearn: 4116.8949056\ttotal: 87.7ms\tremaining: 21.9ms\n",
      "8:\tlearn: 4077.0604333\ttotal: 98.2ms\tremaining: 10.9ms\n",
      "9:\tlearn: 4040.9971630\ttotal: 109ms\tremaining: 0us\n",
      "0:\tlearn: 4460.2216339\ttotal: 13ms\tremaining: 117ms\n",
      "1:\tlearn: 4400.7067574\ttotal: 23.7ms\tremaining: 94.9ms\n",
      "2:\tlearn: 4345.6216704\ttotal: 34.4ms\tremaining: 80.3ms\n",
      "3:\tlearn: 4295.2964940\ttotal: 45.2ms\tremaining: 67.8ms\n",
      "4:\tlearn: 4248.7724073\ttotal: 55.9ms\tremaining: 55.9ms\n",
      "5:\tlearn: 4204.6414497\ttotal: 66.5ms\tremaining: 44.3ms\n",
      "6:\tlearn: 4162.4560564\ttotal: 77.7ms\tremaining: 33.3ms\n",
      "7:\tlearn: 4123.0899380\ttotal: 89ms\tremaining: 22.2ms\n",
      "8:\tlearn: 4083.3410190\ttotal: 100ms\tremaining: 11.1ms\n",
      "9:\tlearn: 4047.7971199\ttotal: 111ms\tremaining: 0us\n",
      "0:\tlearn: 4382.7143767\ttotal: 12ms\tremaining: 108ms\n",
      "1:\tlearn: 4275.5116317\ttotal: 22.9ms\tremaining: 91.5ms\n",
      "2:\tlearn: 4185.4561917\ttotal: 33.5ms\tremaining: 78.1ms\n",
      "3:\tlearn: 4100.0526479\ttotal: 43.6ms\tremaining: 65.4ms\n",
      "4:\tlearn: 4024.0496238\ttotal: 54.1ms\tremaining: 54.1ms\n",
      "5:\tlearn: 3955.4781600\ttotal: 64.6ms\tremaining: 43.1ms\n",
      "6:\tlearn: 3893.9902842\ttotal: 75.2ms\tremaining: 32.2ms\n",
      "7:\tlearn: 3835.2196953\ttotal: 86.1ms\tremaining: 21.5ms\n",
      "8:\tlearn: 3780.7392029\ttotal: 97.3ms\tremaining: 10.8ms\n",
      "9:\tlearn: 3729.5536823\ttotal: 109ms\tremaining: 0us\n",
      "0:\tlearn: 4388.0320081\ttotal: 11.9ms\tremaining: 107ms\n",
      "1:\tlearn: 4280.5338624\ttotal: 23.3ms\tremaining: 93.2ms\n",
      "2:\tlearn: 4190.1784525\ttotal: 33.2ms\tremaining: 77.4ms\n",
      "3:\tlearn: 4104.0131261\ttotal: 43.3ms\tremaining: 65ms\n",
      "4:\tlearn: 4029.4423761\ttotal: 54ms\tremaining: 54ms\n",
      "5:\tlearn: 3959.4542383\ttotal: 64.9ms\tremaining: 43.3ms\n",
      "6:\tlearn: 3896.1845043\ttotal: 75.4ms\tremaining: 32.3ms\n",
      "7:\tlearn: 3837.1616557\ttotal: 86.6ms\tremaining: 21.6ms\n",
      "8:\tlearn: 3782.9202030\ttotal: 97.8ms\tremaining: 10.9ms\n",
      "9:\tlearn: 3730.6931052\ttotal: 108ms\tremaining: 0us\n",
      "0:\tlearn: 4393.5059040\ttotal: 11.7ms\tremaining: 105ms\n",
      "1:\tlearn: 4284.0224501\ttotal: 23ms\tremaining: 92.2ms\n",
      "2:\tlearn: 4193.2450084\ttotal: 33.7ms\tremaining: 78.6ms\n",
      "3:\tlearn: 4107.9465725\ttotal: 44.4ms\tremaining: 66.6ms\n",
      "4:\tlearn: 4031.8607084\ttotal: 55.1ms\tremaining: 55.1ms\n",
      "5:\tlearn: 3962.1665872\ttotal: 65.4ms\tremaining: 43.6ms\n",
      "6:\tlearn: 3899.1916915\ttotal: 75.9ms\tremaining: 32.5ms\n",
      "7:\tlearn: 3840.2637400\ttotal: 87ms\tremaining: 21.8ms\n",
      "8:\tlearn: 3785.8844389\ttotal: 97.9ms\tremaining: 10.9ms\n",
      "9:\tlearn: 3733.5666379\ttotal: 109ms\tremaining: 0us\n",
      "0:\tlearn: 4397.6373987\ttotal: 11.9ms\tremaining: 107ms\n",
      "1:\tlearn: 4290.0893490\ttotal: 23.4ms\tremaining: 93.5ms\n",
      "2:\tlearn: 4202.8440061\ttotal: 33.7ms\tremaining: 78.7ms\n",
      "3:\tlearn: 4113.2277221\ttotal: 44.4ms\tremaining: 66.7ms\n",
      "4:\tlearn: 4036.8034306\ttotal: 54.7ms\tremaining: 54.7ms\n",
      "5:\tlearn: 3967.2049145\ttotal: 65.2ms\tremaining: 43.4ms\n",
      "6:\tlearn: 3904.9092128\ttotal: 76.3ms\tremaining: 32.7ms\n",
      "7:\tlearn: 3846.0026458\ttotal: 87ms\tremaining: 21.8ms\n",
      "8:\tlearn: 3792.9493705\ttotal: 98.2ms\tremaining: 10.9ms\n",
      "9:\tlearn: 3739.3127105\ttotal: 109ms\tremaining: 0us\n",
      "0:\tlearn: 4496.7995412\ttotal: 12.7ms\tremaining: 242ms\n",
      "1:\tlearn: 4483.8656752\ttotal: 23.7ms\tremaining: 213ms\n",
      "2:\tlearn: 4471.1528770\ttotal: 33.9ms\tremaining: 192ms\n",
      "3:\tlearn: 4458.6578797\ttotal: 44.3ms\tremaining: 177ms\n",
      "4:\tlearn: 4446.4228049\ttotal: 55ms\tremaining: 165ms\n",
      "5:\tlearn: 4434.3233669\ttotal: 65.7ms\tremaining: 153ms\n",
      "6:\tlearn: 4422.4325757\ttotal: 76.1ms\tremaining: 141ms\n",
      "7:\tlearn: 4410.7472953\ttotal: 86.5ms\tremaining: 130ms\n",
      "8:\tlearn: 4399.2644239\ttotal: 97.5ms\tremaining: 119ms\n",
      "9:\tlearn: 4387.9396261\ttotal: 108ms\tremaining: 108ms\n",
      "10:\tlearn: 4376.8250023\ttotal: 118ms\tremaining: 96.9ms\n",
      "11:\tlearn: 4365.9040935\ttotal: 129ms\tremaining: 85.9ms\n",
      "12:\tlearn: 4355.1070129\ttotal: 139ms\tremaining: 75.1ms\n",
      "13:\tlearn: 4344.4987482\ttotal: 150ms\tremaining: 64.1ms\n",
      "14:\tlearn: 4334.0763844\ttotal: 160ms\tremaining: 53.3ms\n",
      "15:\tlearn: 4323.8251946\ttotal: 170ms\tremaining: 42.5ms\n",
      "16:\tlearn: 4313.7543560\ttotal: 181ms\tremaining: 31.9ms\n",
      "17:\tlearn: 4303.8777511\ttotal: 191ms\tremaining: 21.2ms\n",
      "18:\tlearn: 4294.1164253\ttotal: 202ms\tremaining: 10.6ms\n",
      "19:\tlearn: 4284.5277618\ttotal: 213ms\tremaining: 0us\n",
      "0:\tlearn: 4502.4907229\ttotal: 12.3ms\tremaining: 233ms\n",
      "1:\tlearn: 4489.6618206\ttotal: 23.1ms\tremaining: 207ms\n",
      "2:\tlearn: 4476.8750349\ttotal: 33.2ms\tremaining: 188ms\n",
      "3:\tlearn: 4464.3071569\ttotal: 43.7ms\tremaining: 175ms\n",
      "4:\tlearn: 4452.0685296\ttotal: 53.7ms\tremaining: 161ms\n",
      "5:\tlearn: 4439.8978986\ttotal: 64.1ms\tremaining: 150ms\n",
      "6:\tlearn: 4428.0491866\ttotal: 74.5ms\tremaining: 138ms\n",
      "7:\tlearn: 4416.2649495\ttotal: 84.8ms\tremaining: 127ms\n",
      "8:\tlearn: 4404.6846159\ttotal: 95ms\tremaining: 116ms\n",
      "9:\tlearn: 4393.3051013\ttotal: 106ms\tremaining: 106ms\n",
      "10:\tlearn: 4382.1233549\ttotal: 116ms\tremaining: 95.2ms\n",
      "11:\tlearn: 4371.1363599\ttotal: 126ms\tremaining: 84.3ms\n",
      "12:\tlearn: 4360.3411327\ttotal: 137ms\tremaining: 73.6ms\n",
      "13:\tlearn: 4349.7347239\ttotal: 147ms\tremaining: 63.1ms\n",
      "14:\tlearn: 4339.3142172\ttotal: 157ms\tremaining: 52.4ms\n",
      "15:\tlearn: 4328.9983721\ttotal: 168ms\tremaining: 42ms\n",
      "16:\tlearn: 4318.8638950\ttotal: 179ms\tremaining: 31.5ms\n",
      "17:\tlearn: 4308.9652768\ttotal: 190ms\tremaining: 21.1ms\n",
      "18:\tlearn: 4299.1692309\ttotal: 201ms\tremaining: 10.6ms\n",
      "19:\tlearn: 4289.5167838\ttotal: 212ms\tremaining: 0us\n",
      "0:\tlearn: 4506.5829621\ttotal: 12.7ms\tremaining: 241ms\n",
      "1:\tlearn: 4493.5483358\ttotal: 23.3ms\tremaining: 210ms\n",
      "2:\tlearn: 4480.7362935\ttotal: 33.9ms\tremaining: 192ms\n",
      "3:\tlearn: 4468.1435514\ttotal: 44.7ms\tremaining: 179ms\n",
      "4:\tlearn: 4455.7668601\ttotal: 55.6ms\tremaining: 167ms\n",
      "5:\tlearn: 4443.6876499\ttotal: 66.3ms\tremaining: 155ms\n",
      "6:\tlearn: 4431.7030566\ttotal: 78.1ms\tremaining: 145ms\n",
      "7:\tlearn: 4420.0090801\ttotal: 88.6ms\tremaining: 133ms\n",
      "8:\tlearn: 4408.4058307\ttotal: 99.4ms\tremaining: 121ms\n",
      "9:\tlearn: 4397.0864450\ttotal: 110ms\tremaining: 110ms\n",
      "10:\tlearn: 4385.8539929\ttotal: 122ms\tremaining: 99.6ms\n",
      "11:\tlearn: 4374.8170724\ttotal: 133ms\tremaining: 88.4ms\n",
      "12:\tlearn: 4364.0267628\ttotal: 144ms\tremaining: 77.3ms\n",
      "13:\tlearn: 4353.5641461\ttotal: 154ms\tremaining: 66.1ms\n",
      "14:\tlearn: 4343.1251978\ttotal: 165ms\tremaining: 55ms\n",
      "15:\tlearn: 4332.7416645\ttotal: 175ms\tremaining: 43.9ms\n",
      "16:\tlearn: 4322.6421399\ttotal: 186ms\tremaining: 32.9ms\n",
      "17:\tlearn: 4312.5949096\ttotal: 197ms\tremaining: 21.9ms\n",
      "18:\tlearn: 4302.7248449\ttotal: 207ms\tremaining: 10.9ms\n",
      "19:\tlearn: 4293.0291666\ttotal: 218ms\tremaining: 0us\n",
      "0:\tlearn: 4512.0550802\ttotal: 11.9ms\tremaining: 226ms\n",
      "1:\tlearn: 4499.0834460\ttotal: 22.7ms\tremaining: 204ms\n",
      "2:\tlearn: 4486.4371067\ttotal: 33.1ms\tremaining: 188ms\n",
      "3:\tlearn: 4473.8739447\ttotal: 43.1ms\tremaining: 173ms\n",
      "4:\tlearn: 4461.6287901\ttotal: 53.5ms\tremaining: 161ms\n",
      "5:\tlearn: 4449.5946055\ttotal: 64.1ms\tremaining: 150ms\n",
      "6:\tlearn: 4437.7682255\ttotal: 74.7ms\tremaining: 139ms\n",
      "7:\tlearn: 4425.9585373\ttotal: 85.2ms\tremaining: 128ms\n",
      "8:\tlearn: 4414.3531941\ttotal: 96.1ms\tremaining: 117ms\n",
      "9:\tlearn: 4402.9491047\ttotal: 107ms\tremaining: 107ms\n",
      "10:\tlearn: 4391.7432117\ttotal: 117ms\tremaining: 96ms\n",
      "11:\tlearn: 4380.7324915\ttotal: 128ms\tremaining: 85.2ms\n",
      "12:\tlearn: 4369.9139544\ttotal: 138ms\tremaining: 74.4ms\n",
      "13:\tlearn: 4359.2846442\ttotal: 148ms\tremaining: 63.5ms\n",
      "14:\tlearn: 4348.8416386\ttotal: 158ms\tremaining: 52.7ms\n",
      "15:\tlearn: 4338.5820486\ttotal: 169ms\tremaining: 42.2ms\n",
      "16:\tlearn: 4328.4450166\ttotal: 180ms\tremaining: 31.7ms\n",
      "17:\tlearn: 4318.5293909\ttotal: 191ms\tremaining: 21.2ms\n",
      "18:\tlearn: 4308.7889371\ttotal: 201ms\tremaining: 10.6ms\n",
      "19:\tlearn: 4299.2208970\ttotal: 212ms\tremaining: 0us\n",
      "0:\tlearn: 4445.1169067\ttotal: 12.8ms\tremaining: 242ms\n",
      "1:\tlearn: 4385.7748338\ttotal: 23.5ms\tremaining: 212ms\n",
      "2:\tlearn: 4330.8668423\ttotal: 34ms\tremaining: 193ms\n",
      "3:\tlearn: 4280.6832220\ttotal: 44.1ms\tremaining: 176ms\n",
      "4:\tlearn: 4234.3060184\ttotal: 54.2ms\tremaining: 163ms\n",
      "5:\tlearn: 4190.3136903\ttotal: 64.6ms\tremaining: 151ms\n",
      "6:\tlearn: 4147.8016147\ttotal: 74.9ms\tremaining: 139ms\n",
      "7:\tlearn: 4108.0009530\ttotal: 85.8ms\tremaining: 129ms\n",
      "8:\tlearn: 4068.9103720\ttotal: 96.8ms\tremaining: 118ms\n",
      "9:\tlearn: 4033.1138240\ttotal: 107ms\tremaining: 107ms\n",
      "10:\tlearn: 3998.0828136\ttotal: 118ms\tremaining: 96.5ms\n",
      "11:\tlearn: 3965.0994066\ttotal: 128ms\tremaining: 85.6ms\n",
      "12:\tlearn: 3933.1404197\ttotal: 139ms\tremaining: 75ms\n",
      "13:\tlearn: 3903.2601751\ttotal: 149ms\tremaining: 64ms\n",
      "14:\tlearn: 3874.1314326\ttotal: 160ms\tremaining: 53.3ms\n",
      "15:\tlearn: 3844.7887435\ttotal: 170ms\tremaining: 42.6ms\n",
      "16:\tlearn: 3817.2373819\ttotal: 181ms\tremaining: 31.9ms\n",
      "17:\tlearn: 3790.9545803\ttotal: 191ms\tremaining: 21.2ms\n",
      "18:\tlearn: 3765.1986422\ttotal: 203ms\tremaining: 10.7ms\n",
      "19:\tlearn: 3740.7687243\ttotal: 214ms\tremaining: 0us\n",
      "0:\tlearn: 4450.6396030\ttotal: 11.8ms\tremaining: 224ms\n",
      "1:\tlearn: 4391.1912032\ttotal: 22.9ms\tremaining: 206ms\n",
      "2:\tlearn: 4336.0438519\ttotal: 34.3ms\tremaining: 195ms\n",
      "3:\tlearn: 4285.6639559\ttotal: 44.8ms\tremaining: 179ms\n",
      "4:\tlearn: 4239.1904716\ttotal: 55.4ms\tremaining: 166ms\n",
      "5:\tlearn: 4195.1153887\ttotal: 66.4ms\tremaining: 155ms\n",
      "6:\tlearn: 4152.5117416\ttotal: 76.3ms\tremaining: 142ms\n",
      "7:\tlearn: 4112.3242987\ttotal: 86.6ms\tremaining: 130ms\n",
      "8:\tlearn: 4073.0624677\ttotal: 97.3ms\tremaining: 119ms\n",
      "9:\tlearn: 4037.1867118\ttotal: 107ms\tremaining: 107ms\n",
      "10:\tlearn: 4001.2320199\ttotal: 119ms\tremaining: 97.2ms\n",
      "11:\tlearn: 3968.1197061\ttotal: 130ms\tremaining: 86.5ms\n",
      "12:\tlearn: 3935.6856283\ttotal: 141ms\tremaining: 75.9ms\n",
      "13:\tlearn: 3904.6293528\ttotal: 151ms\tremaining: 64.9ms\n",
      "14:\tlearn: 3874.7150933\ttotal: 162ms\tremaining: 54.1ms\n",
      "15:\tlearn: 3846.7846684\ttotal: 174ms\tremaining: 43.4ms\n",
      "16:\tlearn: 3819.6156203\ttotal: 184ms\tremaining: 32.5ms\n",
      "17:\tlearn: 3792.4880454\ttotal: 195ms\tremaining: 21.7ms\n",
      "18:\tlearn: 3767.8767989\ttotal: 207ms\tremaining: 10.9ms\n",
      "19:\tlearn: 3742.6143874\ttotal: 217ms\tremaining: 0us\n",
      "0:\tlearn: 4455.3530102\ttotal: 12.2ms\tremaining: 231ms\n",
      "1:\tlearn: 4394.8901385\ttotal: 22.4ms\tremaining: 202ms\n",
      "2:\tlearn: 4339.5989787\ttotal: 32.3ms\tremaining: 183ms\n",
      "3:\tlearn: 4289.7178764\ttotal: 42.7ms\tremaining: 171ms\n",
      "4:\tlearn: 4242.5347144\ttotal: 53.5ms\tremaining: 160ms\n",
      "5:\tlearn: 4198.6020660\ttotal: 63.7ms\tremaining: 149ms\n",
      "6:\tlearn: 4156.4895198\ttotal: 75.3ms\tremaining: 140ms\n",
      "7:\tlearn: 4116.8949056\ttotal: 86.3ms\tremaining: 129ms\n",
      "8:\tlearn: 4077.0604333\ttotal: 97.5ms\tremaining: 119ms\n",
      "9:\tlearn: 4040.9971630\ttotal: 109ms\tremaining: 109ms\n",
      "10:\tlearn: 4005.3916996\ttotal: 120ms\tremaining: 97.8ms\n",
      "11:\tlearn: 3972.1025990\ttotal: 130ms\tremaining: 86.8ms\n",
      "12:\tlearn: 3940.0316456\ttotal: 142ms\tremaining: 76.3ms\n",
      "13:\tlearn: 3909.8024545\ttotal: 153ms\tremaining: 65.6ms\n",
      "14:\tlearn: 3879.2012641\ttotal: 164ms\tremaining: 54.7ms\n",
      "15:\tlearn: 3851.5029574\ttotal: 175ms\tremaining: 43.8ms\n",
      "16:\tlearn: 3823.9106118\ttotal: 187ms\tremaining: 32.9ms\n",
      "17:\tlearn: 3797.1062249\ttotal: 198ms\tremaining: 22ms\n",
      "18:\tlearn: 3771.9632951\ttotal: 209ms\tremaining: 11ms\n",
      "19:\tlearn: 3746.9925114\ttotal: 220ms\tremaining: 0us\n",
      "0:\tlearn: 4460.2216339\ttotal: 12ms\tremaining: 228ms\n",
      "1:\tlearn: 4400.7067574\ttotal: 23.2ms\tremaining: 209ms\n",
      "2:\tlearn: 4345.6216704\ttotal: 33.7ms\tremaining: 191ms\n",
      "3:\tlearn: 4295.2964940\ttotal: 43.9ms\tremaining: 176ms\n",
      "4:\tlearn: 4248.7724073\ttotal: 54.7ms\tremaining: 164ms\n",
      "5:\tlearn: 4204.6414497\ttotal: 65.3ms\tremaining: 152ms\n",
      "6:\tlearn: 4162.4560564\ttotal: 76.2ms\tremaining: 142ms\n",
      "7:\tlearn: 4123.0899380\ttotal: 87.5ms\tremaining: 131ms\n",
      "8:\tlearn: 4083.3410190\ttotal: 99ms\tremaining: 121ms\n",
      "9:\tlearn: 4047.7971199\ttotal: 111ms\tremaining: 111ms\n",
      "10:\tlearn: 4011.7110132\ttotal: 122ms\tremaining: 100ms\n",
      "11:\tlearn: 3978.2513607\ttotal: 133ms\tremaining: 88.8ms\n",
      "12:\tlearn: 3945.8013297\ttotal: 144ms\tremaining: 77.4ms\n",
      "13:\tlearn: 3915.4789142\ttotal: 155ms\tremaining: 66.4ms\n",
      "14:\tlearn: 3885.4400775\ttotal: 166ms\tremaining: 55.4ms\n",
      "15:\tlearn: 3857.0206999\ttotal: 177ms\tremaining: 44.3ms\n",
      "16:\tlearn: 3829.7759172\ttotal: 189ms\tremaining: 33.3ms\n",
      "17:\tlearn: 3803.4782230\ttotal: 200ms\tremaining: 22.3ms\n",
      "18:\tlearn: 3778.0913196\ttotal: 212ms\tremaining: 11.1ms\n",
      "19:\tlearn: 3752.7799751\ttotal: 222ms\tremaining: 0us\n",
      "0:\tlearn: 4382.7143767\ttotal: 11.8ms\tremaining: 223ms\n",
      "1:\tlearn: 4275.5116317\ttotal: 23.2ms\tremaining: 209ms\n",
      "2:\tlearn: 4185.4561917\ttotal: 33.5ms\tremaining: 190ms\n",
      "3:\tlearn: 4100.0526479\ttotal: 44.1ms\tremaining: 177ms\n",
      "4:\tlearn: 4024.0496238\ttotal: 54.3ms\tremaining: 163ms\n",
      "5:\tlearn: 3955.4781600\ttotal: 65.1ms\tremaining: 152ms\n",
      "6:\tlearn: 3893.9902842\ttotal: 76ms\tremaining: 141ms\n",
      "7:\tlearn: 3835.2196953\ttotal: 87.2ms\tremaining: 131ms\n",
      "8:\tlearn: 3780.7392029\ttotal: 98.1ms\tremaining: 120ms\n",
      "9:\tlearn: 3729.5536823\ttotal: 109ms\tremaining: 109ms\n",
      "10:\tlearn: 3683.5074950\ttotal: 120ms\tremaining: 98.2ms\n",
      "11:\tlearn: 3639.1374445\ttotal: 130ms\tremaining: 86.8ms\n",
      "12:\tlearn: 3600.1015168\ttotal: 141ms\tremaining: 75.8ms\n",
      "13:\tlearn: 3562.6031610\ttotal: 152ms\tremaining: 65.1ms\n",
      "14:\tlearn: 3527.7967390\ttotal: 162ms\tremaining: 54.1ms\n",
      "15:\tlearn: 3493.6644873\ttotal: 174ms\tremaining: 43.4ms\n",
      "16:\tlearn: 3463.5088228\ttotal: 185ms\tremaining: 32.6ms\n",
      "17:\tlearn: 3433.5193815\ttotal: 196ms\tremaining: 21.8ms\n",
      "18:\tlearn: 3406.0219143\ttotal: 207ms\tremaining: 10.9ms\n",
      "19:\tlearn: 3379.9563259\ttotal: 218ms\tremaining: 0us\n",
      "0:\tlearn: 4388.0320081\ttotal: 11.6ms\tremaining: 221ms\n",
      "1:\tlearn: 4280.5338624\ttotal: 22.8ms\tremaining: 205ms\n",
      "2:\tlearn: 4190.1784525\ttotal: 33.2ms\tremaining: 188ms\n",
      "3:\tlearn: 4104.0131261\ttotal: 43.5ms\tremaining: 174ms\n",
      "4:\tlearn: 4029.4423761\ttotal: 53.6ms\tremaining: 161ms\n",
      "5:\tlearn: 3959.4542383\ttotal: 64.1ms\tremaining: 149ms\n",
      "6:\tlearn: 3896.1845043\ttotal: 74.8ms\tremaining: 139ms\n",
      "7:\tlearn: 3837.1616557\ttotal: 85.6ms\tremaining: 128ms\n",
      "8:\tlearn: 3782.9202030\ttotal: 95.7ms\tremaining: 117ms\n",
      "9:\tlearn: 3730.6931052\ttotal: 106ms\tremaining: 106ms\n",
      "10:\tlearn: 3686.0379640\ttotal: 116ms\tremaining: 94.6ms\n",
      "11:\tlearn: 3642.0250367\ttotal: 126ms\tremaining: 83.9ms\n",
      "12:\tlearn: 3602.7275123\ttotal: 136ms\tremaining: 73.5ms\n",
      "13:\tlearn: 3565.7042461\ttotal: 147ms\tremaining: 62.9ms\n",
      "14:\tlearn: 3530.6551567\ttotal: 158ms\tremaining: 52.7ms\n",
      "15:\tlearn: 3496.3295368\ttotal: 169ms\tremaining: 42.2ms\n",
      "16:\tlearn: 3466.4121134\ttotal: 179ms\tremaining: 31.6ms\n",
      "17:\tlearn: 3437.2823082\ttotal: 190ms\tremaining: 21.1ms\n",
      "18:\tlearn: 3408.0098523\ttotal: 201ms\tremaining: 10.6ms\n",
      "19:\tlearn: 3382.5902468\ttotal: 212ms\tremaining: 0us\n",
      "0:\tlearn: 4393.5059040\ttotal: 11.8ms\tremaining: 224ms\n",
      "1:\tlearn: 4284.0224501\ttotal: 22.3ms\tremaining: 201ms\n",
      "2:\tlearn: 4193.2450084\ttotal: 33.2ms\tremaining: 188ms\n",
      "3:\tlearn: 4107.9465725\ttotal: 42.9ms\tremaining: 172ms\n",
      "4:\tlearn: 4031.8607084\ttotal: 53.3ms\tremaining: 160ms\n",
      "5:\tlearn: 3962.1665872\ttotal: 64ms\tremaining: 149ms\n",
      "6:\tlearn: 3899.1916915\ttotal: 74.5ms\tremaining: 138ms\n",
      "7:\tlearn: 3840.2637400\ttotal: 84.5ms\tremaining: 127ms\n",
      "8:\tlearn: 3785.8844389\ttotal: 95.1ms\tremaining: 116ms\n",
      "9:\tlearn: 3733.5666379\ttotal: 106ms\tremaining: 106ms\n",
      "10:\tlearn: 3688.3379479\ttotal: 117ms\tremaining: 95.7ms\n",
      "11:\tlearn: 3644.8255158\ttotal: 127ms\tremaining: 84.9ms\n",
      "12:\tlearn: 3606.7940672\ttotal: 138ms\tremaining: 74.3ms\n",
      "13:\tlearn: 3568.5268872\ttotal: 149ms\tremaining: 63.6ms\n",
      "14:\tlearn: 3533.1045489\ttotal: 159ms\tremaining: 53.1ms\n",
      "15:\tlearn: 3498.6004446\ttotal: 170ms\tremaining: 42.5ms\n",
      "16:\tlearn: 3469.0879560\ttotal: 181ms\tremaining: 31.9ms\n",
      "17:\tlearn: 3438.4642524\ttotal: 192ms\tremaining: 21.3ms\n",
      "18:\tlearn: 3411.7235128\ttotal: 203ms\tremaining: 10.7ms\n",
      "19:\tlearn: 3386.9822244\ttotal: 214ms\tremaining: 0us\n",
      "0:\tlearn: 4397.6373987\ttotal: 11.6ms\tremaining: 220ms\n",
      "1:\tlearn: 4290.0893490\ttotal: 22.1ms\tremaining: 199ms\n",
      "2:\tlearn: 4202.8440061\ttotal: 31.8ms\tremaining: 180ms\n",
      "3:\tlearn: 4113.2277221\ttotal: 44.7ms\tremaining: 179ms\n",
      "4:\tlearn: 4036.8034306\ttotal: 55.1ms\tremaining: 165ms\n",
      "5:\tlearn: 3967.2049145\ttotal: 65.5ms\tremaining: 153ms\n",
      "6:\tlearn: 3904.9092128\ttotal: 76.3ms\tremaining: 142ms\n",
      "7:\tlearn: 3846.0026458\ttotal: 87.2ms\tremaining: 131ms\n",
      "8:\tlearn: 3792.9493705\ttotal: 98.2ms\tremaining: 120ms\n",
      "9:\tlearn: 3739.3127105\ttotal: 109ms\tremaining: 109ms\n",
      "10:\tlearn: 3694.5247578\ttotal: 120ms\tremaining: 97.8ms\n",
      "11:\tlearn: 3651.7419034\ttotal: 131ms\tremaining: 87.2ms\n",
      "12:\tlearn: 3611.8270831\ttotal: 141ms\tremaining: 76ms\n",
      "13:\tlearn: 3574.0950544\ttotal: 152ms\tremaining: 65.2ms\n",
      "14:\tlearn: 3539.9799049\ttotal: 163ms\tremaining: 54.4ms\n",
      "15:\tlearn: 3505.5061090\ttotal: 174ms\tremaining: 43.5ms\n",
      "16:\tlearn: 3475.8351509\ttotal: 185ms\tremaining: 32.7ms\n",
      "17:\tlearn: 3445.8371321\ttotal: 196ms\tremaining: 21.8ms\n",
      "18:\tlearn: 3418.7815078\ttotal: 207ms\tremaining: 10.9ms\n",
      "19:\tlearn: 3392.8155503\ttotal: 218ms\tremaining: 0us\n",
      "0:\tlearn: 4496.7995412\ttotal: 11.5ms\tremaining: 335ms\n",
      "1:\tlearn: 4483.8656752\ttotal: 22.3ms\tremaining: 312ms\n",
      "2:\tlearn: 4471.1528770\ttotal: 32.6ms\tremaining: 293ms\n",
      "3:\tlearn: 4458.6578797\ttotal: 42.9ms\tremaining: 279ms\n",
      "4:\tlearn: 4446.4228049\ttotal: 53.5ms\tremaining: 267ms\n",
      "5:\tlearn: 4434.3233669\ttotal: 64.2ms\tremaining: 257ms\n",
      "6:\tlearn: 4422.4325757\ttotal: 74.8ms\tremaining: 246ms\n",
      "7:\tlearn: 4410.7472953\ttotal: 85.1ms\tremaining: 234ms\n",
      "8:\tlearn: 4399.2644239\ttotal: 95.3ms\tremaining: 222ms\n",
      "9:\tlearn: 4387.9396261\ttotal: 106ms\tremaining: 211ms\n",
      "10:\tlearn: 4376.8250023\ttotal: 116ms\tremaining: 201ms\n",
      "11:\tlearn: 4365.9040935\ttotal: 127ms\tremaining: 190ms\n",
      "12:\tlearn: 4355.1070129\ttotal: 137ms\tremaining: 179ms\n",
      "13:\tlearn: 4344.4987482\ttotal: 148ms\tremaining: 169ms\n",
      "14:\tlearn: 4334.0763844\ttotal: 159ms\tremaining: 159ms\n",
      "15:\tlearn: 4323.8251946\ttotal: 173ms\tremaining: 151ms\n",
      "16:\tlearn: 4313.7543560\ttotal: 183ms\tremaining: 140ms\n",
      "17:\tlearn: 4303.8777511\ttotal: 194ms\tremaining: 129ms\n",
      "18:\tlearn: 4294.1164253\ttotal: 205ms\tremaining: 119ms\n",
      "19:\tlearn: 4284.5277618\ttotal: 216ms\tremaining: 108ms\n",
      "20:\tlearn: 4275.1090355\ttotal: 227ms\tremaining: 97.4ms\n",
      "21:\tlearn: 4265.7923843\ttotal: 238ms\tremaining: 86.6ms\n",
      "22:\tlearn: 4256.6011489\ttotal: 249ms\tremaining: 75.8ms\n",
      "23:\tlearn: 4247.5735130\ttotal: 260ms\tremaining: 64.9ms\n",
      "24:\tlearn: 4238.6238795\ttotal: 270ms\tremaining: 54.1ms\n",
      "25:\tlearn: 4229.7830151\ttotal: 281ms\tremaining: 43.2ms\n",
      "26:\tlearn: 4220.9994897\ttotal: 292ms\tremaining: 32.5ms\n",
      "27:\tlearn: 4212.2882895\ttotal: 303ms\tremaining: 21.7ms\n",
      "28:\tlearn: 4203.7461105\ttotal: 314ms\tremaining: 10.8ms\n",
      "29:\tlearn: 4195.1357902\ttotal: 326ms\tremaining: 0us\n",
      "0:\tlearn: 4502.4907229\ttotal: 11.1ms\tremaining: 323ms\n",
      "1:\tlearn: 4489.6618206\ttotal: 22.1ms\tremaining: 309ms\n",
      "2:\tlearn: 4476.8750349\ttotal: 32.1ms\tremaining: 289ms\n",
      "3:\tlearn: 4464.3071569\ttotal: 42.2ms\tremaining: 274ms\n",
      "4:\tlearn: 4452.0685296\ttotal: 52.7ms\tremaining: 264ms\n",
      "5:\tlearn: 4439.8978986\ttotal: 62.9ms\tremaining: 251ms\n",
      "6:\tlearn: 4428.0491866\ttotal: 73.2ms\tremaining: 240ms\n",
      "7:\tlearn: 4416.2649495\ttotal: 83.6ms\tremaining: 230ms\n",
      "8:\tlearn: 4404.6846159\ttotal: 94.2ms\tremaining: 220ms\n",
      "9:\tlearn: 4393.3051013\ttotal: 105ms\tremaining: 211ms\n",
      "10:\tlearn: 4382.1233549\ttotal: 116ms\tremaining: 201ms\n",
      "11:\tlearn: 4371.1363599\ttotal: 127ms\tremaining: 191ms\n",
      "12:\tlearn: 4360.3411327\ttotal: 138ms\tremaining: 181ms\n",
      "13:\tlearn: 4349.7347239\ttotal: 149ms\tremaining: 170ms\n",
      "14:\tlearn: 4339.3142172\ttotal: 159ms\tremaining: 159ms\n",
      "15:\tlearn: 4328.9983721\ttotal: 170ms\tremaining: 149ms\n",
      "16:\tlearn: 4318.8638950\ttotal: 181ms\tremaining: 138ms\n",
      "17:\tlearn: 4308.9652768\ttotal: 191ms\tremaining: 127ms\n",
      "18:\tlearn: 4299.1692309\ttotal: 202ms\tremaining: 117ms\n",
      "19:\tlearn: 4289.5167838\ttotal: 213ms\tremaining: 106ms\n",
      "20:\tlearn: 4280.0411501\ttotal: 224ms\tremaining: 95.8ms\n",
      "21:\tlearn: 4270.7047140\ttotal: 235ms\tremaining: 85.4ms\n",
      "22:\tlearn: 4261.5342174\ttotal: 245ms\tremaining: 74.7ms\n",
      "23:\tlearn: 4252.5077912\ttotal: 257ms\tremaining: 64.3ms\n",
      "24:\tlearn: 4243.5229527\ttotal: 268ms\tremaining: 53.6ms\n",
      "25:\tlearn: 4234.6573563\ttotal: 279ms\tremaining: 42.9ms\n",
      "26:\tlearn: 4225.7680289\ttotal: 290ms\tremaining: 32.2ms\n",
      "27:\tlearn: 4217.0578960\ttotal: 301ms\tremaining: 21.5ms\n",
      "28:\tlearn: 4208.4066627\ttotal: 312ms\tremaining: 10.8ms\n",
      "29:\tlearn: 4199.8339190\ttotal: 323ms\tremaining: 0us\n",
      "0:\tlearn: 4506.5829621\ttotal: 11.6ms\tremaining: 336ms\n",
      "1:\tlearn: 4493.5483358\ttotal: 22.4ms\tremaining: 313ms\n",
      "2:\tlearn: 4480.7362935\ttotal: 32.6ms\tremaining: 293ms\n",
      "3:\tlearn: 4468.1435514\ttotal: 42.9ms\tremaining: 279ms\n",
      "4:\tlearn: 4455.7668601\ttotal: 54.1ms\tremaining: 270ms\n",
      "5:\tlearn: 4443.6876499\ttotal: 64.5ms\tremaining: 258ms\n",
      "6:\tlearn: 4431.7030566\ttotal: 74.7ms\tremaining: 245ms\n",
      "7:\tlearn: 4420.0090801\ttotal: 85.7ms\tremaining: 236ms\n",
      "8:\tlearn: 4408.4058307\ttotal: 96.8ms\tremaining: 226ms\n",
      "9:\tlearn: 4397.0864450\ttotal: 107ms\tremaining: 214ms\n",
      "10:\tlearn: 4385.8539929\ttotal: 118ms\tremaining: 204ms\n",
      "11:\tlearn: 4374.8170724\ttotal: 129ms\tremaining: 193ms\n",
      "12:\tlearn: 4364.0267628\ttotal: 140ms\tremaining: 183ms\n",
      "13:\tlearn: 4353.5641461\ttotal: 151ms\tremaining: 172ms\n",
      "14:\tlearn: 4343.1251978\ttotal: 162ms\tremaining: 162ms\n",
      "15:\tlearn: 4332.7416645\ttotal: 173ms\tremaining: 152ms\n",
      "16:\tlearn: 4322.6421399\ttotal: 184ms\tremaining: 141ms\n",
      "17:\tlearn: 4312.5949096\ttotal: 195ms\tremaining: 130ms\n",
      "18:\tlearn: 4302.7248449\ttotal: 206ms\tremaining: 119ms\n",
      "19:\tlearn: 4293.0291666\ttotal: 217ms\tremaining: 109ms\n",
      "20:\tlearn: 4283.5561910\ttotal: 228ms\tremaining: 97.6ms\n",
      "21:\tlearn: 4274.1773689\ttotal: 238ms\tremaining: 86.7ms\n",
      "22:\tlearn: 4265.0156321\ttotal: 249ms\tremaining: 75.8ms\n",
      "23:\tlearn: 4255.9444506\ttotal: 260ms\tremaining: 65ms\n",
      "24:\tlearn: 4247.0443229\ttotal: 271ms\tremaining: 54.2ms\n",
      "25:\tlearn: 4238.1623306\ttotal: 282ms\tremaining: 43.4ms\n",
      "26:\tlearn: 4229.4145162\ttotal: 293ms\tremaining: 32.6ms\n",
      "27:\tlearn: 4220.8321135\ttotal: 305ms\tremaining: 21.8ms\n",
      "28:\tlearn: 4212.1401687\ttotal: 317ms\tremaining: 10.9ms\n",
      "29:\tlearn: 4203.5043870\ttotal: 328ms\tremaining: 0us\n",
      "0:\tlearn: 4512.0550802\ttotal: 11.8ms\tremaining: 343ms\n",
      "1:\tlearn: 4499.0834460\ttotal: 22.8ms\tremaining: 319ms\n",
      "2:\tlearn: 4486.4371067\ttotal: 33.3ms\tremaining: 300ms\n",
      "3:\tlearn: 4473.8739447\ttotal: 43.5ms\tremaining: 283ms\n",
      "4:\tlearn: 4461.6287901\ttotal: 53.9ms\tremaining: 269ms\n",
      "5:\tlearn: 4449.5946055\ttotal: 64.2ms\tremaining: 257ms\n",
      "6:\tlearn: 4437.7682255\ttotal: 74.6ms\tremaining: 245ms\n",
      "7:\tlearn: 4425.9585373\ttotal: 85.2ms\tremaining: 234ms\n",
      "8:\tlearn: 4414.3531941\ttotal: 95.9ms\tremaining: 224ms\n",
      "9:\tlearn: 4402.9491047\ttotal: 107ms\tremaining: 213ms\n",
      "10:\tlearn: 4391.7432117\ttotal: 117ms\tremaining: 203ms\n",
      "11:\tlearn: 4380.7324915\ttotal: 128ms\tremaining: 192ms\n",
      "12:\tlearn: 4369.9139544\ttotal: 139ms\tremaining: 181ms\n",
      "13:\tlearn: 4359.2846442\ttotal: 150ms\tremaining: 171ms\n",
      "14:\tlearn: 4348.8416386\ttotal: 161ms\tremaining: 161ms\n",
      "15:\tlearn: 4338.5820486\ttotal: 171ms\tremaining: 150ms\n",
      "16:\tlearn: 4328.4450166\ttotal: 182ms\tremaining: 139ms\n",
      "17:\tlearn: 4318.5293909\ttotal: 194ms\tremaining: 129ms\n",
      "18:\tlearn: 4308.7889371\ttotal: 205ms\tremaining: 118ms\n",
      "19:\tlearn: 4299.2208970\ttotal: 215ms\tremaining: 108ms\n",
      "20:\tlearn: 4289.6880165\ttotal: 226ms\tremaining: 96.7ms\n",
      "21:\tlearn: 4280.3319747\ttotal: 237ms\tremaining: 86.1ms\n",
      "22:\tlearn: 4271.2069155\ttotal: 248ms\tremaining: 75.5ms\n",
      "23:\tlearn: 4262.1106485\ttotal: 260ms\tremaining: 64.9ms\n",
      "24:\tlearn: 4253.0864476\ttotal: 271ms\tremaining: 54.2ms\n",
      "25:\tlearn: 4244.1590371\ttotal: 283ms\tremaining: 43.6ms\n",
      "26:\tlearn: 4235.3025889\ttotal: 295ms\tremaining: 32.8ms\n",
      "27:\tlearn: 4226.6078822\ttotal: 305ms\tremaining: 21.8ms\n",
      "28:\tlearn: 4217.9678716\ttotal: 316ms\tremaining: 10.9ms\n",
      "29:\tlearn: 4209.3660000\ttotal: 328ms\tremaining: 0us\n",
      "0:\tlearn: 4445.1169067\ttotal: 12ms\tremaining: 347ms\n",
      "1:\tlearn: 4385.7748338\ttotal: 22.5ms\tremaining: 315ms\n",
      "2:\tlearn: 4330.8668423\ttotal: 33.2ms\tremaining: 299ms\n",
      "3:\tlearn: 4280.6832220\ttotal: 44.2ms\tremaining: 288ms\n",
      "4:\tlearn: 4234.3060184\ttotal: 55ms\tremaining: 275ms\n",
      "5:\tlearn: 4190.3136903\ttotal: 65.9ms\tremaining: 264ms\n",
      "6:\tlearn: 4147.8016147\ttotal: 77.2ms\tremaining: 254ms\n",
      "7:\tlearn: 4108.0009530\ttotal: 87.8ms\tremaining: 242ms\n",
      "8:\tlearn: 4068.9103720\ttotal: 98.5ms\tremaining: 230ms\n",
      "9:\tlearn: 4033.1138240\ttotal: 109ms\tremaining: 218ms\n",
      "10:\tlearn: 3998.0828136\ttotal: 120ms\tremaining: 206ms\n",
      "11:\tlearn: 3965.0994066\ttotal: 130ms\tremaining: 195ms\n",
      "12:\tlearn: 3933.1404197\ttotal: 141ms\tremaining: 184ms\n",
      "13:\tlearn: 3903.2601751\ttotal: 152ms\tremaining: 173ms\n",
      "14:\tlearn: 3874.1314326\ttotal: 162ms\tremaining: 162ms\n",
      "15:\tlearn: 3844.7887435\ttotal: 173ms\tremaining: 151ms\n",
      "16:\tlearn: 3817.2373819\ttotal: 183ms\tremaining: 140ms\n",
      "17:\tlearn: 3790.9545803\ttotal: 195ms\tremaining: 130ms\n",
      "18:\tlearn: 3765.1986422\ttotal: 205ms\tremaining: 119ms\n",
      "19:\tlearn: 3740.7687243\ttotal: 217ms\tremaining: 108ms\n",
      "20:\tlearn: 3717.4669567\ttotal: 228ms\tremaining: 97.5ms\n",
      "21:\tlearn: 3694.7081094\ttotal: 239ms\tremaining: 86.8ms\n",
      "22:\tlearn: 3673.7988964\ttotal: 250ms\tremaining: 76.1ms\n",
      "23:\tlearn: 3652.7454862\ttotal: 260ms\tremaining: 65.1ms\n",
      "24:\tlearn: 3632.4372682\ttotal: 271ms\tremaining: 54.2ms\n",
      "25:\tlearn: 3612.9995657\ttotal: 282ms\tremaining: 43.3ms\n",
      "26:\tlearn: 3594.3249660\ttotal: 292ms\tremaining: 32.5ms\n",
      "27:\tlearn: 3575.6380758\ttotal: 302ms\tremaining: 21.6ms\n",
      "28:\tlearn: 3557.9576334\ttotal: 312ms\tremaining: 10.8ms\n",
      "29:\tlearn: 3540.8274967\ttotal: 322ms\tremaining: 0us\n",
      "0:\tlearn: 4450.6396030\ttotal: 12.1ms\tremaining: 350ms\n",
      "1:\tlearn: 4391.1912032\ttotal: 23.3ms\tremaining: 326ms\n",
      "2:\tlearn: 4336.0438519\ttotal: 33.5ms\tremaining: 301ms\n",
      "3:\tlearn: 4285.6639559\ttotal: 44.1ms\tremaining: 287ms\n",
      "4:\tlearn: 4239.1904716\ttotal: 54.6ms\tremaining: 273ms\n",
      "5:\tlearn: 4195.1153887\ttotal: 64.8ms\tremaining: 259ms\n",
      "6:\tlearn: 4152.5117416\ttotal: 75.7ms\tremaining: 249ms\n",
      "7:\tlearn: 4112.3242987\ttotal: 86.6ms\tremaining: 238ms\n",
      "8:\tlearn: 4073.0624677\ttotal: 97.7ms\tremaining: 228ms\n",
      "9:\tlearn: 4037.1867118\ttotal: 109ms\tremaining: 218ms\n",
      "10:\tlearn: 4001.2320199\ttotal: 120ms\tremaining: 207ms\n",
      "11:\tlearn: 3968.1197061\ttotal: 131ms\tremaining: 196ms\n",
      "12:\tlearn: 3935.6856283\ttotal: 142ms\tremaining: 185ms\n",
      "13:\tlearn: 3904.6293528\ttotal: 153ms\tremaining: 175ms\n",
      "14:\tlearn: 3874.7150933\ttotal: 164ms\tremaining: 164ms\n",
      "15:\tlearn: 3846.7846684\ttotal: 174ms\tremaining: 152ms\n",
      "16:\tlearn: 3819.6156203\ttotal: 185ms\tremaining: 142ms\n",
      "17:\tlearn: 3792.4880454\ttotal: 196ms\tremaining: 131ms\n",
      "18:\tlearn: 3767.8767989\ttotal: 207ms\tremaining: 120ms\n",
      "19:\tlearn: 3742.6143874\ttotal: 217ms\tremaining: 109ms\n",
      "20:\tlearn: 3719.1311245\ttotal: 228ms\tremaining: 97.8ms\n",
      "21:\tlearn: 3695.7042492\ttotal: 239ms\tremaining: 86.9ms\n",
      "22:\tlearn: 3674.2336741\ttotal: 250ms\tremaining: 76ms\n",
      "23:\tlearn: 3653.0941664\ttotal: 260ms\tremaining: 65.1ms\n",
      "24:\tlearn: 3632.8961620\ttotal: 271ms\tremaining: 54.1ms\n",
      "25:\tlearn: 3613.8766673\ttotal: 281ms\tremaining: 43.2ms\n",
      "26:\tlearn: 3595.1240349\ttotal: 292ms\tremaining: 32.4ms\n",
      "27:\tlearn: 3576.7457428\ttotal: 302ms\tremaining: 21.6ms\n",
      "28:\tlearn: 3559.5502076\ttotal: 313ms\tremaining: 10.8ms\n",
      "29:\tlearn: 3542.3636734\ttotal: 324ms\tremaining: 0us\n",
      "0:\tlearn: 4455.3530102\ttotal: 12.2ms\tremaining: 353ms\n",
      "1:\tlearn: 4394.8901385\ttotal: 22.8ms\tremaining: 319ms\n",
      "2:\tlearn: 4339.5989787\ttotal: 33.4ms\tremaining: 301ms\n",
      "3:\tlearn: 4289.7178764\ttotal: 44.2ms\tremaining: 287ms\n",
      "4:\tlearn: 4242.5347144\ttotal: 55.3ms\tremaining: 277ms\n",
      "5:\tlearn: 4198.6020660\ttotal: 66.4ms\tremaining: 266ms\n",
      "6:\tlearn: 4156.4895198\ttotal: 77.6ms\tremaining: 255ms\n",
      "7:\tlearn: 4116.8949056\ttotal: 88.5ms\tremaining: 243ms\n",
      "8:\tlearn: 4077.0604333\ttotal: 99.2ms\tremaining: 232ms\n",
      "9:\tlearn: 4040.9971630\ttotal: 110ms\tremaining: 220ms\n",
      "10:\tlearn: 4005.3916996\ttotal: 121ms\tremaining: 209ms\n",
      "11:\tlearn: 3972.1025990\ttotal: 132ms\tremaining: 197ms\n",
      "12:\tlearn: 3940.0316456\ttotal: 142ms\tremaining: 186ms\n",
      "13:\tlearn: 3909.8024545\ttotal: 153ms\tremaining: 175ms\n",
      "14:\tlearn: 3879.2012641\ttotal: 164ms\tremaining: 164ms\n",
      "15:\tlearn: 3851.5029574\ttotal: 175ms\tremaining: 153ms\n",
      "16:\tlearn: 3823.9106118\ttotal: 186ms\tremaining: 142ms\n",
      "17:\tlearn: 3797.1062249\ttotal: 197ms\tremaining: 131ms\n",
      "18:\tlearn: 3771.9632951\ttotal: 208ms\tremaining: 121ms\n",
      "19:\tlearn: 3746.9925114\ttotal: 219ms\tremaining: 109ms\n",
      "20:\tlearn: 3723.4254093\ttotal: 230ms\tremaining: 98.5ms\n",
      "21:\tlearn: 3700.1093593\ttotal: 240ms\tremaining: 87.3ms\n",
      "22:\tlearn: 3679.1381878\ttotal: 250ms\tremaining: 76.1ms\n",
      "23:\tlearn: 3658.0326465\ttotal: 261ms\tremaining: 65.1ms\n",
      "24:\tlearn: 3637.9166405\ttotal: 271ms\tremaining: 54.3ms\n",
      "25:\tlearn: 3618.3955158\ttotal: 282ms\tremaining: 43.4ms\n",
      "26:\tlearn: 3599.5202680\ttotal: 293ms\tremaining: 32.5ms\n",
      "27:\tlearn: 3580.3278983\ttotal: 304ms\tremaining: 21.7ms\n",
      "28:\tlearn: 3562.6300909\ttotal: 315ms\tremaining: 10.9ms\n",
      "29:\tlearn: 3545.1219057\ttotal: 326ms\tremaining: 0us\n",
      "0:\tlearn: 4460.2216339\ttotal: 11.9ms\tremaining: 346ms\n",
      "1:\tlearn: 4400.7067574\ttotal: 22.5ms\tremaining: 315ms\n",
      "2:\tlearn: 4345.6216704\ttotal: 32.9ms\tremaining: 296ms\n",
      "3:\tlearn: 4295.2964940\ttotal: 43.4ms\tremaining: 282ms\n",
      "4:\tlearn: 4248.7724073\ttotal: 54.1ms\tremaining: 270ms\n",
      "5:\tlearn: 4204.6414497\ttotal: 64.6ms\tremaining: 258ms\n",
      "6:\tlearn: 4162.4560564\ttotal: 76.7ms\tremaining: 252ms\n",
      "7:\tlearn: 4123.0899380\ttotal: 87ms\tremaining: 239ms\n",
      "8:\tlearn: 4083.3410190\ttotal: 98.9ms\tremaining: 231ms\n",
      "9:\tlearn: 4047.7971199\ttotal: 110ms\tremaining: 219ms\n",
      "10:\tlearn: 4011.7110132\ttotal: 121ms\tremaining: 209ms\n",
      "11:\tlearn: 3978.2513607\ttotal: 132ms\tremaining: 198ms\n",
      "12:\tlearn: 3945.8013297\ttotal: 142ms\tremaining: 186ms\n",
      "13:\tlearn: 3915.4789142\ttotal: 153ms\tremaining: 175ms\n",
      "14:\tlearn: 3885.4400775\ttotal: 164ms\tremaining: 164ms\n",
      "15:\tlearn: 3857.0206999\ttotal: 174ms\tremaining: 152ms\n",
      "16:\tlearn: 3829.7759172\ttotal: 185ms\tremaining: 141ms\n",
      "17:\tlearn: 3803.4782230\ttotal: 195ms\tremaining: 130ms\n",
      "18:\tlearn: 3778.0913196\ttotal: 206ms\tremaining: 119ms\n",
      "19:\tlearn: 3752.7799751\ttotal: 217ms\tremaining: 108ms\n",
      "20:\tlearn: 3729.7216876\ttotal: 227ms\tremaining: 97.4ms\n",
      "21:\tlearn: 3707.0026708\ttotal: 238ms\tremaining: 86.6ms\n",
      "22:\tlearn: 3685.4499830\ttotal: 249ms\tremaining: 75.8ms\n",
      "23:\tlearn: 3664.3136633\ttotal: 260ms\tremaining: 65ms\n",
      "24:\tlearn: 3644.1553668\ttotal: 271ms\tremaining: 54.3ms\n",
      "25:\tlearn: 3624.7108610\ttotal: 283ms\tremaining: 43.5ms\n",
      "26:\tlearn: 3606.0679978\ttotal: 294ms\tremaining: 32.7ms\n",
      "27:\tlearn: 3587.0691297\ttotal: 306ms\tremaining: 21.8ms\n",
      "28:\tlearn: 3569.9808690\ttotal: 317ms\tremaining: 10.9ms\n",
      "29:\tlearn: 3552.7188031\ttotal: 328ms\tremaining: 0us\n",
      "0:\tlearn: 4382.7143767\ttotal: 11.4ms\tremaining: 329ms\n",
      "1:\tlearn: 4275.5116317\ttotal: 21.8ms\tremaining: 305ms\n",
      "2:\tlearn: 4185.4561917\ttotal: 32.2ms\tremaining: 289ms\n",
      "3:\tlearn: 4100.0526479\ttotal: 43ms\tremaining: 280ms\n",
      "4:\tlearn: 4024.0496238\ttotal: 53.6ms\tremaining: 268ms\n",
      "5:\tlearn: 3955.4781600\ttotal: 64.2ms\tremaining: 257ms\n",
      "6:\tlearn: 3893.9902842\ttotal: 74.9ms\tremaining: 246ms\n",
      "7:\tlearn: 3835.2196953\ttotal: 85.7ms\tremaining: 236ms\n",
      "8:\tlearn: 3780.7392029\ttotal: 96.6ms\tremaining: 225ms\n",
      "9:\tlearn: 3729.5536823\ttotal: 108ms\tremaining: 215ms\n",
      "10:\tlearn: 3683.5074950\ttotal: 118ms\tremaining: 204ms\n",
      "11:\tlearn: 3639.1374445\ttotal: 129ms\tremaining: 194ms\n",
      "12:\tlearn: 3600.1015168\ttotal: 140ms\tremaining: 183ms\n",
      "13:\tlearn: 3562.6031610\ttotal: 151ms\tremaining: 172ms\n",
      "14:\tlearn: 3527.7967390\ttotal: 162ms\tremaining: 162ms\n",
      "15:\tlearn: 3493.6644873\ttotal: 173ms\tremaining: 151ms\n",
      "16:\tlearn: 3463.5088228\ttotal: 184ms\tremaining: 141ms\n",
      "17:\tlearn: 3433.5193815\ttotal: 195ms\tremaining: 130ms\n",
      "18:\tlearn: 3406.0219143\ttotal: 206ms\tremaining: 119ms\n",
      "19:\tlearn: 3379.9563259\ttotal: 217ms\tremaining: 109ms\n",
      "20:\tlearn: 3354.5362911\ttotal: 228ms\tremaining: 97.7ms\n",
      "21:\tlearn: 3331.4543552\ttotal: 238ms\tremaining: 86.7ms\n",
      "22:\tlearn: 3309.4907017\ttotal: 250ms\tremaining: 76.1ms\n",
      "23:\tlearn: 3286.0157650\ttotal: 261ms\tremaining: 65.2ms\n",
      "24:\tlearn: 3265.8121845\ttotal: 272ms\tremaining: 54.3ms\n",
      "25:\tlearn: 3246.4413483\ttotal: 282ms\tremaining: 43.4ms\n",
      "26:\tlearn: 3226.3084553\ttotal: 293ms\tremaining: 32.6ms\n",
      "27:\tlearn: 3206.6249013\ttotal: 304ms\tremaining: 21.7ms\n",
      "28:\tlearn: 3188.1836058\ttotal: 316ms\tremaining: 10.9ms\n",
      "29:\tlearn: 3170.7285843\ttotal: 327ms\tremaining: 0us\n",
      "0:\tlearn: 4388.0320081\ttotal: 12.1ms\tremaining: 352ms\n",
      "1:\tlearn: 4280.5338624\ttotal: 23.2ms\tremaining: 324ms\n",
      "2:\tlearn: 4190.1784525\ttotal: 33.4ms\tremaining: 301ms\n",
      "3:\tlearn: 4104.0131261\ttotal: 43.6ms\tremaining: 283ms\n",
      "4:\tlearn: 4029.4423761\ttotal: 54.2ms\tremaining: 271ms\n",
      "5:\tlearn: 3959.4542383\ttotal: 64.8ms\tremaining: 259ms\n",
      "6:\tlearn: 3896.1845043\ttotal: 75.5ms\tremaining: 248ms\n",
      "7:\tlearn: 3837.1616557\ttotal: 86.2ms\tremaining: 237ms\n",
      "8:\tlearn: 3782.9202030\ttotal: 96.9ms\tremaining: 226ms\n",
      "9:\tlearn: 3730.6931052\ttotal: 108ms\tremaining: 215ms\n",
      "10:\tlearn: 3686.0379640\ttotal: 119ms\tremaining: 205ms\n",
      "11:\tlearn: 3642.0250367\ttotal: 130ms\tremaining: 195ms\n",
      "12:\tlearn: 3602.7275123\ttotal: 141ms\tremaining: 184ms\n",
      "13:\tlearn: 3565.7042461\ttotal: 152ms\tremaining: 173ms\n",
      "14:\tlearn: 3530.6551567\ttotal: 162ms\tremaining: 162ms\n",
      "15:\tlearn: 3496.3295368\ttotal: 173ms\tremaining: 151ms\n",
      "16:\tlearn: 3466.4121134\ttotal: 184ms\tremaining: 140ms\n",
      "17:\tlearn: 3437.2823082\ttotal: 195ms\tremaining: 130ms\n",
      "18:\tlearn: 3408.0098523\ttotal: 205ms\tremaining: 119ms\n",
      "19:\tlearn: 3382.5902468\ttotal: 216ms\tremaining: 108ms\n",
      "20:\tlearn: 3357.8048250\ttotal: 226ms\tremaining: 97ms\n",
      "21:\tlearn: 3334.2239207\ttotal: 238ms\tremaining: 86.4ms\n",
      "22:\tlearn: 3311.7323649\ttotal: 249ms\tremaining: 75.8ms\n",
      "23:\tlearn: 3289.6873693\ttotal: 260ms\tremaining: 64.9ms\n",
      "24:\tlearn: 3269.0738310\ttotal: 270ms\tremaining: 54.1ms\n",
      "25:\tlearn: 3249.8080087\ttotal: 281ms\tremaining: 43.3ms\n",
      "26:\tlearn: 3230.7313298\ttotal: 293ms\tremaining: 32.5ms\n",
      "27:\tlearn: 3210.4393648\ttotal: 303ms\tremaining: 21.7ms\n",
      "28:\tlearn: 3193.1419973\ttotal: 314ms\tremaining: 10.8ms\n",
      "29:\tlearn: 3175.5893957\ttotal: 325ms\tremaining: 0us\n",
      "0:\tlearn: 4393.5059040\ttotal: 12ms\tremaining: 348ms\n",
      "1:\tlearn: 4284.0224501\ttotal: 22.9ms\tremaining: 321ms\n",
      "2:\tlearn: 4193.2450084\ttotal: 33.7ms\tremaining: 303ms\n",
      "3:\tlearn: 4107.9465725\ttotal: 43.9ms\tremaining: 286ms\n",
      "4:\tlearn: 4031.8607084\ttotal: 54.7ms\tremaining: 273ms\n",
      "5:\tlearn: 3962.1665872\ttotal: 65.2ms\tremaining: 261ms\n",
      "6:\tlearn: 3899.1916915\ttotal: 76ms\tremaining: 250ms\n",
      "7:\tlearn: 3840.2637400\ttotal: 86.8ms\tremaining: 239ms\n",
      "8:\tlearn: 3785.8844389\ttotal: 97.8ms\tremaining: 228ms\n",
      "9:\tlearn: 3733.5666379\ttotal: 108ms\tremaining: 216ms\n",
      "10:\tlearn: 3688.3379479\ttotal: 119ms\tremaining: 205ms\n",
      "11:\tlearn: 3644.8255158\ttotal: 130ms\tremaining: 194ms\n",
      "12:\tlearn: 3606.7940672\ttotal: 140ms\tremaining: 183ms\n",
      "13:\tlearn: 3568.5268872\ttotal: 151ms\tremaining: 173ms\n",
      "14:\tlearn: 3533.1045489\ttotal: 162ms\tremaining: 162ms\n",
      "15:\tlearn: 3498.6004446\ttotal: 173ms\tremaining: 151ms\n",
      "16:\tlearn: 3469.0879560\ttotal: 184ms\tremaining: 140ms\n",
      "17:\tlearn: 3438.4642524\ttotal: 195ms\tremaining: 130ms\n",
      "18:\tlearn: 3411.7235128\ttotal: 206ms\tremaining: 119ms\n",
      "19:\tlearn: 3386.9822244\ttotal: 216ms\tremaining: 108ms\n",
      "20:\tlearn: 3361.6086271\ttotal: 227ms\tremaining: 97.4ms\n",
      "21:\tlearn: 3336.3362166\ttotal: 238ms\tremaining: 86.4ms\n",
      "22:\tlearn: 3313.8969919\ttotal: 248ms\tremaining: 75.5ms\n",
      "23:\tlearn: 3290.1161483\ttotal: 260ms\tremaining: 64.9ms\n",
      "24:\tlearn: 3270.3066314\ttotal: 271ms\tremaining: 54.1ms\n",
      "25:\tlearn: 3249.6009838\ttotal: 281ms\tremaining: 43.3ms\n",
      "26:\tlearn: 3230.7191894\ttotal: 292ms\tremaining: 32.5ms\n",
      "27:\tlearn: 3211.0483310\ttotal: 302ms\tremaining: 21.6ms\n",
      "28:\tlearn: 3192.8982316\ttotal: 313ms\tremaining: 10.8ms\n",
      "29:\tlearn: 3175.0374659\ttotal: 323ms\tremaining: 0us\n",
      "0:\tlearn: 4397.6373987\ttotal: 11.8ms\tremaining: 342ms\n",
      "1:\tlearn: 4290.0893490\ttotal: 22.3ms\tremaining: 312ms\n",
      "2:\tlearn: 4202.8440061\ttotal: 32.6ms\tremaining: 294ms\n",
      "3:\tlearn: 4113.2277221\ttotal: 42.9ms\tremaining: 279ms\n",
      "4:\tlearn: 4036.8034306\ttotal: 53ms\tremaining: 265ms\n",
      "5:\tlearn: 3967.2049145\ttotal: 63.4ms\tremaining: 254ms\n",
      "6:\tlearn: 3904.9092128\ttotal: 73.5ms\tremaining: 242ms\n",
      "7:\tlearn: 3846.0026458\ttotal: 83.9ms\tremaining: 231ms\n",
      "8:\tlearn: 3792.9493705\ttotal: 94.7ms\tremaining: 221ms\n",
      "9:\tlearn: 3739.3127105\ttotal: 106ms\tremaining: 211ms\n",
      "10:\tlearn: 3694.5247578\ttotal: 116ms\tremaining: 201ms\n",
      "11:\tlearn: 3651.7419034\ttotal: 127ms\tremaining: 191ms\n",
      "12:\tlearn: 3611.8270831\ttotal: 138ms\tremaining: 180ms\n",
      "13:\tlearn: 3574.0950544\ttotal: 148ms\tremaining: 169ms\n",
      "14:\tlearn: 3539.9799049\ttotal: 159ms\tremaining: 159ms\n",
      "15:\tlearn: 3505.5061090\ttotal: 171ms\tremaining: 149ms\n",
      "16:\tlearn: 3475.8351509\ttotal: 182ms\tremaining: 140ms\n",
      "17:\tlearn: 3445.8371321\ttotal: 194ms\tremaining: 129ms\n",
      "18:\tlearn: 3418.7815078\ttotal: 206ms\tremaining: 119ms\n",
      "19:\tlearn: 3392.8155503\ttotal: 216ms\tremaining: 108ms\n",
      "20:\tlearn: 3367.0218047\ttotal: 227ms\tremaining: 97.5ms\n",
      "21:\tlearn: 3344.4930408\ttotal: 239ms\tremaining: 86.9ms\n",
      "22:\tlearn: 3321.1706230\ttotal: 251ms\tremaining: 76.2ms\n",
      "23:\tlearn: 3298.4451356\ttotal: 261ms\tremaining: 65.3ms\n",
      "24:\tlearn: 3278.0809830\ttotal: 272ms\tremaining: 54.5ms\n",
      "25:\tlearn: 3258.8640878\ttotal: 284ms\tremaining: 43.6ms\n",
      "26:\tlearn: 3239.2858725\ttotal: 295ms\tremaining: 32.8ms\n",
      "27:\tlearn: 3219.8832266\ttotal: 306ms\tremaining: 21.9ms\n",
      "28:\tlearn: 3202.3439834\ttotal: 317ms\tremaining: 10.9ms\n",
      "29:\tlearn: 3184.4522734\ttotal: 328ms\tremaining: 0us\n",
      "0:\tlearn: 4489.6993830\ttotal: 14.7ms\tremaining: 132ms\n",
      "1:\tlearn: 4469.7460824\ttotal: 27.2ms\tremaining: 109ms\n",
      "2:\tlearn: 4450.0082928\ttotal: 39.3ms\tremaining: 91.7ms\n",
      "3:\tlearn: 4430.5779271\ttotal: 51.5ms\tremaining: 77.3ms\n",
      "4:\tlearn: 4411.9226305\ttotal: 64.5ms\tremaining: 64.5ms\n",
      "5:\tlearn: 4393.1398853\ttotal: 77.6ms\tremaining: 51.7ms\n",
      "6:\tlearn: 4374.6500203\ttotal: 90.9ms\tremaining: 39ms\n",
      "7:\tlearn: 4356.6984955\ttotal: 104ms\tremaining: 26.1ms\n",
      "8:\tlearn: 4338.6252538\ttotal: 117ms\tremaining: 13ms\n",
      "9:\tlearn: 4320.9332975\ttotal: 130ms\tremaining: 0us\n",
      "0:\tlearn: 4495.3049070\ttotal: 14.2ms\tremaining: 128ms\n",
      "1:\tlearn: 4475.3093121\ttotal: 26.9ms\tremaining: 108ms\n",
      "2:\tlearn: 4455.6672349\ttotal: 39.3ms\tremaining: 91.6ms\n",
      "3:\tlearn: 4436.4285488\ttotal: 51.1ms\tremaining: 76.7ms\n",
      "4:\tlearn: 4417.4462092\ttotal: 64.6ms\tremaining: 64.6ms\n",
      "5:\tlearn: 4398.4294341\ttotal: 77.3ms\tremaining: 51.5ms\n",
      "6:\tlearn: 4379.8350193\ttotal: 90.7ms\tremaining: 38.9ms\n",
      "7:\tlearn: 4361.7372733\ttotal: 104ms\tremaining: 26ms\n",
      "8:\tlearn: 4343.6463898\ttotal: 117ms\tremaining: 13ms\n",
      "9:\tlearn: 4325.6980582\ttotal: 129ms\tremaining: 0us\n",
      "0:\tlearn: 4499.6943130\ttotal: 13.2ms\tremaining: 119ms\n",
      "1:\tlearn: 4479.6580509\ttotal: 25.1ms\tremaining: 100ms\n",
      "2:\tlearn: 4459.9331315\ttotal: 37.3ms\tremaining: 87.1ms\n",
      "3:\tlearn: 4440.5855465\ttotal: 49.6ms\tremaining: 74.5ms\n",
      "4:\tlearn: 4421.5107567\ttotal: 61.6ms\tremaining: 61.6ms\n",
      "5:\tlearn: 4402.8654435\ttotal: 73.9ms\tremaining: 49.3ms\n",
      "6:\tlearn: 4384.3376424\ttotal: 86.6ms\tremaining: 37.1ms\n",
      "7:\tlearn: 4365.9600102\ttotal: 99.4ms\tremaining: 24.9ms\n",
      "8:\tlearn: 4348.0469841\ttotal: 111ms\tremaining: 12.4ms\n",
      "9:\tlearn: 4330.2655267\ttotal: 123ms\tremaining: 0us\n",
      "0:\tlearn: 4504.8811149\ttotal: 13.9ms\tremaining: 126ms\n",
      "1:\tlearn: 4485.2770358\ttotal: 26.6ms\tremaining: 107ms\n",
      "2:\tlearn: 4465.6779977\ttotal: 40.3ms\tremaining: 94ms\n",
      "3:\tlearn: 4446.5516516\ttotal: 53.5ms\tremaining: 80.2ms\n",
      "4:\tlearn: 4427.3188605\ttotal: 66.2ms\tremaining: 66.2ms\n",
      "5:\tlearn: 4408.4149248\ttotal: 79.1ms\tremaining: 52.7ms\n",
      "6:\tlearn: 4389.9156879\ttotal: 91.5ms\tremaining: 39.2ms\n",
      "7:\tlearn: 4371.7136818\ttotal: 104ms\tremaining: 26.1ms\n",
      "8:\tlearn: 4353.7661694\ttotal: 117ms\tremaining: 13ms\n",
      "9:\tlearn: 4336.0037877\ttotal: 130ms\tremaining: 0us\n",
      "0:\tlearn: 4409.8126920\ttotal: 14.6ms\tremaining: 131ms\n",
      "1:\tlearn: 4318.4078836\ttotal: 27ms\tremaining: 108ms\n",
      "2:\tlearn: 4231.7265128\ttotal: 40.1ms\tremaining: 93.6ms\n",
      "3:\tlearn: 4151.4494275\ttotal: 53.3ms\tremaining: 79.9ms\n",
      "4:\tlearn: 4077.5632033\ttotal: 65.7ms\tremaining: 65.7ms\n",
      "5:\tlearn: 4008.3434998\ttotal: 79.2ms\tremaining: 52.8ms\n",
      "6:\tlearn: 3943.1877071\ttotal: 92.7ms\tremaining: 39.7ms\n",
      "7:\tlearn: 3881.4827843\ttotal: 107ms\tremaining: 26.8ms\n",
      "8:\tlearn: 3825.5800771\ttotal: 121ms\tremaining: 13.4ms\n",
      "9:\tlearn: 3765.2959479\ttotal: 135ms\tremaining: 0us\n",
      "0:\tlearn: 4414.9074006\ttotal: 15.5ms\tremaining: 139ms\n",
      "1:\tlearn: 4321.8697385\ttotal: 29ms\tremaining: 116ms\n",
      "2:\tlearn: 4236.4751464\ttotal: 42.5ms\tremaining: 99.1ms\n",
      "3:\tlearn: 4156.3766090\ttotal: 56.5ms\tremaining: 84.7ms\n",
      "4:\tlearn: 4082.7365165\ttotal: 70.3ms\tremaining: 70.3ms\n",
      "5:\tlearn: 4011.9070819\ttotal: 83.7ms\tremaining: 55.8ms\n",
      "6:\tlearn: 3944.6883012\ttotal: 97ms\tremaining: 41.6ms\n",
      "7:\tlearn: 3883.4961325\ttotal: 110ms\tremaining: 27.6ms\n",
      "8:\tlearn: 3827.4810657\ttotal: 125ms\tremaining: 13.8ms\n",
      "9:\tlearn: 3770.9005310\ttotal: 138ms\tremaining: 0us\n",
      "0:\tlearn: 4421.1083817\ttotal: 14.6ms\tremaining: 132ms\n",
      "1:\tlearn: 4327.6777972\ttotal: 28.1ms\tremaining: 113ms\n",
      "2:\tlearn: 4240.3413178\ttotal: 41.6ms\tremaining: 97ms\n",
      "3:\tlearn: 4160.2621451\ttotal: 54.8ms\tremaining: 82.2ms\n",
      "4:\tlearn: 4085.3853606\ttotal: 68.6ms\tremaining: 68.6ms\n",
      "5:\tlearn: 4015.7708618\ttotal: 83.1ms\tremaining: 55.4ms\n",
      "6:\tlearn: 3949.8316527\ttotal: 97ms\tremaining: 41.6ms\n",
      "7:\tlearn: 3889.6539302\ttotal: 111ms\tremaining: 27.7ms\n",
      "8:\tlearn: 3826.5986809\ttotal: 125ms\tremaining: 13.9ms\n",
      "9:\tlearn: 3772.1179037\ttotal: 140ms\tremaining: 0us\n",
      "0:\tlearn: 4424.5498215\ttotal: 14.7ms\tremaining: 132ms\n",
      "1:\tlearn: 4332.9372480\ttotal: 28ms\tremaining: 112ms\n",
      "2:\tlearn: 4247.1355178\ttotal: 41.2ms\tremaining: 96ms\n",
      "3:\tlearn: 4167.2069491\ttotal: 54.6ms\tremaining: 81.9ms\n",
      "4:\tlearn: 4091.9197650\ttotal: 67.9ms\tremaining: 67.9ms\n",
      "5:\tlearn: 4021.0092770\ttotal: 81.4ms\tremaining: 54.3ms\n",
      "6:\tlearn: 3956.0172553\ttotal: 95ms\tremaining: 40.7ms\n",
      "7:\tlearn: 3896.3645194\ttotal: 109ms\tremaining: 27.3ms\n",
      "8:\tlearn: 3837.5824279\ttotal: 123ms\tremaining: 13.7ms\n",
      "9:\tlearn: 3779.1417235\ttotal: 138ms\tremaining: 0us\n",
      "0:\tlearn: 4312.6536360\ttotal: 15.9ms\tremaining: 143ms\n",
      "1:\tlearn: 4145.5546714\ttotal: 28.9ms\tremaining: 116ms\n",
      "2:\tlearn: 3994.9485701\ttotal: 41.6ms\tremaining: 97.1ms\n",
      "3:\tlearn: 3868.6367832\ttotal: 55.4ms\tremaining: 83.1ms\n",
      "4:\tlearn: 3746.2017672\ttotal: 69.7ms\tremaining: 69.7ms\n",
      "5:\tlearn: 3645.2253480\ttotal: 83.6ms\tremaining: 55.7ms\n",
      "6:\tlearn: 3557.9768214\ttotal: 98.2ms\tremaining: 42.1ms\n",
      "7:\tlearn: 3482.9941857\ttotal: 112ms\tremaining: 28.1ms\n",
      "8:\tlearn: 3404.5078994\ttotal: 127ms\tremaining: 14.1ms\n",
      "9:\tlearn: 3327.1122394\ttotal: 141ms\tremaining: 0us\n",
      "0:\tlearn: 4317.1166742\ttotal: 14.4ms\tremaining: 130ms\n",
      "1:\tlearn: 4149.0130549\ttotal: 27.6ms\tremaining: 110ms\n",
      "2:\tlearn: 4001.6870304\ttotal: 40.6ms\tremaining: 94.8ms\n",
      "3:\tlearn: 3873.0672699\ttotal: 54.3ms\tremaining: 81.4ms\n",
      "4:\tlearn: 3765.0590428\ttotal: 68ms\tremaining: 68ms\n",
      "5:\tlearn: 3652.1662947\ttotal: 81.7ms\tremaining: 54.5ms\n",
      "6:\tlearn: 3563.3662470\ttotal: 95.5ms\tremaining: 40.9ms\n",
      "7:\tlearn: 3474.8339827\ttotal: 109ms\tremaining: 27.4ms\n",
      "8:\tlearn: 3405.9682966\ttotal: 123ms\tremaining: 13.7ms\n",
      "9:\tlearn: 3328.3282564\ttotal: 136ms\tremaining: 0us\n",
      "0:\tlearn: 4325.5678992\ttotal: 15.1ms\tremaining: 136ms\n",
      "1:\tlearn: 4153.8621785\ttotal: 28.5ms\tremaining: 114ms\n",
      "2:\tlearn: 4004.2415143\ttotal: 41.9ms\tremaining: 97.8ms\n",
      "3:\tlearn: 3880.6947420\ttotal: 55.6ms\tremaining: 83.4ms\n",
      "4:\tlearn: 3757.4609310\ttotal: 69.1ms\tremaining: 69.1ms\n",
      "5:\tlearn: 3656.9607569\ttotal: 83ms\tremaining: 55.3ms\n",
      "6:\tlearn: 3561.2094065\ttotal: 96.5ms\tremaining: 41.4ms\n",
      "7:\tlearn: 3480.2352041\ttotal: 110ms\tremaining: 27.4ms\n",
      "8:\tlearn: 3397.7176789\ttotal: 123ms\tremaining: 13.7ms\n",
      "9:\tlearn: 3333.1405489\ttotal: 138ms\tremaining: 0us\n",
      "0:\tlearn: 4326.8456188\ttotal: 15.3ms\tremaining: 138ms\n",
      "1:\tlearn: 4158.9475784\ttotal: 27.8ms\tremaining: 111ms\n",
      "2:\tlearn: 4008.0720267\ttotal: 42.5ms\tremaining: 99.2ms\n",
      "3:\tlearn: 3881.5546157\ttotal: 56.6ms\tremaining: 85ms\n",
      "4:\tlearn: 3766.8609582\ttotal: 70.6ms\tremaining: 70.6ms\n",
      "5:\tlearn: 3661.0510194\ttotal: 84.4ms\tremaining: 56.3ms\n",
      "6:\tlearn: 3571.9737002\ttotal: 98.9ms\tremaining: 42.4ms\n",
      "7:\tlearn: 3482.9343172\ttotal: 114ms\tremaining: 28.4ms\n",
      "8:\tlearn: 3414.3467719\ttotal: 128ms\tremaining: 14.2ms\n",
      "9:\tlearn: 3339.1428884\ttotal: 141ms\tremaining: 0us\n",
      "0:\tlearn: 4489.6993830\ttotal: 14.1ms\tremaining: 268ms\n",
      "1:\tlearn: 4469.7460824\ttotal: 26.8ms\tremaining: 241ms\n",
      "2:\tlearn: 4450.0082928\ttotal: 39.9ms\tremaining: 226ms\n",
      "3:\tlearn: 4430.5779271\ttotal: 54.5ms\tremaining: 218ms\n",
      "4:\tlearn: 4411.9226305\ttotal: 67.6ms\tremaining: 203ms\n",
      "5:\tlearn: 4393.1398853\ttotal: 81.3ms\tremaining: 190ms\n",
      "6:\tlearn: 4374.6500203\ttotal: 94.6ms\tremaining: 176ms\n",
      "7:\tlearn: 4356.6984955\ttotal: 108ms\tremaining: 162ms\n",
      "8:\tlearn: 4338.6252538\ttotal: 122ms\tremaining: 149ms\n",
      "9:\tlearn: 4320.9332975\ttotal: 136ms\tremaining: 136ms\n",
      "10:\tlearn: 4303.4784842\ttotal: 149ms\tremaining: 122ms\n",
      "11:\tlearn: 4286.4045350\ttotal: 163ms\tremaining: 109ms\n",
      "12:\tlearn: 4269.4596810\ttotal: 178ms\tremaining: 95.7ms\n",
      "13:\tlearn: 4252.7567068\ttotal: 192ms\tremaining: 82.2ms\n",
      "14:\tlearn: 4236.4451999\ttotal: 206ms\tremaining: 68.6ms\n",
      "15:\tlearn: 4220.3856958\ttotal: 221ms\tremaining: 55.2ms\n",
      "16:\tlearn: 4204.3990426\ttotal: 234ms\tremaining: 41.3ms\n",
      "17:\tlearn: 4188.6925862\ttotal: 249ms\tremaining: 27.6ms\n",
      "18:\tlearn: 4173.4380635\ttotal: 262ms\tremaining: 13.8ms\n",
      "19:\tlearn: 4158.5119521\ttotal: 276ms\tremaining: 0us\n",
      "0:\tlearn: 4495.3049070\ttotal: 14.3ms\tremaining: 272ms\n",
      "1:\tlearn: 4475.3093121\ttotal: 27.9ms\tremaining: 251ms\n",
      "2:\tlearn: 4455.6672349\ttotal: 41.1ms\tremaining: 233ms\n",
      "3:\tlearn: 4436.4285488\ttotal: 54.1ms\tremaining: 216ms\n",
      "4:\tlearn: 4417.4462092\ttotal: 68.1ms\tremaining: 204ms\n",
      "5:\tlearn: 4398.4294341\ttotal: 81.7ms\tremaining: 191ms\n",
      "6:\tlearn: 4379.8350193\ttotal: 95.8ms\tremaining: 178ms\n",
      "7:\tlearn: 4361.7372733\ttotal: 110ms\tremaining: 164ms\n",
      "8:\tlearn: 4343.6463898\ttotal: 123ms\tremaining: 151ms\n",
      "9:\tlearn: 4325.6980582\ttotal: 137ms\tremaining: 137ms\n",
      "10:\tlearn: 4308.2060004\ttotal: 150ms\tremaining: 123ms\n",
      "11:\tlearn: 4291.0871925\ttotal: 164ms\tremaining: 109ms\n",
      "12:\tlearn: 4274.0656060\ttotal: 178ms\tremaining: 95.6ms\n",
      "13:\tlearn: 4257.1973327\ttotal: 191ms\tremaining: 81.7ms\n",
      "14:\tlearn: 4240.5203918\ttotal: 204ms\tremaining: 68ms\n",
      "15:\tlearn: 4224.3664885\ttotal: 218ms\tremaining: 54.4ms\n",
      "16:\tlearn: 4208.2338278\ttotal: 231ms\tremaining: 40.8ms\n",
      "17:\tlearn: 4192.4231820\ttotal: 245ms\tremaining: 27.2ms\n",
      "18:\tlearn: 4176.6160588\ttotal: 259ms\tremaining: 13.6ms\n",
      "19:\tlearn: 4161.0651843\ttotal: 273ms\tremaining: 0us\n",
      "0:\tlearn: 4499.6943130\ttotal: 15ms\tremaining: 285ms\n",
      "1:\tlearn: 4479.6580509\ttotal: 27.9ms\tremaining: 251ms\n",
      "2:\tlearn: 4459.9331315\ttotal: 40.8ms\tremaining: 231ms\n",
      "3:\tlearn: 4440.5855465\ttotal: 53.7ms\tremaining: 215ms\n",
      "4:\tlearn: 4421.5107567\ttotal: 67.1ms\tremaining: 201ms\n",
      "5:\tlearn: 4402.8654435\ttotal: 80.7ms\tremaining: 188ms\n",
      "6:\tlearn: 4384.3376424\ttotal: 94.6ms\tremaining: 176ms\n",
      "7:\tlearn: 4365.9600102\ttotal: 108ms\tremaining: 163ms\n",
      "8:\tlearn: 4348.0469841\ttotal: 123ms\tremaining: 150ms\n",
      "9:\tlearn: 4330.2655267\ttotal: 136ms\tremaining: 136ms\n",
      "10:\tlearn: 4312.7862749\ttotal: 150ms\tremaining: 123ms\n",
      "11:\tlearn: 4295.4370997\ttotal: 164ms\tremaining: 109ms\n",
      "12:\tlearn: 4278.3648803\ttotal: 178ms\tremaining: 95.9ms\n",
      "13:\tlearn: 4261.5684698\ttotal: 192ms\tremaining: 82.2ms\n",
      "14:\tlearn: 4245.0424677\ttotal: 206ms\tremaining: 68.8ms\n",
      "15:\tlearn: 4228.7155231\ttotal: 221ms\tremaining: 55.3ms\n",
      "16:\tlearn: 4212.7114854\ttotal: 234ms\tremaining: 41.3ms\n",
      "17:\tlearn: 4196.9261927\ttotal: 248ms\tremaining: 27.5ms\n",
      "18:\tlearn: 4181.1959473\ttotal: 262ms\tremaining: 13.8ms\n",
      "19:\tlearn: 4165.6761531\ttotal: 275ms\tremaining: 0us\n",
      "0:\tlearn: 4504.8811149\ttotal: 14.8ms\tremaining: 282ms\n",
      "1:\tlearn: 4485.2770358\ttotal: 28ms\tremaining: 252ms\n",
      "2:\tlearn: 4465.6779977\ttotal: 41.4ms\tremaining: 234ms\n",
      "3:\tlearn: 4446.5516516\ttotal: 54.3ms\tremaining: 217ms\n",
      "4:\tlearn: 4427.3188605\ttotal: 67.1ms\tremaining: 201ms\n",
      "5:\tlearn: 4408.4149248\ttotal: 80.5ms\tremaining: 188ms\n",
      "6:\tlearn: 4389.9156879\ttotal: 94.1ms\tremaining: 175ms\n",
      "7:\tlearn: 4371.7136818\ttotal: 107ms\tremaining: 161ms\n",
      "8:\tlearn: 4353.7661694\ttotal: 120ms\tremaining: 147ms\n",
      "9:\tlearn: 4336.0037877\ttotal: 134ms\tremaining: 134ms\n",
      "10:\tlearn: 4318.3968024\ttotal: 148ms\tremaining: 121ms\n",
      "11:\tlearn: 4301.2804440\ttotal: 161ms\tremaining: 108ms\n",
      "12:\tlearn: 4284.3731321\ttotal: 175ms\tremaining: 94.5ms\n",
      "13:\tlearn: 4267.7372582\ttotal: 189ms\tremaining: 81ms\n",
      "14:\tlearn: 4251.1929750\ttotal: 203ms\tremaining: 67.6ms\n",
      "15:\tlearn: 4234.7995256\ttotal: 217ms\tremaining: 54.4ms\n",
      "16:\tlearn: 4218.7633709\ttotal: 231ms\tremaining: 40.8ms\n",
      "17:\tlearn: 4202.8720885\ttotal: 246ms\tremaining: 27.3ms\n",
      "18:\tlearn: 4187.2518454\ttotal: 259ms\tremaining: 13.6ms\n",
      "19:\tlearn: 4171.8856695\ttotal: 273ms\tremaining: 0us\n",
      "0:\tlearn: 4409.8126920\ttotal: 14.1ms\tremaining: 267ms\n",
      "1:\tlearn: 4318.4078836\ttotal: 26.9ms\tremaining: 242ms\n",
      "2:\tlearn: 4231.7265128\ttotal: 41.1ms\tremaining: 233ms\n",
      "3:\tlearn: 4151.4494275\ttotal: 55.5ms\tremaining: 222ms\n",
      "4:\tlearn: 4077.5632033\ttotal: 68.1ms\tremaining: 204ms\n",
      "5:\tlearn: 4008.3434998\ttotal: 81.2ms\tremaining: 190ms\n",
      "6:\tlearn: 3943.1877071\ttotal: 94.6ms\tremaining: 176ms\n",
      "7:\tlearn: 3881.4827843\ttotal: 108ms\tremaining: 162ms\n",
      "8:\tlearn: 3825.5800771\ttotal: 121ms\tremaining: 148ms\n",
      "9:\tlearn: 3765.2959479\ttotal: 135ms\tremaining: 135ms\n",
      "10:\tlearn: 3715.4253608\ttotal: 149ms\tremaining: 122ms\n",
      "11:\tlearn: 3661.9789123\ttotal: 162ms\tremaining: 108ms\n",
      "12:\tlearn: 3616.5997367\ttotal: 176ms\tremaining: 94.6ms\n",
      "13:\tlearn: 3569.1152544\ttotal: 190ms\tremaining: 81.2ms\n",
      "14:\tlearn: 3529.0859331\ttotal: 203ms\tremaining: 67.6ms\n",
      "15:\tlearn: 3492.3593921\ttotal: 217ms\tremaining: 54.3ms\n",
      "16:\tlearn: 3452.5529690\ttotal: 232ms\tremaining: 40.9ms\n",
      "17:\tlearn: 3418.8718122\ttotal: 246ms\tremaining: 27.3ms\n",
      "18:\tlearn: 3378.1358207\ttotal: 259ms\tremaining: 13.7ms\n",
      "19:\tlearn: 3339.1847210\ttotal: 273ms\tremaining: 0us\n",
      "0:\tlearn: 4414.9074006\ttotal: 13.9ms\tremaining: 263ms\n",
      "1:\tlearn: 4321.8697385\ttotal: 26.6ms\tremaining: 239ms\n",
      "2:\tlearn: 4236.4751464\ttotal: 39.3ms\tremaining: 223ms\n",
      "3:\tlearn: 4156.3766090\ttotal: 52.2ms\tremaining: 209ms\n",
      "4:\tlearn: 4082.7365165\ttotal: 65.2ms\tremaining: 196ms\n",
      "5:\tlearn: 4011.9070819\ttotal: 78.2ms\tremaining: 183ms\n",
      "6:\tlearn: 3944.6883012\ttotal: 91.5ms\tremaining: 170ms\n",
      "7:\tlearn: 3883.4961325\ttotal: 105ms\tremaining: 157ms\n",
      "8:\tlearn: 3827.4810657\ttotal: 118ms\tremaining: 145ms\n",
      "9:\tlearn: 3770.9005310\ttotal: 131ms\tremaining: 131ms\n",
      "10:\tlearn: 3714.6304178\ttotal: 145ms\tremaining: 118ms\n",
      "11:\tlearn: 3667.3385273\ttotal: 159ms\tremaining: 106ms\n",
      "12:\tlearn: 3617.5371767\ttotal: 172ms\tremaining: 92.4ms\n",
      "13:\tlearn: 3574.3802043\ttotal: 185ms\tremaining: 79.4ms\n",
      "14:\tlearn: 3530.2035310\ttotal: 199ms\tremaining: 66.4ms\n",
      "15:\tlearn: 3490.8544446\ttotal: 213ms\tremaining: 53.3ms\n",
      "16:\tlearn: 3451.0659620\ttotal: 227ms\tremaining: 40.1ms\n",
      "17:\tlearn: 3409.6817869\ttotal: 241ms\tremaining: 26.8ms\n",
      "18:\tlearn: 3371.4271666\ttotal: 254ms\tremaining: 13.4ms\n",
      "19:\tlearn: 3337.2347314\ttotal: 267ms\tremaining: 0us\n",
      "0:\tlearn: 4421.1083817\ttotal: 13.6ms\tremaining: 258ms\n",
      "1:\tlearn: 4327.6777972\ttotal: 26.5ms\tremaining: 238ms\n",
      "2:\tlearn: 4240.3413178\ttotal: 38.6ms\tremaining: 219ms\n",
      "3:\tlearn: 4160.2621451\ttotal: 52ms\tremaining: 208ms\n",
      "4:\tlearn: 4085.3853606\ttotal: 65.5ms\tremaining: 196ms\n",
      "5:\tlearn: 4015.7708618\ttotal: 79.3ms\tremaining: 185ms\n",
      "6:\tlearn: 3949.8316527\ttotal: 93ms\tremaining: 173ms\n",
      "7:\tlearn: 3889.6539302\ttotal: 106ms\tremaining: 159ms\n",
      "8:\tlearn: 3826.5986809\ttotal: 120ms\tremaining: 146ms\n",
      "9:\tlearn: 3772.1179037\ttotal: 134ms\tremaining: 134ms\n",
      "10:\tlearn: 3721.5292652\ttotal: 147ms\tremaining: 120ms\n",
      "11:\tlearn: 3673.8089461\ttotal: 160ms\tremaining: 107ms\n",
      "12:\tlearn: 3623.5094760\ttotal: 174ms\tremaining: 93.8ms\n",
      "13:\tlearn: 3577.2569793\ttotal: 188ms\tremaining: 80.6ms\n",
      "14:\tlearn: 3537.0440610\ttotal: 201ms\tremaining: 67.1ms\n",
      "15:\tlearn: 3494.6182826\ttotal: 215ms\tremaining: 53.8ms\n",
      "16:\tlearn: 3452.2994728\ttotal: 229ms\tremaining: 40.3ms\n",
      "17:\tlearn: 3418.0543495\ttotal: 242ms\tremaining: 26.9ms\n",
      "18:\tlearn: 3377.5048878\ttotal: 256ms\tremaining: 13.5ms\n",
      "19:\tlearn: 3340.9415231\ttotal: 269ms\tremaining: 0us\n",
      "0:\tlearn: 4424.5498215\ttotal: 13.8ms\tremaining: 261ms\n",
      "1:\tlearn: 4332.9372480\ttotal: 26.6ms\tremaining: 239ms\n",
      "2:\tlearn: 4247.1355178\ttotal: 39.4ms\tremaining: 223ms\n",
      "3:\tlearn: 4167.2069491\ttotal: 52.6ms\tremaining: 211ms\n",
      "4:\tlearn: 4091.9197650\ttotal: 66.4ms\tremaining: 199ms\n",
      "5:\tlearn: 4021.0092770\ttotal: 79ms\tremaining: 184ms\n",
      "6:\tlearn: 3956.0172553\ttotal: 92.5ms\tremaining: 172ms\n",
      "7:\tlearn: 3896.3645194\ttotal: 107ms\tremaining: 160ms\n",
      "8:\tlearn: 3837.5824279\ttotal: 120ms\tremaining: 147ms\n",
      "9:\tlearn: 3779.1417235\ttotal: 134ms\tremaining: 134ms\n",
      "10:\tlearn: 3727.3323053\ttotal: 148ms\tremaining: 121ms\n",
      "11:\tlearn: 3678.9647421\ttotal: 162ms\tremaining: 108ms\n",
      "12:\tlearn: 3635.0037974\ttotal: 177ms\tremaining: 95.2ms\n",
      "13:\tlearn: 3586.2717632\ttotal: 191ms\tremaining: 81.9ms\n",
      "14:\tlearn: 3541.7149894\ttotal: 205ms\tremaining: 68.4ms\n",
      "15:\tlearn: 3497.5755397\ttotal: 219ms\tremaining: 54.7ms\n",
      "16:\tlearn: 3455.3452206\ttotal: 232ms\tremaining: 41ms\n",
      "17:\tlearn: 3419.9497671\ttotal: 246ms\tremaining: 27.4ms\n",
      "18:\tlearn: 3386.0823492\ttotal: 260ms\tremaining: 13.7ms\n",
      "19:\tlearn: 3351.8715980\ttotal: 276ms\tremaining: 0us\n",
      "0:\tlearn: 4312.6536360\ttotal: 14.3ms\tremaining: 272ms\n",
      "1:\tlearn: 4145.5546714\ttotal: 26.6ms\tremaining: 239ms\n",
      "2:\tlearn: 3994.9485701\ttotal: 39.3ms\tremaining: 222ms\n",
      "3:\tlearn: 3868.6367832\ttotal: 52.7ms\tremaining: 211ms\n",
      "4:\tlearn: 3746.2017672\ttotal: 66.3ms\tremaining: 199ms\n",
      "5:\tlearn: 3645.2253480\ttotal: 80.4ms\tremaining: 188ms\n",
      "6:\tlearn: 3557.9768214\ttotal: 94.2ms\tremaining: 175ms\n",
      "7:\tlearn: 3482.9941857\ttotal: 108ms\tremaining: 162ms\n",
      "8:\tlearn: 3404.5078994\ttotal: 123ms\tremaining: 150ms\n",
      "9:\tlearn: 3327.1122394\ttotal: 137ms\tremaining: 137ms\n",
      "10:\tlearn: 3258.3523243\ttotal: 150ms\tremaining: 123ms\n",
      "11:\tlearn: 3198.3352862\ttotal: 164ms\tremaining: 109ms\n",
      "12:\tlearn: 3146.8043472\ttotal: 177ms\tremaining: 95.4ms\n",
      "13:\tlearn: 3090.9914840\ttotal: 191ms\tremaining: 81.9ms\n",
      "14:\tlearn: 3049.6004397\ttotal: 205ms\tremaining: 68.4ms\n",
      "15:\tlearn: 3006.6581395\ttotal: 220ms\tremaining: 55ms\n",
      "16:\tlearn: 2973.4619511\ttotal: 233ms\tremaining: 41.2ms\n",
      "17:\tlearn: 2941.6700079\ttotal: 247ms\tremaining: 27.4ms\n",
      "18:\tlearn: 2912.5259169\ttotal: 261ms\tremaining: 13.7ms\n",
      "19:\tlearn: 2882.5122672\ttotal: 273ms\tremaining: 0us\n",
      "0:\tlearn: 4317.1166742\ttotal: 14.9ms\tremaining: 283ms\n",
      "1:\tlearn: 4149.0130549\ttotal: 28.7ms\tremaining: 258ms\n",
      "2:\tlearn: 4001.6870304\ttotal: 42.5ms\tremaining: 241ms\n",
      "3:\tlearn: 3873.0672699\ttotal: 56ms\tremaining: 224ms\n",
      "4:\tlearn: 3765.0590428\ttotal: 69.8ms\tremaining: 209ms\n",
      "5:\tlearn: 3652.1662947\ttotal: 83ms\tremaining: 194ms\n",
      "6:\tlearn: 3563.3662470\ttotal: 96.8ms\tremaining: 180ms\n",
      "7:\tlearn: 3474.8339827\ttotal: 111ms\tremaining: 167ms\n",
      "8:\tlearn: 3405.9682966\ttotal: 125ms\tremaining: 153ms\n",
      "9:\tlearn: 3328.3282564\ttotal: 138ms\tremaining: 138ms\n",
      "10:\tlearn: 3255.1037325\ttotal: 152ms\tremaining: 124ms\n",
      "11:\tlearn: 3195.9363331\ttotal: 165ms\tremaining: 110ms\n",
      "12:\tlearn: 3149.9693895\ttotal: 179ms\tremaining: 96.2ms\n",
      "13:\tlearn: 3102.6305035\ttotal: 192ms\tremaining: 82.4ms\n",
      "14:\tlearn: 3055.6974355\ttotal: 206ms\tremaining: 68.6ms\n",
      "15:\tlearn: 3005.8748093\ttotal: 220ms\tremaining: 54.9ms\n",
      "16:\tlearn: 2970.8619693\ttotal: 232ms\tremaining: 41ms\n",
      "17:\tlearn: 2940.7877982\ttotal: 246ms\tremaining: 27.3ms\n",
      "18:\tlearn: 2907.1514740\ttotal: 260ms\tremaining: 13.7ms\n",
      "19:\tlearn: 2879.8022834\ttotal: 274ms\tremaining: 0us\n",
      "0:\tlearn: 4325.5678992\ttotal: 14.4ms\tremaining: 274ms\n",
      "1:\tlearn: 4153.8621785\ttotal: 27.6ms\tremaining: 249ms\n",
      "2:\tlearn: 4004.2415143\ttotal: 40.4ms\tremaining: 229ms\n",
      "3:\tlearn: 3880.6947420\ttotal: 53.1ms\tremaining: 212ms\n",
      "4:\tlearn: 3757.4609310\ttotal: 66.6ms\tremaining: 200ms\n",
      "5:\tlearn: 3656.9607569\ttotal: 79.8ms\tremaining: 186ms\n",
      "6:\tlearn: 3561.2094065\ttotal: 93.3ms\tremaining: 173ms\n",
      "7:\tlearn: 3480.2352041\ttotal: 107ms\tremaining: 161ms\n",
      "8:\tlearn: 3397.7176789\ttotal: 121ms\tremaining: 148ms\n",
      "9:\tlearn: 3333.1405489\ttotal: 136ms\tremaining: 136ms\n",
      "10:\tlearn: 3267.7055741\ttotal: 149ms\tremaining: 122ms\n",
      "11:\tlearn: 3203.0302661\ttotal: 162ms\tremaining: 108ms\n",
      "12:\tlearn: 3152.7343167\ttotal: 177ms\tremaining: 95.1ms\n",
      "13:\tlearn: 3097.2886382\ttotal: 190ms\tremaining: 81.4ms\n",
      "14:\tlearn: 3054.6090851\ttotal: 203ms\tremaining: 67.6ms\n",
      "15:\tlearn: 3013.6139313\ttotal: 217ms\tremaining: 54.2ms\n",
      "16:\tlearn: 2980.4744469\ttotal: 231ms\tremaining: 40.7ms\n",
      "17:\tlearn: 2942.9601796\ttotal: 245ms\tremaining: 27.2ms\n",
      "18:\tlearn: 2916.5734089\ttotal: 258ms\tremaining: 13.6ms\n",
      "19:\tlearn: 2885.5699539\ttotal: 272ms\tremaining: 0us\n",
      "0:\tlearn: 4326.8456188\ttotal: 14.5ms\tremaining: 276ms\n",
      "1:\tlearn: 4158.9475784\ttotal: 28.1ms\tremaining: 253ms\n",
      "2:\tlearn: 4008.0720267\ttotal: 41ms\tremaining: 232ms\n",
      "3:\tlearn: 3881.5546157\ttotal: 53.6ms\tremaining: 214ms\n",
      "4:\tlearn: 3766.8609582\ttotal: 67.6ms\tremaining: 203ms\n",
      "5:\tlearn: 3661.0510194\ttotal: 81.3ms\tremaining: 190ms\n",
      "6:\tlearn: 3571.9737002\ttotal: 94.8ms\tremaining: 176ms\n",
      "7:\tlearn: 3482.9343172\ttotal: 109ms\tremaining: 164ms\n",
      "8:\tlearn: 3414.3467719\ttotal: 124ms\tremaining: 151ms\n",
      "9:\tlearn: 3339.1428884\ttotal: 137ms\tremaining: 137ms\n",
      "10:\tlearn: 3265.1033958\ttotal: 151ms\tremaining: 124ms\n",
      "11:\tlearn: 3201.0988731\ttotal: 165ms\tremaining: 110ms\n",
      "12:\tlearn: 3154.9637487\ttotal: 179ms\tremaining: 96.5ms\n",
      "13:\tlearn: 3103.5776241\ttotal: 194ms\tremaining: 82.9ms\n",
      "14:\tlearn: 3062.0549524\ttotal: 207ms\tremaining: 69.1ms\n",
      "15:\tlearn: 3021.9810478\ttotal: 222ms\tremaining: 55.5ms\n",
      "16:\tlearn: 2989.0634003\ttotal: 240ms\tremaining: 42.4ms\n",
      "17:\tlearn: 2957.7406182\ttotal: 254ms\tremaining: 28.2ms\n",
      "18:\tlearn: 2928.7031616\ttotal: 267ms\tremaining: 14.1ms\n",
      "19:\tlearn: 2885.2926441\ttotal: 281ms\tremaining: 0us\n",
      "0:\tlearn: 4489.6993830\ttotal: 13.9ms\tremaining: 404ms\n",
      "1:\tlearn: 4469.7460824\ttotal: 27.7ms\tremaining: 387ms\n",
      "2:\tlearn: 4450.0082928\ttotal: 40.7ms\tremaining: 366ms\n",
      "3:\tlearn: 4430.5779271\ttotal: 53.9ms\tremaining: 350ms\n",
      "4:\tlearn: 4411.9226305\ttotal: 67.3ms\tremaining: 337ms\n",
      "5:\tlearn: 4393.1398853\ttotal: 79.6ms\tremaining: 318ms\n",
      "6:\tlearn: 4374.6500203\ttotal: 92.8ms\tremaining: 305ms\n",
      "7:\tlearn: 4356.6984955\ttotal: 106ms\tremaining: 291ms\n",
      "8:\tlearn: 4338.6252538\ttotal: 118ms\tremaining: 276ms\n",
      "9:\tlearn: 4320.9332975\ttotal: 132ms\tremaining: 264ms\n",
      "10:\tlearn: 4303.4784842\ttotal: 145ms\tremaining: 251ms\n",
      "11:\tlearn: 4286.4045350\ttotal: 159ms\tremaining: 238ms\n",
      "12:\tlearn: 4269.4596810\ttotal: 172ms\tremaining: 224ms\n",
      "13:\tlearn: 4252.7567068\ttotal: 185ms\tremaining: 211ms\n",
      "14:\tlearn: 4236.4451999\ttotal: 199ms\tremaining: 199ms\n",
      "15:\tlearn: 4220.3856958\ttotal: 213ms\tremaining: 186ms\n",
      "16:\tlearn: 4204.3990426\ttotal: 226ms\tremaining: 173ms\n",
      "17:\tlearn: 4188.6925862\ttotal: 240ms\tremaining: 160ms\n",
      "18:\tlearn: 4173.4380635\ttotal: 254ms\tremaining: 147ms\n",
      "19:\tlearn: 4158.5119521\ttotal: 267ms\tremaining: 134ms\n",
      "20:\tlearn: 4143.0793481\ttotal: 280ms\tremaining: 120ms\n",
      "21:\tlearn: 4127.9639496\ttotal: 293ms\tremaining: 107ms\n",
      "22:\tlearn: 4113.2726297\ttotal: 306ms\tremaining: 93.2ms\n",
      "23:\tlearn: 4098.7488253\ttotal: 320ms\tremaining: 79.9ms\n",
      "24:\tlearn: 4084.4224974\ttotal: 334ms\tremaining: 66.8ms\n",
      "25:\tlearn: 4070.0957540\ttotal: 348ms\tremaining: 53.6ms\n",
      "26:\tlearn: 4056.1432590\ttotal: 362ms\tremaining: 40.3ms\n",
      "27:\tlearn: 4042.2085607\ttotal: 376ms\tremaining: 26.9ms\n",
      "28:\tlearn: 4028.5557224\ttotal: 391ms\tremaining: 13.5ms\n",
      "29:\tlearn: 4015.3515793\ttotal: 405ms\tremaining: 0us\n",
      "0:\tlearn: 4495.3049070\ttotal: 14.4ms\tremaining: 418ms\n",
      "1:\tlearn: 4475.3093121\ttotal: 27.2ms\tremaining: 381ms\n",
      "2:\tlearn: 4455.6672349\ttotal: 40.3ms\tremaining: 363ms\n",
      "3:\tlearn: 4436.4285488\ttotal: 53.7ms\tremaining: 349ms\n",
      "4:\tlearn: 4417.4462092\ttotal: 67.3ms\tremaining: 336ms\n",
      "5:\tlearn: 4398.4294341\ttotal: 80.5ms\tremaining: 322ms\n",
      "6:\tlearn: 4379.8350193\ttotal: 93.3ms\tremaining: 307ms\n",
      "7:\tlearn: 4361.7372733\ttotal: 107ms\tremaining: 294ms\n",
      "8:\tlearn: 4343.6463898\ttotal: 120ms\tremaining: 279ms\n",
      "9:\tlearn: 4325.6980582\ttotal: 132ms\tremaining: 264ms\n",
      "10:\tlearn: 4308.2060004\ttotal: 145ms\tremaining: 251ms\n",
      "11:\tlearn: 4291.0871925\ttotal: 158ms\tremaining: 238ms\n",
      "12:\tlearn: 4274.0656060\ttotal: 171ms\tremaining: 224ms\n",
      "13:\tlearn: 4257.1973327\ttotal: 185ms\tremaining: 211ms\n",
      "14:\tlearn: 4240.5203918\ttotal: 198ms\tremaining: 198ms\n",
      "15:\tlearn: 4224.3664885\ttotal: 212ms\tremaining: 185ms\n",
      "16:\tlearn: 4208.2338278\ttotal: 226ms\tremaining: 173ms\n",
      "17:\tlearn: 4192.4231820\ttotal: 239ms\tremaining: 160ms\n",
      "18:\tlearn: 4176.6160588\ttotal: 253ms\tremaining: 146ms\n",
      "19:\tlearn: 4161.0651843\ttotal: 266ms\tremaining: 133ms\n",
      "20:\tlearn: 4145.9503839\ttotal: 280ms\tremaining: 120ms\n",
      "21:\tlearn: 4130.7400850\ttotal: 294ms\tremaining: 107ms\n",
      "22:\tlearn: 4115.8981239\ttotal: 309ms\tremaining: 93.9ms\n",
      "23:\tlearn: 4101.1676554\ttotal: 323ms\tremaining: 80.6ms\n",
      "24:\tlearn: 4086.9071254\ttotal: 337ms\tremaining: 67.4ms\n",
      "25:\tlearn: 4072.6080114\ttotal: 351ms\tremaining: 54ms\n",
      "26:\tlearn: 4058.6169521\ttotal: 366ms\tremaining: 40.6ms\n",
      "27:\tlearn: 4044.5723876\ttotal: 380ms\tremaining: 27.1ms\n",
      "28:\tlearn: 4030.6885617\ttotal: 393ms\tremaining: 13.6ms\n",
      "29:\tlearn: 4017.2346353\ttotal: 408ms\tremaining: 0us\n",
      "0:\tlearn: 4499.6943130\ttotal: 14.7ms\tremaining: 426ms\n",
      "1:\tlearn: 4479.6580509\ttotal: 27.1ms\tremaining: 379ms\n",
      "2:\tlearn: 4459.9331315\ttotal: 39.3ms\tremaining: 353ms\n",
      "3:\tlearn: 4440.5855465\ttotal: 52.2ms\tremaining: 339ms\n",
      "4:\tlearn: 4421.5107567\ttotal: 65.2ms\tremaining: 326ms\n",
      "5:\tlearn: 4402.8654435\ttotal: 78.4ms\tremaining: 313ms\n",
      "6:\tlearn: 4384.3376424\ttotal: 91.6ms\tremaining: 301ms\n",
      "7:\tlearn: 4365.9600102\ttotal: 104ms\tremaining: 287ms\n",
      "8:\tlearn: 4348.0469841\ttotal: 117ms\tremaining: 272ms\n",
      "9:\tlearn: 4330.2655267\ttotal: 130ms\tremaining: 259ms\n",
      "10:\tlearn: 4312.7862749\ttotal: 143ms\tremaining: 246ms\n",
      "11:\tlearn: 4295.4370997\ttotal: 155ms\tremaining: 233ms\n",
      "12:\tlearn: 4278.3648803\ttotal: 168ms\tremaining: 220ms\n",
      "13:\tlearn: 4261.5684698\ttotal: 182ms\tremaining: 208ms\n",
      "14:\tlearn: 4245.0424677\ttotal: 195ms\tremaining: 195ms\n",
      "15:\tlearn: 4228.7155231\ttotal: 207ms\tremaining: 181ms\n",
      "16:\tlearn: 4212.7114854\ttotal: 220ms\tremaining: 168ms\n",
      "17:\tlearn: 4196.9261927\ttotal: 233ms\tremaining: 155ms\n",
      "18:\tlearn: 4181.1959473\ttotal: 246ms\tremaining: 142ms\n",
      "19:\tlearn: 4165.6761531\ttotal: 259ms\tremaining: 129ms\n",
      "20:\tlearn: 4150.4422379\ttotal: 272ms\tremaining: 117ms\n",
      "21:\tlearn: 4135.3001510\ttotal: 286ms\tremaining: 104ms\n",
      "22:\tlearn: 4120.6055503\ttotal: 301ms\tremaining: 91.5ms\n",
      "23:\tlearn: 4105.9638623\ttotal: 314ms\tremaining: 78.4ms\n",
      "24:\tlearn: 4091.5818026\ttotal: 327ms\tremaining: 65.3ms\n",
      "25:\tlearn: 4077.4975678\ttotal: 340ms\tremaining: 52.4ms\n",
      "26:\tlearn: 4063.6123979\ttotal: 354ms\tremaining: 39.3ms\n",
      "27:\tlearn: 4049.6750922\ttotal: 367ms\tremaining: 26.2ms\n",
      "28:\tlearn: 4036.0026156\ttotal: 380ms\tremaining: 13.1ms\n",
      "29:\tlearn: 4022.5765836\ttotal: 392ms\tremaining: 0us\n",
      "0:\tlearn: 4504.8811149\ttotal: 14.5ms\tremaining: 421ms\n",
      "1:\tlearn: 4485.2770358\ttotal: 26.6ms\tremaining: 372ms\n",
      "2:\tlearn: 4465.6779977\ttotal: 39.7ms\tremaining: 358ms\n",
      "3:\tlearn: 4446.5516516\ttotal: 52.3ms\tremaining: 340ms\n",
      "4:\tlearn: 4427.3188605\ttotal: 64.5ms\tremaining: 323ms\n",
      "5:\tlearn: 4408.4149248\ttotal: 77.4ms\tremaining: 309ms\n",
      "6:\tlearn: 4389.9156879\ttotal: 90.3ms\tremaining: 297ms\n",
      "7:\tlearn: 4371.7136818\ttotal: 104ms\tremaining: 285ms\n",
      "8:\tlearn: 4353.7661694\ttotal: 116ms\tremaining: 271ms\n",
      "9:\tlearn: 4336.0037877\ttotal: 130ms\tremaining: 260ms\n",
      "10:\tlearn: 4318.3968024\ttotal: 143ms\tremaining: 247ms\n",
      "11:\tlearn: 4301.2804440\ttotal: 156ms\tremaining: 233ms\n",
      "12:\tlearn: 4284.3731321\ttotal: 169ms\tremaining: 221ms\n",
      "13:\tlearn: 4267.7372582\ttotal: 182ms\tremaining: 208ms\n",
      "14:\tlearn: 4251.1929750\ttotal: 195ms\tremaining: 195ms\n",
      "15:\tlearn: 4234.7995256\ttotal: 210ms\tremaining: 183ms\n",
      "16:\tlearn: 4218.7633709\ttotal: 224ms\tremaining: 171ms\n",
      "17:\tlearn: 4202.8720885\ttotal: 237ms\tremaining: 158ms\n",
      "18:\tlearn: 4187.2518454\ttotal: 250ms\tremaining: 145ms\n",
      "19:\tlearn: 4171.8856695\ttotal: 264ms\tremaining: 132ms\n",
      "20:\tlearn: 4156.6869268\ttotal: 277ms\tremaining: 119ms\n",
      "21:\tlearn: 4141.7464098\ttotal: 291ms\tremaining: 106ms\n",
      "22:\tlearn: 4126.8294132\ttotal: 304ms\tremaining: 92.5ms\n",
      "23:\tlearn: 4112.2230722\ttotal: 318ms\tremaining: 79.5ms\n",
      "24:\tlearn: 4097.9977235\ttotal: 333ms\tremaining: 66.6ms\n",
      "25:\tlearn: 4084.0048906\ttotal: 346ms\tremaining: 53.2ms\n",
      "26:\tlearn: 4069.8452079\ttotal: 359ms\tremaining: 39.8ms\n",
      "27:\tlearn: 4056.1687410\ttotal: 372ms\tremaining: 26.6ms\n",
      "28:\tlearn: 4042.8426858\ttotal: 386ms\tremaining: 13.3ms\n",
      "29:\tlearn: 4029.4755153\ttotal: 399ms\tremaining: 0us\n",
      "0:\tlearn: 4409.8126920\ttotal: 14.1ms\tremaining: 409ms\n",
      "1:\tlearn: 4318.4078836\ttotal: 27.8ms\tremaining: 390ms\n",
      "2:\tlearn: 4231.7265128\ttotal: 41.2ms\tremaining: 371ms\n",
      "3:\tlearn: 4151.4494275\ttotal: 54.7ms\tremaining: 356ms\n",
      "4:\tlearn: 4077.5632033\ttotal: 67.8ms\tremaining: 339ms\n",
      "5:\tlearn: 4008.3434998\ttotal: 81.7ms\tremaining: 327ms\n",
      "6:\tlearn: 3943.1877071\ttotal: 95.6ms\tremaining: 314ms\n",
      "7:\tlearn: 3881.4827843\ttotal: 109ms\tremaining: 300ms\n",
      "8:\tlearn: 3825.5800771\ttotal: 123ms\tremaining: 287ms\n",
      "9:\tlearn: 3765.2959479\ttotal: 138ms\tremaining: 276ms\n",
      "10:\tlearn: 3715.4253608\ttotal: 152ms\tremaining: 263ms\n",
      "11:\tlearn: 3661.9789123\ttotal: 166ms\tremaining: 249ms\n",
      "12:\tlearn: 3616.5997367\ttotal: 180ms\tremaining: 235ms\n",
      "13:\tlearn: 3569.1152544\ttotal: 193ms\tremaining: 221ms\n",
      "14:\tlearn: 3529.0859331\ttotal: 207ms\tremaining: 207ms\n",
      "15:\tlearn: 3492.3593921\ttotal: 221ms\tremaining: 193ms\n",
      "16:\tlearn: 3452.5529690\ttotal: 235ms\tremaining: 180ms\n",
      "17:\tlearn: 3418.8718122\ttotal: 250ms\tremaining: 167ms\n",
      "18:\tlearn: 3378.1358207\ttotal: 264ms\tremaining: 153ms\n",
      "19:\tlearn: 3339.1847210\ttotal: 278ms\tremaining: 139ms\n",
      "20:\tlearn: 3303.7448931\ttotal: 292ms\tremaining: 125ms\n",
      "21:\tlearn: 3268.6134745\ttotal: 306ms\tremaining: 111ms\n",
      "22:\tlearn: 3238.2096612\ttotal: 318ms\tremaining: 96.7ms\n",
      "23:\tlearn: 3212.6152447\ttotal: 331ms\tremaining: 82.8ms\n",
      "24:\tlearn: 3186.2919849\ttotal: 345ms\tremaining: 69ms\n",
      "25:\tlearn: 3163.0717005\ttotal: 359ms\tremaining: 55.3ms\n",
      "26:\tlearn: 3133.8989131\ttotal: 373ms\tremaining: 41.5ms\n",
      "27:\tlearn: 3110.1389807\ttotal: 385ms\tremaining: 27.5ms\n",
      "28:\tlearn: 3086.1598936\ttotal: 398ms\tremaining: 13.7ms\n",
      "29:\tlearn: 3065.2234502\ttotal: 411ms\tremaining: 0us\n",
      "0:\tlearn: 4414.9074006\ttotal: 14.3ms\tremaining: 415ms\n",
      "1:\tlearn: 4321.8697385\ttotal: 27.1ms\tremaining: 380ms\n",
      "2:\tlearn: 4236.4751464\ttotal: 40.2ms\tremaining: 362ms\n",
      "3:\tlearn: 4156.3766090\ttotal: 53.3ms\tremaining: 347ms\n",
      "4:\tlearn: 4082.7365165\ttotal: 66.2ms\tremaining: 331ms\n",
      "5:\tlearn: 4011.9070819\ttotal: 78.8ms\tremaining: 315ms\n",
      "6:\tlearn: 3944.6883012\ttotal: 91.2ms\tremaining: 300ms\n",
      "7:\tlearn: 3883.4961325\ttotal: 105ms\tremaining: 289ms\n",
      "8:\tlearn: 3827.4810657\ttotal: 118ms\tremaining: 275ms\n",
      "9:\tlearn: 3770.9005310\ttotal: 131ms\tremaining: 263ms\n",
      "10:\tlearn: 3714.6304178\ttotal: 144ms\tremaining: 249ms\n",
      "11:\tlearn: 3667.3385273\ttotal: 157ms\tremaining: 236ms\n",
      "12:\tlearn: 3617.5371767\ttotal: 170ms\tremaining: 223ms\n",
      "13:\tlearn: 3574.3802043\ttotal: 184ms\tremaining: 210ms\n",
      "14:\tlearn: 3530.2035310\ttotal: 197ms\tremaining: 197ms\n",
      "15:\tlearn: 3490.8544446\ttotal: 211ms\tremaining: 185ms\n",
      "16:\tlearn: 3451.0659620\ttotal: 223ms\tremaining: 171ms\n",
      "17:\tlearn: 3409.6817869\ttotal: 236ms\tremaining: 157ms\n",
      "18:\tlearn: 3371.4271666\ttotal: 249ms\tremaining: 144ms\n",
      "19:\tlearn: 3337.2347314\ttotal: 261ms\tremaining: 131ms\n",
      "20:\tlearn: 3306.6922094\ttotal: 275ms\tremaining: 118ms\n",
      "21:\tlearn: 3272.3190020\ttotal: 288ms\tremaining: 105ms\n",
      "22:\tlearn: 3245.7844601\ttotal: 302ms\tremaining: 91.8ms\n",
      "23:\tlearn: 3215.1262359\ttotal: 315ms\tremaining: 78.7ms\n",
      "24:\tlearn: 3183.1390579\ttotal: 329ms\tremaining: 65.7ms\n",
      "25:\tlearn: 3159.6717788\ttotal: 342ms\tremaining: 52.6ms\n",
      "26:\tlearn: 3136.2305909\ttotal: 355ms\tremaining: 39.5ms\n",
      "27:\tlearn: 3111.2058421\ttotal: 371ms\tremaining: 26.5ms\n",
      "28:\tlearn: 3089.2976213\ttotal: 386ms\tremaining: 13.3ms\n",
      "29:\tlearn: 3066.2547683\ttotal: 399ms\tremaining: 0us\n",
      "0:\tlearn: 4421.1083817\ttotal: 14.6ms\tremaining: 423ms\n",
      "1:\tlearn: 4327.6777972\ttotal: 27.4ms\tremaining: 384ms\n",
      "2:\tlearn: 4240.3413178\ttotal: 40.3ms\tremaining: 363ms\n",
      "3:\tlearn: 4160.2621451\ttotal: 53.1ms\tremaining: 345ms\n",
      "4:\tlearn: 4085.3853606\ttotal: 65.3ms\tremaining: 327ms\n",
      "5:\tlearn: 4015.7708618\ttotal: 78.1ms\tremaining: 312ms\n",
      "6:\tlearn: 3949.8316527\ttotal: 90.7ms\tremaining: 298ms\n",
      "7:\tlearn: 3889.6539302\ttotal: 104ms\tremaining: 286ms\n",
      "8:\tlearn: 3826.5986809\ttotal: 118ms\tremaining: 275ms\n",
      "9:\tlearn: 3772.1179037\ttotal: 131ms\tremaining: 262ms\n",
      "10:\tlearn: 3721.5292652\ttotal: 144ms\tremaining: 248ms\n",
      "11:\tlearn: 3673.8089461\ttotal: 157ms\tremaining: 235ms\n",
      "12:\tlearn: 3623.5094760\ttotal: 170ms\tremaining: 222ms\n",
      "13:\tlearn: 3577.2569793\ttotal: 183ms\tremaining: 209ms\n",
      "14:\tlearn: 3537.0440610\ttotal: 197ms\tremaining: 197ms\n",
      "15:\tlearn: 3494.6182826\ttotal: 212ms\tremaining: 186ms\n",
      "16:\tlearn: 3452.2994728\ttotal: 226ms\tremaining: 173ms\n",
      "17:\tlearn: 3418.0543495\ttotal: 239ms\tremaining: 159ms\n",
      "18:\tlearn: 3377.5048878\ttotal: 253ms\tremaining: 147ms\n",
      "19:\tlearn: 3340.9415231\ttotal: 266ms\tremaining: 133ms\n",
      "20:\tlearn: 3311.9349905\ttotal: 280ms\tremaining: 120ms\n",
      "21:\tlearn: 3276.8189178\ttotal: 294ms\tremaining: 107ms\n",
      "22:\tlearn: 3245.9336302\ttotal: 307ms\tremaining: 93.3ms\n",
      "23:\tlearn: 3218.6341184\ttotal: 320ms\tremaining: 79.9ms\n",
      "24:\tlearn: 3193.6528571\ttotal: 333ms\tremaining: 66.6ms\n",
      "25:\tlearn: 3164.6152301\ttotal: 346ms\tremaining: 53.2ms\n",
      "26:\tlearn: 3140.0020268\ttotal: 358ms\tremaining: 39.8ms\n",
      "27:\tlearn: 3117.7767909\ttotal: 371ms\tremaining: 26.5ms\n",
      "28:\tlearn: 3097.3838847\ttotal: 385ms\tremaining: 13.3ms\n",
      "29:\tlearn: 3070.7458871\ttotal: 398ms\tremaining: 0us\n",
      "0:\tlearn: 4424.5498215\ttotal: 14.1ms\tremaining: 408ms\n",
      "1:\tlearn: 4332.9372480\ttotal: 27.1ms\tremaining: 380ms\n",
      "2:\tlearn: 4247.1355178\ttotal: 40ms\tremaining: 360ms\n",
      "3:\tlearn: 4167.2069491\ttotal: 52.2ms\tremaining: 339ms\n",
      "4:\tlearn: 4091.9197650\ttotal: 65.2ms\tremaining: 326ms\n",
      "5:\tlearn: 4021.0092770\ttotal: 78.4ms\tremaining: 314ms\n",
      "6:\tlearn: 3956.0172553\ttotal: 91.3ms\tremaining: 300ms\n",
      "7:\tlearn: 3896.3645194\ttotal: 105ms\tremaining: 288ms\n",
      "8:\tlearn: 3837.5824279\ttotal: 118ms\tremaining: 276ms\n",
      "9:\tlearn: 3779.1417235\ttotal: 132ms\tremaining: 263ms\n",
      "10:\tlearn: 3727.3323053\ttotal: 146ms\tremaining: 252ms\n",
      "11:\tlearn: 3678.9647421\ttotal: 160ms\tremaining: 240ms\n",
      "12:\tlearn: 3635.0037974\ttotal: 173ms\tremaining: 227ms\n",
      "13:\tlearn: 3586.2717632\ttotal: 189ms\tremaining: 216ms\n",
      "14:\tlearn: 3541.7149894\ttotal: 203ms\tremaining: 203ms\n",
      "15:\tlearn: 3497.5755397\ttotal: 218ms\tremaining: 190ms\n",
      "16:\tlearn: 3455.3452206\ttotal: 231ms\tremaining: 176ms\n",
      "17:\tlearn: 3419.9497671\ttotal: 243ms\tremaining: 162ms\n",
      "18:\tlearn: 3386.0823492\ttotal: 258ms\tremaining: 149ms\n",
      "19:\tlearn: 3351.8715980\ttotal: 271ms\tremaining: 136ms\n",
      "20:\tlearn: 3314.6197549\ttotal: 285ms\tremaining: 122ms\n",
      "21:\tlearn: 3283.2122254\ttotal: 298ms\tremaining: 108ms\n",
      "22:\tlearn: 3250.3038472\ttotal: 312ms\tremaining: 95ms\n",
      "23:\tlearn: 3221.6709650\ttotal: 326ms\tremaining: 81.4ms\n",
      "24:\tlearn: 3193.9828592\ttotal: 339ms\tremaining: 67.9ms\n",
      "25:\tlearn: 3169.1879991\ttotal: 353ms\tremaining: 54.3ms\n",
      "26:\tlearn: 3144.6488869\ttotal: 366ms\tremaining: 40.7ms\n",
      "27:\tlearn: 3122.2785122\ttotal: 379ms\tremaining: 27.1ms\n",
      "28:\tlearn: 3096.5432515\ttotal: 393ms\tremaining: 13.6ms\n",
      "29:\tlearn: 3076.7127153\ttotal: 407ms\tremaining: 0us\n",
      "0:\tlearn: 4312.6536360\ttotal: 14.3ms\tremaining: 415ms\n",
      "1:\tlearn: 4145.5546714\ttotal: 26.5ms\tremaining: 371ms\n",
      "2:\tlearn: 3994.9485701\ttotal: 38.5ms\tremaining: 346ms\n",
      "3:\tlearn: 3868.6367832\ttotal: 50ms\tremaining: 325ms\n",
      "4:\tlearn: 3746.2017672\ttotal: 62.1ms\tremaining: 310ms\n",
      "5:\tlearn: 3645.2253480\ttotal: 74.1ms\tremaining: 296ms\n",
      "6:\tlearn: 3557.9768214\ttotal: 87.6ms\tremaining: 288ms\n",
      "7:\tlearn: 3482.9941857\ttotal: 101ms\tremaining: 279ms\n",
      "8:\tlearn: 3404.5078994\ttotal: 115ms\tremaining: 268ms\n",
      "9:\tlearn: 3327.1122394\ttotal: 128ms\tremaining: 257ms\n",
      "10:\tlearn: 3258.3523243\ttotal: 142ms\tremaining: 245ms\n",
      "11:\tlearn: 3198.3352862\ttotal: 154ms\tremaining: 231ms\n",
      "12:\tlearn: 3146.8043472\ttotal: 167ms\tremaining: 218ms\n",
      "13:\tlearn: 3090.9914840\ttotal: 181ms\tremaining: 207ms\n",
      "14:\tlearn: 3049.6004397\ttotal: 194ms\tremaining: 194ms\n",
      "15:\tlearn: 3006.6581395\ttotal: 208ms\tremaining: 182ms\n",
      "16:\tlearn: 2973.4619511\ttotal: 221ms\tremaining: 169ms\n",
      "17:\tlearn: 2941.6700079\ttotal: 235ms\tremaining: 156ms\n",
      "18:\tlearn: 2912.5259169\ttotal: 248ms\tremaining: 143ms\n",
      "19:\tlearn: 2882.5122672\ttotal: 261ms\tremaining: 130ms\n",
      "20:\tlearn: 2856.2358623\ttotal: 274ms\tremaining: 118ms\n",
      "21:\tlearn: 2834.7429420\ttotal: 287ms\tremaining: 104ms\n",
      "22:\tlearn: 2808.7430600\ttotal: 301ms\tremaining: 91.7ms\n",
      "23:\tlearn: 2789.8019741\ttotal: 315ms\tremaining: 78.7ms\n",
      "24:\tlearn: 2769.2709616\ttotal: 329ms\tremaining: 65.7ms\n",
      "25:\tlearn: 2748.2757871\ttotal: 342ms\tremaining: 52.6ms\n",
      "26:\tlearn: 2732.7736048\ttotal: 355ms\tremaining: 39.5ms\n",
      "27:\tlearn: 2702.1510204\ttotal: 368ms\tremaining: 26.3ms\n",
      "28:\tlearn: 2687.5923497\ttotal: 381ms\tremaining: 13.2ms\n",
      "29:\tlearn: 2672.9268049\ttotal: 395ms\tremaining: 0us\n",
      "0:\tlearn: 4317.1166742\ttotal: 14.4ms\tremaining: 419ms\n",
      "1:\tlearn: 4149.0130549\ttotal: 27.3ms\tremaining: 383ms\n",
      "2:\tlearn: 4001.6870304\ttotal: 40.6ms\tremaining: 365ms\n",
      "3:\tlearn: 3873.0672699\ttotal: 53.8ms\tremaining: 349ms\n",
      "4:\tlearn: 3765.0590428\ttotal: 67ms\tremaining: 335ms\n",
      "5:\tlearn: 3652.1662947\ttotal: 82.4ms\tremaining: 330ms\n",
      "6:\tlearn: 3563.3662470\ttotal: 95.3ms\tremaining: 313ms\n",
      "7:\tlearn: 3474.8339827\ttotal: 109ms\tremaining: 299ms\n",
      "8:\tlearn: 3405.9682966\ttotal: 122ms\tremaining: 285ms\n",
      "9:\tlearn: 3328.3282564\ttotal: 135ms\tremaining: 270ms\n",
      "10:\tlearn: 3255.1037325\ttotal: 149ms\tremaining: 257ms\n",
      "11:\tlearn: 3195.9363331\ttotal: 162ms\tremaining: 243ms\n",
      "12:\tlearn: 3149.9693895\ttotal: 175ms\tremaining: 229ms\n",
      "13:\tlearn: 3102.6305035\ttotal: 189ms\tremaining: 215ms\n",
      "14:\tlearn: 3055.6974355\ttotal: 203ms\tremaining: 203ms\n",
      "15:\tlearn: 3005.8748093\ttotal: 217ms\tremaining: 190ms\n",
      "16:\tlearn: 2970.8619693\ttotal: 230ms\tremaining: 176ms\n",
      "17:\tlearn: 2940.7877982\ttotal: 244ms\tremaining: 163ms\n",
      "18:\tlearn: 2907.1514740\ttotal: 256ms\tremaining: 148ms\n",
      "19:\tlearn: 2879.8022834\ttotal: 269ms\tremaining: 135ms\n",
      "20:\tlearn: 2855.3364246\ttotal: 282ms\tremaining: 121ms\n",
      "21:\tlearn: 2832.5078431\ttotal: 295ms\tremaining: 107ms\n",
      "22:\tlearn: 2813.4421269\ttotal: 309ms\tremaining: 94.1ms\n",
      "23:\tlearn: 2794.4091788\ttotal: 323ms\tremaining: 80.7ms\n",
      "24:\tlearn: 2772.9717010\ttotal: 337ms\tremaining: 67.3ms\n",
      "25:\tlearn: 2752.6293986\ttotal: 350ms\tremaining: 53.9ms\n",
      "26:\tlearn: 2737.6781365\ttotal: 364ms\tremaining: 40.4ms\n",
      "27:\tlearn: 2722.4878262\ttotal: 378ms\tremaining: 27ms\n",
      "28:\tlearn: 2708.5532842\ttotal: 392ms\tremaining: 13.5ms\n",
      "29:\tlearn: 2676.9318136\ttotal: 405ms\tremaining: 0us\n",
      "0:\tlearn: 4325.5678992\ttotal: 15.1ms\tremaining: 437ms\n",
      "1:\tlearn: 4153.8621785\ttotal: 28ms\tremaining: 393ms\n",
      "2:\tlearn: 4004.2415143\ttotal: 40.9ms\tremaining: 368ms\n",
      "3:\tlearn: 3880.6947420\ttotal: 53.7ms\tremaining: 349ms\n",
      "4:\tlearn: 3757.4609310\ttotal: 66.8ms\tremaining: 334ms\n",
      "5:\tlearn: 3656.9607569\ttotal: 80.4ms\tremaining: 322ms\n",
      "6:\tlearn: 3561.2094065\ttotal: 94.4ms\tremaining: 310ms\n",
      "7:\tlearn: 3480.2352041\ttotal: 108ms\tremaining: 297ms\n",
      "8:\tlearn: 3397.7176789\ttotal: 121ms\tremaining: 283ms\n",
      "9:\tlearn: 3333.1405489\ttotal: 135ms\tremaining: 271ms\n",
      "10:\tlearn: 3267.7055741\ttotal: 149ms\tremaining: 257ms\n",
      "11:\tlearn: 3203.0302661\ttotal: 163ms\tremaining: 245ms\n",
      "12:\tlearn: 3152.7343167\ttotal: 176ms\tremaining: 231ms\n",
      "13:\tlearn: 3097.2886382\ttotal: 190ms\tremaining: 217ms\n",
      "14:\tlearn: 3054.6090851\ttotal: 203ms\tremaining: 203ms\n",
      "15:\tlearn: 3013.6139313\ttotal: 217ms\tremaining: 189ms\n",
      "16:\tlearn: 2980.4744469\ttotal: 229ms\tremaining: 175ms\n",
      "17:\tlearn: 2942.9601796\ttotal: 243ms\tremaining: 162ms\n",
      "18:\tlearn: 2916.5734089\ttotal: 255ms\tremaining: 148ms\n",
      "19:\tlearn: 2885.5699539\ttotal: 268ms\tremaining: 134ms\n",
      "20:\tlearn: 2858.4659855\ttotal: 283ms\tremaining: 121ms\n",
      "21:\tlearn: 2837.6080870\ttotal: 296ms\tremaining: 108ms\n",
      "22:\tlearn: 2814.0750637\ttotal: 310ms\tremaining: 94.4ms\n",
      "23:\tlearn: 2795.2190896\ttotal: 323ms\tremaining: 80.8ms\n",
      "24:\tlearn: 2771.7277455\ttotal: 337ms\tremaining: 67.4ms\n",
      "25:\tlearn: 2754.5141543\ttotal: 352ms\tremaining: 54.1ms\n",
      "26:\tlearn: 2739.2958736\ttotal: 366ms\tremaining: 40.6ms\n",
      "27:\tlearn: 2723.0240929\ttotal: 380ms\tremaining: 27.1ms\n",
      "28:\tlearn: 2691.4344986\ttotal: 393ms\tremaining: 13.6ms\n",
      "29:\tlearn: 2678.4311179\ttotal: 407ms\tremaining: 0us\n",
      "0:\tlearn: 4326.8456188\ttotal: 14.5ms\tremaining: 420ms\n",
      "1:\tlearn: 4158.9475784\ttotal: 27.1ms\tremaining: 379ms\n",
      "2:\tlearn: 4008.0720267\ttotal: 39.3ms\tremaining: 354ms\n",
      "3:\tlearn: 3881.5546157\ttotal: 53ms\tremaining: 345ms\n",
      "4:\tlearn: 3766.8609582\ttotal: 67.3ms\tremaining: 337ms\n",
      "5:\tlearn: 3661.0510194\ttotal: 81ms\tremaining: 324ms\n",
      "6:\tlearn: 3571.9737002\ttotal: 95.1ms\tremaining: 313ms\n",
      "7:\tlearn: 3482.9343172\ttotal: 109ms\tremaining: 300ms\n",
      "8:\tlearn: 3414.3467719\ttotal: 123ms\tremaining: 287ms\n",
      "9:\tlearn: 3339.1428884\ttotal: 137ms\tremaining: 274ms\n",
      "10:\tlearn: 3265.1033958\ttotal: 151ms\tremaining: 260ms\n",
      "11:\tlearn: 3201.0988731\ttotal: 164ms\tremaining: 246ms\n",
      "12:\tlearn: 3154.9637487\ttotal: 179ms\tremaining: 234ms\n",
      "13:\tlearn: 3103.5776241\ttotal: 193ms\tremaining: 220ms\n",
      "14:\tlearn: 3062.0549524\ttotal: 206ms\tremaining: 206ms\n",
      "15:\tlearn: 3021.9810478\ttotal: 220ms\tremaining: 192ms\n",
      "16:\tlearn: 2989.0634003\ttotal: 233ms\tremaining: 178ms\n",
      "17:\tlearn: 2957.7406182\ttotal: 246ms\tremaining: 164ms\n",
      "18:\tlearn: 2928.7031616\ttotal: 261ms\tremaining: 151ms\n",
      "19:\tlearn: 2885.2926441\ttotal: 275ms\tremaining: 137ms\n",
      "20:\tlearn: 2858.9735603\ttotal: 288ms\tremaining: 124ms\n",
      "21:\tlearn: 2835.0962313\ttotal: 301ms\tremaining: 109ms\n",
      "22:\tlearn: 2815.4740531\ttotal: 313ms\tremaining: 95.3ms\n",
      "23:\tlearn: 2795.2134299\ttotal: 327ms\tremaining: 81.7ms\n",
      "24:\tlearn: 2775.3784136\ttotal: 340ms\tremaining: 68.1ms\n",
      "25:\tlearn: 2759.7827122\ttotal: 354ms\tremaining: 54.5ms\n",
      "26:\tlearn: 2743.9713909\ttotal: 369ms\tremaining: 41ms\n",
      "27:\tlearn: 2728.8819778\ttotal: 382ms\tremaining: 27.3ms\n",
      "28:\tlearn: 2696.8688023\ttotal: 396ms\tremaining: 13.7ms\n",
      "29:\tlearn: 2683.9752335\ttotal: 410ms\tremaining: 0us\n",
      "0:\tlearn: 4483.4166826\ttotal: 23.6ms\tremaining: 212ms\n",
      "1:\tlearn: 4457.4315290\ttotal: 47.1ms\tremaining: 189ms\n",
      "2:\tlearn: 4431.3855101\ttotal: 68.6ms\tremaining: 160ms\n",
      "3:\tlearn: 4405.5446662\ttotal: 89.5ms\tremaining: 134ms\n",
      "4:\tlearn: 4380.8069381\ttotal: 112ms\tremaining: 112ms\n",
      "5:\tlearn: 4354.8408556\ttotal: 135ms\tremaining: 90.2ms\n",
      "6:\tlearn: 4329.4564899\ttotal: 159ms\tremaining: 68ms\n",
      "7:\tlearn: 4304.4355732\ttotal: 183ms\tremaining: 45.7ms\n",
      "8:\tlearn: 4280.4081248\ttotal: 207ms\tremaining: 23ms\n",
      "9:\tlearn: 4256.8264464\ttotal: 229ms\tremaining: 0us\n",
      "0:\tlearn: 4488.0415063\ttotal: 22.2ms\tremaining: 200ms\n",
      "1:\tlearn: 4461.0211154\ttotal: 42.2ms\tremaining: 169ms\n",
      "2:\tlearn: 4434.3064390\ttotal: 63.3ms\tremaining: 148ms\n",
      "3:\tlearn: 4408.3179934\ttotal: 83.6ms\tremaining: 125ms\n",
      "4:\tlearn: 4382.1822089\ttotal: 104ms\tremaining: 104ms\n",
      "5:\tlearn: 4357.2002734\ttotal: 125ms\tremaining: 83.3ms\n",
      "6:\tlearn: 4332.9439433\ttotal: 147ms\tremaining: 63.1ms\n",
      "7:\tlearn: 4308.5790645\ttotal: 171ms\tremaining: 42.7ms\n",
      "8:\tlearn: 4283.6494143\ttotal: 194ms\tremaining: 21.5ms\n",
      "9:\tlearn: 4259.8563985\ttotal: 217ms\tremaining: 0us\n",
      "0:\tlearn: 4493.1600389\ttotal: 23.2ms\tremaining: 209ms\n",
      "1:\tlearn: 4466.1058944\ttotal: 44.7ms\tremaining: 179ms\n",
      "2:\tlearn: 4439.3566488\ttotal: 65.8ms\tremaining: 153ms\n",
      "3:\tlearn: 4413.5973713\ttotal: 87.7ms\tremaining: 132ms\n",
      "4:\tlearn: 4387.2353855\ttotal: 110ms\tremaining: 110ms\n",
      "5:\tlearn: 4362.2933004\ttotal: 132ms\tremaining: 87.9ms\n",
      "6:\tlearn: 4337.0247325\ttotal: 154ms\tremaining: 66ms\n",
      "7:\tlearn: 4311.9205357\ttotal: 177ms\tremaining: 44.3ms\n",
      "8:\tlearn: 4288.0026078\ttotal: 200ms\tremaining: 22.2ms\n",
      "9:\tlearn: 4263.7229986\ttotal: 223ms\tremaining: 0us\n",
      "0:\tlearn: 4497.6143637\ttotal: 21.9ms\tremaining: 197ms\n",
      "1:\tlearn: 4471.2047353\ttotal: 42.9ms\tremaining: 172ms\n",
      "2:\tlearn: 4444.5373601\ttotal: 64.7ms\tremaining: 151ms\n",
      "3:\tlearn: 4418.8358795\ttotal: 86.5ms\tremaining: 130ms\n",
      "4:\tlearn: 4392.6569468\ttotal: 109ms\tremaining: 109ms\n",
      "5:\tlearn: 4367.8148273\ttotal: 130ms\tremaining: 86.9ms\n",
      "6:\tlearn: 4343.4928052\ttotal: 153ms\tremaining: 65.6ms\n",
      "7:\tlearn: 4317.5334566\ttotal: 175ms\tremaining: 43.7ms\n",
      "8:\tlearn: 4292.5941887\ttotal: 198ms\tremaining: 22ms\n",
      "9:\tlearn: 4268.2585747\ttotal: 221ms\tremaining: 0us\n",
      "0:\tlearn: 4378.3817350\ttotal: 23.6ms\tremaining: 212ms\n",
      "1:\tlearn: 4256.0157492\ttotal: 45.3ms\tremaining: 181ms\n",
      "2:\tlearn: 4137.8450675\ttotal: 65.6ms\tremaining: 153ms\n",
      "3:\tlearn: 4026.3845438\ttotal: 86.7ms\tremaining: 130ms\n",
      "4:\tlearn: 3926.8370111\ttotal: 109ms\tremaining: 109ms\n",
      "5:\tlearn: 3825.2198524\ttotal: 132ms\tremaining: 87.8ms\n",
      "6:\tlearn: 3729.5125036\ttotal: 156ms\tremaining: 66.9ms\n",
      "7:\tlearn: 3641.1661781\ttotal: 178ms\tremaining: 44.6ms\n",
      "8:\tlearn: 3561.2756423\ttotal: 202ms\tremaining: 22.4ms\n",
      "9:\tlearn: 3485.6230792\ttotal: 225ms\tremaining: 0us\n",
      "0:\tlearn: 4378.5504748\ttotal: 21.1ms\tremaining: 190ms\n",
      "1:\tlearn: 4252.5103222\ttotal: 42.1ms\tremaining: 168ms\n",
      "2:\tlearn: 4136.3903326\ttotal: 64.7ms\tremaining: 151ms\n",
      "3:\tlearn: 4026.0104064\ttotal: 85.1ms\tremaining: 128ms\n",
      "4:\tlearn: 3920.7747100\ttotal: 106ms\tremaining: 106ms\n",
      "5:\tlearn: 3825.8890004\ttotal: 128ms\tremaining: 85.2ms\n",
      "6:\tlearn: 3737.7528113\ttotal: 150ms\tremaining: 64.3ms\n",
      "7:\tlearn: 3648.5345776\ttotal: 172ms\tremaining: 42.9ms\n",
      "8:\tlearn: 3565.1053543\ttotal: 194ms\tremaining: 21.6ms\n",
      "9:\tlearn: 3489.4877070\ttotal: 218ms\tremaining: 0us\n",
      "0:\tlearn: 4388.4262026\ttotal: 22.7ms\tremaining: 204ms\n",
      "1:\tlearn: 4258.7971610\ttotal: 44.1ms\tremaining: 176ms\n",
      "2:\tlearn: 4139.5701530\ttotal: 67.4ms\tremaining: 157ms\n",
      "3:\tlearn: 4030.1567755\ttotal: 90.1ms\tremaining: 135ms\n",
      "4:\tlearn: 3927.7906352\ttotal: 113ms\tremaining: 113ms\n",
      "5:\tlearn: 3829.4506811\ttotal: 135ms\tremaining: 90.3ms\n",
      "6:\tlearn: 3738.1954617\ttotal: 158ms\tremaining: 67.6ms\n",
      "7:\tlearn: 3653.0988194\ttotal: 181ms\tremaining: 45.3ms\n",
      "8:\tlearn: 3573.3778460\ttotal: 204ms\tremaining: 22.7ms\n",
      "9:\tlearn: 3496.0301052\ttotal: 228ms\tremaining: 0us\n",
      "0:\tlearn: 4388.1782903\ttotal: 22.1ms\tremaining: 199ms\n",
      "1:\tlearn: 4263.9184422\ttotal: 43.2ms\tremaining: 173ms\n",
      "2:\tlearn: 4146.4885093\ttotal: 64.4ms\tremaining: 150ms\n",
      "3:\tlearn: 4033.9286694\ttotal: 86.9ms\tremaining: 130ms\n",
      "4:\tlearn: 3931.4583526\ttotal: 108ms\tremaining: 108ms\n",
      "5:\tlearn: 3831.0149880\ttotal: 130ms\tremaining: 86.9ms\n",
      "6:\tlearn: 3741.6099320\ttotal: 153ms\tremaining: 65.7ms\n",
      "7:\tlearn: 3650.8480413\ttotal: 176ms\tremaining: 44ms\n",
      "8:\tlearn: 3567.7856637\ttotal: 197ms\tremaining: 21.9ms\n",
      "9:\tlearn: 3491.6934419\ttotal: 221ms\tremaining: 0us\n",
      "0:\tlearn: 4249.7856158\ttotal: 23.2ms\tremaining: 209ms\n",
      "1:\tlearn: 4022.9301018\ttotal: 45.4ms\tremaining: 182ms\n",
      "2:\tlearn: 3819.2572499\ttotal: 67.5ms\tremaining: 158ms\n",
      "3:\tlearn: 3637.7704823\ttotal: 90.2ms\tremaining: 135ms\n",
      "4:\tlearn: 3481.5431767\ttotal: 113ms\tremaining: 113ms\n",
      "5:\tlearn: 3336.0732838\ttotal: 135ms\tremaining: 90.1ms\n",
      "6:\tlearn: 3216.5707985\ttotal: 159ms\tremaining: 68ms\n",
      "7:\tlearn: 3104.1769359\ttotal: 183ms\tremaining: 45.7ms\n",
      "8:\tlearn: 3016.6771680\ttotal: 206ms\tremaining: 22.8ms\n",
      "9:\tlearn: 2928.4854236\ttotal: 229ms\tremaining: 0us\n",
      "0:\tlearn: 4244.3436523\ttotal: 22.8ms\tremaining: 205ms\n",
      "1:\tlearn: 4009.8642523\ttotal: 45.4ms\tremaining: 182ms\n",
      "2:\tlearn: 3801.9329664\ttotal: 68.3ms\tremaining: 159ms\n",
      "3:\tlearn: 3625.0522252\ttotal: 90.4ms\tremaining: 136ms\n",
      "4:\tlearn: 3464.2954236\ttotal: 114ms\tremaining: 114ms\n",
      "5:\tlearn: 3327.9644952\ttotal: 137ms\tremaining: 91.5ms\n",
      "6:\tlearn: 3201.4487628\ttotal: 160ms\tremaining: 68.6ms\n",
      "7:\tlearn: 3091.7867894\ttotal: 183ms\tremaining: 45.7ms\n",
      "8:\tlearn: 2998.1082568\ttotal: 205ms\tremaining: 22.8ms\n",
      "9:\tlearn: 2914.8572087\ttotal: 228ms\tremaining: 0us\n",
      "0:\tlearn: 4260.2163481\ttotal: 21.6ms\tremaining: 194ms\n",
      "1:\tlearn: 4019.7767633\ttotal: 44.4ms\tremaining: 178ms\n",
      "2:\tlearn: 3813.2248718\ttotal: 66.7ms\tremaining: 156ms\n",
      "3:\tlearn: 3637.2127282\ttotal: 89.2ms\tremaining: 134ms\n",
      "4:\tlearn: 3472.2465265\ttotal: 112ms\tremaining: 112ms\n",
      "5:\tlearn: 3333.6093411\ttotal: 134ms\tremaining: 89.5ms\n",
      "6:\tlearn: 3215.7995636\ttotal: 158ms\tremaining: 67.6ms\n",
      "7:\tlearn: 3107.8589222\ttotal: 180ms\tremaining: 44.9ms\n",
      "8:\tlearn: 3010.7855854\ttotal: 202ms\tremaining: 22.5ms\n",
      "9:\tlearn: 2929.1383237\ttotal: 225ms\tremaining: 0us\n",
      "0:\tlearn: 4254.0490544\ttotal: 22.9ms\tremaining: 206ms\n",
      "1:\tlearn: 4019.7612887\ttotal: 45.6ms\tremaining: 182ms\n",
      "2:\tlearn: 3817.1126143\ttotal: 66.7ms\tremaining: 156ms\n",
      "3:\tlearn: 3634.6585465\ttotal: 89.1ms\tremaining: 134ms\n",
      "4:\tlearn: 3479.7387371\ttotal: 111ms\tremaining: 111ms\n",
      "5:\tlearn: 3336.1770565\ttotal: 134ms\tremaining: 89.4ms\n",
      "6:\tlearn: 3219.0888720\ttotal: 158ms\tremaining: 67.7ms\n",
      "7:\tlearn: 3108.6106103\ttotal: 181ms\tremaining: 45.3ms\n",
      "8:\tlearn: 3017.0572832\ttotal: 203ms\tremaining: 22.6ms\n",
      "9:\tlearn: 2929.5520010\ttotal: 225ms\tremaining: 0us\n",
      "0:\tlearn: 4483.4166826\ttotal: 21.4ms\tremaining: 406ms\n",
      "1:\tlearn: 4457.4315290\ttotal: 44.3ms\tremaining: 399ms\n",
      "2:\tlearn: 4431.3855101\ttotal: 68.2ms\tremaining: 387ms\n",
      "3:\tlearn: 4405.5446662\ttotal: 90.3ms\tremaining: 361ms\n",
      "4:\tlearn: 4380.8069381\ttotal: 112ms\tremaining: 337ms\n",
      "5:\tlearn: 4354.8408556\ttotal: 135ms\tremaining: 316ms\n",
      "6:\tlearn: 4329.4564899\ttotal: 159ms\tremaining: 295ms\n",
      "7:\tlearn: 4304.4355732\ttotal: 181ms\tremaining: 272ms\n",
      "8:\tlearn: 4280.4081248\ttotal: 205ms\tremaining: 251ms\n",
      "9:\tlearn: 4256.8264464\ttotal: 229ms\tremaining: 229ms\n",
      "10:\tlearn: 4233.7906047\ttotal: 253ms\tremaining: 207ms\n",
      "11:\tlearn: 4210.8435454\ttotal: 275ms\tremaining: 183ms\n",
      "12:\tlearn: 4186.9392022\ttotal: 299ms\tremaining: 161ms\n",
      "13:\tlearn: 4163.6107269\ttotal: 323ms\tremaining: 138ms\n",
      "14:\tlearn: 4140.6086946\ttotal: 346ms\tremaining: 115ms\n",
      "15:\tlearn: 4118.7855176\ttotal: 369ms\tremaining: 92.3ms\n",
      "16:\tlearn: 4097.2974866\ttotal: 393ms\tremaining: 69.4ms\n",
      "17:\tlearn: 4075.4251750\ttotal: 416ms\tremaining: 46.2ms\n",
      "18:\tlearn: 4053.4165188\ttotal: 439ms\tremaining: 23.1ms\n",
      "19:\tlearn: 4031.4241818\ttotal: 462ms\tremaining: 0us\n",
      "0:\tlearn: 4488.0415063\ttotal: 22.5ms\tremaining: 427ms\n",
      "1:\tlearn: 4461.0211154\ttotal: 43.3ms\tremaining: 390ms\n",
      "2:\tlearn: 4434.3064390\ttotal: 63ms\tremaining: 357ms\n",
      "3:\tlearn: 4408.3179934\ttotal: 83.8ms\tremaining: 335ms\n",
      "4:\tlearn: 4382.1822089\ttotal: 107ms\tremaining: 320ms\n",
      "5:\tlearn: 4357.2002734\ttotal: 129ms\tremaining: 301ms\n",
      "6:\tlearn: 4332.9439433\ttotal: 152ms\tremaining: 281ms\n",
      "7:\tlearn: 4308.5790645\ttotal: 174ms\tremaining: 261ms\n",
      "8:\tlearn: 4283.6494143\ttotal: 197ms\tremaining: 241ms\n",
      "9:\tlearn: 4259.8563985\ttotal: 220ms\tremaining: 220ms\n",
      "10:\tlearn: 4236.3282446\ttotal: 244ms\tremaining: 200ms\n",
      "11:\tlearn: 4213.0777450\ttotal: 265ms\tremaining: 177ms\n",
      "12:\tlearn: 4189.9037686\ttotal: 288ms\tremaining: 155ms\n",
      "13:\tlearn: 4167.2383467\ttotal: 310ms\tremaining: 133ms\n",
      "14:\tlearn: 4144.5134724\ttotal: 334ms\tremaining: 111ms\n",
      "15:\tlearn: 4122.0321992\ttotal: 357ms\tremaining: 89.3ms\n",
      "16:\tlearn: 4100.0136216\ttotal: 380ms\tremaining: 67.1ms\n",
      "17:\tlearn: 4078.5823956\ttotal: 404ms\tremaining: 44.9ms\n",
      "18:\tlearn: 4056.7088616\ttotal: 428ms\tremaining: 22.5ms\n",
      "19:\tlearn: 4035.3498798\ttotal: 453ms\tremaining: 0us\n",
      "0:\tlearn: 4493.1600389\ttotal: 22.8ms\tremaining: 432ms\n",
      "1:\tlearn: 4466.1058944\ttotal: 45.2ms\tremaining: 407ms\n",
      "2:\tlearn: 4439.3566488\ttotal: 67.6ms\tremaining: 383ms\n",
      "3:\tlearn: 4413.5973713\ttotal: 90.8ms\tremaining: 363ms\n",
      "4:\tlearn: 4387.2353855\ttotal: 114ms\tremaining: 342ms\n",
      "5:\tlearn: 4362.2933004\ttotal: 138ms\tremaining: 322ms\n",
      "6:\tlearn: 4337.0247325\ttotal: 161ms\tremaining: 299ms\n",
      "7:\tlearn: 4311.9205357\ttotal: 185ms\tremaining: 277ms\n",
      "8:\tlearn: 4288.0026078\ttotal: 209ms\tremaining: 255ms\n",
      "9:\tlearn: 4263.7229986\ttotal: 233ms\tremaining: 233ms\n",
      "10:\tlearn: 4239.5446743\ttotal: 256ms\tremaining: 209ms\n",
      "11:\tlearn: 4216.0422978\ttotal: 279ms\tremaining: 186ms\n",
      "12:\tlearn: 4193.1951507\ttotal: 301ms\tremaining: 162ms\n",
      "13:\tlearn: 4170.8392842\ttotal: 323ms\tremaining: 138ms\n",
      "14:\tlearn: 4148.0692751\ttotal: 346ms\tremaining: 115ms\n",
      "15:\tlearn: 4125.1250459\ttotal: 368ms\tremaining: 92.1ms\n",
      "16:\tlearn: 4103.1863009\ttotal: 391ms\tremaining: 69ms\n",
      "17:\tlearn: 4081.1056039\ttotal: 414ms\tremaining: 46ms\n",
      "18:\tlearn: 4059.0525454\ttotal: 438ms\tremaining: 23ms\n",
      "19:\tlearn: 4037.7224207\ttotal: 460ms\tremaining: 0us\n",
      "0:\tlearn: 4497.6143637\ttotal: 22.4ms\tremaining: 425ms\n",
      "1:\tlearn: 4471.2047353\ttotal: 42ms\tremaining: 378ms\n",
      "2:\tlearn: 4444.5373601\ttotal: 63.6ms\tremaining: 360ms\n",
      "3:\tlearn: 4418.8358795\ttotal: 85.4ms\tremaining: 341ms\n",
      "4:\tlearn: 4392.6569468\ttotal: 108ms\tremaining: 324ms\n",
      "5:\tlearn: 4367.8148273\ttotal: 131ms\tremaining: 307ms\n",
      "6:\tlearn: 4343.4928052\ttotal: 155ms\tremaining: 288ms\n",
      "7:\tlearn: 4317.5334566\ttotal: 179ms\tremaining: 268ms\n",
      "8:\tlearn: 4292.5941887\ttotal: 202ms\tremaining: 247ms\n",
      "9:\tlearn: 4268.2585747\ttotal: 225ms\tremaining: 225ms\n",
      "10:\tlearn: 4244.8209599\ttotal: 246ms\tremaining: 201ms\n",
      "11:\tlearn: 4221.8732300\ttotal: 268ms\tremaining: 179ms\n",
      "12:\tlearn: 4197.8559387\ttotal: 289ms\tremaining: 156ms\n",
      "13:\tlearn: 4175.2638047\ttotal: 313ms\tremaining: 134ms\n",
      "14:\tlearn: 4152.3973704\ttotal: 337ms\tremaining: 112ms\n",
      "15:\tlearn: 4129.7699589\ttotal: 358ms\tremaining: 89.6ms\n",
      "16:\tlearn: 4107.7648324\ttotal: 382ms\tremaining: 67.5ms\n",
      "17:\tlearn: 4086.3948016\ttotal: 405ms\tremaining: 45ms\n",
      "18:\tlearn: 4064.7798415\ttotal: 430ms\tremaining: 22.6ms\n",
      "19:\tlearn: 4043.2279543\ttotal: 453ms\tremaining: 0us\n",
      "0:\tlearn: 4378.3817350\ttotal: 23.2ms\tremaining: 440ms\n",
      "1:\tlearn: 4256.0157492\ttotal: 45.1ms\tremaining: 406ms\n",
      "2:\tlearn: 4137.8450675\ttotal: 68.6ms\tremaining: 388ms\n",
      "3:\tlearn: 4026.3845438\ttotal: 91.4ms\tremaining: 366ms\n",
      "4:\tlearn: 3926.8370111\ttotal: 113ms\tremaining: 339ms\n",
      "5:\tlearn: 3825.2198524\ttotal: 136ms\tremaining: 316ms\n",
      "6:\tlearn: 3729.5125036\ttotal: 160ms\tremaining: 296ms\n",
      "7:\tlearn: 3641.1661781\ttotal: 182ms\tremaining: 273ms\n",
      "8:\tlearn: 3561.2756423\ttotal: 205ms\tremaining: 251ms\n",
      "9:\tlearn: 3485.6230792\ttotal: 229ms\tremaining: 229ms\n",
      "10:\tlearn: 3416.7580960\ttotal: 253ms\tremaining: 207ms\n",
      "11:\tlearn: 3349.8095159\ttotal: 275ms\tremaining: 183ms\n",
      "12:\tlearn: 3283.9863977\ttotal: 299ms\tremaining: 161ms\n",
      "13:\tlearn: 3223.4434177\ttotal: 321ms\tremaining: 137ms\n",
      "14:\tlearn: 3168.8122026\ttotal: 343ms\tremaining: 114ms\n",
      "15:\tlearn: 3115.2434927\ttotal: 365ms\tremaining: 91.4ms\n",
      "16:\tlearn: 3065.9727762\ttotal: 389ms\tremaining: 68.6ms\n",
      "17:\tlearn: 3019.5713084\ttotal: 412ms\tremaining: 45.8ms\n",
      "18:\tlearn: 2978.4944675\ttotal: 436ms\tremaining: 23ms\n",
      "19:\tlearn: 2935.8910201\ttotal: 460ms\tremaining: 0us\n",
      "0:\tlearn: 4378.5504748\ttotal: 22.2ms\tremaining: 422ms\n",
      "1:\tlearn: 4252.5103222\ttotal: 42.2ms\tremaining: 380ms\n",
      "2:\tlearn: 4136.3903326\ttotal: 64.1ms\tremaining: 363ms\n",
      "3:\tlearn: 4026.0104064\ttotal: 86.4ms\tremaining: 346ms\n",
      "4:\tlearn: 3920.7747100\ttotal: 106ms\tremaining: 319ms\n",
      "5:\tlearn: 3825.8890004\ttotal: 130ms\tremaining: 302ms\n",
      "6:\tlearn: 3737.7528113\ttotal: 152ms\tremaining: 283ms\n",
      "7:\tlearn: 3648.5345776\ttotal: 174ms\tremaining: 262ms\n",
      "8:\tlearn: 3565.1053543\ttotal: 197ms\tremaining: 241ms\n",
      "9:\tlearn: 3489.4877070\ttotal: 221ms\tremaining: 221ms\n",
      "10:\tlearn: 3417.3651480\ttotal: 244ms\tremaining: 200ms\n",
      "11:\tlearn: 3349.5626632\ttotal: 267ms\tremaining: 178ms\n",
      "12:\tlearn: 3284.1411481\ttotal: 291ms\tremaining: 157ms\n",
      "13:\tlearn: 3224.8290835\ttotal: 316ms\tremaining: 135ms\n",
      "14:\tlearn: 3171.3281099\ttotal: 340ms\tremaining: 113ms\n",
      "15:\tlearn: 3121.1812272\ttotal: 364ms\tremaining: 91ms\n",
      "16:\tlearn: 3073.7814118\ttotal: 387ms\tremaining: 68.3ms\n",
      "17:\tlearn: 3026.9541024\ttotal: 412ms\tremaining: 45.7ms\n",
      "18:\tlearn: 2985.5849605\ttotal: 435ms\tremaining: 22.9ms\n",
      "19:\tlearn: 2947.2065911\ttotal: 459ms\tremaining: 0us\n",
      "0:\tlearn: 4388.4262026\ttotal: 22.8ms\tremaining: 433ms\n",
      "1:\tlearn: 4258.7971610\ttotal: 44.3ms\tremaining: 399ms\n",
      "2:\tlearn: 4139.5701530\ttotal: 65.9ms\tremaining: 373ms\n",
      "3:\tlearn: 4030.1567755\ttotal: 88.3ms\tremaining: 353ms\n",
      "4:\tlearn: 3927.7906352\ttotal: 113ms\tremaining: 338ms\n",
      "5:\tlearn: 3829.4506811\ttotal: 135ms\tremaining: 314ms\n",
      "6:\tlearn: 3738.1954617\ttotal: 156ms\tremaining: 290ms\n",
      "7:\tlearn: 3653.0988194\ttotal: 179ms\tremaining: 268ms\n",
      "8:\tlearn: 3573.3778460\ttotal: 202ms\tremaining: 247ms\n",
      "9:\tlearn: 3496.0301052\ttotal: 227ms\tremaining: 227ms\n",
      "10:\tlearn: 3420.5615818\ttotal: 249ms\tremaining: 204ms\n",
      "11:\tlearn: 3355.6185281\ttotal: 272ms\tremaining: 182ms\n",
      "12:\tlearn: 3288.9632202\ttotal: 295ms\tremaining: 159ms\n",
      "13:\tlearn: 3233.2254983\ttotal: 317ms\tremaining: 136ms\n",
      "14:\tlearn: 3177.8780073\ttotal: 340ms\tremaining: 113ms\n",
      "15:\tlearn: 3122.3219573\ttotal: 364ms\tremaining: 90.9ms\n",
      "16:\tlearn: 3073.5081742\ttotal: 387ms\tremaining: 68.3ms\n",
      "17:\tlearn: 3030.4508421\ttotal: 411ms\tremaining: 45.6ms\n",
      "18:\tlearn: 2984.2665018\ttotal: 435ms\tremaining: 22.9ms\n",
      "19:\tlearn: 2941.2217107\ttotal: 458ms\tremaining: 0us\n",
      "0:\tlearn: 4388.1782903\ttotal: 23.1ms\tremaining: 440ms\n",
      "1:\tlearn: 4263.9184422\ttotal: 44.9ms\tremaining: 405ms\n",
      "2:\tlearn: 4146.4885093\ttotal: 67.2ms\tremaining: 381ms\n",
      "3:\tlearn: 4033.9286694\ttotal: 90.9ms\tremaining: 364ms\n",
      "4:\tlearn: 3931.4583526\ttotal: 113ms\tremaining: 338ms\n",
      "5:\tlearn: 3831.0149880\ttotal: 134ms\tremaining: 313ms\n",
      "6:\tlearn: 3741.6099320\ttotal: 156ms\tremaining: 290ms\n",
      "7:\tlearn: 3650.8480413\ttotal: 178ms\tremaining: 267ms\n",
      "8:\tlearn: 3567.7856637\ttotal: 200ms\tremaining: 245ms\n",
      "9:\tlearn: 3491.6934419\ttotal: 221ms\tremaining: 221ms\n",
      "10:\tlearn: 3419.7693348\ttotal: 244ms\tremaining: 199ms\n",
      "11:\tlearn: 3351.9740491\ttotal: 265ms\tremaining: 177ms\n",
      "12:\tlearn: 3289.3184801\ttotal: 288ms\tremaining: 155ms\n",
      "13:\tlearn: 3232.3446677\ttotal: 310ms\tremaining: 133ms\n",
      "14:\tlearn: 3175.9307251\ttotal: 333ms\tremaining: 111ms\n",
      "15:\tlearn: 3126.7076452\ttotal: 356ms\tremaining: 88.9ms\n",
      "16:\tlearn: 3079.3401226\ttotal: 379ms\tremaining: 66.9ms\n",
      "17:\tlearn: 3030.8222451\ttotal: 403ms\tremaining: 44.8ms\n",
      "18:\tlearn: 2986.4537094\ttotal: 425ms\tremaining: 22.4ms\n",
      "19:\tlearn: 2946.7209818\ttotal: 448ms\tremaining: 0us\n",
      "0:\tlearn: 4249.7856158\ttotal: 22.9ms\tremaining: 435ms\n",
      "1:\tlearn: 4022.9301018\ttotal: 45.8ms\tremaining: 412ms\n",
      "2:\tlearn: 3819.2572499\ttotal: 68.9ms\tremaining: 390ms\n",
      "3:\tlearn: 3637.7704823\ttotal: 91.7ms\tremaining: 367ms\n",
      "4:\tlearn: 3481.5431767\ttotal: 115ms\tremaining: 345ms\n",
      "5:\tlearn: 3336.0732838\ttotal: 137ms\tremaining: 320ms\n",
      "6:\tlearn: 3216.5707985\ttotal: 160ms\tremaining: 298ms\n",
      "7:\tlearn: 3104.1769359\ttotal: 183ms\tremaining: 275ms\n",
      "8:\tlearn: 3016.6771680\ttotal: 207ms\tremaining: 253ms\n",
      "9:\tlearn: 2928.4854236\ttotal: 230ms\tremaining: 230ms\n",
      "10:\tlearn: 2860.1709665\ttotal: 251ms\tremaining: 206ms\n",
      "11:\tlearn: 2793.4258826\ttotal: 273ms\tremaining: 182ms\n",
      "12:\tlearn: 2734.8401680\ttotal: 296ms\tremaining: 160ms\n",
      "13:\tlearn: 2681.8692697\ttotal: 322ms\tremaining: 138ms\n",
      "14:\tlearn: 2632.6171700\ttotal: 346ms\tremaining: 115ms\n",
      "15:\tlearn: 2593.7552646\ttotal: 369ms\tremaining: 92.4ms\n",
      "16:\tlearn: 2553.8912995\ttotal: 391ms\tremaining: 69ms\n",
      "17:\tlearn: 2523.5536473\ttotal: 414ms\tremaining: 46ms\n",
      "18:\tlearn: 2493.9459883\ttotal: 437ms\tremaining: 23ms\n",
      "19:\tlearn: 2463.5117127\ttotal: 458ms\tremaining: 0us\n",
      "0:\tlearn: 4244.3436523\ttotal: 20.9ms\tremaining: 398ms\n",
      "1:\tlearn: 4009.8642523\ttotal: 44.6ms\tremaining: 402ms\n",
      "2:\tlearn: 3801.9329664\ttotal: 66.7ms\tremaining: 378ms\n",
      "3:\tlearn: 3625.0522252\ttotal: 89.7ms\tremaining: 359ms\n",
      "4:\tlearn: 3464.2954236\ttotal: 114ms\tremaining: 341ms\n",
      "5:\tlearn: 3327.9644952\ttotal: 137ms\tremaining: 321ms\n",
      "6:\tlearn: 3201.4487628\ttotal: 160ms\tremaining: 298ms\n",
      "7:\tlearn: 3091.7867894\ttotal: 184ms\tremaining: 275ms\n",
      "8:\tlearn: 2998.1082568\ttotal: 208ms\tremaining: 254ms\n",
      "9:\tlearn: 2914.8572087\ttotal: 232ms\tremaining: 232ms\n",
      "10:\tlearn: 2843.6284647\ttotal: 254ms\tremaining: 208ms\n",
      "11:\tlearn: 2777.1015173\ttotal: 277ms\tremaining: 185ms\n",
      "12:\tlearn: 2723.5668713\ttotal: 300ms\tremaining: 162ms\n",
      "13:\tlearn: 2675.1848016\ttotal: 324ms\tremaining: 139ms\n",
      "14:\tlearn: 2627.2432648\ttotal: 348ms\tremaining: 116ms\n",
      "15:\tlearn: 2589.5129539\ttotal: 371ms\tremaining: 92.7ms\n",
      "16:\tlearn: 2548.4770381\ttotal: 395ms\tremaining: 69.8ms\n",
      "17:\tlearn: 2514.3940818\ttotal: 420ms\tremaining: 46.6ms\n",
      "18:\tlearn: 2486.3459911\ttotal: 440ms\tremaining: 23.1ms\n",
      "19:\tlearn: 2461.7922225\ttotal: 463ms\tremaining: 0us\n",
      "0:\tlearn: 4260.2163481\ttotal: 22.6ms\tremaining: 429ms\n",
      "1:\tlearn: 4019.7767633\ttotal: 44.2ms\tremaining: 397ms\n",
      "2:\tlearn: 3813.2248718\ttotal: 64.7ms\tremaining: 366ms\n",
      "3:\tlearn: 3637.2127282\ttotal: 86.8ms\tremaining: 347ms\n",
      "4:\tlearn: 3472.2465265\ttotal: 109ms\tremaining: 328ms\n",
      "5:\tlearn: 3333.6093411\ttotal: 133ms\tremaining: 310ms\n",
      "6:\tlearn: 3215.7995636\ttotal: 155ms\tremaining: 289ms\n",
      "7:\tlearn: 3107.8589222\ttotal: 177ms\tremaining: 265ms\n",
      "8:\tlearn: 3010.7855854\ttotal: 200ms\tremaining: 244ms\n",
      "9:\tlearn: 2929.1383237\ttotal: 222ms\tremaining: 222ms\n",
      "10:\tlearn: 2857.6395253\ttotal: 245ms\tremaining: 201ms\n",
      "11:\tlearn: 2793.1104723\ttotal: 269ms\tremaining: 179ms\n",
      "12:\tlearn: 2738.4091099\ttotal: 292ms\tremaining: 157ms\n",
      "13:\tlearn: 2683.8110121\ttotal: 316ms\tremaining: 135ms\n",
      "14:\tlearn: 2635.1290608\ttotal: 340ms\tremaining: 113ms\n",
      "15:\tlearn: 2596.7590506\ttotal: 360ms\tremaining: 90ms\n",
      "16:\tlearn: 2559.6706139\ttotal: 383ms\tremaining: 67.5ms\n",
      "17:\tlearn: 2527.5958711\ttotal: 405ms\tremaining: 45ms\n",
      "18:\tlearn: 2499.9409897\ttotal: 428ms\tremaining: 22.5ms\n",
      "19:\tlearn: 2471.5368376\ttotal: 450ms\tremaining: 0us\n",
      "0:\tlearn: 4254.0490544\ttotal: 22.5ms\tremaining: 428ms\n",
      "1:\tlearn: 4019.7612887\ttotal: 44.9ms\tremaining: 404ms\n",
      "2:\tlearn: 3817.1126143\ttotal: 66ms\tremaining: 374ms\n",
      "3:\tlearn: 3634.6585465\ttotal: 87.6ms\tremaining: 350ms\n",
      "4:\tlearn: 3479.7387371\ttotal: 110ms\tremaining: 331ms\n",
      "5:\tlearn: 3336.1770565\ttotal: 132ms\tremaining: 309ms\n",
      "6:\tlearn: 3219.0888720\ttotal: 155ms\tremaining: 289ms\n",
      "7:\tlearn: 3108.6106103\ttotal: 178ms\tremaining: 267ms\n",
      "8:\tlearn: 3017.0572832\ttotal: 201ms\tremaining: 246ms\n",
      "9:\tlearn: 2929.5520010\ttotal: 224ms\tremaining: 224ms\n",
      "10:\tlearn: 2858.2908781\ttotal: 248ms\tremaining: 203ms\n",
      "11:\tlearn: 2793.5041492\ttotal: 270ms\tremaining: 180ms\n",
      "12:\tlearn: 2734.9081342\ttotal: 292ms\tremaining: 157ms\n",
      "13:\tlearn: 2687.7766625\ttotal: 314ms\tremaining: 135ms\n",
      "14:\tlearn: 2637.7751067\ttotal: 335ms\tremaining: 112ms\n",
      "15:\tlearn: 2596.4045048\ttotal: 354ms\tremaining: 88.5ms\n",
      "16:\tlearn: 2559.9022129\ttotal: 375ms\tremaining: 66.2ms\n",
      "17:\tlearn: 2527.5049213\ttotal: 396ms\tremaining: 44ms\n",
      "18:\tlearn: 2500.3104015\ttotal: 417ms\tremaining: 21.9ms\n",
      "19:\tlearn: 2474.2100086\ttotal: 438ms\tremaining: 0us\n",
      "0:\tlearn: 4483.4166826\ttotal: 23.5ms\tremaining: 682ms\n",
      "1:\tlearn: 4457.4315290\ttotal: 45.2ms\tremaining: 633ms\n",
      "2:\tlearn: 4431.3855101\ttotal: 66.8ms\tremaining: 602ms\n",
      "3:\tlearn: 4405.5446662\ttotal: 89.8ms\tremaining: 583ms\n",
      "4:\tlearn: 4380.8069381\ttotal: 113ms\tremaining: 565ms\n",
      "5:\tlearn: 4354.8408556\ttotal: 137ms\tremaining: 546ms\n",
      "6:\tlearn: 4329.4564899\ttotal: 160ms\tremaining: 525ms\n",
      "7:\tlearn: 4304.4355732\ttotal: 183ms\tremaining: 504ms\n",
      "8:\tlearn: 4280.4081248\ttotal: 207ms\tremaining: 484ms\n",
      "9:\tlearn: 4256.8264464\ttotal: 231ms\tremaining: 462ms\n",
      "10:\tlearn: 4233.7906047\ttotal: 255ms\tremaining: 440ms\n",
      "11:\tlearn: 4210.8435454\ttotal: 278ms\tremaining: 417ms\n",
      "12:\tlearn: 4186.9392022\ttotal: 301ms\tremaining: 393ms\n",
      "13:\tlearn: 4163.6107269\ttotal: 324ms\tremaining: 370ms\n",
      "14:\tlearn: 4140.6086946\ttotal: 348ms\tremaining: 348ms\n",
      "15:\tlearn: 4118.7855176\ttotal: 372ms\tremaining: 326ms\n",
      "16:\tlearn: 4097.2974866\ttotal: 397ms\tremaining: 303ms\n",
      "17:\tlearn: 4075.4251750\ttotal: 421ms\tremaining: 281ms\n",
      "18:\tlearn: 4053.4165188\ttotal: 445ms\tremaining: 257ms\n",
      "19:\tlearn: 4031.4241818\ttotal: 468ms\tremaining: 234ms\n",
      "20:\tlearn: 4010.7780358\ttotal: 491ms\tremaining: 210ms\n",
      "21:\tlearn: 3990.1882263\ttotal: 515ms\tremaining: 187ms\n",
      "22:\tlearn: 3969.4041984\ttotal: 539ms\tremaining: 164ms\n",
      "23:\tlearn: 3949.4916883\ttotal: 562ms\tremaining: 141ms\n",
      "24:\tlearn: 3929.1279618\ttotal: 585ms\tremaining: 117ms\n",
      "25:\tlearn: 3909.0144515\ttotal: 608ms\tremaining: 93.5ms\n",
      "26:\tlearn: 3889.3557798\ttotal: 631ms\tremaining: 70.1ms\n",
      "27:\tlearn: 3869.6403219\ttotal: 654ms\tremaining: 46.7ms\n",
      "28:\tlearn: 3850.4072755\ttotal: 678ms\tremaining: 23.4ms\n",
      "29:\tlearn: 3831.5842310\ttotal: 701ms\tremaining: 0us\n",
      "0:\tlearn: 4488.0415063\ttotal: 23.1ms\tremaining: 669ms\n",
      "1:\tlearn: 4461.0211154\ttotal: 44.6ms\tremaining: 624ms\n",
      "2:\tlearn: 4434.3064390\ttotal: 65.6ms\tremaining: 590ms\n",
      "3:\tlearn: 4408.3179934\ttotal: 88.1ms\tremaining: 573ms\n",
      "4:\tlearn: 4382.1822089\ttotal: 111ms\tremaining: 553ms\n",
      "5:\tlearn: 4357.2002734\ttotal: 134ms\tremaining: 535ms\n",
      "6:\tlearn: 4332.9439433\ttotal: 157ms\tremaining: 514ms\n",
      "7:\tlearn: 4308.5790645\ttotal: 181ms\tremaining: 499ms\n",
      "8:\tlearn: 4283.6494143\ttotal: 203ms\tremaining: 475ms\n",
      "9:\tlearn: 4259.8563985\ttotal: 227ms\tremaining: 455ms\n",
      "10:\tlearn: 4236.3282446\ttotal: 249ms\tremaining: 431ms\n",
      "11:\tlearn: 4213.0777450\ttotal: 273ms\tremaining: 409ms\n",
      "12:\tlearn: 4189.9037686\ttotal: 294ms\tremaining: 384ms\n",
      "13:\tlearn: 4167.2383467\ttotal: 317ms\tremaining: 362ms\n",
      "14:\tlearn: 4144.5134724\ttotal: 339ms\tremaining: 339ms\n",
      "15:\tlearn: 4122.0321992\ttotal: 363ms\tremaining: 317ms\n",
      "16:\tlearn: 4100.0136216\ttotal: 385ms\tremaining: 294ms\n",
      "17:\tlearn: 4078.5823956\ttotal: 409ms\tremaining: 273ms\n",
      "18:\tlearn: 4056.7088616\ttotal: 433ms\tremaining: 251ms\n",
      "19:\tlearn: 4035.3498798\ttotal: 456ms\tremaining: 228ms\n",
      "20:\tlearn: 4014.0635219\ttotal: 479ms\tremaining: 205ms\n",
      "21:\tlearn: 3993.6216086\ttotal: 502ms\tremaining: 183ms\n",
      "22:\tlearn: 3973.7003358\ttotal: 526ms\tremaining: 160ms\n",
      "23:\tlearn: 3953.1196555\ttotal: 550ms\tremaining: 138ms\n",
      "24:\tlearn: 3932.6141795\ttotal: 574ms\tremaining: 115ms\n",
      "25:\tlearn: 3912.8257813\ttotal: 598ms\tremaining: 92ms\n",
      "26:\tlearn: 3893.9097368\ttotal: 621ms\tremaining: 69ms\n",
      "27:\tlearn: 3873.8595191\ttotal: 644ms\tremaining: 46ms\n",
      "28:\tlearn: 3855.1691301\ttotal: 667ms\tremaining: 23ms\n",
      "29:\tlearn: 3836.7732081\ttotal: 690ms\tremaining: 0us\n",
      "0:\tlearn: 4493.1600389\ttotal: 23.1ms\tremaining: 670ms\n",
      "1:\tlearn: 4466.1058944\ttotal: 44.9ms\tremaining: 629ms\n",
      "2:\tlearn: 4439.3566488\ttotal: 66.8ms\tremaining: 601ms\n",
      "3:\tlearn: 4413.5973713\ttotal: 88ms\tremaining: 572ms\n",
      "4:\tlearn: 4387.2353855\ttotal: 111ms\tremaining: 556ms\n",
      "5:\tlearn: 4362.2933004\ttotal: 135ms\tremaining: 539ms\n",
      "6:\tlearn: 4337.0247325\ttotal: 158ms\tremaining: 518ms\n",
      "7:\tlearn: 4311.9205357\ttotal: 179ms\tremaining: 493ms\n",
      "8:\tlearn: 4288.0026078\ttotal: 202ms\tremaining: 471ms\n",
      "9:\tlearn: 4263.7229986\ttotal: 225ms\tremaining: 450ms\n",
      "10:\tlearn: 4239.5446743\ttotal: 247ms\tremaining: 427ms\n",
      "11:\tlearn: 4216.0422978\ttotal: 269ms\tremaining: 403ms\n",
      "12:\tlearn: 4193.1951507\ttotal: 292ms\tremaining: 382ms\n",
      "13:\tlearn: 4170.8392842\ttotal: 316ms\tremaining: 361ms\n",
      "14:\tlearn: 4148.0692751\ttotal: 339ms\tremaining: 339ms\n",
      "15:\tlearn: 4125.1250459\ttotal: 362ms\tremaining: 317ms\n",
      "16:\tlearn: 4103.1863009\ttotal: 386ms\tremaining: 295ms\n",
      "17:\tlearn: 4081.1056039\ttotal: 409ms\tremaining: 273ms\n",
      "18:\tlearn: 4059.0525454\ttotal: 432ms\tremaining: 250ms\n",
      "19:\tlearn: 4037.7224207\ttotal: 455ms\tremaining: 228ms\n",
      "20:\tlearn: 4016.5531468\ttotal: 476ms\tremaining: 204ms\n",
      "21:\tlearn: 3996.4243023\ttotal: 500ms\tremaining: 182ms\n",
      "22:\tlearn: 3976.3426660\ttotal: 523ms\tremaining: 159ms\n",
      "23:\tlearn: 3955.9047693\ttotal: 547ms\tremaining: 137ms\n",
      "24:\tlearn: 3935.7520762\ttotal: 569ms\tremaining: 114ms\n",
      "25:\tlearn: 3916.5128467\ttotal: 591ms\tremaining: 90.9ms\n",
      "26:\tlearn: 3897.1645545\ttotal: 613ms\tremaining: 68.1ms\n",
      "27:\tlearn: 3877.8638508\ttotal: 635ms\tremaining: 45.4ms\n",
      "28:\tlearn: 3857.5879934\ttotal: 659ms\tremaining: 22.7ms\n",
      "29:\tlearn: 3838.3054947\ttotal: 682ms\tremaining: 0us\n",
      "0:\tlearn: 4497.6143637\ttotal: 22.8ms\tremaining: 662ms\n",
      "1:\tlearn: 4471.2047353\ttotal: 44.6ms\tremaining: 624ms\n",
      "2:\tlearn: 4444.5373601\ttotal: 64.3ms\tremaining: 578ms\n",
      "3:\tlearn: 4418.8358795\ttotal: 83.9ms\tremaining: 545ms\n",
      "4:\tlearn: 4392.6569468\ttotal: 103ms\tremaining: 516ms\n",
      "5:\tlearn: 4367.8148273\ttotal: 124ms\tremaining: 496ms\n",
      "6:\tlearn: 4343.4928052\ttotal: 144ms\tremaining: 474ms\n",
      "7:\tlearn: 4317.5334566\ttotal: 165ms\tremaining: 455ms\n",
      "8:\tlearn: 4292.5941887\ttotal: 187ms\tremaining: 435ms\n",
      "9:\tlearn: 4268.2585747\ttotal: 207ms\tremaining: 415ms\n",
      "10:\tlearn: 4244.8209599\ttotal: 227ms\tremaining: 393ms\n",
      "11:\tlearn: 4221.8732300\ttotal: 247ms\tremaining: 371ms\n",
      "12:\tlearn: 4197.8559387\ttotal: 267ms\tremaining: 349ms\n",
      "13:\tlearn: 4175.2638047\ttotal: 288ms\tremaining: 329ms\n",
      "14:\tlearn: 4152.3973704\ttotal: 309ms\tremaining: 309ms\n",
      "15:\tlearn: 4129.7699589\ttotal: 329ms\tremaining: 288ms\n",
      "16:\tlearn: 4107.7648324\ttotal: 350ms\tremaining: 268ms\n",
      "17:\tlearn: 4086.3948016\ttotal: 373ms\tremaining: 248ms\n",
      "18:\tlearn: 4064.7798415\ttotal: 394ms\tremaining: 228ms\n",
      "19:\tlearn: 4043.2279543\ttotal: 415ms\tremaining: 208ms\n",
      "20:\tlearn: 4022.6807001\ttotal: 437ms\tremaining: 187ms\n",
      "21:\tlearn: 4002.4311851\ttotal: 458ms\tremaining: 166ms\n",
      "22:\tlearn: 3981.9115390\ttotal: 479ms\tremaining: 146ms\n",
      "23:\tlearn: 3961.5610982\ttotal: 501ms\tremaining: 125ms\n",
      "24:\tlearn: 3942.0286146\ttotal: 521ms\tremaining: 104ms\n",
      "25:\tlearn: 3922.1945607\ttotal: 542ms\tremaining: 83.4ms\n",
      "26:\tlearn: 3902.8763778\ttotal: 564ms\tremaining: 62.6ms\n",
      "27:\tlearn: 3883.1371444\ttotal: 584ms\tremaining: 41.7ms\n",
      "28:\tlearn: 3863.9654640\ttotal: 607ms\tremaining: 20.9ms\n",
      "29:\tlearn: 3845.7621370\ttotal: 628ms\tremaining: 0us\n",
      "0:\tlearn: 4378.3817350\ttotal: 21.9ms\tremaining: 635ms\n",
      "1:\tlearn: 4256.0157492\ttotal: 44ms\tremaining: 616ms\n",
      "2:\tlearn: 4137.8450675\ttotal: 64.7ms\tremaining: 583ms\n",
      "3:\tlearn: 4026.3845438\ttotal: 85.9ms\tremaining: 558ms\n",
      "4:\tlearn: 3926.8370111\ttotal: 107ms\tremaining: 536ms\n",
      "5:\tlearn: 3825.2198524\ttotal: 129ms\tremaining: 514ms\n",
      "6:\tlearn: 3729.5125036\ttotal: 150ms\tremaining: 493ms\n",
      "7:\tlearn: 3641.1661781\ttotal: 169ms\tremaining: 465ms\n",
      "8:\tlearn: 3561.2756423\ttotal: 191ms\tremaining: 445ms\n",
      "9:\tlearn: 3485.6230792\ttotal: 211ms\tremaining: 423ms\n",
      "10:\tlearn: 3416.7580960\ttotal: 233ms\tremaining: 403ms\n",
      "11:\tlearn: 3349.8095159\ttotal: 253ms\tremaining: 380ms\n",
      "12:\tlearn: 3283.9863977\ttotal: 274ms\tremaining: 358ms\n",
      "13:\tlearn: 3223.4434177\ttotal: 295ms\tremaining: 337ms\n",
      "14:\tlearn: 3168.8122026\ttotal: 316ms\tremaining: 316ms\n",
      "15:\tlearn: 3115.2434927\ttotal: 336ms\tremaining: 294ms\n",
      "16:\tlearn: 3065.9727762\ttotal: 357ms\tremaining: 273ms\n",
      "17:\tlearn: 3019.5713084\ttotal: 377ms\tremaining: 251ms\n",
      "18:\tlearn: 2978.4944675\ttotal: 399ms\tremaining: 231ms\n",
      "19:\tlearn: 2935.8910201\ttotal: 418ms\tremaining: 209ms\n",
      "20:\tlearn: 2899.0329461\ttotal: 439ms\tremaining: 188ms\n",
      "21:\tlearn: 2862.1630824\ttotal: 458ms\tremaining: 167ms\n",
      "22:\tlearn: 2828.4449963\ttotal: 479ms\tremaining: 146ms\n",
      "23:\tlearn: 2796.2708016\ttotal: 500ms\tremaining: 125ms\n",
      "24:\tlearn: 2765.2620999\ttotal: 520ms\tremaining: 104ms\n",
      "25:\tlearn: 2737.5903604\ttotal: 541ms\tremaining: 83.2ms\n",
      "26:\tlearn: 2712.1309293\ttotal: 562ms\tremaining: 62.4ms\n",
      "27:\tlearn: 2685.5524990\ttotal: 582ms\tremaining: 41.6ms\n",
      "28:\tlearn: 2662.4644966\ttotal: 603ms\tremaining: 20.8ms\n",
      "29:\tlearn: 2641.4243583\ttotal: 624ms\tremaining: 0us\n",
      "0:\tlearn: 4378.5504748\ttotal: 23ms\tremaining: 667ms\n",
      "1:\tlearn: 4252.5103222\ttotal: 43.8ms\tremaining: 613ms\n",
      "2:\tlearn: 4136.3903326\ttotal: 63.9ms\tremaining: 575ms\n",
      "3:\tlearn: 4026.0104064\ttotal: 85.1ms\tremaining: 553ms\n",
      "4:\tlearn: 3920.7747100\ttotal: 106ms\tremaining: 529ms\n",
      "5:\tlearn: 3825.8890004\ttotal: 128ms\tremaining: 510ms\n",
      "6:\tlearn: 3737.7528113\ttotal: 148ms\tremaining: 487ms\n",
      "7:\tlearn: 3648.5345776\ttotal: 168ms\tremaining: 462ms\n",
      "8:\tlearn: 3565.1053543\ttotal: 188ms\tremaining: 439ms\n",
      "9:\tlearn: 3489.4877070\ttotal: 209ms\tremaining: 417ms\n",
      "10:\tlearn: 3417.3651480\ttotal: 231ms\tremaining: 398ms\n",
      "11:\tlearn: 3349.5626632\ttotal: 251ms\tremaining: 377ms\n",
      "12:\tlearn: 3284.1411481\ttotal: 271ms\tremaining: 355ms\n",
      "13:\tlearn: 3224.8290835\ttotal: 292ms\tremaining: 333ms\n",
      "14:\tlearn: 3171.3281099\ttotal: 313ms\tremaining: 313ms\n",
      "15:\tlearn: 3121.1812272\ttotal: 334ms\tremaining: 292ms\n",
      "16:\tlearn: 3073.7814118\ttotal: 354ms\tremaining: 271ms\n",
      "17:\tlearn: 3026.9541024\ttotal: 377ms\tremaining: 251ms\n",
      "18:\tlearn: 2985.5849605\ttotal: 396ms\tremaining: 229ms\n",
      "19:\tlearn: 2947.2065911\ttotal: 418ms\tremaining: 209ms\n",
      "20:\tlearn: 2905.4403885\ttotal: 438ms\tremaining: 188ms\n",
      "21:\tlearn: 2867.6056244\ttotal: 459ms\tremaining: 167ms\n",
      "22:\tlearn: 2831.7840678\ttotal: 481ms\tremaining: 146ms\n",
      "23:\tlearn: 2801.4649398\ttotal: 502ms\tremaining: 126ms\n",
      "24:\tlearn: 2769.6720602\ttotal: 524ms\tremaining: 105ms\n",
      "25:\tlearn: 2742.4896550\ttotal: 544ms\tremaining: 83.7ms\n",
      "26:\tlearn: 2718.0236119\ttotal: 564ms\tremaining: 62.7ms\n",
      "27:\tlearn: 2694.7882313\ttotal: 585ms\tremaining: 41.8ms\n",
      "28:\tlearn: 2669.3450722\ttotal: 604ms\tremaining: 20.8ms\n",
      "29:\tlearn: 2648.0452590\ttotal: 625ms\tremaining: 0us\n",
      "0:\tlearn: 4388.4262026\ttotal: 21.9ms\tremaining: 635ms\n",
      "1:\tlearn: 4258.7971610\ttotal: 42.9ms\tremaining: 601ms\n",
      "2:\tlearn: 4139.5701530\ttotal: 63.5ms\tremaining: 571ms\n",
      "3:\tlearn: 4030.1567755\ttotal: 84.8ms\tremaining: 551ms\n",
      "4:\tlearn: 3927.7906352\ttotal: 107ms\tremaining: 534ms\n",
      "5:\tlearn: 3829.4506811\ttotal: 128ms\tremaining: 512ms\n",
      "6:\tlearn: 3738.1954617\ttotal: 149ms\tremaining: 490ms\n",
      "7:\tlearn: 3653.0988194\ttotal: 169ms\tremaining: 466ms\n",
      "8:\tlearn: 3573.3778460\ttotal: 192ms\tremaining: 447ms\n",
      "9:\tlearn: 3496.0301052\ttotal: 213ms\tremaining: 426ms\n",
      "10:\tlearn: 3420.5615818\ttotal: 234ms\tremaining: 405ms\n",
      "11:\tlearn: 3355.6185281\ttotal: 255ms\tremaining: 383ms\n",
      "12:\tlearn: 3288.9632202\ttotal: 276ms\tremaining: 361ms\n",
      "13:\tlearn: 3233.2254983\ttotal: 297ms\tremaining: 340ms\n",
      "14:\tlearn: 3177.8780073\ttotal: 318ms\tremaining: 318ms\n",
      "15:\tlearn: 3122.3219573\ttotal: 339ms\tremaining: 297ms\n",
      "16:\tlearn: 3073.5081742\ttotal: 361ms\tremaining: 276ms\n",
      "17:\tlearn: 3030.4508421\ttotal: 384ms\tremaining: 256ms\n",
      "18:\tlearn: 2984.2665018\ttotal: 404ms\tremaining: 234ms\n",
      "19:\tlearn: 2941.2217107\ttotal: 424ms\tremaining: 212ms\n",
      "20:\tlearn: 2904.2238444\ttotal: 445ms\tremaining: 191ms\n",
      "21:\tlearn: 2865.3568276\ttotal: 465ms\tremaining: 169ms\n",
      "22:\tlearn: 2834.3783310\ttotal: 485ms\tremaining: 148ms\n",
      "23:\tlearn: 2800.7171916\ttotal: 506ms\tremaining: 126ms\n",
      "24:\tlearn: 2772.6602593\ttotal: 527ms\tremaining: 105ms\n",
      "25:\tlearn: 2742.2890271\ttotal: 547ms\tremaining: 84.2ms\n",
      "26:\tlearn: 2717.7793570\ttotal: 568ms\tremaining: 63.1ms\n",
      "27:\tlearn: 2691.9956608\ttotal: 589ms\tremaining: 42.1ms\n",
      "28:\tlearn: 2669.2049817\ttotal: 610ms\tremaining: 21ms\n",
      "29:\tlearn: 2647.9384543\ttotal: 630ms\tremaining: 0us\n",
      "0:\tlearn: 4388.1782903\ttotal: 23.2ms\tremaining: 672ms\n",
      "1:\tlearn: 4263.9184422\ttotal: 43.6ms\tremaining: 611ms\n",
      "2:\tlearn: 4146.4885093\ttotal: 66ms\tremaining: 594ms\n",
      "3:\tlearn: 4033.9286694\ttotal: 87.4ms\tremaining: 568ms\n",
      "4:\tlearn: 3931.4583526\ttotal: 109ms\tremaining: 544ms\n",
      "5:\tlearn: 3831.0149880\ttotal: 132ms\tremaining: 528ms\n",
      "6:\tlearn: 3741.6099320\ttotal: 155ms\tremaining: 508ms\n",
      "7:\tlearn: 3650.8480413\ttotal: 177ms\tremaining: 486ms\n",
      "8:\tlearn: 3567.7856637\ttotal: 200ms\tremaining: 467ms\n",
      "9:\tlearn: 3491.6934419\ttotal: 222ms\tremaining: 444ms\n",
      "10:\tlearn: 3419.7693348\ttotal: 246ms\tremaining: 424ms\n",
      "11:\tlearn: 3351.9740491\ttotal: 269ms\tremaining: 403ms\n",
      "12:\tlearn: 3289.3184801\ttotal: 293ms\tremaining: 383ms\n",
      "13:\tlearn: 3232.3446677\ttotal: 315ms\tremaining: 360ms\n",
      "14:\tlearn: 3175.9307251\ttotal: 339ms\tremaining: 339ms\n",
      "15:\tlearn: 3126.7076452\ttotal: 362ms\tremaining: 317ms\n",
      "16:\tlearn: 3079.3401226\ttotal: 385ms\tremaining: 295ms\n",
      "17:\tlearn: 3030.8222451\ttotal: 409ms\tremaining: 273ms\n",
      "18:\tlearn: 2986.4537094\ttotal: 433ms\tremaining: 251ms\n",
      "19:\tlearn: 2946.7209818\ttotal: 456ms\tremaining: 228ms\n",
      "20:\tlearn: 2909.4845692\ttotal: 479ms\tremaining: 205ms\n",
      "21:\tlearn: 2872.1507852\ttotal: 501ms\tremaining: 182ms\n",
      "22:\tlearn: 2838.2952195\ttotal: 525ms\tremaining: 160ms\n",
      "23:\tlearn: 2804.8147735\ttotal: 549ms\tremaining: 137ms\n",
      "24:\tlearn: 2775.9655147\ttotal: 573ms\tremaining: 115ms\n",
      "25:\tlearn: 2746.3254226\ttotal: 594ms\tremaining: 91.4ms\n",
      "26:\tlearn: 2720.8048236\ttotal: 613ms\tremaining: 68.1ms\n",
      "27:\tlearn: 2697.6514579\ttotal: 635ms\tremaining: 45.3ms\n",
      "28:\tlearn: 2672.2095444\ttotal: 657ms\tremaining: 22.7ms\n",
      "29:\tlearn: 2650.4182697\ttotal: 680ms\tremaining: 0us\n",
      "0:\tlearn: 4249.7856158\ttotal: 23.6ms\tremaining: 683ms\n",
      "1:\tlearn: 4022.9301018\ttotal: 45.5ms\tremaining: 638ms\n",
      "2:\tlearn: 3819.2572499\ttotal: 68.8ms\tremaining: 619ms\n",
      "3:\tlearn: 3637.7704823\ttotal: 91.4ms\tremaining: 594ms\n",
      "4:\tlearn: 3481.5431767\ttotal: 115ms\tremaining: 573ms\n",
      "5:\tlearn: 3336.0732838\ttotal: 137ms\tremaining: 549ms\n",
      "6:\tlearn: 3216.5707985\ttotal: 161ms\tremaining: 529ms\n",
      "7:\tlearn: 3104.1769359\ttotal: 185ms\tremaining: 509ms\n",
      "8:\tlearn: 3016.6771680\ttotal: 209ms\tremaining: 487ms\n",
      "9:\tlearn: 2928.4854236\ttotal: 231ms\tremaining: 462ms\n",
      "10:\tlearn: 2860.1709665\ttotal: 254ms\tremaining: 438ms\n",
      "11:\tlearn: 2793.4258826\ttotal: 276ms\tremaining: 414ms\n",
      "12:\tlearn: 2734.8401680\ttotal: 299ms\tremaining: 390ms\n",
      "13:\tlearn: 2681.8692697\ttotal: 323ms\tremaining: 370ms\n",
      "14:\tlearn: 2632.6171700\ttotal: 347ms\tremaining: 347ms\n",
      "15:\tlearn: 2593.7552646\ttotal: 369ms\tremaining: 323ms\n",
      "16:\tlearn: 2553.8912995\ttotal: 391ms\tremaining: 299ms\n",
      "17:\tlearn: 2523.5536473\ttotal: 415ms\tremaining: 276ms\n",
      "18:\tlearn: 2493.9459883\ttotal: 438ms\tremaining: 254ms\n",
      "19:\tlearn: 2463.5117127\ttotal: 461ms\tremaining: 230ms\n",
      "20:\tlearn: 2435.6479975\ttotal: 482ms\tremaining: 207ms\n",
      "21:\tlearn: 2414.7413326\ttotal: 504ms\tremaining: 183ms\n",
      "22:\tlearn: 2391.0458941\ttotal: 527ms\tremaining: 160ms\n",
      "23:\tlearn: 2372.6925595\ttotal: 548ms\tremaining: 137ms\n",
      "24:\tlearn: 2354.8716195\ttotal: 572ms\tremaining: 114ms\n",
      "25:\tlearn: 2338.7564610\ttotal: 593ms\tremaining: 91.3ms\n",
      "26:\tlearn: 2323.5119028\ttotal: 614ms\tremaining: 68.2ms\n",
      "27:\tlearn: 2308.6237593\ttotal: 637ms\tremaining: 45.5ms\n",
      "28:\tlearn: 2295.8423524\ttotal: 661ms\tremaining: 22.8ms\n",
      "29:\tlearn: 2279.0148475\ttotal: 684ms\tremaining: 0us\n",
      "0:\tlearn: 4244.3436523\ttotal: 22.6ms\tremaining: 656ms\n",
      "1:\tlearn: 4009.8642523\ttotal: 45ms\tremaining: 630ms\n",
      "2:\tlearn: 3801.9329664\ttotal: 67.8ms\tremaining: 610ms\n",
      "3:\tlearn: 3625.0522252\ttotal: 90.3ms\tremaining: 587ms\n",
      "4:\tlearn: 3464.2954236\ttotal: 114ms\tremaining: 570ms\n",
      "5:\tlearn: 3327.9644952\ttotal: 135ms\tremaining: 542ms\n",
      "6:\tlearn: 3201.4487628\ttotal: 159ms\tremaining: 523ms\n",
      "7:\tlearn: 3091.7867894\ttotal: 182ms\tremaining: 501ms\n",
      "8:\tlearn: 2998.1082568\ttotal: 202ms\tremaining: 471ms\n",
      "9:\tlearn: 2914.8572087\ttotal: 224ms\tremaining: 448ms\n",
      "10:\tlearn: 2843.6284647\ttotal: 246ms\tremaining: 424ms\n",
      "11:\tlearn: 2777.1015173\ttotal: 267ms\tremaining: 401ms\n",
      "12:\tlearn: 2723.5668713\ttotal: 289ms\tremaining: 378ms\n",
      "13:\tlearn: 2675.1848016\ttotal: 311ms\tremaining: 355ms\n",
      "14:\tlearn: 2627.2432648\ttotal: 335ms\tremaining: 335ms\n",
      "15:\tlearn: 2589.5129539\ttotal: 357ms\tremaining: 312ms\n",
      "16:\tlearn: 2548.4770381\ttotal: 378ms\tremaining: 289ms\n",
      "17:\tlearn: 2514.3940818\ttotal: 401ms\tremaining: 267ms\n",
      "18:\tlearn: 2486.3459911\ttotal: 422ms\tremaining: 244ms\n",
      "19:\tlearn: 2461.7922225\ttotal: 442ms\tremaining: 221ms\n",
      "20:\tlearn: 2436.2457033\ttotal: 464ms\tremaining: 199ms\n",
      "21:\tlearn: 2412.0399755\ttotal: 486ms\tremaining: 177ms\n",
      "22:\tlearn: 2391.5889331\ttotal: 508ms\tremaining: 155ms\n",
      "23:\tlearn: 2372.8425669\ttotal: 531ms\tremaining: 133ms\n",
      "24:\tlearn: 2356.0745219\ttotal: 553ms\tremaining: 111ms\n",
      "25:\tlearn: 2340.1062371\ttotal: 575ms\tremaining: 88.5ms\n",
      "26:\tlearn: 2325.3087424\ttotal: 598ms\tremaining: 66.4ms\n",
      "27:\tlearn: 2311.6917265\ttotal: 621ms\tremaining: 44.4ms\n",
      "28:\tlearn: 2299.7934481\ttotal: 642ms\tremaining: 22.1ms\n",
      "29:\tlearn: 2287.9133085\ttotal: 664ms\tremaining: 0us\n",
      "0:\tlearn: 4260.2163481\ttotal: 23.3ms\tremaining: 677ms\n",
      "1:\tlearn: 4019.7767633\ttotal: 44.8ms\tremaining: 627ms\n",
      "2:\tlearn: 3813.2248718\ttotal: 65.9ms\tremaining: 593ms\n",
      "3:\tlearn: 3637.2127282\ttotal: 88.6ms\tremaining: 576ms\n",
      "4:\tlearn: 3472.2465265\ttotal: 111ms\tremaining: 557ms\n",
      "5:\tlearn: 3333.6093411\ttotal: 134ms\tremaining: 536ms\n",
      "6:\tlearn: 3215.7995636\ttotal: 158ms\tremaining: 518ms\n",
      "7:\tlearn: 3107.8589222\ttotal: 181ms\tremaining: 498ms\n",
      "8:\tlearn: 3010.7855854\ttotal: 204ms\tremaining: 477ms\n",
      "9:\tlearn: 2929.1383237\ttotal: 227ms\tremaining: 454ms\n",
      "10:\tlearn: 2857.6395253\ttotal: 250ms\tremaining: 432ms\n",
      "11:\tlearn: 2793.1104723\ttotal: 273ms\tremaining: 410ms\n",
      "12:\tlearn: 2738.4091099\ttotal: 296ms\tremaining: 388ms\n",
      "13:\tlearn: 2683.8110121\ttotal: 319ms\tremaining: 364ms\n",
      "14:\tlearn: 2635.1290608\ttotal: 340ms\tremaining: 340ms\n",
      "15:\tlearn: 2596.7590506\ttotal: 361ms\tremaining: 316ms\n",
      "16:\tlearn: 2559.6706139\ttotal: 385ms\tremaining: 295ms\n",
      "17:\tlearn: 2527.5958711\ttotal: 407ms\tremaining: 271ms\n",
      "18:\tlearn: 2499.9409897\ttotal: 428ms\tremaining: 248ms\n",
      "19:\tlearn: 2471.5368376\ttotal: 450ms\tremaining: 225ms\n",
      "20:\tlearn: 2448.9252762\ttotal: 472ms\tremaining: 202ms\n",
      "21:\tlearn: 2425.9609060\ttotal: 494ms\tremaining: 180ms\n",
      "22:\tlearn: 2406.4027508\ttotal: 517ms\tremaining: 157ms\n",
      "23:\tlearn: 2385.5776643\ttotal: 541ms\tremaining: 135ms\n",
      "24:\tlearn: 2367.2428435\ttotal: 564ms\tremaining: 113ms\n",
      "25:\tlearn: 2349.8379296\ttotal: 586ms\tremaining: 90.1ms\n",
      "26:\tlearn: 2335.5175744\ttotal: 607ms\tremaining: 67.5ms\n",
      "27:\tlearn: 2321.1403700\ttotal: 629ms\tremaining: 44.9ms\n",
      "28:\tlearn: 2307.4134616\ttotal: 652ms\tremaining: 22.5ms\n",
      "29:\tlearn: 2295.5611806\ttotal: 674ms\tremaining: 0us\n",
      "0:\tlearn: 4254.0490544\ttotal: 24.4ms\tremaining: 706ms\n",
      "1:\tlearn: 4019.7612887\ttotal: 48.3ms\tremaining: 676ms\n",
      "2:\tlearn: 3817.1126143\ttotal: 70.3ms\tremaining: 633ms\n",
      "3:\tlearn: 3634.6585465\ttotal: 93.2ms\tremaining: 606ms\n",
      "4:\tlearn: 3479.7387371\ttotal: 116ms\tremaining: 581ms\n",
      "5:\tlearn: 3336.1770565\ttotal: 138ms\tremaining: 552ms\n",
      "6:\tlearn: 3219.0888720\ttotal: 160ms\tremaining: 526ms\n",
      "7:\tlearn: 3108.6106103\ttotal: 182ms\tremaining: 501ms\n",
      "8:\tlearn: 3017.0572832\ttotal: 205ms\tremaining: 478ms\n",
      "9:\tlearn: 2929.5520010\ttotal: 229ms\tremaining: 458ms\n",
      "10:\tlearn: 2858.2908781\ttotal: 251ms\tremaining: 434ms\n",
      "11:\tlearn: 2793.5041492\ttotal: 274ms\tremaining: 411ms\n",
      "12:\tlearn: 2734.9081342\ttotal: 298ms\tremaining: 389ms\n",
      "13:\tlearn: 2687.7766625\ttotal: 320ms\tremaining: 366ms\n",
      "14:\tlearn: 2637.7751067\ttotal: 343ms\tremaining: 343ms\n",
      "15:\tlearn: 2596.4045048\ttotal: 365ms\tremaining: 320ms\n",
      "16:\tlearn: 2559.9022129\ttotal: 388ms\tremaining: 296ms\n",
      "17:\tlearn: 2527.5049213\ttotal: 410ms\tremaining: 274ms\n",
      "18:\tlearn: 2500.3104015\ttotal: 432ms\tremaining: 250ms\n",
      "19:\tlearn: 2474.2100086\ttotal: 453ms\tremaining: 226ms\n",
      "20:\tlearn: 2447.0600194\ttotal: 476ms\tremaining: 204ms\n",
      "21:\tlearn: 2425.7818851\ttotal: 498ms\tremaining: 181ms\n",
      "22:\tlearn: 2403.3962864\ttotal: 520ms\tremaining: 158ms\n",
      "23:\tlearn: 2383.4342024\ttotal: 541ms\tremaining: 135ms\n",
      "24:\tlearn: 2365.0240432\ttotal: 565ms\tremaining: 113ms\n",
      "25:\tlearn: 2348.7867103\ttotal: 588ms\tremaining: 90.5ms\n",
      "26:\tlearn: 2333.4703517\ttotal: 611ms\tremaining: 67.9ms\n",
      "27:\tlearn: 2321.3659018\ttotal: 635ms\tremaining: 45.3ms\n",
      "28:\tlearn: 2306.3262026\ttotal: 659ms\tremaining: 22.7ms\n",
      "29:\tlearn: 2293.7616719\ttotal: 680ms\tremaining: 0us\n",
      "0:\tlearn: 4478.8954477\ttotal: 60.7ms\tremaining: 546ms\n",
      "1:\tlearn: 4448.2907369\ttotal: 119ms\tremaining: 478ms\n",
      "2:\tlearn: 4418.2003275\ttotal: 178ms\tremaining: 416ms\n",
      "3:\tlearn: 4388.4224020\ttotal: 235ms\tremaining: 352ms\n",
      "4:\tlearn: 4358.8763009\ttotal: 293ms\tremaining: 293ms\n",
      "5:\tlearn: 4329.7407800\ttotal: 351ms\tremaining: 234ms\n",
      "6:\tlearn: 4301.2295104\ttotal: 408ms\tremaining: 175ms\n",
      "7:\tlearn: 4272.8528025\ttotal: 466ms\tremaining: 116ms\n",
      "8:\tlearn: 4244.5297514\ttotal: 526ms\tremaining: 58.4ms\n",
      "9:\tlearn: 4216.9258545\ttotal: 586ms\tremaining: 0us\n",
      "0:\tlearn: 4484.4457436\ttotal: 59.5ms\tremaining: 536ms\n",
      "1:\tlearn: 4453.6848417\ttotal: 118ms\tremaining: 471ms\n",
      "2:\tlearn: 4423.7794529\ttotal: 177ms\tremaining: 413ms\n",
      "3:\tlearn: 4393.8420279\ttotal: 234ms\tremaining: 350ms\n",
      "4:\tlearn: 4364.4803448\ttotal: 291ms\tremaining: 291ms\n",
      "5:\tlearn: 4335.8276718\ttotal: 348ms\tremaining: 232ms\n",
      "6:\tlearn: 4307.1747479\ttotal: 406ms\tremaining: 174ms\n",
      "7:\tlearn: 4278.5292799\ttotal: 462ms\tremaining: 115ms\n",
      "8:\tlearn: 4250.5292739\ttotal: 521ms\tremaining: 57.9ms\n",
      "9:\tlearn: 4222.7840850\ttotal: 582ms\tremaining: 0us\n",
      "0:\tlearn: 4489.0979797\ttotal: 61.9ms\tremaining: 557ms\n",
      "1:\tlearn: 4458.7391232\ttotal: 120ms\tremaining: 480ms\n",
      "2:\tlearn: 4428.5243513\ttotal: 179ms\tremaining: 417ms\n",
      "3:\tlearn: 4398.6420412\ttotal: 237ms\tremaining: 355ms\n",
      "4:\tlearn: 4368.9416076\ttotal: 296ms\tremaining: 296ms\n",
      "5:\tlearn: 4339.4640520\ttotal: 353ms\tremaining: 235ms\n",
      "6:\tlearn: 4310.4919542\ttotal: 410ms\tremaining: 176ms\n",
      "7:\tlearn: 4282.0049176\ttotal: 467ms\tremaining: 117ms\n",
      "8:\tlearn: 4253.5558317\ttotal: 525ms\tremaining: 58.3ms\n",
      "9:\tlearn: 4226.0744096\ttotal: 584ms\tremaining: 0us\n",
      "0:\tlearn: 4494.0235528\ttotal: 59.6ms\tremaining: 537ms\n",
      "1:\tlearn: 4463.2436686\ttotal: 119ms\tremaining: 476ms\n",
      "2:\tlearn: 4433.3088748\ttotal: 179ms\tremaining: 418ms\n",
      "3:\tlearn: 4403.4853086\ttotal: 239ms\tremaining: 358ms\n",
      "4:\tlearn: 4373.7954148\ttotal: 298ms\tremaining: 298ms\n",
      "5:\tlearn: 4345.0413648\ttotal: 354ms\tremaining: 236ms\n",
      "6:\tlearn: 4316.3927969\ttotal: 413ms\tremaining: 177ms\n",
      "7:\tlearn: 4287.7600947\ttotal: 472ms\tremaining: 118ms\n",
      "8:\tlearn: 4259.5436859\ttotal: 532ms\tremaining: 59.1ms\n",
      "9:\tlearn: 4232.0106869\ttotal: 591ms\tremaining: 0us\n",
      "0:\tlearn: 4355.6395999\ttotal: 59.1ms\tremaining: 532ms\n",
      "1:\tlearn: 4211.0136540\ttotal: 118ms\tremaining: 471ms\n",
      "2:\tlearn: 4074.9398524\ttotal: 176ms\tremaining: 411ms\n",
      "3:\tlearn: 3948.0334646\ttotal: 234ms\tremaining: 351ms\n",
      "4:\tlearn: 3828.8208518\ttotal: 294ms\tremaining: 294ms\n",
      "5:\tlearn: 3715.4466624\ttotal: 354ms\tremaining: 236ms\n",
      "6:\tlearn: 3610.5909010\ttotal: 414ms\tremaining: 177ms\n",
      "7:\tlearn: 3511.2746746\ttotal: 472ms\tremaining: 118ms\n",
      "8:\tlearn: 3417.3284735\ttotal: 532ms\tremaining: 59.1ms\n",
      "9:\tlearn: 3331.3922457\ttotal: 589ms\tremaining: 0us\n",
      "0:\tlearn: 4360.4544304\ttotal: 60.7ms\tremaining: 546ms\n",
      "1:\tlearn: 4214.9036469\ttotal: 118ms\tremaining: 470ms\n",
      "2:\tlearn: 4080.1716568\ttotal: 175ms\tremaining: 409ms\n",
      "3:\tlearn: 3953.5412414\ttotal: 233ms\tremaining: 349ms\n",
      "4:\tlearn: 3833.5825075\ttotal: 292ms\tremaining: 292ms\n",
      "5:\tlearn: 3721.6186789\ttotal: 353ms\tremaining: 235ms\n",
      "6:\tlearn: 3615.7717136\ttotal: 410ms\tremaining: 176ms\n",
      "7:\tlearn: 3515.1011685\ttotal: 467ms\tremaining: 117ms\n",
      "8:\tlearn: 3420.2552010\ttotal: 526ms\tremaining: 58.5ms\n",
      "9:\tlearn: 3333.2313788\ttotal: 585ms\tremaining: 0us\n",
      "0:\tlearn: 4368.0000487\ttotal: 59.3ms\tremaining: 533ms\n",
      "1:\tlearn: 4224.5949528\ttotal: 117ms\tremaining: 469ms\n",
      "2:\tlearn: 4088.0671916\ttotal: 174ms\tremaining: 406ms\n",
      "3:\tlearn: 3960.3304997\ttotal: 234ms\tremaining: 351ms\n",
      "4:\tlearn: 3839.7448040\ttotal: 292ms\tremaining: 292ms\n",
      "5:\tlearn: 3726.4138325\ttotal: 349ms\tremaining: 232ms\n",
      "6:\tlearn: 3620.1507214\ttotal: 407ms\tremaining: 174ms\n",
      "7:\tlearn: 3519.3666208\ttotal: 465ms\tremaining: 116ms\n",
      "8:\tlearn: 3426.9073865\ttotal: 525ms\tremaining: 58.3ms\n",
      "9:\tlearn: 3337.6806414\ttotal: 581ms\tremaining: 0us\n",
      "0:\tlearn: 4370.1085062\ttotal: 60.9ms\tremaining: 548ms\n",
      "1:\tlearn: 4224.5198608\ttotal: 118ms\tremaining: 474ms\n",
      "2:\tlearn: 4090.5486799\ttotal: 180ms\tremaining: 420ms\n",
      "3:\tlearn: 3962.5456173\ttotal: 237ms\tremaining: 356ms\n",
      "4:\tlearn: 3840.4059656\ttotal: 294ms\tremaining: 294ms\n",
      "5:\tlearn: 3727.4234542\ttotal: 352ms\tremaining: 235ms\n",
      "6:\tlearn: 3621.7179341\ttotal: 411ms\tremaining: 176ms\n",
      "7:\tlearn: 3520.8995009\ttotal: 469ms\tremaining: 117ms\n",
      "8:\tlearn: 3427.0872367\ttotal: 527ms\tremaining: 58.6ms\n",
      "9:\tlearn: 3339.0540690\ttotal: 587ms\tremaining: 0us\n",
      "0:\tlearn: 4203.9684185\ttotal: 58.3ms\tremaining: 525ms\n",
      "1:\tlearn: 3935.8246523\ttotal: 117ms\tremaining: 468ms\n",
      "2:\tlearn: 3699.6395794\ttotal: 176ms\tremaining: 412ms\n",
      "3:\tlearn: 3489.9099358\ttotal: 235ms\tremaining: 353ms\n",
      "4:\tlearn: 3308.0409843\ttotal: 293ms\tremaining: 293ms\n",
      "5:\tlearn: 3150.5553582\ttotal: 353ms\tremaining: 235ms\n",
      "6:\tlearn: 3012.5516841\ttotal: 411ms\tremaining: 176ms\n",
      "7:\tlearn: 2896.8301058\ttotal: 469ms\tremaining: 117ms\n",
      "8:\tlearn: 2789.2900607\ttotal: 529ms\tremaining: 58.8ms\n",
      "9:\tlearn: 2699.7638801\ttotal: 586ms\tremaining: 0us\n",
      "0:\tlearn: 4207.8620878\ttotal: 61.1ms\tremaining: 550ms\n",
      "1:\tlearn: 3939.0552286\ttotal: 119ms\tremaining: 476ms\n",
      "2:\tlearn: 3707.9078342\ttotal: 180ms\tremaining: 419ms\n",
      "3:\tlearn: 3500.3885016\ttotal: 236ms\tremaining: 354ms\n",
      "4:\tlearn: 3316.0495435\ttotal: 294ms\tremaining: 294ms\n",
      "5:\tlearn: 3158.4604705\ttotal: 352ms\tremaining: 235ms\n",
      "6:\tlearn: 3016.3028749\ttotal: 409ms\tremaining: 175ms\n",
      "7:\tlearn: 2894.9689906\ttotal: 468ms\tremaining: 117ms\n",
      "8:\tlearn: 2789.4155070\ttotal: 525ms\tremaining: 58.4ms\n",
      "9:\tlearn: 2701.5434815\ttotal: 585ms\tremaining: 0us\n",
      "0:\tlearn: 4219.0820851\ttotal: 60.1ms\tremaining: 541ms\n",
      "1:\tlearn: 3952.0167773\ttotal: 121ms\tremaining: 483ms\n",
      "2:\tlearn: 3716.1260017\ttotal: 180ms\tremaining: 420ms\n",
      "3:\tlearn: 3507.7713414\ttotal: 238ms\tremaining: 357ms\n",
      "4:\tlearn: 3324.6985751\ttotal: 298ms\tremaining: 298ms\n",
      "5:\tlearn: 3164.1476291\ttotal: 357ms\tremaining: 238ms\n",
      "6:\tlearn: 3022.4847427\ttotal: 417ms\tremaining: 179ms\n",
      "7:\tlearn: 2896.9741302\ttotal: 476ms\tremaining: 119ms\n",
      "8:\tlearn: 2786.8016624\ttotal: 535ms\tremaining: 59.4ms\n",
      "9:\tlearn: 2695.4167365\ttotal: 595ms\tremaining: 0us\n",
      "0:\tlearn: 4217.6240565\ttotal: 58.6ms\tremaining: 528ms\n",
      "1:\tlearn: 3949.1579684\ttotal: 119ms\tremaining: 475ms\n",
      "2:\tlearn: 3715.8578315\ttotal: 179ms\tremaining: 418ms\n",
      "3:\tlearn: 3504.8022441\ttotal: 236ms\tremaining: 355ms\n",
      "4:\tlearn: 3320.8942794\ttotal: 295ms\tremaining: 295ms\n",
      "5:\tlearn: 3159.8188684\ttotal: 351ms\tremaining: 234ms\n",
      "6:\tlearn: 3024.3437790\ttotal: 409ms\tremaining: 175ms\n",
      "7:\tlearn: 2900.2238842\ttotal: 465ms\tremaining: 116ms\n",
      "8:\tlearn: 2791.9732500\ttotal: 523ms\tremaining: 58.2ms\n",
      "9:\tlearn: 2697.6849321\ttotal: 582ms\tremaining: 0us\n",
      "0:\tlearn: 4478.8954477\ttotal: 80.4ms\tremaining: 1.53s\n",
      "1:\tlearn: 4448.2907369\ttotal: 139ms\tremaining: 1.25s\n",
      "2:\tlearn: 4418.2003275\ttotal: 194ms\tremaining: 1.1s\n",
      "3:\tlearn: 4388.4224020\ttotal: 240ms\tremaining: 959ms\n",
      "4:\tlearn: 4358.8763009\ttotal: 291ms\tremaining: 873ms\n",
      "5:\tlearn: 4329.7407800\ttotal: 340ms\tremaining: 793ms\n",
      "6:\tlearn: 4301.2295104\ttotal: 386ms\tremaining: 716ms\n",
      "7:\tlearn: 4272.8528025\ttotal: 432ms\tremaining: 648ms\n",
      "8:\tlearn: 4244.5297514\ttotal: 479ms\tremaining: 586ms\n",
      "9:\tlearn: 4216.9258545\ttotal: 525ms\tremaining: 525ms\n",
      "10:\tlearn: 4189.3258260\ttotal: 580ms\tremaining: 475ms\n",
      "11:\tlearn: 4162.0458354\ttotal: 625ms\tremaining: 417ms\n",
      "12:\tlearn: 4135.2457444\ttotal: 671ms\tremaining: 361ms\n",
      "13:\tlearn: 4108.7498557\ttotal: 717ms\tremaining: 307ms\n",
      "14:\tlearn: 4082.6311957\ttotal: 760ms\tremaining: 253ms\n",
      "15:\tlearn: 4056.7317159\ttotal: 807ms\tremaining: 202ms\n",
      "16:\tlearn: 4031.1730328\ttotal: 854ms\tremaining: 151ms\n",
      "17:\tlearn: 4005.6467876\ttotal: 923ms\tremaining: 103ms\n",
      "18:\tlearn: 3981.3063215\ttotal: 1.02s\tremaining: 53.6ms\n",
      "19:\tlearn: 3956.8119985\ttotal: 1.14s\tremaining: 0us\n",
      "0:\tlearn: 4484.4457436\ttotal: 50.9ms\tremaining: 968ms\n",
      "1:\tlearn: 4453.6848417\ttotal: 101ms\tremaining: 910ms\n",
      "2:\tlearn: 4423.7794529\ttotal: 157ms\tremaining: 890ms\n",
      "3:\tlearn: 4393.8420279\ttotal: 213ms\tremaining: 853ms\n",
      "4:\tlearn: 4364.4803448\ttotal: 266ms\tremaining: 797ms\n",
      "5:\tlearn: 4335.8276718\ttotal: 317ms\tremaining: 740ms\n",
      "6:\tlearn: 4307.1747479\ttotal: 369ms\tremaining: 685ms\n",
      "7:\tlearn: 4278.5292799\ttotal: 415ms\tremaining: 622ms\n",
      "8:\tlearn: 4250.5292739\ttotal: 462ms\tremaining: 565ms\n",
      "9:\tlearn: 4222.7840850\ttotal: 513ms\tremaining: 513ms\n",
      "10:\tlearn: 4195.3240358\ttotal: 561ms\tremaining: 459ms\n",
      "11:\tlearn: 4168.3980117\ttotal: 608ms\tremaining: 406ms\n",
      "12:\tlearn: 4141.3909715\ttotal: 655ms\tremaining: 352ms\n",
      "13:\tlearn: 4115.1024289\ttotal: 700ms\tremaining: 300ms\n",
      "14:\tlearn: 4089.1024733\ttotal: 744ms\tremaining: 248ms\n",
      "15:\tlearn: 4063.5115301\ttotal: 786ms\tremaining: 196ms\n",
      "16:\tlearn: 4037.8529344\ttotal: 828ms\tremaining: 146ms\n",
      "17:\tlearn: 4013.0326908\ttotal: 872ms\tremaining: 96.9ms\n",
      "18:\tlearn: 3988.4954415\ttotal: 914ms\tremaining: 48.1ms\n",
      "19:\tlearn: 3963.4237979\ttotal: 978ms\tremaining: 0us\n",
      "0:\tlearn: 4489.0979797\ttotal: 42.2ms\tremaining: 802ms\n",
      "1:\tlearn: 4458.7391232\ttotal: 83ms\tremaining: 747ms\n",
      "2:\tlearn: 4428.5243513\ttotal: 121ms\tremaining: 688ms\n",
      "3:\tlearn: 4398.6420412\ttotal: 160ms\tremaining: 639ms\n",
      "4:\tlearn: 4368.9416076\ttotal: 197ms\tremaining: 590ms\n",
      "5:\tlearn: 4339.4640520\ttotal: 234ms\tremaining: 545ms\n",
      "6:\tlearn: 4310.4919542\ttotal: 278ms\tremaining: 516ms\n",
      "7:\tlearn: 4282.0049176\ttotal: 317ms\tremaining: 475ms\n",
      "8:\tlearn: 4253.5558317\ttotal: 358ms\tremaining: 437ms\n",
      "9:\tlearn: 4226.0744096\ttotal: 396ms\tremaining: 396ms\n",
      "10:\tlearn: 4198.5315006\ttotal: 433ms\tremaining: 354ms\n",
      "11:\tlearn: 4171.2179546\ttotal: 470ms\tremaining: 314ms\n",
      "12:\tlearn: 4144.3978706\ttotal: 512ms\tremaining: 275ms\n",
      "13:\tlearn: 4117.5160447\ttotal: 549ms\tremaining: 235ms\n",
      "14:\tlearn: 4091.5750807\ttotal: 587ms\tremaining: 196ms\n",
      "15:\tlearn: 4065.5253878\ttotal: 628ms\tremaining: 157ms\n",
      "16:\tlearn: 4040.1078287\ttotal: 665ms\tremaining: 117ms\n",
      "17:\tlearn: 4014.8411148\ttotal: 706ms\tremaining: 78.4ms\n",
      "18:\tlearn: 3990.0300048\ttotal: 743ms\tremaining: 39.1ms\n",
      "19:\tlearn: 3965.4229774\ttotal: 783ms\tremaining: 0us\n",
      "0:\tlearn: 4494.0235528\ttotal: 38.7ms\tremaining: 735ms\n",
      "1:\tlearn: 4463.2436686\ttotal: 75.2ms\tremaining: 677ms\n",
      "2:\tlearn: 4433.3088748\ttotal: 113ms\tremaining: 642ms\n",
      "3:\tlearn: 4403.4853086\ttotal: 151ms\tremaining: 603ms\n",
      "4:\tlearn: 4373.7954148\ttotal: 190ms\tremaining: 569ms\n",
      "5:\tlearn: 4345.0413648\ttotal: 231ms\tremaining: 540ms\n",
      "6:\tlearn: 4316.3927969\ttotal: 275ms\tremaining: 511ms\n",
      "7:\tlearn: 4287.7600947\ttotal: 312ms\tremaining: 468ms\n",
      "8:\tlearn: 4259.5436859\ttotal: 350ms\tremaining: 427ms\n",
      "9:\tlearn: 4232.0106869\ttotal: 389ms\tremaining: 389ms\n",
      "10:\tlearn: 4204.7580965\ttotal: 427ms\tremaining: 349ms\n",
      "11:\tlearn: 4177.4962557\ttotal: 466ms\tremaining: 310ms\n",
      "12:\tlearn: 4150.7921017\ttotal: 504ms\tremaining: 271ms\n",
      "13:\tlearn: 4124.5976503\ttotal: 543ms\tremaining: 233ms\n",
      "14:\tlearn: 4098.7309717\ttotal: 581ms\tremaining: 194ms\n",
      "15:\tlearn: 4072.6115001\ttotal: 620ms\tremaining: 155ms\n",
      "16:\tlearn: 4046.8522262\ttotal: 658ms\tremaining: 116ms\n",
      "17:\tlearn: 4022.0295634\ttotal: 695ms\tremaining: 77.2ms\n",
      "18:\tlearn: 3997.5180281\ttotal: 736ms\tremaining: 38.7ms\n",
      "19:\tlearn: 3973.1588775\ttotal: 775ms\tremaining: 0us\n",
      "0:\tlearn: 4355.6395999\ttotal: 122ms\tremaining: 2.32s\n",
      "1:\tlearn: 4211.0136540\ttotal: 609ms\tremaining: 5.48s\n",
      "2:\tlearn: 4074.9398524\ttotal: 1.13s\tremaining: 6.41s\n",
      "3:\tlearn: 3948.0334646\ttotal: 1.89s\tremaining: 7.57s\n",
      "4:\tlearn: 3828.8208518\ttotal: 2.16s\tremaining: 6.48s\n",
      "5:\tlearn: 3715.4466624\ttotal: 2.35s\tremaining: 5.48s\n",
      "6:\tlearn: 3610.5909010\ttotal: 2.7s\tremaining: 5.01s\n",
      "7:\tlearn: 3511.2746746\ttotal: 2.99s\tremaining: 4.49s\n",
      "8:\tlearn: 3417.3284735\ttotal: 3.22s\tremaining: 3.94s\n",
      "9:\tlearn: 3331.3922457\ttotal: 3.34s\tremaining: 3.34s\n",
      "10:\tlearn: 3250.4652206\ttotal: 3.46s\tremaining: 2.83s\n",
      "11:\tlearn: 3170.8898568\ttotal: 3.57s\tremaining: 2.38s\n",
      "12:\tlearn: 3098.1505270\ttotal: 3.66s\tremaining: 1.97s\n",
      "13:\tlearn: 3029.0577366\ttotal: 3.79s\tremaining: 1.62s\n",
      "14:\tlearn: 2966.0774226\ttotal: 3.91s\tremaining: 1.3s\n",
      "15:\tlearn: 2907.2878755\ttotal: 3.98s\tremaining: 996ms\n",
      "16:\tlearn: 2852.0636161\ttotal: 4.06s\tremaining: 717ms\n",
      "17:\tlearn: 2800.8106108\ttotal: 4.13s\tremaining: 459ms\n",
      "18:\tlearn: 2753.5095195\ttotal: 4.2s\tremaining: 221ms\n",
      "19:\tlearn: 2709.0936769\ttotal: 4.26s\tremaining: 0us\n",
      "0:\tlearn: 4360.4544304\ttotal: 42.4ms\tremaining: 805ms\n",
      "1:\tlearn: 4214.9036469\ttotal: 85.5ms\tremaining: 770ms\n",
      "2:\tlearn: 4080.1716568\ttotal: 129ms\tremaining: 728ms\n",
      "3:\tlearn: 3953.5412414\ttotal: 171ms\tremaining: 684ms\n",
      "4:\tlearn: 3833.5825075\ttotal: 212ms\tremaining: 637ms\n",
      "5:\tlearn: 3721.6186789\ttotal: 257ms\tremaining: 599ms\n",
      "6:\tlearn: 3615.7717136\ttotal: 305ms\tremaining: 567ms\n",
      "7:\tlearn: 3515.1011685\ttotal: 354ms\tremaining: 531ms\n",
      "8:\tlearn: 3420.2552010\ttotal: 407ms\tremaining: 498ms\n",
      "9:\tlearn: 3333.2313788\ttotal: 449ms\tremaining: 449ms\n",
      "10:\tlearn: 3251.2193345\ttotal: 490ms\tremaining: 401ms\n",
      "11:\tlearn: 3175.1433721\ttotal: 530ms\tremaining: 353ms\n",
      "12:\tlearn: 3102.1440722\ttotal: 574ms\tremaining: 309ms\n",
      "13:\tlearn: 3035.8456952\ttotal: 615ms\tremaining: 264ms\n",
      "14:\tlearn: 2972.8498171\ttotal: 652ms\tremaining: 217ms\n",
      "15:\tlearn: 2914.1941877\ttotal: 691ms\tremaining: 173ms\n",
      "16:\tlearn: 2859.8845923\ttotal: 728ms\tremaining: 128ms\n",
      "17:\tlearn: 2809.3881555\ttotal: 765ms\tremaining: 85ms\n",
      "18:\tlearn: 2762.6245198\ttotal: 806ms\tremaining: 42.4ms\n",
      "19:\tlearn: 2717.1335950\ttotal: 865ms\tremaining: 0us\n",
      "0:\tlearn: 4368.0000487\ttotal: 73.8ms\tremaining: 1.4s\n",
      "1:\tlearn: 4224.5949528\ttotal: 137ms\tremaining: 1.24s\n",
      "2:\tlearn: 4088.0671916\ttotal: 183ms\tremaining: 1.03s\n",
      "3:\tlearn: 3960.3304997\ttotal: 238ms\tremaining: 951ms\n",
      "4:\tlearn: 3839.7448040\ttotal: 297ms\tremaining: 891ms\n",
      "5:\tlearn: 3726.4138325\ttotal: 356ms\tremaining: 830ms\n",
      "6:\tlearn: 3620.1507214\ttotal: 409ms\tremaining: 760ms\n",
      "7:\tlearn: 3519.3666208\ttotal: 469ms\tremaining: 703ms\n",
      "8:\tlearn: 3426.9073865\ttotal: 524ms\tremaining: 641ms\n",
      "9:\tlearn: 3337.6806414\ttotal: 576ms\tremaining: 576ms\n",
      "10:\tlearn: 3254.4821563\ttotal: 621ms\tremaining: 508ms\n",
      "11:\tlearn: 3179.2254220\ttotal: 669ms\tremaining: 446ms\n",
      "12:\tlearn: 3107.1028403\ttotal: 713ms\tremaining: 384ms\n",
      "13:\tlearn: 3040.4676334\ttotal: 753ms\tremaining: 323ms\n",
      "14:\tlearn: 2979.0800236\ttotal: 817ms\tremaining: 272ms\n",
      "15:\tlearn: 2919.6157382\ttotal: 858ms\tremaining: 214ms\n",
      "16:\tlearn: 2863.6790146\ttotal: 896ms\tremaining: 158ms\n",
      "17:\tlearn: 2811.6856550\ttotal: 937ms\tremaining: 104ms\n",
      "18:\tlearn: 2763.1407405\ttotal: 976ms\tremaining: 51.4ms\n",
      "19:\tlearn: 2718.2050936\ttotal: 1.01s\tremaining: 0us\n",
      "0:\tlearn: 4370.1085062\ttotal: 40.6ms\tremaining: 771ms\n",
      "1:\tlearn: 4224.5198608\ttotal: 93ms\tremaining: 837ms\n",
      "2:\tlearn: 4090.5486799\ttotal: 134ms\tremaining: 758ms\n",
      "3:\tlearn: 3962.5456173\ttotal: 172ms\tremaining: 690ms\n",
      "4:\tlearn: 3840.4059656\ttotal: 211ms\tremaining: 633ms\n",
      "5:\tlearn: 3727.4234542\ttotal: 246ms\tremaining: 575ms\n",
      "6:\tlearn: 3621.7179341\ttotal: 282ms\tremaining: 523ms\n",
      "7:\tlearn: 3520.8995009\ttotal: 316ms\tremaining: 474ms\n",
      "8:\tlearn: 3427.0872367\ttotal: 351ms\tremaining: 429ms\n",
      "9:\tlearn: 3339.0540690\ttotal: 387ms\tremaining: 387ms\n",
      "10:\tlearn: 3257.6035904\ttotal: 422ms\tremaining: 346ms\n",
      "11:\tlearn: 3181.2013331\ttotal: 458ms\tremaining: 305ms\n",
      "12:\tlearn: 3110.4422600\ttotal: 492ms\tremaining: 265ms\n",
      "13:\tlearn: 3042.4435110\ttotal: 526ms\tremaining: 225ms\n",
      "14:\tlearn: 2980.0773170\ttotal: 561ms\tremaining: 187ms\n",
      "15:\tlearn: 2921.6614287\ttotal: 604ms\tremaining: 151ms\n",
      "16:\tlearn: 2865.1097705\ttotal: 639ms\tremaining: 113ms\n",
      "17:\tlearn: 2813.4482369\ttotal: 677ms\tremaining: 75.2ms\n",
      "18:\tlearn: 2767.0085641\ttotal: 713ms\tremaining: 37.5ms\n",
      "19:\tlearn: 2721.4126171\ttotal: 749ms\tremaining: 0us\n",
      "0:\tlearn: 4203.9684185\ttotal: 43.4ms\tremaining: 824ms\n",
      "1:\tlearn: 3935.8246523\ttotal: 81.7ms\tremaining: 736ms\n",
      "2:\tlearn: 3699.6395794\ttotal: 120ms\tremaining: 679ms\n",
      "3:\tlearn: 3489.9099358\ttotal: 158ms\tremaining: 633ms\n",
      "4:\tlearn: 3308.0409843\ttotal: 198ms\tremaining: 594ms\n",
      "5:\tlearn: 3150.5553582\ttotal: 235ms\tremaining: 548ms\n",
      "6:\tlearn: 3012.5516841\ttotal: 274ms\tremaining: 509ms\n",
      "7:\tlearn: 2896.8301058\ttotal: 311ms\tremaining: 467ms\n",
      "8:\tlearn: 2789.2900607\ttotal: 352ms\tremaining: 430ms\n",
      "9:\tlearn: 2699.7638801\ttotal: 392ms\tremaining: 392ms\n",
      "10:\tlearn: 2619.8634697\ttotal: 434ms\tremaining: 355ms\n",
      "11:\tlearn: 2546.5352068\ttotal: 474ms\tremaining: 316ms\n",
      "12:\tlearn: 2480.1441111\ttotal: 516ms\tremaining: 278ms\n",
      "13:\tlearn: 2424.8186152\ttotal: 562ms\tremaining: 241ms\n",
      "14:\tlearn: 2376.4512847\ttotal: 604ms\tremaining: 201ms\n",
      "15:\tlearn: 2330.5652226\ttotal: 645ms\tremaining: 161ms\n",
      "16:\tlearn: 2293.6386266\ttotal: 686ms\tremaining: 121ms\n",
      "17:\tlearn: 2258.2408212\ttotal: 726ms\tremaining: 80.6ms\n",
      "18:\tlearn: 2225.8049384\ttotal: 766ms\tremaining: 40.3ms\n",
      "19:\tlearn: 2199.0462359\ttotal: 803ms\tremaining: 0us\n",
      "0:\tlearn: 4207.8620878\ttotal: 41.2ms\tremaining: 784ms\n",
      "1:\tlearn: 3939.0552286\ttotal: 80.9ms\tremaining: 728ms\n",
      "2:\tlearn: 3707.9078342\ttotal: 121ms\tremaining: 688ms\n",
      "3:\tlearn: 3500.3885016\ttotal: 161ms\tremaining: 643ms\n",
      "4:\tlearn: 3316.0495435\ttotal: 197ms\tremaining: 592ms\n",
      "5:\tlearn: 3158.4604705\ttotal: 237ms\tremaining: 552ms\n",
      "6:\tlearn: 3016.3028749\ttotal: 284ms\tremaining: 528ms\n",
      "7:\tlearn: 2894.9689906\ttotal: 331ms\tremaining: 496ms\n",
      "8:\tlearn: 2789.4155070\ttotal: 377ms\tremaining: 460ms\n",
      "9:\tlearn: 2701.5434815\ttotal: 424ms\tremaining: 424ms\n",
      "10:\tlearn: 2621.1903880\ttotal: 467ms\tremaining: 382ms\n",
      "11:\tlearn: 2550.3315463\ttotal: 507ms\tremaining: 338ms\n",
      "12:\tlearn: 2486.0265721\ttotal: 546ms\tremaining: 294ms\n",
      "13:\tlearn: 2432.8077777\ttotal: 584ms\tremaining: 250ms\n",
      "14:\tlearn: 2382.4465844\ttotal: 625ms\tremaining: 208ms\n",
      "15:\tlearn: 2339.9594916\ttotal: 665ms\tremaining: 166ms\n",
      "16:\tlearn: 2301.8682981\ttotal: 704ms\tremaining: 124ms\n",
      "17:\tlearn: 2271.0614409\ttotal: 775ms\tremaining: 86.2ms\n",
      "18:\tlearn: 2241.0162898\ttotal: 821ms\tremaining: 43.2ms\n",
      "19:\tlearn: 2215.3313667\ttotal: 863ms\tremaining: 0us\n",
      "0:\tlearn: 4219.0820851\ttotal: 40.4ms\tremaining: 768ms\n",
      "1:\tlearn: 3952.0167773\ttotal: 79.3ms\tremaining: 714ms\n",
      "2:\tlearn: 3716.1260017\ttotal: 118ms\tremaining: 669ms\n",
      "3:\tlearn: 3507.7713414\ttotal: 159ms\tremaining: 637ms\n",
      "4:\tlearn: 3324.6985751\ttotal: 198ms\tremaining: 595ms\n",
      "5:\tlearn: 3164.1476291\ttotal: 234ms\tremaining: 546ms\n",
      "6:\tlearn: 3022.4847427\ttotal: 272ms\tremaining: 505ms\n",
      "7:\tlearn: 2896.9741302\ttotal: 313ms\tremaining: 469ms\n",
      "8:\tlearn: 2786.8016624\ttotal: 353ms\tremaining: 431ms\n",
      "9:\tlearn: 2695.4167365\ttotal: 392ms\tremaining: 392ms\n",
      "10:\tlearn: 2615.8068638\ttotal: 431ms\tremaining: 352ms\n",
      "11:\tlearn: 2546.7433654\ttotal: 473ms\tremaining: 315ms\n",
      "12:\tlearn: 2485.2607979\ttotal: 514ms\tremaining: 277ms\n",
      "13:\tlearn: 2429.6694258\ttotal: 556ms\tremaining: 238ms\n",
      "14:\tlearn: 2379.7821539\ttotal: 597ms\tremaining: 199ms\n",
      "15:\tlearn: 2338.2208885\ttotal: 637ms\tremaining: 159ms\n",
      "16:\tlearn: 2295.7009910\ttotal: 679ms\tremaining: 120ms\n",
      "17:\tlearn: 2262.6303700\ttotal: 721ms\tremaining: 80.1ms\n",
      "18:\tlearn: 2233.8255262\ttotal: 765ms\tremaining: 40.3ms\n",
      "19:\tlearn: 2202.5373412\ttotal: 810ms\tremaining: 0us\n",
      "0:\tlearn: 4217.6240565\ttotal: 43.2ms\tremaining: 821ms\n",
      "1:\tlearn: 3949.1579684\ttotal: 84.5ms\tremaining: 761ms\n",
      "2:\tlearn: 3715.8578315\ttotal: 124ms\tremaining: 704ms\n",
      "3:\tlearn: 3504.8022441\ttotal: 162ms\tremaining: 647ms\n",
      "4:\tlearn: 3320.8942794\ttotal: 202ms\tremaining: 606ms\n",
      "5:\tlearn: 3159.8188684\ttotal: 239ms\tremaining: 558ms\n",
      "6:\tlearn: 3024.3437790\ttotal: 282ms\tremaining: 525ms\n",
      "7:\tlearn: 2900.2238842\ttotal: 325ms\tremaining: 488ms\n",
      "8:\tlearn: 2791.9732500\ttotal: 368ms\tremaining: 450ms\n",
      "9:\tlearn: 2697.6849321\ttotal: 410ms\tremaining: 410ms\n",
      "10:\tlearn: 2615.4359241\ttotal: 449ms\tremaining: 367ms\n",
      "11:\tlearn: 2544.8539419\ttotal: 490ms\tremaining: 327ms\n",
      "12:\tlearn: 2482.7873647\ttotal: 528ms\tremaining: 285ms\n",
      "13:\tlearn: 2425.7099920\ttotal: 565ms\tremaining: 242ms\n",
      "14:\tlearn: 2376.9762123\ttotal: 602ms\tremaining: 201ms\n",
      "15:\tlearn: 2335.6416837\ttotal: 644ms\tremaining: 161ms\n",
      "16:\tlearn: 2299.3066431\ttotal: 683ms\tremaining: 121ms\n",
      "17:\tlearn: 2266.0569358\ttotal: 721ms\tremaining: 80.1ms\n",
      "18:\tlearn: 2236.8666343\ttotal: 758ms\tremaining: 39.9ms\n",
      "19:\tlearn: 2210.3280466\ttotal: 796ms\tremaining: 0us\n",
      "0:\tlearn: 4478.8954477\ttotal: 39.2ms\tremaining: 1.14s\n",
      "1:\tlearn: 4448.2907369\ttotal: 74.3ms\tremaining: 1.04s\n",
      "2:\tlearn: 4418.2003275\ttotal: 108ms\tremaining: 974ms\n",
      "3:\tlearn: 4388.4224020\ttotal: 144ms\tremaining: 937ms\n",
      "4:\tlearn: 4358.8763009\ttotal: 179ms\tremaining: 897ms\n",
      "5:\tlearn: 4329.7407800\ttotal: 216ms\tremaining: 864ms\n",
      "6:\tlearn: 4301.2295104\ttotal: 253ms\tremaining: 830ms\n",
      "7:\tlearn: 4272.8528025\ttotal: 288ms\tremaining: 792ms\n",
      "8:\tlearn: 4244.5297514\ttotal: 325ms\tremaining: 757ms\n",
      "9:\tlearn: 4216.9258545\ttotal: 361ms\tremaining: 723ms\n",
      "10:\tlearn: 4189.3258260\ttotal: 398ms\tremaining: 688ms\n",
      "11:\tlearn: 4162.0458354\ttotal: 435ms\tremaining: 652ms\n",
      "12:\tlearn: 4135.2457444\ttotal: 472ms\tremaining: 617ms\n",
      "13:\tlearn: 4108.7498557\ttotal: 509ms\tremaining: 582ms\n",
      "14:\tlearn: 4082.6311957\ttotal: 547ms\tremaining: 547ms\n",
      "15:\tlearn: 4056.7317159\ttotal: 584ms\tremaining: 511ms\n",
      "16:\tlearn: 4031.1730328\ttotal: 620ms\tremaining: 474ms\n",
      "17:\tlearn: 4005.6467876\ttotal: 658ms\tremaining: 439ms\n",
      "18:\tlearn: 3981.3063215\ttotal: 704ms\tremaining: 408ms\n",
      "19:\tlearn: 3956.8119985\ttotal: 748ms\tremaining: 374ms\n",
      "20:\tlearn: 3932.4426697\ttotal: 784ms\tremaining: 336ms\n",
      "21:\tlearn: 3908.6941683\ttotal: 820ms\tremaining: 298ms\n",
      "22:\tlearn: 3884.6820035\ttotal: 856ms\tremaining: 260ms\n",
      "23:\tlearn: 3860.9084672\ttotal: 891ms\tremaining: 223ms\n",
      "24:\tlearn: 3837.8633360\ttotal: 926ms\tremaining: 185ms\n",
      "25:\tlearn: 3815.1347350\ttotal: 962ms\tremaining: 148ms\n",
      "26:\tlearn: 3792.5696323\ttotal: 997ms\tremaining: 111ms\n",
      "27:\tlearn: 3770.4521135\ttotal: 1.03s\tremaining: 73.7ms\n",
      "28:\tlearn: 3748.6380627\ttotal: 1.07s\tremaining: 36.8ms\n",
      "29:\tlearn: 3726.7637836\ttotal: 1.1s\tremaining: 0us\n",
      "0:\tlearn: 4484.4457436\ttotal: 38.6ms\tremaining: 1.12s\n",
      "1:\tlearn: 4453.6848417\ttotal: 77.7ms\tremaining: 1.09s\n",
      "2:\tlearn: 4423.7794529\ttotal: 115ms\tremaining: 1.03s\n",
      "3:\tlearn: 4393.8420279\ttotal: 151ms\tremaining: 980ms\n",
      "4:\tlearn: 4364.4803448\ttotal: 188ms\tremaining: 940ms\n",
      "5:\tlearn: 4335.8276718\ttotal: 224ms\tremaining: 897ms\n",
      "6:\tlearn: 4307.1747479\ttotal: 261ms\tremaining: 857ms\n",
      "7:\tlearn: 4278.5292799\ttotal: 298ms\tremaining: 820ms\n",
      "8:\tlearn: 4250.5292739\ttotal: 335ms\tremaining: 782ms\n",
      "9:\tlearn: 4222.7840850\ttotal: 373ms\tremaining: 745ms\n",
      "10:\tlearn: 4195.3240358\ttotal: 410ms\tremaining: 709ms\n",
      "11:\tlearn: 4168.3980117\ttotal: 445ms\tremaining: 668ms\n",
      "12:\tlearn: 4141.3909715\ttotal: 481ms\tremaining: 629ms\n",
      "13:\tlearn: 4115.1024289\ttotal: 516ms\tremaining: 590ms\n",
      "14:\tlearn: 4089.1024733\ttotal: 552ms\tremaining: 552ms\n",
      "15:\tlearn: 4063.5115301\ttotal: 589ms\tremaining: 515ms\n",
      "16:\tlearn: 4037.8529344\ttotal: 624ms\tremaining: 477ms\n",
      "17:\tlearn: 4013.0326908\ttotal: 660ms\tremaining: 440ms\n",
      "18:\tlearn: 3988.4954415\ttotal: 696ms\tremaining: 403ms\n",
      "19:\tlearn: 3963.4237979\ttotal: 733ms\tremaining: 366ms\n",
      "20:\tlearn: 3939.1213937\ttotal: 769ms\tremaining: 329ms\n",
      "21:\tlearn: 3915.1604854\ttotal: 805ms\tremaining: 293ms\n",
      "22:\tlearn: 3891.3965098\ttotal: 839ms\tremaining: 255ms\n",
      "23:\tlearn: 3868.3211831\ttotal: 876ms\tremaining: 219ms\n",
      "24:\tlearn: 3845.2209816\ttotal: 912ms\tremaining: 182ms\n",
      "25:\tlearn: 3822.3200229\ttotal: 948ms\tremaining: 146ms\n",
      "26:\tlearn: 3799.8825223\ttotal: 986ms\tremaining: 110ms\n",
      "27:\tlearn: 3777.5552211\ttotal: 1.02s\tremaining: 73.1ms\n",
      "28:\tlearn: 3754.9482281\ttotal: 1.06s\tremaining: 36.7ms\n",
      "29:\tlearn: 3733.0814335\ttotal: 1.11s\tremaining: 0us\n",
      "0:\tlearn: 4489.0979797\ttotal: 39ms\tremaining: 1.13s\n",
      "1:\tlearn: 4458.7391232\ttotal: 78.7ms\tremaining: 1.1s\n",
      "2:\tlearn: 4428.5243513\ttotal: 115ms\tremaining: 1.04s\n",
      "3:\tlearn: 4398.6420412\ttotal: 154ms\tremaining: 998ms\n",
      "4:\tlearn: 4368.9416076\ttotal: 190ms\tremaining: 949ms\n",
      "5:\tlearn: 4339.4640520\ttotal: 225ms\tremaining: 900ms\n",
      "6:\tlearn: 4310.4919542\ttotal: 262ms\tremaining: 860ms\n",
      "7:\tlearn: 4282.0049176\ttotal: 298ms\tremaining: 819ms\n",
      "8:\tlearn: 4253.5558317\ttotal: 334ms\tremaining: 779ms\n",
      "9:\tlearn: 4226.0744096\ttotal: 371ms\tremaining: 741ms\n",
      "10:\tlearn: 4198.5315006\ttotal: 406ms\tremaining: 701ms\n",
      "11:\tlearn: 4171.2179546\ttotal: 443ms\tremaining: 664ms\n",
      "12:\tlearn: 4144.3978706\ttotal: 481ms\tremaining: 630ms\n",
      "13:\tlearn: 4117.5160447\ttotal: 519ms\tremaining: 593ms\n",
      "14:\tlearn: 4091.5750807\ttotal: 554ms\tremaining: 554ms\n",
      "15:\tlearn: 4065.5253878\ttotal: 590ms\tremaining: 516ms\n",
      "16:\tlearn: 4040.1078287\ttotal: 626ms\tremaining: 479ms\n",
      "17:\tlearn: 4014.8411148\ttotal: 664ms\tremaining: 443ms\n",
      "18:\tlearn: 3990.0300048\ttotal: 701ms\tremaining: 406ms\n",
      "19:\tlearn: 3965.4229774\ttotal: 737ms\tremaining: 369ms\n",
      "20:\tlearn: 3941.1364001\ttotal: 772ms\tremaining: 331ms\n",
      "21:\tlearn: 3917.2870817\ttotal: 807ms\tremaining: 294ms\n",
      "22:\tlearn: 3893.7030529\ttotal: 842ms\tremaining: 256ms\n",
      "23:\tlearn: 3870.2863632\ttotal: 877ms\tremaining: 219ms\n",
      "24:\tlearn: 3847.3862226\ttotal: 914ms\tremaining: 183ms\n",
      "25:\tlearn: 3824.4609902\ttotal: 952ms\tremaining: 147ms\n",
      "26:\tlearn: 3801.5409202\ttotal: 988ms\tremaining: 110ms\n",
      "27:\tlearn: 3779.1865642\ttotal: 1.02s\tremaining: 73.2ms\n",
      "28:\tlearn: 3757.0805869\ttotal: 1.06s\tremaining: 36.5ms\n",
      "29:\tlearn: 3735.3468095\ttotal: 1.09s\tremaining: 0us\n",
      "0:\tlearn: 4494.0235528\ttotal: 46.8ms\tremaining: 1.36s\n",
      "1:\tlearn: 4463.2436686\ttotal: 88ms\tremaining: 1.23s\n",
      "2:\tlearn: 4433.3088748\ttotal: 129ms\tremaining: 1.16s\n",
      "3:\tlearn: 4403.4853086\ttotal: 164ms\tremaining: 1.06s\n",
      "4:\tlearn: 4373.7954148\ttotal: 199ms\tremaining: 993ms\n",
      "5:\tlearn: 4345.0413648\ttotal: 232ms\tremaining: 929ms\n",
      "6:\tlearn: 4316.3927969\ttotal: 268ms\tremaining: 880ms\n",
      "7:\tlearn: 4287.7600947\ttotal: 306ms\tremaining: 840ms\n",
      "8:\tlearn: 4259.5436859\ttotal: 342ms\tremaining: 798ms\n",
      "9:\tlearn: 4232.0106869\ttotal: 382ms\tremaining: 763ms\n",
      "10:\tlearn: 4204.7580965\ttotal: 421ms\tremaining: 728ms\n",
      "11:\tlearn: 4177.4962557\ttotal: 462ms\tremaining: 693ms\n",
      "12:\tlearn: 4150.7921017\ttotal: 502ms\tremaining: 657ms\n",
      "13:\tlearn: 4124.5976503\ttotal: 540ms\tremaining: 617ms\n",
      "14:\tlearn: 4098.7309717\ttotal: 581ms\tremaining: 581ms\n",
      "15:\tlearn: 4072.6115001\ttotal: 620ms\tremaining: 542ms\n",
      "16:\tlearn: 4046.8522262\ttotal: 659ms\tremaining: 504ms\n",
      "17:\tlearn: 4022.0295634\ttotal: 695ms\tremaining: 463ms\n",
      "18:\tlearn: 3997.5180281\ttotal: 731ms\tremaining: 423ms\n",
      "19:\tlearn: 3973.1588775\ttotal: 766ms\tremaining: 383ms\n",
      "20:\tlearn: 3948.7678078\ttotal: 801ms\tremaining: 343ms\n",
      "21:\tlearn: 3924.2092023\ttotal: 840ms\tremaining: 305ms\n",
      "22:\tlearn: 3900.2924914\ttotal: 876ms\tremaining: 267ms\n",
      "23:\tlearn: 3877.1189633\ttotal: 915ms\tremaining: 229ms\n",
      "24:\tlearn: 3853.6644089\ttotal: 952ms\tremaining: 190ms\n",
      "25:\tlearn: 3830.7340013\ttotal: 988ms\tremaining: 152ms\n",
      "26:\tlearn: 3807.9971723\ttotal: 1.02s\tremaining: 114ms\n",
      "27:\tlearn: 3785.2300136\ttotal: 1.06s\tremaining: 75.5ms\n",
      "28:\tlearn: 3763.1252258\ttotal: 1.09s\tremaining: 37.6ms\n",
      "29:\tlearn: 3741.2392372\ttotal: 1.13s\tremaining: 0us\n",
      "0:\tlearn: 4355.6395999\ttotal: 31.3ms\tremaining: 908ms\n",
      "1:\tlearn: 4211.0136540\ttotal: 63.1ms\tremaining: 883ms\n",
      "2:\tlearn: 4074.9398524\ttotal: 93.8ms\tremaining: 844ms\n",
      "3:\tlearn: 3948.0334646\ttotal: 125ms\tremaining: 812ms\n",
      "4:\tlearn: 3828.8208518\ttotal: 159ms\tremaining: 796ms\n",
      "5:\tlearn: 3715.4466624\ttotal: 195ms\tremaining: 781ms\n",
      "6:\tlearn: 3610.5909010\ttotal: 232ms\tremaining: 762ms\n",
      "7:\tlearn: 3511.2746746\ttotal: 265ms\tremaining: 730ms\n",
      "8:\tlearn: 3417.3284735\ttotal: 297ms\tremaining: 692ms\n",
      "9:\tlearn: 3331.3922457\ttotal: 327ms\tremaining: 654ms\n",
      "10:\tlearn: 3250.4652206\ttotal: 359ms\tremaining: 620ms\n",
      "11:\tlearn: 3170.8898568\ttotal: 394ms\tremaining: 591ms\n",
      "12:\tlearn: 3098.1505270\ttotal: 426ms\tremaining: 557ms\n",
      "13:\tlearn: 3029.0577366\ttotal: 459ms\tremaining: 525ms\n",
      "14:\tlearn: 2966.0774226\ttotal: 492ms\tremaining: 492ms\n",
      "15:\tlearn: 2907.2878755\ttotal: 527ms\tremaining: 461ms\n",
      "16:\tlearn: 2852.0636161\ttotal: 559ms\tremaining: 428ms\n",
      "17:\tlearn: 2800.8106108\ttotal: 590ms\tremaining: 393ms\n",
      "18:\tlearn: 2753.5095195\ttotal: 622ms\tremaining: 360ms\n",
      "19:\tlearn: 2709.0936769\ttotal: 653ms\tremaining: 327ms\n",
      "20:\tlearn: 2667.0827064\ttotal: 681ms\tremaining: 292ms\n",
      "21:\tlearn: 2627.9575019\ttotal: 711ms\tremaining: 259ms\n",
      "22:\tlearn: 2590.7947786\ttotal: 742ms\tremaining: 226ms\n",
      "23:\tlearn: 2556.0073861\ttotal: 772ms\tremaining: 193ms\n",
      "24:\tlearn: 2524.0492437\ttotal: 803ms\tremaining: 161ms\n",
      "25:\tlearn: 2492.8219671\ttotal: 834ms\tremaining: 128ms\n",
      "26:\tlearn: 2461.0051265\ttotal: 867ms\tremaining: 96.4ms\n",
      "27:\tlearn: 2434.5040739\ttotal: 900ms\tremaining: 64.3ms\n",
      "28:\tlearn: 2409.4253236\ttotal: 936ms\tremaining: 32.3ms\n",
      "29:\tlearn: 2386.9630761\ttotal: 970ms\tremaining: 0us\n",
      "0:\tlearn: 4360.4544304\ttotal: 36.4ms\tremaining: 1.05s\n",
      "1:\tlearn: 4214.9036469\ttotal: 72.1ms\tremaining: 1.01s\n",
      "2:\tlearn: 4080.1716568\ttotal: 107ms\tremaining: 965ms\n",
      "3:\tlearn: 3953.5412414\ttotal: 143ms\tremaining: 928ms\n",
      "4:\tlearn: 3833.5825075\ttotal: 178ms\tremaining: 888ms\n",
      "5:\tlearn: 3721.6186789\ttotal: 213ms\tremaining: 850ms\n",
      "6:\tlearn: 3615.7717136\ttotal: 248ms\tremaining: 814ms\n",
      "7:\tlearn: 3515.1011685\ttotal: 283ms\tremaining: 777ms\n",
      "8:\tlearn: 3420.2552010\ttotal: 318ms\tremaining: 743ms\n",
      "9:\tlearn: 3333.2313788\ttotal: 355ms\tremaining: 710ms\n",
      "10:\tlearn: 3251.2193345\ttotal: 392ms\tremaining: 677ms\n",
      "11:\tlearn: 3175.1433721\ttotal: 428ms\tremaining: 642ms\n",
      "12:\tlearn: 3102.1440722\ttotal: 466ms\tremaining: 609ms\n",
      "13:\tlearn: 3035.8456952\ttotal: 502ms\tremaining: 574ms\n",
      "14:\tlearn: 2972.8498171\ttotal: 538ms\tremaining: 538ms\n",
      "15:\tlearn: 2914.1941877\ttotal: 575ms\tremaining: 503ms\n",
      "16:\tlearn: 2859.8845923\ttotal: 610ms\tremaining: 467ms\n",
      "17:\tlearn: 2809.3881555\ttotal: 646ms\tremaining: 430ms\n",
      "18:\tlearn: 2762.6245198\ttotal: 681ms\tremaining: 394ms\n",
      "19:\tlearn: 2717.1335950\ttotal: 715ms\tremaining: 358ms\n",
      "20:\tlearn: 2674.8476189\ttotal: 749ms\tremaining: 321ms\n",
      "21:\tlearn: 2635.0372462\ttotal: 782ms\tremaining: 284ms\n",
      "22:\tlearn: 2598.7348670\ttotal: 817ms\tremaining: 249ms\n",
      "23:\tlearn: 2563.8642210\ttotal: 851ms\tremaining: 213ms\n",
      "24:\tlearn: 2530.8331331\ttotal: 888ms\tremaining: 178ms\n",
      "25:\tlearn: 2500.1644834\ttotal: 926ms\tremaining: 142ms\n",
      "26:\tlearn: 2472.8493214\ttotal: 963ms\tremaining: 107ms\n",
      "27:\tlearn: 2445.4852924\ttotal: 1s\tremaining: 71.4ms\n",
      "28:\tlearn: 2420.3376430\ttotal: 1.04s\tremaining: 35.8ms\n",
      "29:\tlearn: 2395.3362662\ttotal: 1.07s\tremaining: 0us\n",
      "0:\tlearn: 4368.0000487\ttotal: 30.2ms\tremaining: 877ms\n",
      "1:\tlearn: 4224.5949528\ttotal: 63.5ms\tremaining: 889ms\n",
      "2:\tlearn: 4088.0671916\ttotal: 96.3ms\tremaining: 867ms\n",
      "3:\tlearn: 3960.3304997\ttotal: 127ms\tremaining: 827ms\n",
      "4:\tlearn: 3839.7448040\ttotal: 156ms\tremaining: 782ms\n",
      "5:\tlearn: 3726.4138325\ttotal: 186ms\tremaining: 743ms\n",
      "6:\tlearn: 3620.1507214\ttotal: 216ms\tremaining: 709ms\n",
      "7:\tlearn: 3519.3666208\ttotal: 245ms\tremaining: 674ms\n",
      "8:\tlearn: 3426.9073865\ttotal: 276ms\tremaining: 645ms\n",
      "9:\tlearn: 3337.6806414\ttotal: 307ms\tremaining: 614ms\n",
      "10:\tlearn: 3254.4821563\ttotal: 336ms\tremaining: 581ms\n",
      "11:\tlearn: 3179.2254220\ttotal: 364ms\tremaining: 546ms\n",
      "12:\tlearn: 3107.1028403\ttotal: 394ms\tremaining: 515ms\n",
      "13:\tlearn: 3040.4676334\ttotal: 427ms\tremaining: 488ms\n",
      "14:\tlearn: 2979.0800236\ttotal: 458ms\tremaining: 458ms\n",
      "15:\tlearn: 2919.6157382\ttotal: 491ms\tremaining: 429ms\n",
      "16:\tlearn: 2863.6790146\ttotal: 520ms\tremaining: 397ms\n",
      "17:\tlearn: 2811.6856550\ttotal: 553ms\tremaining: 369ms\n",
      "18:\tlearn: 2763.1407405\ttotal: 586ms\tremaining: 339ms\n",
      "19:\tlearn: 2718.2050936\ttotal: 619ms\tremaining: 310ms\n",
      "20:\tlearn: 2676.6760923\ttotal: 651ms\tremaining: 279ms\n",
      "21:\tlearn: 2637.8288843\ttotal: 686ms\tremaining: 249ms\n",
      "22:\tlearn: 2600.4386758\ttotal: 718ms\tremaining: 219ms\n",
      "23:\tlearn: 2565.0431370\ttotal: 750ms\tremaining: 188ms\n",
      "24:\tlearn: 2531.4251690\ttotal: 783ms\tremaining: 157ms\n",
      "25:\tlearn: 2502.0492093\ttotal: 818ms\tremaining: 126ms\n",
      "26:\tlearn: 2472.7686371\ttotal: 853ms\tremaining: 94.8ms\n",
      "27:\tlearn: 2444.6855300\ttotal: 887ms\tremaining: 63.3ms\n",
      "28:\tlearn: 2419.1841716\ttotal: 920ms\tremaining: 31.7ms\n",
      "29:\tlearn: 2395.4204974\ttotal: 954ms\tremaining: 0us\n",
      "0:\tlearn: 4370.1085062\ttotal: 34.4ms\tremaining: 999ms\n",
      "1:\tlearn: 4224.5198608\ttotal: 68.8ms\tremaining: 963ms\n",
      "2:\tlearn: 4090.5486799\ttotal: 103ms\tremaining: 924ms\n",
      "3:\tlearn: 3962.5456173\ttotal: 138ms\tremaining: 898ms\n",
      "4:\tlearn: 3840.4059656\ttotal: 175ms\tremaining: 875ms\n",
      "5:\tlearn: 3727.4234542\ttotal: 212ms\tremaining: 847ms\n",
      "6:\tlearn: 3621.7179341\ttotal: 246ms\tremaining: 807ms\n",
      "7:\tlearn: 3520.8995009\ttotal: 278ms\tremaining: 764ms\n",
      "8:\tlearn: 3427.0872367\ttotal: 309ms\tremaining: 721ms\n",
      "9:\tlearn: 3339.0540690\ttotal: 340ms\tremaining: 680ms\n",
      "10:\tlearn: 3257.6035904\ttotal: 373ms\tremaining: 645ms\n",
      "11:\tlearn: 3181.2013331\ttotal: 404ms\tremaining: 606ms\n",
      "12:\tlearn: 3110.4422600\ttotal: 439ms\tremaining: 574ms\n",
      "13:\tlearn: 3042.4435110\ttotal: 474ms\tremaining: 542ms\n",
      "14:\tlearn: 2980.0773170\ttotal: 507ms\tremaining: 507ms\n",
      "15:\tlearn: 2921.6614287\ttotal: 543ms\tremaining: 475ms\n",
      "16:\tlearn: 2865.1097705\ttotal: 577ms\tremaining: 441ms\n",
      "17:\tlearn: 2813.4482369\ttotal: 611ms\tremaining: 407ms\n",
      "18:\tlearn: 2767.0085641\ttotal: 644ms\tremaining: 373ms\n",
      "19:\tlearn: 2721.4126171\ttotal: 679ms\tremaining: 339ms\n",
      "20:\tlearn: 2678.6247469\ttotal: 711ms\tremaining: 305ms\n",
      "21:\tlearn: 2638.5505497\ttotal: 743ms\tremaining: 270ms\n",
      "22:\tlearn: 2602.1034110\ttotal: 777ms\tremaining: 237ms\n",
      "23:\tlearn: 2566.5021876\ttotal: 809ms\tremaining: 202ms\n",
      "24:\tlearn: 2534.5467447\ttotal: 842ms\tremaining: 168ms\n",
      "25:\tlearn: 2505.0535333\ttotal: 877ms\tremaining: 135ms\n",
      "26:\tlearn: 2476.1986772\ttotal: 910ms\tremaining: 101ms\n",
      "27:\tlearn: 2449.4314275\ttotal: 944ms\tremaining: 67.4ms\n",
      "28:\tlearn: 2424.9064382\ttotal: 976ms\tremaining: 33.7ms\n",
      "29:\tlearn: 2399.7114563\ttotal: 1.01s\tremaining: 0us\n",
      "0:\tlearn: 4203.9684185\ttotal: 35.2ms\tremaining: 1.02s\n",
      "1:\tlearn: 3935.8246523\ttotal: 69.3ms\tremaining: 970ms\n",
      "2:\tlearn: 3699.6395794\ttotal: 103ms\tremaining: 930ms\n",
      "3:\tlearn: 3489.9099358\ttotal: 137ms\tremaining: 893ms\n",
      "4:\tlearn: 3308.0409843\ttotal: 170ms\tremaining: 850ms\n",
      "5:\tlearn: 3150.5553582\ttotal: 203ms\tremaining: 813ms\n",
      "6:\tlearn: 3012.5516841\ttotal: 238ms\tremaining: 783ms\n",
      "7:\tlearn: 2896.8301058\ttotal: 273ms\tremaining: 752ms\n",
      "8:\tlearn: 2789.2900607\ttotal: 307ms\tremaining: 716ms\n",
      "9:\tlearn: 2699.7638801\ttotal: 339ms\tremaining: 677ms\n",
      "10:\tlearn: 2619.8634697\ttotal: 371ms\tremaining: 640ms\n",
      "11:\tlearn: 2546.5352068\ttotal: 404ms\tremaining: 605ms\n",
      "12:\tlearn: 2480.1441111\ttotal: 436ms\tremaining: 570ms\n",
      "13:\tlearn: 2424.8186152\ttotal: 469ms\tremaining: 536ms\n",
      "14:\tlearn: 2376.4512847\ttotal: 500ms\tremaining: 500ms\n",
      "15:\tlearn: 2330.5652226\ttotal: 533ms\tremaining: 466ms\n",
      "16:\tlearn: 2293.6386266\ttotal: 566ms\tremaining: 432ms\n",
      "17:\tlearn: 2258.2408212\ttotal: 598ms\tremaining: 399ms\n",
      "18:\tlearn: 2225.8049384\ttotal: 631ms\tremaining: 365ms\n",
      "19:\tlearn: 2199.0462359\ttotal: 663ms\tremaining: 332ms\n",
      "20:\tlearn: 2173.8841350\ttotal: 697ms\tremaining: 299ms\n",
      "21:\tlearn: 2152.5477967\ttotal: 729ms\tremaining: 265ms\n",
      "22:\tlearn: 2135.3216771\ttotal: 763ms\tremaining: 232ms\n",
      "23:\tlearn: 2118.8389981\ttotal: 808ms\tremaining: 202ms\n",
      "24:\tlearn: 2098.3768976\ttotal: 850ms\tremaining: 170ms\n",
      "25:\tlearn: 2085.0953408\ttotal: 892ms\tremaining: 137ms\n",
      "26:\tlearn: 2068.4786167\ttotal: 932ms\tremaining: 104ms\n",
      "27:\tlearn: 2055.6902560\ttotal: 969ms\tremaining: 69.2ms\n",
      "28:\tlearn: 2043.3660770\ttotal: 1s\tremaining: 34.6ms\n",
      "29:\tlearn: 2033.0474527\ttotal: 1.04s\tremaining: 0us\n",
      "0:\tlearn: 4207.8620878\ttotal: 35.5ms\tremaining: 1.03s\n",
      "1:\tlearn: 3939.0552286\ttotal: 71.2ms\tremaining: 996ms\n",
      "2:\tlearn: 3707.9078342\ttotal: 107ms\tremaining: 965ms\n",
      "3:\tlearn: 3500.3885016\ttotal: 141ms\tremaining: 919ms\n",
      "4:\tlearn: 3316.0495435\ttotal: 175ms\tremaining: 875ms\n",
      "5:\tlearn: 3158.4604705\ttotal: 209ms\tremaining: 838ms\n",
      "6:\tlearn: 3016.3028749\ttotal: 244ms\tremaining: 800ms\n",
      "7:\tlearn: 2894.9689906\ttotal: 278ms\tremaining: 764ms\n",
      "8:\tlearn: 2789.4155070\ttotal: 312ms\tremaining: 729ms\n",
      "9:\tlearn: 2701.5434815\ttotal: 348ms\tremaining: 697ms\n",
      "10:\tlearn: 2621.1903880\ttotal: 385ms\tremaining: 666ms\n",
      "11:\tlearn: 2550.3315463\ttotal: 421ms\tremaining: 632ms\n",
      "12:\tlearn: 2486.0265721\ttotal: 457ms\tremaining: 598ms\n",
      "13:\tlearn: 2432.8077777\ttotal: 496ms\tremaining: 566ms\n",
      "14:\tlearn: 2382.4465844\ttotal: 533ms\tremaining: 533ms\n",
      "15:\tlearn: 2339.9594916\ttotal: 568ms\tremaining: 497ms\n",
      "16:\tlearn: 2301.8682981\ttotal: 604ms\tremaining: 462ms\n",
      "17:\tlearn: 2271.0614409\ttotal: 642ms\tremaining: 428ms\n",
      "18:\tlearn: 2241.0162898\ttotal: 680ms\tremaining: 394ms\n",
      "19:\tlearn: 2215.3313667\ttotal: 716ms\tremaining: 358ms\n",
      "20:\tlearn: 2185.4215663\ttotal: 750ms\tremaining: 322ms\n",
      "21:\tlearn: 2164.9205888\ttotal: 787ms\tremaining: 286ms\n",
      "22:\tlearn: 2146.1578318\ttotal: 822ms\tremaining: 250ms\n",
      "23:\tlearn: 2124.4084479\ttotal: 862ms\tremaining: 215ms\n",
      "24:\tlearn: 2105.8955481\ttotal: 904ms\tremaining: 181ms\n",
      "25:\tlearn: 2090.7414299\ttotal: 946ms\tremaining: 146ms\n",
      "26:\tlearn: 2077.9002208\ttotal: 988ms\tremaining: 110ms\n",
      "27:\tlearn: 2064.2003434\ttotal: 1.03s\tremaining: 73.4ms\n",
      "28:\tlearn: 2052.6142040\ttotal: 1.07s\tremaining: 36.8ms\n",
      "29:\tlearn: 2042.3274583\ttotal: 1.1s\tremaining: 0us\n",
      "0:\tlearn: 4219.0820851\ttotal: 37.2ms\tremaining: 1.08s\n",
      "1:\tlearn: 3952.0167773\ttotal: 72.9ms\tremaining: 1.02s\n",
      "2:\tlearn: 3716.1260017\ttotal: 106ms\tremaining: 953ms\n",
      "3:\tlearn: 3507.7713414\ttotal: 139ms\tremaining: 904ms\n",
      "4:\tlearn: 3324.6985751\ttotal: 171ms\tremaining: 853ms\n",
      "5:\tlearn: 3164.1476291\ttotal: 202ms\tremaining: 807ms\n",
      "6:\tlearn: 3022.4847427\ttotal: 234ms\tremaining: 768ms\n",
      "7:\tlearn: 2896.9741302\ttotal: 267ms\tremaining: 734ms\n",
      "8:\tlearn: 2786.8016624\ttotal: 300ms\tremaining: 700ms\n",
      "9:\tlearn: 2695.4167365\ttotal: 332ms\tremaining: 663ms\n",
      "10:\tlearn: 2615.8068638\ttotal: 364ms\tremaining: 629ms\n",
      "11:\tlearn: 2546.7433654\ttotal: 397ms\tremaining: 595ms\n",
      "12:\tlearn: 2485.2607979\ttotal: 429ms\tremaining: 561ms\n",
      "13:\tlearn: 2429.6694258\ttotal: 462ms\tremaining: 527ms\n",
      "14:\tlearn: 2379.7821539\ttotal: 494ms\tremaining: 494ms\n",
      "15:\tlearn: 2338.2208885\ttotal: 526ms\tremaining: 460ms\n",
      "16:\tlearn: 2295.7009910\ttotal: 558ms\tremaining: 427ms\n",
      "17:\tlearn: 2262.6303700\ttotal: 590ms\tremaining: 393ms\n",
      "18:\tlearn: 2233.8255262\ttotal: 620ms\tremaining: 359ms\n",
      "19:\tlearn: 2202.5373412\ttotal: 651ms\tremaining: 326ms\n",
      "20:\tlearn: 2177.3097350\ttotal: 682ms\tremaining: 292ms\n",
      "21:\tlearn: 2156.4317965\ttotal: 714ms\tremaining: 260ms\n",
      "22:\tlearn: 2135.6391530\ttotal: 746ms\tremaining: 227ms\n",
      "23:\tlearn: 2118.5734208\ttotal: 777ms\tremaining: 194ms\n",
      "24:\tlearn: 2102.2937839\ttotal: 807ms\tremaining: 161ms\n",
      "25:\tlearn: 2088.4455322\ttotal: 838ms\tremaining: 129ms\n",
      "26:\tlearn: 2076.3995892\ttotal: 870ms\tremaining: 96.7ms\n",
      "27:\tlearn: 2063.5506670\ttotal: 903ms\tremaining: 64.5ms\n",
      "28:\tlearn: 2050.4486917\ttotal: 935ms\tremaining: 32.2ms\n",
      "29:\tlearn: 2040.9533966\ttotal: 966ms\tremaining: 0us\n",
      "0:\tlearn: 4217.6240565\ttotal: 32.8ms\tremaining: 951ms\n",
      "1:\tlearn: 3949.1579684\ttotal: 65.8ms\tremaining: 922ms\n",
      "2:\tlearn: 3715.8578315\ttotal: 98.3ms\tremaining: 885ms\n",
      "3:\tlearn: 3504.8022441\ttotal: 129ms\tremaining: 841ms\n",
      "4:\tlearn: 3320.8942794\ttotal: 159ms\tremaining: 796ms\n",
      "5:\tlearn: 3159.8188684\ttotal: 189ms\tremaining: 758ms\n",
      "6:\tlearn: 3024.3437790\ttotal: 221ms\tremaining: 725ms\n",
      "7:\tlearn: 2900.2238842\ttotal: 253ms\tremaining: 695ms\n",
      "8:\tlearn: 2791.9732500\ttotal: 283ms\tremaining: 661ms\n",
      "9:\tlearn: 2697.6849321\ttotal: 314ms\tremaining: 629ms\n",
      "10:\tlearn: 2615.4359241\ttotal: 345ms\tremaining: 595ms\n",
      "11:\tlearn: 2544.8539419\ttotal: 376ms\tremaining: 564ms\n",
      "12:\tlearn: 2482.7873647\ttotal: 409ms\tremaining: 535ms\n",
      "13:\tlearn: 2425.7099920\ttotal: 445ms\tremaining: 509ms\n",
      "14:\tlearn: 2376.9762123\ttotal: 485ms\tremaining: 485ms\n",
      "15:\tlearn: 2335.6416837\ttotal: 526ms\tremaining: 460ms\n",
      "16:\tlearn: 2299.3066431\ttotal: 564ms\tremaining: 431ms\n",
      "17:\tlearn: 2266.0569358\ttotal: 599ms\tremaining: 399ms\n",
      "18:\tlearn: 2236.8666343\ttotal: 633ms\tremaining: 367ms\n",
      "19:\tlearn: 2210.3280466\ttotal: 666ms\tremaining: 333ms\n",
      "20:\tlearn: 2183.0859342\ttotal: 699ms\tremaining: 300ms\n",
      "21:\tlearn: 2161.9609974\ttotal: 735ms\tremaining: 267ms\n",
      "22:\tlearn: 2144.2221370\ttotal: 766ms\tremaining: 233ms\n",
      "23:\tlearn: 2127.5459561\ttotal: 797ms\tremaining: 199ms\n",
      "24:\tlearn: 2107.8458152\ttotal: 830ms\tremaining: 166ms\n",
      "25:\tlearn: 2094.0987276\ttotal: 864ms\tremaining: 133ms\n",
      "26:\tlearn: 2079.4987153\ttotal: 894ms\tremaining: 99.4ms\n",
      "27:\tlearn: 2067.4223967\ttotal: 926ms\tremaining: 66.2ms\n",
      "28:\tlearn: 2054.6802518\ttotal: 959ms\tremaining: 33.1ms\n",
      "29:\tlearn: 2044.5644293\ttotal: 990ms\tremaining: 0us\n",
      "0:\tlearn: 4211.7152438\ttotal: 40ms\tremaining: 1.16s\n",
      "1:\tlearn: 3941.7759894\ttotal: 80.6ms\tremaining: 1.13s\n",
      "2:\tlearn: 3707.2109597\ttotal: 121ms\tremaining: 1.09s\n",
      "3:\tlearn: 3497.5854695\ttotal: 162ms\tremaining: 1.05s\n",
      "4:\tlearn: 3314.0626982\ttotal: 201ms\tremaining: 1s\n",
      "5:\tlearn: 3154.5394502\ttotal: 240ms\tremaining: 959ms\n",
      "6:\tlearn: 3015.7884832\ttotal: 280ms\tremaining: 920ms\n",
      "7:\tlearn: 2892.9457524\ttotal: 327ms\tremaining: 900ms\n",
      "8:\tlearn: 2784.2964570\ttotal: 370ms\tremaining: 862ms\n",
      "9:\tlearn: 2693.6994791\ttotal: 412ms\tremaining: 823ms\n",
      "10:\tlearn: 2615.7797763\ttotal: 451ms\tremaining: 778ms\n",
      "11:\tlearn: 2545.8229780\ttotal: 489ms\tremaining: 734ms\n",
      "12:\tlearn: 2486.5895514\ttotal: 527ms\tremaining: 690ms\n",
      "13:\tlearn: 2434.5090788\ttotal: 564ms\tremaining: 645ms\n",
      "14:\tlearn: 2380.5856573\ttotal: 602ms\tremaining: 602ms\n",
      "15:\tlearn: 2338.6535522\ttotal: 641ms\tremaining: 561ms\n",
      "16:\tlearn: 2300.7303525\ttotal: 677ms\tremaining: 518ms\n",
      "17:\tlearn: 2268.8852334\ttotal: 713ms\tremaining: 475ms\n",
      "18:\tlearn: 2237.8347192\ttotal: 750ms\tremaining: 434ms\n",
      "19:\tlearn: 2212.4133613\ttotal: 787ms\tremaining: 394ms\n",
      "20:\tlearn: 2185.6333975\ttotal: 826ms\tremaining: 354ms\n",
      "21:\tlearn: 2163.0468831\ttotal: 862ms\tremaining: 313ms\n",
      "22:\tlearn: 2144.1388897\ttotal: 898ms\tremaining: 273ms\n",
      "23:\tlearn: 2126.6725721\ttotal: 939ms\tremaining: 235ms\n",
      "24:\tlearn: 2107.5906209\ttotal: 983ms\tremaining: 197ms\n",
      "25:\tlearn: 2090.7830699\ttotal: 1.03s\tremaining: 158ms\n",
      "26:\tlearn: 2076.3198150\ttotal: 1.07s\tremaining: 119ms\n",
      "27:\tlearn: 2064.7790856\ttotal: 1.11s\tremaining: 79.5ms\n",
      "28:\tlearn: 2054.3979805\ttotal: 1.15s\tremaining: 39.7ms\n",
      "29:\tlearn: 2043.6024078\ttotal: 1.19s\tremaining: 0us\n",
      "CPU times: total: 18min 6s\n",
      "Wall time: 13min 22s\n"
     ]
    },
    {
     "data": {
      "text/html": [
       "<style>#sk-container-id-4 {\n",
       "  /* Definition of color scheme common for light and dark mode */\n",
       "  --sklearn-color-text: black;\n",
       "  --sklearn-color-line: gray;\n",
       "  /* Definition of color scheme for unfitted estimators */\n",
       "  --sklearn-color-unfitted-level-0: #fff5e6;\n",
       "  --sklearn-color-unfitted-level-1: #f6e4d2;\n",
       "  --sklearn-color-unfitted-level-2: #ffe0b3;\n",
       "  --sklearn-color-unfitted-level-3: chocolate;\n",
       "  /* Definition of color scheme for fitted estimators */\n",
       "  --sklearn-color-fitted-level-0: #f0f8ff;\n",
       "  --sklearn-color-fitted-level-1: #d4ebff;\n",
       "  --sklearn-color-fitted-level-2: #b3dbfd;\n",
       "  --sklearn-color-fitted-level-3: cornflowerblue;\n",
       "\n",
       "  /* Specific color for light theme */\n",
       "  --sklearn-color-text-on-default-background: var(--sg-text-color, var(--theme-code-foreground, var(--jp-content-font-color1, black)));\n",
       "  --sklearn-color-background: var(--sg-background-color, var(--theme-background, var(--jp-layout-color0, white)));\n",
       "  --sklearn-color-border-box: var(--sg-text-color, var(--theme-code-foreground, var(--jp-content-font-color1, black)));\n",
       "  --sklearn-color-icon: #696969;\n",
       "\n",
       "  @media (prefers-color-scheme: dark) {\n",
       "    /* Redefinition of color scheme for dark theme */\n",
       "    --sklearn-color-text-on-default-background: var(--sg-text-color, var(--theme-code-foreground, var(--jp-content-font-color1, white)));\n",
       "    --sklearn-color-background: var(--sg-background-color, var(--theme-background, var(--jp-layout-color0, #111)));\n",
       "    --sklearn-color-border-box: var(--sg-text-color, var(--theme-code-foreground, var(--jp-content-font-color1, white)));\n",
       "    --sklearn-color-icon: #878787;\n",
       "  }\n",
       "}\n",
       "\n",
       "#sk-container-id-4 {\n",
       "  color: var(--sklearn-color-text);\n",
       "}\n",
       "\n",
       "#sk-container-id-4 pre {\n",
       "  padding: 0;\n",
       "}\n",
       "\n",
       "#sk-container-id-4 input.sk-hidden--visually {\n",
       "  border: 0;\n",
       "  clip: rect(1px 1px 1px 1px);\n",
       "  clip: rect(1px, 1px, 1px, 1px);\n",
       "  height: 1px;\n",
       "  margin: -1px;\n",
       "  overflow: hidden;\n",
       "  padding: 0;\n",
       "  position: absolute;\n",
       "  width: 1px;\n",
       "}\n",
       "\n",
       "#sk-container-id-4 div.sk-dashed-wrapped {\n",
       "  border: 1px dashed var(--sklearn-color-line);\n",
       "  margin: 0 0.4em 0.5em 0.4em;\n",
       "  box-sizing: border-box;\n",
       "  padding-bottom: 0.4em;\n",
       "  background-color: var(--sklearn-color-background);\n",
       "}\n",
       "\n",
       "#sk-container-id-4 div.sk-container {\n",
       "  /* jupyter's `normalize.less` sets `[hidden] { display: none; }`\n",
       "     but bootstrap.min.css set `[hidden] { display: none !important; }`\n",
       "     so we also need the `!important` here to be able to override the\n",
       "     default hidden behavior on the sphinx rendered scikit-learn.org.\n",
       "     See: https://github.com/scikit-learn/scikit-learn/issues/21755 */\n",
       "  display: inline-block !important;\n",
       "  position: relative;\n",
       "}\n",
       "\n",
       "#sk-container-id-4 div.sk-text-repr-fallback {\n",
       "  display: none;\n",
       "}\n",
       "\n",
       "div.sk-parallel-item,\n",
       "div.sk-serial,\n",
       "div.sk-item {\n",
       "  /* draw centered vertical line to link estimators */\n",
       "  background-image: linear-gradient(var(--sklearn-color-text-on-default-background), var(--sklearn-color-text-on-default-background));\n",
       "  background-size: 2px 100%;\n",
       "  background-repeat: no-repeat;\n",
       "  background-position: center center;\n",
       "}\n",
       "\n",
       "/* Parallel-specific style estimator block */\n",
       "\n",
       "#sk-container-id-4 div.sk-parallel-item::after {\n",
       "  content: \"\";\n",
       "  width: 100%;\n",
       "  border-bottom: 2px solid var(--sklearn-color-text-on-default-background);\n",
       "  flex-grow: 1;\n",
       "}\n",
       "\n",
       "#sk-container-id-4 div.sk-parallel {\n",
       "  display: flex;\n",
       "  align-items: stretch;\n",
       "  justify-content: center;\n",
       "  background-color: var(--sklearn-color-background);\n",
       "  position: relative;\n",
       "}\n",
       "\n",
       "#sk-container-id-4 div.sk-parallel-item {\n",
       "  display: flex;\n",
       "  flex-direction: column;\n",
       "}\n",
       "\n",
       "#sk-container-id-4 div.sk-parallel-item:first-child::after {\n",
       "  align-self: flex-end;\n",
       "  width: 50%;\n",
       "}\n",
       "\n",
       "#sk-container-id-4 div.sk-parallel-item:last-child::after {\n",
       "  align-self: flex-start;\n",
       "  width: 50%;\n",
       "}\n",
       "\n",
       "#sk-container-id-4 div.sk-parallel-item:only-child::after {\n",
       "  width: 0;\n",
       "}\n",
       "\n",
       "/* Serial-specific style estimator block */\n",
       "\n",
       "#sk-container-id-4 div.sk-serial {\n",
       "  display: flex;\n",
       "  flex-direction: column;\n",
       "  align-items: center;\n",
       "  background-color: var(--sklearn-color-background);\n",
       "  padding-right: 1em;\n",
       "  padding-left: 1em;\n",
       "}\n",
       "\n",
       "\n",
       "/* Toggleable style: style used for estimator/Pipeline/ColumnTransformer box that is\n",
       "clickable and can be expanded/collapsed.\n",
       "- Pipeline and ColumnTransformer use this feature and define the default style\n",
       "- Estimators will overwrite some part of the style using the `sk-estimator` class\n",
       "*/\n",
       "\n",
       "/* Pipeline and ColumnTransformer style (default) */\n",
       "\n",
       "#sk-container-id-4 div.sk-toggleable {\n",
       "  /* Default theme specific background. It is overwritten whether we have a\n",
       "  specific estimator or a Pipeline/ColumnTransformer */\n",
       "  background-color: var(--sklearn-color-background);\n",
       "}\n",
       "\n",
       "/* Toggleable label */\n",
       "#sk-container-id-4 label.sk-toggleable__label {\n",
       "  cursor: pointer;\n",
       "  display: block;\n",
       "  width: 100%;\n",
       "  margin-bottom: 0;\n",
       "  padding: 0.5em;\n",
       "  box-sizing: border-box;\n",
       "  text-align: center;\n",
       "}\n",
       "\n",
       "#sk-container-id-4 label.sk-toggleable__label-arrow:before {\n",
       "  /* Arrow on the left of the label */\n",
       "  content: \"▸\";\n",
       "  float: left;\n",
       "  margin-right: 0.25em;\n",
       "  color: var(--sklearn-color-icon);\n",
       "}\n",
       "\n",
       "#sk-container-id-4 label.sk-toggleable__label-arrow:hover:before {\n",
       "  color: var(--sklearn-color-text);\n",
       "}\n",
       "\n",
       "/* Toggleable content - dropdown */\n",
       "\n",
       "#sk-container-id-4 div.sk-toggleable__content {\n",
       "  max-height: 0;\n",
       "  max-width: 0;\n",
       "  overflow: hidden;\n",
       "  text-align: left;\n",
       "  /* unfitted */\n",
       "  background-color: var(--sklearn-color-unfitted-level-0);\n",
       "}\n",
       "\n",
       "#sk-container-id-4 div.sk-toggleable__content.fitted {\n",
       "  /* fitted */\n",
       "  background-color: var(--sklearn-color-fitted-level-0);\n",
       "}\n",
       "\n",
       "#sk-container-id-4 div.sk-toggleable__content pre {\n",
       "  margin: 0.2em;\n",
       "  border-radius: 0.25em;\n",
       "  color: var(--sklearn-color-text);\n",
       "  /* unfitted */\n",
       "  background-color: var(--sklearn-color-unfitted-level-0);\n",
       "}\n",
       "\n",
       "#sk-container-id-4 div.sk-toggleable__content.fitted pre {\n",
       "  /* unfitted */\n",
       "  background-color: var(--sklearn-color-fitted-level-0);\n",
       "}\n",
       "\n",
       "#sk-container-id-4 input.sk-toggleable__control:checked~div.sk-toggleable__content {\n",
       "  /* Expand drop-down */\n",
       "  max-height: 200px;\n",
       "  max-width: 100%;\n",
       "  overflow: auto;\n",
       "}\n",
       "\n",
       "#sk-container-id-4 input.sk-toggleable__control:checked~label.sk-toggleable__label-arrow:before {\n",
       "  content: \"▾\";\n",
       "}\n",
       "\n",
       "/* Pipeline/ColumnTransformer-specific style */\n",
       "\n",
       "#sk-container-id-4 div.sk-label input.sk-toggleable__control:checked~label.sk-toggleable__label {\n",
       "  color: var(--sklearn-color-text);\n",
       "  background-color: var(--sklearn-color-unfitted-level-2);\n",
       "}\n",
       "\n",
       "#sk-container-id-4 div.sk-label.fitted input.sk-toggleable__control:checked~label.sk-toggleable__label {\n",
       "  background-color: var(--sklearn-color-fitted-level-2);\n",
       "}\n",
       "\n",
       "/* Estimator-specific style */\n",
       "\n",
       "/* Colorize estimator box */\n",
       "#sk-container-id-4 div.sk-estimator input.sk-toggleable__control:checked~label.sk-toggleable__label {\n",
       "  /* unfitted */\n",
       "  background-color: var(--sklearn-color-unfitted-level-2);\n",
       "}\n",
       "\n",
       "#sk-container-id-4 div.sk-estimator.fitted input.sk-toggleable__control:checked~label.sk-toggleable__label {\n",
       "  /* fitted */\n",
       "  background-color: var(--sklearn-color-fitted-level-2);\n",
       "}\n",
       "\n",
       "#sk-container-id-4 div.sk-label label.sk-toggleable__label,\n",
       "#sk-container-id-4 div.sk-label label {\n",
       "  /* The background is the default theme color */\n",
       "  color: var(--sklearn-color-text-on-default-background);\n",
       "}\n",
       "\n",
       "/* On hover, darken the color of the background */\n",
       "#sk-container-id-4 div.sk-label:hover label.sk-toggleable__label {\n",
       "  color: var(--sklearn-color-text);\n",
       "  background-color: var(--sklearn-color-unfitted-level-2);\n",
       "}\n",
       "\n",
       "/* Label box, darken color on hover, fitted */\n",
       "#sk-container-id-4 div.sk-label.fitted:hover label.sk-toggleable__label.fitted {\n",
       "  color: var(--sklearn-color-text);\n",
       "  background-color: var(--sklearn-color-fitted-level-2);\n",
       "}\n",
       "\n",
       "/* Estimator label */\n",
       "\n",
       "#sk-container-id-4 div.sk-label label {\n",
       "  font-family: monospace;\n",
       "  font-weight: bold;\n",
       "  display: inline-block;\n",
       "  line-height: 1.2em;\n",
       "}\n",
       "\n",
       "#sk-container-id-4 div.sk-label-container {\n",
       "  text-align: center;\n",
       "}\n",
       "\n",
       "/* Estimator-specific */\n",
       "#sk-container-id-4 div.sk-estimator {\n",
       "  font-family: monospace;\n",
       "  border: 1px dotted var(--sklearn-color-border-box);\n",
       "  border-radius: 0.25em;\n",
       "  box-sizing: border-box;\n",
       "  margin-bottom: 0.5em;\n",
       "  /* unfitted */\n",
       "  background-color: var(--sklearn-color-unfitted-level-0);\n",
       "}\n",
       "\n",
       "#sk-container-id-4 div.sk-estimator.fitted {\n",
       "  /* fitted */\n",
       "  background-color: var(--sklearn-color-fitted-level-0);\n",
       "}\n",
       "\n",
       "/* on hover */\n",
       "#sk-container-id-4 div.sk-estimator:hover {\n",
       "  /* unfitted */\n",
       "  background-color: var(--sklearn-color-unfitted-level-2);\n",
       "}\n",
       "\n",
       "#sk-container-id-4 div.sk-estimator.fitted:hover {\n",
       "  /* fitted */\n",
       "  background-color: var(--sklearn-color-fitted-level-2);\n",
       "}\n",
       "\n",
       "/* Specification for estimator info (e.g. \"i\" and \"?\") */\n",
       "\n",
       "/* Common style for \"i\" and \"?\" */\n",
       "\n",
       ".sk-estimator-doc-link,\n",
       "a:link.sk-estimator-doc-link,\n",
       "a:visited.sk-estimator-doc-link {\n",
       "  float: right;\n",
       "  font-size: smaller;\n",
       "  line-height: 1em;\n",
       "  font-family: monospace;\n",
       "  background-color: var(--sklearn-color-background);\n",
       "  border-radius: 1em;\n",
       "  height: 1em;\n",
       "  width: 1em;\n",
       "  text-decoration: none !important;\n",
       "  margin-left: 1ex;\n",
       "  /* unfitted */\n",
       "  border: var(--sklearn-color-unfitted-level-1) 1pt solid;\n",
       "  color: var(--sklearn-color-unfitted-level-1);\n",
       "}\n",
       "\n",
       ".sk-estimator-doc-link.fitted,\n",
       "a:link.sk-estimator-doc-link.fitted,\n",
       "a:visited.sk-estimator-doc-link.fitted {\n",
       "  /* fitted */\n",
       "  border: var(--sklearn-color-fitted-level-1) 1pt solid;\n",
       "  color: var(--sklearn-color-fitted-level-1);\n",
       "}\n",
       "\n",
       "/* On hover */\n",
       "div.sk-estimator:hover .sk-estimator-doc-link:hover,\n",
       ".sk-estimator-doc-link:hover,\n",
       "div.sk-label-container:hover .sk-estimator-doc-link:hover,\n",
       ".sk-estimator-doc-link:hover {\n",
       "  /* unfitted */\n",
       "  background-color: var(--sklearn-color-unfitted-level-3);\n",
       "  color: var(--sklearn-color-background);\n",
       "  text-decoration: none;\n",
       "}\n",
       "\n",
       "div.sk-estimator.fitted:hover .sk-estimator-doc-link.fitted:hover,\n",
       ".sk-estimator-doc-link.fitted:hover,\n",
       "div.sk-label-container:hover .sk-estimator-doc-link.fitted:hover,\n",
       ".sk-estimator-doc-link.fitted:hover {\n",
       "  /* fitted */\n",
       "  background-color: var(--sklearn-color-fitted-level-3);\n",
       "  color: var(--sklearn-color-background);\n",
       "  text-decoration: none;\n",
       "}\n",
       "\n",
       "/* Span, style for the box shown on hovering the info icon */\n",
       ".sk-estimator-doc-link span {\n",
       "  display: none;\n",
       "  z-index: 9999;\n",
       "  position: relative;\n",
       "  font-weight: normal;\n",
       "  right: .2ex;\n",
       "  padding: .5ex;\n",
       "  margin: .5ex;\n",
       "  width: min-content;\n",
       "  min-width: 20ex;\n",
       "  max-width: 50ex;\n",
       "  color: var(--sklearn-color-text);\n",
       "  box-shadow: 2pt 2pt 4pt #999;\n",
       "  /* unfitted */\n",
       "  background: var(--sklearn-color-unfitted-level-0);\n",
       "  border: .5pt solid var(--sklearn-color-unfitted-level-3);\n",
       "}\n",
       "\n",
       ".sk-estimator-doc-link.fitted span {\n",
       "  /* fitted */\n",
       "  background: var(--sklearn-color-fitted-level-0);\n",
       "  border: var(--sklearn-color-fitted-level-3);\n",
       "}\n",
       "\n",
       ".sk-estimator-doc-link:hover span {\n",
       "  display: block;\n",
       "}\n",
       "\n",
       "/* \"?\"-specific style due to the `<a>` HTML tag */\n",
       "\n",
       "#sk-container-id-4 a.estimator_doc_link {\n",
       "  float: right;\n",
       "  font-size: 1rem;\n",
       "  line-height: 1em;\n",
       "  font-family: monospace;\n",
       "  background-color: var(--sklearn-color-background);\n",
       "  border-radius: 1rem;\n",
       "  height: 1rem;\n",
       "  width: 1rem;\n",
       "  text-decoration: none;\n",
       "  /* unfitted */\n",
       "  color: var(--sklearn-color-unfitted-level-1);\n",
       "  border: var(--sklearn-color-unfitted-level-1) 1pt solid;\n",
       "}\n",
       "\n",
       "#sk-container-id-4 a.estimator_doc_link.fitted {\n",
       "  /* fitted */\n",
       "  border: var(--sklearn-color-fitted-level-1) 1pt solid;\n",
       "  color: var(--sklearn-color-fitted-level-1);\n",
       "}\n",
       "\n",
       "/* On hover */\n",
       "#sk-container-id-4 a.estimator_doc_link:hover {\n",
       "  /* unfitted */\n",
       "  background-color: var(--sklearn-color-unfitted-level-3);\n",
       "  color: var(--sklearn-color-background);\n",
       "  text-decoration: none;\n",
       "}\n",
       "\n",
       "#sk-container-id-4 a.estimator_doc_link.fitted:hover {\n",
       "  /* fitted */\n",
       "  background-color: var(--sklearn-color-fitted-level-3);\n",
       "}\n",
       "</style><div id=\"sk-container-id-4\" class=\"sk-top-container\"><div class=\"sk-text-repr-fallback\"><pre>GridSearchCV(cv=4,\n",
       "             estimator=&lt;catboost.core.CatBoostRegressor object at 0x0000020131CAE870&gt;,\n",
       "             param_grid={&#x27;depth&#x27;: [1, 2, 5, 10], &#x27;iterations&#x27;: [10, 20, 30],\n",
       "                         &#x27;learning_rate&#x27;: [0.01, 0.05, 0.1]},\n",
       "             verbose=1)</pre><b>In a Jupyter environment, please rerun this cell to show the HTML representation or trust the notebook. <br />On GitHub, the HTML representation is unable to render, please try loading this page with nbviewer.org.</b></div><div class=\"sk-container\" hidden><div class=\"sk-item sk-dashed-wrapped\"><div class=\"sk-label-container\"><div class=\"sk-label fitted sk-toggleable\"><input class=\"sk-toggleable__control sk-hidden--visually\" id=\"sk-estimator-id-6\" type=\"checkbox\" ><label for=\"sk-estimator-id-6\" class=\"sk-toggleable__label fitted sk-toggleable__label-arrow fitted\">&nbsp;&nbsp;GridSearchCV<a class=\"sk-estimator-doc-link fitted\" rel=\"noreferrer\" target=\"_blank\" href=\"https://scikit-learn.org/1.4/modules/generated/sklearn.model_selection.GridSearchCV.html\">?<span>Documentation for GridSearchCV</span></a><span class=\"sk-estimator-doc-link fitted\">i<span>Fitted</span></span></label><div class=\"sk-toggleable__content fitted\"><pre>GridSearchCV(cv=4,\n",
       "             estimator=&lt;catboost.core.CatBoostRegressor object at 0x0000020131CAE870&gt;,\n",
       "             param_grid={&#x27;depth&#x27;: [1, 2, 5, 10], &#x27;iterations&#x27;: [10, 20, 30],\n",
       "                         &#x27;learning_rate&#x27;: [0.01, 0.05, 0.1]},\n",
       "             verbose=1)</pre></div> </div></div><div class=\"sk-parallel\"><div class=\"sk-parallel-item\"><div class=\"sk-item\"><div class=\"sk-label-container\"><div class=\"sk-label fitted sk-toggleable\"><input class=\"sk-toggleable__control sk-hidden--visually\" id=\"sk-estimator-id-7\" type=\"checkbox\" ><label for=\"sk-estimator-id-7\" class=\"sk-toggleable__label fitted sk-toggleable__label-arrow fitted\">estimator: CatBoostRegressor</label><div class=\"sk-toggleable__content fitted\"><pre>&lt;catboost.core.CatBoostRegressor object at 0x0000020131CAE870&gt;</pre></div> </div></div><div class=\"sk-serial\"><div class=\"sk-item\"><div class=\"sk-estimator fitted sk-toggleable\"><input class=\"sk-toggleable__control sk-hidden--visually\" id=\"sk-estimator-id-8\" type=\"checkbox\" ><label for=\"sk-estimator-id-8\" class=\"sk-toggleable__label fitted sk-toggleable__label-arrow fitted\">CatBoostRegressor</label><div class=\"sk-toggleable__content fitted\"><pre>&lt;catboost.core.CatBoostRegressor object at 0x0000020131CAE870&gt;</pre></div> </div></div></div></div></div></div></div></div></div>"
      ],
      "text/plain": [
       "GridSearchCV(cv=4,\n",
       "             estimator=<catboost.core.CatBoostRegressor object at 0x0000020131CAE870>,\n",
       "             param_grid={'depth': [1, 2, 5, 10], 'iterations': [10, 20, 30],\n",
       "                         'learning_rate': [0.01, 0.05, 0.1]},\n",
       "             verbose=1)"
      ]
     },
     "execution_count": 32,
     "metadata": {},
     "output_type": "execute_result"
    }
   ],
   "source": [
    "%%time\n",
    "# Fit the GridSearchCV to the training data\n",
    "grid_search_cbr.fit(features_train, target_train)"
   ]
  },
  {
   "cell_type": "code",
   "execution_count": 33,
   "metadata": {},
   "outputs": [
    {
     "name": "stdout",
     "output_type": "stream",
     "text": [
      "Best Hyperparameters: {'depth': 10, 'iterations': 30, 'learning_rate': 0.1}\n"
     ]
    }
   ],
   "source": [
    "# Extract the best hyperparameters found during grid search\n",
    "best_params_cbr = grid_search_cbr.best_params_\n",
    "\n",
    "# Retrieve the best estimator (model) from the grid search\n",
    "best_model_cbr = grid_search_cbr.best_estimator_\n",
    "\n",
    "# Print the best hyperparameters\n",
    "print(f\"Best Hyperparameters: {best_params_cbr}\")"
   ]
  },
  {
   "cell_type": "code",
   "execution_count": 34,
   "metadata": {},
   "outputs": [
    {
     "name": "stdout",
     "output_type": "stream",
     "text": [
      "CPU times: total: 0 ns\n",
      "Wall time: 0 ns\n"
     ]
    }
   ],
   "source": [
    "%%time\n",
    "# Train a CatBoost Regressor with the best hyperparameters found from tuning       \n",
    "cbr = CatBoostRegressor(random_state=7, \n",
    "                           depth=best_params_cbr['depth'],\n",
    "                           iterations=best_params_cbr['iterations'],\n",
    "                           learning_rate=best_params_cbr['learning_rate'],\n",
    "                           ) "
   ]
  },
  {
   "cell_type": "code",
   "execution_count": 35,
   "metadata": {},
   "outputs": [
    {
     "name": "stdout",
     "output_type": "stream",
     "text": [
      "0:\tlearn: 4211.7152438\ttotal: 48.1ms\tremaining: 1.4s\n",
      "1:\tlearn: 3941.7759894\ttotal: 94.3ms\tremaining: 1.32s\n",
      "2:\tlearn: 3707.2109597\ttotal: 136ms\tremaining: 1.22s\n",
      "3:\tlearn: 3497.5854695\ttotal: 178ms\tremaining: 1.16s\n",
      "4:\tlearn: 3314.0626982\ttotal: 218ms\tremaining: 1.09s\n",
      "5:\tlearn: 3154.5394502\ttotal: 264ms\tremaining: 1.05s\n",
      "6:\tlearn: 3015.7884832\ttotal: 306ms\tremaining: 1.01s\n",
      "7:\tlearn: 2892.9457524\ttotal: 356ms\tremaining: 980ms\n",
      "8:\tlearn: 2784.2964570\ttotal: 403ms\tremaining: 940ms\n",
      "9:\tlearn: 2693.6994791\ttotal: 449ms\tremaining: 897ms\n",
      "10:\tlearn: 2615.7797763\ttotal: 498ms\tremaining: 860ms\n",
      "11:\tlearn: 2545.8229780\ttotal: 543ms\tremaining: 814ms\n",
      "12:\tlearn: 2486.5895514\ttotal: 585ms\tremaining: 764ms\n",
      "13:\tlearn: 2434.5090788\ttotal: 623ms\tremaining: 713ms\n",
      "14:\tlearn: 2380.5856573\ttotal: 665ms\tremaining: 665ms\n",
      "15:\tlearn: 2338.6535522\ttotal: 709ms\tremaining: 620ms\n",
      "16:\tlearn: 2300.7303525\ttotal: 754ms\tremaining: 577ms\n",
      "17:\tlearn: 2268.8852334\ttotal: 800ms\tremaining: 534ms\n",
      "18:\tlearn: 2237.8347192\ttotal: 845ms\tremaining: 489ms\n",
      "19:\tlearn: 2212.4133613\ttotal: 886ms\tremaining: 443ms\n",
      "20:\tlearn: 2185.6333975\ttotal: 927ms\tremaining: 397ms\n",
      "21:\tlearn: 2163.0468831\ttotal: 969ms\tremaining: 352ms\n",
      "22:\tlearn: 2144.1388897\ttotal: 1.01s\tremaining: 308ms\n",
      "23:\tlearn: 2126.6725721\ttotal: 1.05s\tremaining: 263ms\n",
      "24:\tlearn: 2107.5906209\ttotal: 1.09s\tremaining: 219ms\n",
      "25:\tlearn: 2090.7830699\ttotal: 1.14s\tremaining: 175ms\n",
      "26:\tlearn: 2076.3198150\ttotal: 1.18s\tremaining: 131ms\n",
      "27:\tlearn: 2064.7790856\ttotal: 1.22s\tremaining: 87ms\n",
      "28:\tlearn: 2054.3979805\ttotal: 1.26s\tremaining: 43.5ms\n",
      "29:\tlearn: 2043.6024078\ttotal: 1.3s\tremaining: 0us\n"
     ]
    },
    {
     "data": {
      "text/plain": [
       "<catboost.core.CatBoostRegressor at 0x201343cdc70>"
      ]
     },
     "execution_count": 35,
     "metadata": {},
     "output_type": "execute_result"
    }
   ],
   "source": [
    "# Train a CatBoost Regressor using the best hyperparameters from grid search\n",
    "cbr.fit(features_train, target_train)"
   ]
  },
  {
   "cell_type": "code",
   "execution_count": 36,
   "metadata": {},
   "outputs": [
    {
     "name": "stdout",
     "output_type": "stream",
     "text": [
      "CPU times: total: 78.1 ms\n",
      "Wall time: 35 ms\n"
     ]
    }
   ],
   "source": [
    "%%time\n",
    "# Predict target values for the validation set using the trained CatBoost model    \n",
    "predictions_valid_cbr = cbr.predict(features_valid)"
   ]
  },
  {
   "cell_type": "code",
   "execution_count": 37,
   "metadata": {
    "scrolled": true
   },
   "outputs": [
    {
     "name": "stdout",
     "output_type": "stream",
     "text": [
      "Best Parameters: {'depth': 10, 'iterations': 30, 'learning_rate': 0.1}\n",
      "Root Mean Squared Error: 2034.4336189856476\n"
     ]
    }
   ],
   "source": [
    "# Calculate RMSE for the Random Forest predictions on the validation set\n",
    "mse_cbr = mean_squared_error(target_valid, predictions_valid_cbr)\n",
    "rmse_cbr = mse_cbr ** 0.5\n",
    "\n",
    " # Print calculated RMSE along with best hyperparameters used for the model\n",
    "print(\"Best Parameters:\", best_params_cbr)\n",
    "print(\"Root Mean Squared Error:\", rmse_cbr)"
   ]
  },
  {
   "cell_type": "markdown",
   "metadata": {},
   "source": [
    "When running the above Cat Boost Regressor model with best parameters (depth:10, and iterations:30, and learning_rate:0.1), RMSE is 2034.4336189856476 which suggests that the model's predictions on average deviate by ~2034 from the actual values. The training time for model fiting is 2.33s while for making predictions is 13.6ms. It is the fastest model among all as it is efficient at handling categorical and numerical data. "
   ]
  },
  {
   "cell_type": "markdown",
   "metadata": {},
   "source": [
    "### LightGBM Regression"
   ]
  },
  {
   "cell_type": "code",
   "execution_count": 38,
   "metadata": {},
   "outputs": [],
   "source": [
    "# Perform hyperparameter tuning for LGBMRegressor using GridSearchCV\n",
    "param_grid_lgbm = {\n",
    "    'learning_rate': [0.01, 0.05, 0.1],  \n",
    "    'n_estimators': [10, 20, 30],         \n",
    "    'max_depth': [1, 2, 5, 10]              \n",
    "}"
   ]
  },
  {
   "cell_type": "code",
   "execution_count": 39,
   "metadata": {},
   "outputs": [],
   "source": [
    "# Initialize a LGBMRegressor with a fixed random seed for reproducibility\n",
    "lgbm = LGBMRegressor(random_state=7)  \n",
    "\n",
    "# Perform hyperparameter tuning using Grid search with 4-fold cross-validation\n",
    "grid_search_lgbm = GridSearchCV(estimator=lgbm, param_grid=param_grid_lgbm, cv=4, scoring='neg_root_mean_squared_error', verbose=1)"
   ]
  },
  {
   "cell_type": "code",
   "execution_count": 40,
   "metadata": {},
   "outputs": [
    {
     "name": "stdout",
     "output_type": "stream",
     "text": [
      "Fitting 4 folds for each of 36 candidates, totalling 144 fits\n"
     ]
    },
    {
     "name": "stdout",
     "output_type": "stream",
     "text": [
      "[LightGBM] [Warning] Found whitespace in feature_names, replace with underlines\n",
      "[LightGBM] [Info] Auto-choosing row-wise multi-threading, the overhead of testing was 0.007416 seconds.\n",
      "You can set `force_row_wise=true` to remove the overhead.\n",
      "And if memory is not enough, you can set `force_col_wise=true`.\n",
      "[LightGBM] [Info] Total Bins 951\n",
      "[LightGBM] [Info] Number of data points in the train set: 159348, number of used features: 290\n",
      "[LightGBM] [Info] Start training from score 4413.717825\n",
      "[LightGBM] [Warning] No further splits with positive gain, best gain: -inf\n",
      "[LightGBM] [Warning] No further splits with positive gain, best gain: -inf\n",
      "[LightGBM] [Warning] No further splits with positive gain, best gain: -inf\n",
      "[LightGBM] [Warning] No further splits with positive gain, best gain: -inf\n",
      "[LightGBM] [Warning] No further splits with positive gain, best gain: -inf\n",
      "[LightGBM] [Warning] No further splits with positive gain, best gain: -inf\n",
      "[LightGBM] [Warning] No further splits with positive gain, best gain: -inf\n",
      "[LightGBM] [Warning] No further splits with positive gain, best gain: -inf\n",
      "[LightGBM] [Warning] No further splits with positive gain, best gain: -inf\n",
      "[LightGBM] [Warning] No further splits with positive gain, best gain: -inf\n",
      "[LightGBM] [Warning] Found whitespace in feature_names, replace with underlines\n",
      "[LightGBM] [Info] Auto-choosing row-wise multi-threading, the overhead of testing was 0.005553 seconds.\n",
      "You can set `force_row_wise=true` to remove the overhead.\n",
      "And if memory is not enough, you can set `force_col_wise=true`.\n",
      "[LightGBM] [Info] Total Bins 946\n",
      "[LightGBM] [Info] Number of data points in the train set: 159348, number of used features: 288\n",
      "[LightGBM] [Info] Start training from score 4418.146842\n",
      "[LightGBM] [Warning] No further splits with positive gain, best gain: -inf\n",
      "[LightGBM] [Warning] No further splits with positive gain, best gain: -inf\n",
      "[LightGBM] [Warning] No further splits with positive gain, best gain: -inf\n",
      "[LightGBM] [Warning] No further splits with positive gain, best gain: -inf\n",
      "[LightGBM] [Warning] No further splits with positive gain, best gain: -inf\n",
      "[LightGBM] [Warning] No further splits with positive gain, best gain: -inf\n",
      "[LightGBM] [Warning] No further splits with positive gain, best gain: -inf\n",
      "[LightGBM] [Warning] No further splits with positive gain, best gain: -inf\n",
      "[LightGBM] [Warning] No further splits with positive gain, best gain: -inf\n",
      "[LightGBM] [Warning] No further splits with positive gain, best gain: -inf\n",
      "[LightGBM] [Warning] Found whitespace in feature_names, replace with underlines\n",
      "[LightGBM] [Info] Auto-choosing row-wise multi-threading, the overhead of testing was 0.005549 seconds.\n",
      "You can set `force_row_wise=true` to remove the overhead.\n",
      "And if memory is not enough, you can set `force_col_wise=true`.\n",
      "[LightGBM] [Info] Total Bins 946\n",
      "[LightGBM] [Info] Number of data points in the train set: 159348, number of used features: 289\n",
      "[LightGBM] [Info] Start training from score 4415.134529\n",
      "[LightGBM] [Warning] No further splits with positive gain, best gain: -inf\n",
      "[LightGBM] [Warning] No further splits with positive gain, best gain: -inf\n",
      "[LightGBM] [Warning] No further splits with positive gain, best gain: -inf\n",
      "[LightGBM] [Warning] No further splits with positive gain, best gain: -inf\n",
      "[LightGBM] [Warning] No further splits with positive gain, best gain: -inf\n",
      "[LightGBM] [Warning] No further splits with positive gain, best gain: -inf\n",
      "[LightGBM] [Warning] No further splits with positive gain, best gain: -inf\n",
      "[LightGBM] [Warning] No further splits with positive gain, best gain: -inf\n",
      "[LightGBM] [Warning] No further splits with positive gain, best gain: -inf\n",
      "[LightGBM] [Warning] No further splits with positive gain, best gain: -inf\n",
      "[LightGBM] [Warning] Found whitespace in feature_names, replace with underlines\n",
      "[LightGBM] [Info] Auto-choosing row-wise multi-threading, the overhead of testing was 0.006171 seconds.\n",
      "You can set `force_row_wise=true` to remove the overhead.\n",
      "And if memory is not enough, you can set `force_col_wise=true`.\n",
      "[LightGBM] [Info] Total Bins 944\n",
      "[LightGBM] [Info] Number of data points in the train set: 159348, number of used features: 289\n",
      "[LightGBM] [Info] Start training from score 4427.849512\n",
      "[LightGBM] [Warning] No further splits with positive gain, best gain: -inf\n",
      "[LightGBM] [Warning] No further splits with positive gain, best gain: -inf\n",
      "[LightGBM] [Warning] No further splits with positive gain, best gain: -inf\n",
      "[LightGBM] [Warning] No further splits with positive gain, best gain: -inf\n",
      "[LightGBM] [Warning] No further splits with positive gain, best gain: -inf\n",
      "[LightGBM] [Warning] No further splits with positive gain, best gain: -inf\n",
      "[LightGBM] [Warning] No further splits with positive gain, best gain: -inf\n",
      "[LightGBM] [Warning] No further splits with positive gain, best gain: -inf\n",
      "[LightGBM] [Warning] No further splits with positive gain, best gain: -inf\n",
      "[LightGBM] [Warning] No further splits with positive gain, best gain: -inf\n",
      "[LightGBM] [Warning] Found whitespace in feature_names, replace with underlines\n",
      "[LightGBM] [Info] Auto-choosing row-wise multi-threading, the overhead of testing was 0.006515 seconds.\n",
      "You can set `force_row_wise=true` to remove the overhead.\n",
      "And if memory is not enough, you can set `force_col_wise=true`.\n",
      "[LightGBM] [Info] Total Bins 951\n",
      "[LightGBM] [Info] Number of data points in the train set: 159348, number of used features: 290\n",
      "[LightGBM] [Info] Start training from score 4413.717825\n",
      "[LightGBM] [Warning] No further splits with positive gain, best gain: -inf\n",
      "[LightGBM] [Warning] No further splits with positive gain, best gain: -inf\n",
      "[LightGBM] [Warning] No further splits with positive gain, best gain: -inf\n",
      "[LightGBM] [Warning] No further splits with positive gain, best gain: -inf\n",
      "[LightGBM] [Warning] No further splits with positive gain, best gain: -inf\n",
      "[LightGBM] [Warning] No further splits with positive gain, best gain: -inf\n",
      "[LightGBM] [Warning] No further splits with positive gain, best gain: -inf\n",
      "[LightGBM] [Warning] No further splits with positive gain, best gain: -inf\n",
      "[LightGBM] [Warning] No further splits with positive gain, best gain: -inf\n",
      "[LightGBM] [Warning] No further splits with positive gain, best gain: -inf\n",
      "[LightGBM] [Warning] No further splits with positive gain, best gain: -inf\n",
      "[LightGBM] [Warning] No further splits with positive gain, best gain: -inf\n",
      "[LightGBM] [Warning] No further splits with positive gain, best gain: -inf\n",
      "[LightGBM] [Warning] No further splits with positive gain, best gain: -inf\n",
      "[LightGBM] [Warning] No further splits with positive gain, best gain: -inf\n",
      "[LightGBM] [Warning] No further splits with positive gain, best gain: -inf\n",
      "[LightGBM] [Warning] No further splits with positive gain, best gain: -inf\n",
      "[LightGBM] [Warning] No further splits with positive gain, best gain: -inf\n",
      "[LightGBM] [Warning] No further splits with positive gain, best gain: -inf\n",
      "[LightGBM] [Warning] No further splits with positive gain, best gain: -inf\n",
      "[LightGBM] [Warning] Found whitespace in feature_names, replace with underlines\n",
      "[LightGBM] [Info] Auto-choosing row-wise multi-threading, the overhead of testing was 0.004407 seconds.\n",
      "You can set `force_row_wise=true` to remove the overhead.\n",
      "And if memory is not enough, you can set `force_col_wise=true`.\n",
      "[LightGBM] [Info] Total Bins 946\n",
      "[LightGBM] [Info] Number of data points in the train set: 159348, number of used features: 288\n",
      "[LightGBM] [Info] Start training from score 4418.146842\n",
      "[LightGBM] [Warning] No further splits with positive gain, best gain: -inf\n",
      "[LightGBM] [Warning] No further splits with positive gain, best gain: -inf\n",
      "[LightGBM] [Warning] No further splits with positive gain, best gain: -inf\n",
      "[LightGBM] [Warning] No further splits with positive gain, best gain: -inf\n",
      "[LightGBM] [Warning] No further splits with positive gain, best gain: -inf\n",
      "[LightGBM] [Warning] No further splits with positive gain, best gain: -inf\n",
      "[LightGBM] [Warning] No further splits with positive gain, best gain: -inf\n",
      "[LightGBM] [Warning] No further splits with positive gain, best gain: -inf\n",
      "[LightGBM] [Warning] No further splits with positive gain, best gain: -inf\n",
      "[LightGBM] [Warning] No further splits with positive gain, best gain: -inf\n",
      "[LightGBM] [Warning] No further splits with positive gain, best gain: -inf\n",
      "[LightGBM] [Warning] No further splits with positive gain, best gain: -inf\n",
      "[LightGBM] [Warning] No further splits with positive gain, best gain: -inf\n",
      "[LightGBM] [Warning] No further splits with positive gain, best gain: -inf\n",
      "[LightGBM] [Warning] No further splits with positive gain, best gain: -inf\n",
      "[LightGBM] [Warning] No further splits with positive gain, best gain: -inf\n",
      "[LightGBM] [Warning] No further splits with positive gain, best gain: -inf\n",
      "[LightGBM] [Warning] No further splits with positive gain, best gain: -inf\n",
      "[LightGBM] [Warning] No further splits with positive gain, best gain: -inf\n",
      "[LightGBM] [Warning] No further splits with positive gain, best gain: -inf\n",
      "[LightGBM] [Warning] Found whitespace in feature_names, replace with underlines\n",
      "[LightGBM] [Info] Auto-choosing row-wise multi-threading, the overhead of testing was 0.006056 seconds.\n",
      "You can set `force_row_wise=true` to remove the overhead.\n",
      "And if memory is not enough, you can set `force_col_wise=true`.\n",
      "[LightGBM] [Info] Total Bins 946\n",
      "[LightGBM] [Info] Number of data points in the train set: 159348, number of used features: 289\n",
      "[LightGBM] [Info] Start training from score 4415.134529\n",
      "[LightGBM] [Warning] No further splits with positive gain, best gain: -inf\n",
      "[LightGBM] [Warning] No further splits with positive gain, best gain: -inf\n",
      "[LightGBM] [Warning] No further splits with positive gain, best gain: -inf\n",
      "[LightGBM] [Warning] No further splits with positive gain, best gain: -inf\n",
      "[LightGBM] [Warning] No further splits with positive gain, best gain: -inf\n",
      "[LightGBM] [Warning] No further splits with positive gain, best gain: -inf\n",
      "[LightGBM] [Warning] No further splits with positive gain, best gain: -inf\n",
      "[LightGBM] [Warning] No further splits with positive gain, best gain: -inf\n",
      "[LightGBM] [Warning] No further splits with positive gain, best gain: -inf\n",
      "[LightGBM] [Warning] No further splits with positive gain, best gain: -inf\n",
      "[LightGBM] [Warning] No further splits with positive gain, best gain: -inf\n",
      "[LightGBM] [Warning] No further splits with positive gain, best gain: -inf\n",
      "[LightGBM] [Warning] No further splits with positive gain, best gain: -inf\n",
      "[LightGBM] [Warning] No further splits with positive gain, best gain: -inf\n",
      "[LightGBM] [Warning] No further splits with positive gain, best gain: -inf\n",
      "[LightGBM] [Warning] No further splits with positive gain, best gain: -inf\n",
      "[LightGBM] [Warning] No further splits with positive gain, best gain: -inf\n",
      "[LightGBM] [Warning] No further splits with positive gain, best gain: -inf\n",
      "[LightGBM] [Warning] No further splits with positive gain, best gain: -inf\n",
      "[LightGBM] [Warning] No further splits with positive gain, best gain: -inf\n",
      "[LightGBM] [Warning] Found whitespace in feature_names, replace with underlines\n",
      "[LightGBM] [Info] Auto-choosing row-wise multi-threading, the overhead of testing was 0.006138 seconds.\n",
      "You can set `force_row_wise=true` to remove the overhead.\n",
      "And if memory is not enough, you can set `force_col_wise=true`.\n",
      "[LightGBM] [Info] Total Bins 944\n",
      "[LightGBM] [Info] Number of data points in the train set: 159348, number of used features: 289\n",
      "[LightGBM] [Info] Start training from score 4427.849512\n",
      "[LightGBM] [Warning] No further splits with positive gain, best gain: -inf\n",
      "[LightGBM] [Warning] No further splits with positive gain, best gain: -inf\n",
      "[LightGBM] [Warning] No further splits with positive gain, best gain: -inf\n",
      "[LightGBM] [Warning] No further splits with positive gain, best gain: -inf\n",
      "[LightGBM] [Warning] No further splits with positive gain, best gain: -inf\n",
      "[LightGBM] [Warning] No further splits with positive gain, best gain: -inf\n",
      "[LightGBM] [Warning] No further splits with positive gain, best gain: -inf\n",
      "[LightGBM] [Warning] No further splits with positive gain, best gain: -inf\n",
      "[LightGBM] [Warning] No further splits with positive gain, best gain: -inf\n",
      "[LightGBM] [Warning] No further splits with positive gain, best gain: -inf\n",
      "[LightGBM] [Warning] No further splits with positive gain, best gain: -inf\n",
      "[LightGBM] [Warning] No further splits with positive gain, best gain: -inf\n",
      "[LightGBM] [Warning] No further splits with positive gain, best gain: -inf\n",
      "[LightGBM] [Warning] No further splits with positive gain, best gain: -inf\n",
      "[LightGBM] [Warning] No further splits with positive gain, best gain: -inf\n",
      "[LightGBM] [Warning] No further splits with positive gain, best gain: -inf\n",
      "[LightGBM] [Warning] No further splits with positive gain, best gain: -inf\n",
      "[LightGBM] [Warning] No further splits with positive gain, best gain: -inf\n",
      "[LightGBM] [Warning] No further splits with positive gain, best gain: -inf\n",
      "[LightGBM] [Warning] No further splits with positive gain, best gain: -inf\n",
      "[LightGBM] [Warning] Found whitespace in feature_names, replace with underlines\n",
      "[LightGBM] [Info] Auto-choosing row-wise multi-threading, the overhead of testing was 0.006385 seconds.\n",
      "You can set `force_row_wise=true` to remove the overhead.\n",
      "And if memory is not enough, you can set `force_col_wise=true`.\n",
      "[LightGBM] [Info] Total Bins 951\n",
      "[LightGBM] [Info] Number of data points in the train set: 159348, number of used features: 290\n",
      "[LightGBM] [Info] Start training from score 4413.717825\n",
      "[LightGBM] [Warning] No further splits with positive gain, best gain: -inf\n",
      "[LightGBM] [Warning] No further splits with positive gain, best gain: -inf\n",
      "[LightGBM] [Warning] No further splits with positive gain, best gain: -inf\n",
      "[LightGBM] [Warning] No further splits with positive gain, best gain: -inf\n",
      "[LightGBM] [Warning] No further splits with positive gain, best gain: -inf\n",
      "[LightGBM] [Warning] No further splits with positive gain, best gain: -inf\n",
      "[LightGBM] [Warning] No further splits with positive gain, best gain: -inf\n",
      "[LightGBM] [Warning] No further splits with positive gain, best gain: -inf\n",
      "[LightGBM] [Warning] No further splits with positive gain, best gain: -inf\n",
      "[LightGBM] [Warning] No further splits with positive gain, best gain: -inf\n",
      "[LightGBM] [Warning] No further splits with positive gain, best gain: -inf\n",
      "[LightGBM] [Warning] No further splits with positive gain, best gain: -inf\n",
      "[LightGBM] [Warning] No further splits with positive gain, best gain: -inf\n",
      "[LightGBM] [Warning] No further splits with positive gain, best gain: -inf\n",
      "[LightGBM] [Warning] No further splits with positive gain, best gain: -inf\n",
      "[LightGBM] [Warning] No further splits with positive gain, best gain: -inf\n",
      "[LightGBM] [Warning] No further splits with positive gain, best gain: -inf\n",
      "[LightGBM] [Warning] No further splits with positive gain, best gain: -inf\n",
      "[LightGBM] [Warning] No further splits with positive gain, best gain: -inf\n",
      "[LightGBM] [Warning] No further splits with positive gain, best gain: -inf\n",
      "[LightGBM] [Warning] No further splits with positive gain, best gain: -inf\n",
      "[LightGBM] [Warning] No further splits with positive gain, best gain: -inf\n",
      "[LightGBM] [Warning] No further splits with positive gain, best gain: -inf\n",
      "[LightGBM] [Warning] No further splits with positive gain, best gain: -inf\n",
      "[LightGBM] [Warning] No further splits with positive gain, best gain: -inf\n",
      "[LightGBM] [Warning] No further splits with positive gain, best gain: -inf\n",
      "[LightGBM] [Warning] No further splits with positive gain, best gain: -inf\n",
      "[LightGBM] [Warning] No further splits with positive gain, best gain: -inf\n",
      "[LightGBM] [Warning] No further splits with positive gain, best gain: -inf\n",
      "[LightGBM] [Warning] No further splits with positive gain, best gain: -inf\n",
      "[LightGBM] [Warning] Found whitespace in feature_names, replace with underlines\n",
      "[LightGBM] [Info] Auto-choosing row-wise multi-threading, the overhead of testing was 0.005036 seconds.\n",
      "You can set `force_row_wise=true` to remove the overhead.\n",
      "And if memory is not enough, you can set `force_col_wise=true`.\n",
      "[LightGBM] [Info] Total Bins 946\n",
      "[LightGBM] [Info] Number of data points in the train set: 159348, number of used features: 288\n",
      "[LightGBM] [Info] Start training from score 4418.146842\n",
      "[LightGBM] [Warning] No further splits with positive gain, best gain: -inf\n",
      "[LightGBM] [Warning] No further splits with positive gain, best gain: -inf\n",
      "[LightGBM] [Warning] No further splits with positive gain, best gain: -inf\n",
      "[LightGBM] [Warning] No further splits with positive gain, best gain: -inf\n",
      "[LightGBM] [Warning] No further splits with positive gain, best gain: -inf\n",
      "[LightGBM] [Warning] No further splits with positive gain, best gain: -inf\n",
      "[LightGBM] [Warning] No further splits with positive gain, best gain: -inf\n",
      "[LightGBM] [Warning] No further splits with positive gain, best gain: -inf\n",
      "[LightGBM] [Warning] No further splits with positive gain, best gain: -inf\n",
      "[LightGBM] [Warning] No further splits with positive gain, best gain: -inf\n",
      "[LightGBM] [Warning] No further splits with positive gain, best gain: -inf\n",
      "[LightGBM] [Warning] No further splits with positive gain, best gain: -inf\n",
      "[LightGBM] [Warning] No further splits with positive gain, best gain: -inf\n",
      "[LightGBM] [Warning] No further splits with positive gain, best gain: -inf\n",
      "[LightGBM] [Warning] No further splits with positive gain, best gain: -inf\n",
      "[LightGBM] [Warning] No further splits with positive gain, best gain: -inf\n",
      "[LightGBM] [Warning] No further splits with positive gain, best gain: -inf\n",
      "[LightGBM] [Warning] No further splits with positive gain, best gain: -inf\n",
      "[LightGBM] [Warning] No further splits with positive gain, best gain: -inf\n",
      "[LightGBM] [Warning] No further splits with positive gain, best gain: -inf\n",
      "[LightGBM] [Warning] No further splits with positive gain, best gain: -inf\n",
      "[LightGBM] [Warning] No further splits with positive gain, best gain: -inf\n",
      "[LightGBM] [Warning] No further splits with positive gain, best gain: -inf\n",
      "[LightGBM] [Warning] No further splits with positive gain, best gain: -inf\n",
      "[LightGBM] [Warning] No further splits with positive gain, best gain: -inf\n",
      "[LightGBM] [Warning] No further splits with positive gain, best gain: -inf\n",
      "[LightGBM] [Warning] No further splits with positive gain, best gain: -inf\n",
      "[LightGBM] [Warning] No further splits with positive gain, best gain: -inf\n",
      "[LightGBM] [Warning] No further splits with positive gain, best gain: -inf\n",
      "[LightGBM] [Warning] No further splits with positive gain, best gain: -inf\n",
      "[LightGBM] [Warning] Found whitespace in feature_names, replace with underlines\n",
      "[LightGBM] [Info] Auto-choosing row-wise multi-threading, the overhead of testing was 0.006869 seconds.\n",
      "You can set `force_row_wise=true` to remove the overhead.\n",
      "And if memory is not enough, you can set `force_col_wise=true`.\n",
      "[LightGBM] [Info] Total Bins 946\n",
      "[LightGBM] [Info] Number of data points in the train set: 159348, number of used features: 289\n",
      "[LightGBM] [Info] Start training from score 4415.134529\n",
      "[LightGBM] [Warning] No further splits with positive gain, best gain: -inf\n",
      "[LightGBM] [Warning] No further splits with positive gain, best gain: -inf\n",
      "[LightGBM] [Warning] No further splits with positive gain, best gain: -inf\n",
      "[LightGBM] [Warning] No further splits with positive gain, best gain: -inf\n",
      "[LightGBM] [Warning] No further splits with positive gain, best gain: -inf\n",
      "[LightGBM] [Warning] No further splits with positive gain, best gain: -inf\n",
      "[LightGBM] [Warning] No further splits with positive gain, best gain: -inf\n",
      "[LightGBM] [Warning] No further splits with positive gain, best gain: -inf\n",
      "[LightGBM] [Warning] No further splits with positive gain, best gain: -inf\n",
      "[LightGBM] [Warning] No further splits with positive gain, best gain: -inf\n",
      "[LightGBM] [Warning] No further splits with positive gain, best gain: -inf\n",
      "[LightGBM] [Warning] No further splits with positive gain, best gain: -inf\n",
      "[LightGBM] [Warning] No further splits with positive gain, best gain: -inf\n",
      "[LightGBM] [Warning] No further splits with positive gain, best gain: -inf\n",
      "[LightGBM] [Warning] No further splits with positive gain, best gain: -inf\n",
      "[LightGBM] [Warning] No further splits with positive gain, best gain: -inf\n",
      "[LightGBM] [Warning] No further splits with positive gain, best gain: -inf\n",
      "[LightGBM] [Warning] No further splits with positive gain, best gain: -inf\n",
      "[LightGBM] [Warning] No further splits with positive gain, best gain: -inf\n",
      "[LightGBM] [Warning] No further splits with positive gain, best gain: -inf\n",
      "[LightGBM] [Warning] No further splits with positive gain, best gain: -inf\n",
      "[LightGBM] [Warning] No further splits with positive gain, best gain: -inf\n",
      "[LightGBM] [Warning] No further splits with positive gain, best gain: -inf\n",
      "[LightGBM] [Warning] No further splits with positive gain, best gain: -inf\n",
      "[LightGBM] [Warning] No further splits with positive gain, best gain: -inf\n",
      "[LightGBM] [Warning] No further splits with positive gain, best gain: -inf\n",
      "[LightGBM] [Warning] No further splits with positive gain, best gain: -inf\n",
      "[LightGBM] [Warning] No further splits with positive gain, best gain: -inf\n",
      "[LightGBM] [Warning] No further splits with positive gain, best gain: -inf\n",
      "[LightGBM] [Warning] No further splits with positive gain, best gain: -inf\n",
      "[LightGBM] [Warning] Found whitespace in feature_names, replace with underlines\n",
      "[LightGBM] [Info] Auto-choosing row-wise multi-threading, the overhead of testing was 0.006538 seconds.\n",
      "You can set `force_row_wise=true` to remove the overhead.\n",
      "And if memory is not enough, you can set `force_col_wise=true`.\n",
      "[LightGBM] [Info] Total Bins 944\n",
      "[LightGBM] [Info] Number of data points in the train set: 159348, number of used features: 289\n",
      "[LightGBM] [Info] Start training from score 4427.849512\n",
      "[LightGBM] [Warning] No further splits with positive gain, best gain: -inf\n",
      "[LightGBM] [Warning] No further splits with positive gain, best gain: -inf\n",
      "[LightGBM] [Warning] No further splits with positive gain, best gain: -inf\n",
      "[LightGBM] [Warning] No further splits with positive gain, best gain: -inf\n",
      "[LightGBM] [Warning] No further splits with positive gain, best gain: -inf\n",
      "[LightGBM] [Warning] No further splits with positive gain, best gain: -inf\n",
      "[LightGBM] [Warning] No further splits with positive gain, best gain: -inf\n",
      "[LightGBM] [Warning] No further splits with positive gain, best gain: -inf\n",
      "[LightGBM] [Warning] No further splits with positive gain, best gain: -inf\n",
      "[LightGBM] [Warning] No further splits with positive gain, best gain: -inf\n",
      "[LightGBM] [Warning] No further splits with positive gain, best gain: -inf\n",
      "[LightGBM] [Warning] No further splits with positive gain, best gain: -inf\n",
      "[LightGBM] [Warning] No further splits with positive gain, best gain: -inf\n",
      "[LightGBM] [Warning] No further splits with positive gain, best gain: -inf\n",
      "[LightGBM] [Warning] No further splits with positive gain, best gain: -inf\n",
      "[LightGBM] [Warning] No further splits with positive gain, best gain: -inf\n",
      "[LightGBM] [Warning] No further splits with positive gain, best gain: -inf\n",
      "[LightGBM] [Warning] No further splits with positive gain, best gain: -inf\n",
      "[LightGBM] [Warning] No further splits with positive gain, best gain: -inf\n",
      "[LightGBM] [Warning] No further splits with positive gain, best gain: -inf\n",
      "[LightGBM] [Warning] No further splits with positive gain, best gain: -inf\n",
      "[LightGBM] [Warning] No further splits with positive gain, best gain: -inf\n",
      "[LightGBM] [Warning] No further splits with positive gain, best gain: -inf\n",
      "[LightGBM] [Warning] No further splits with positive gain, best gain: -inf\n",
      "[LightGBM] [Warning] No further splits with positive gain, best gain: -inf\n",
      "[LightGBM] [Warning] No further splits with positive gain, best gain: -inf\n",
      "[LightGBM] [Warning] No further splits with positive gain, best gain: -inf\n",
      "[LightGBM] [Warning] No further splits with positive gain, best gain: -inf\n",
      "[LightGBM] [Warning] No further splits with positive gain, best gain: -inf\n",
      "[LightGBM] [Warning] No further splits with positive gain, best gain: -inf\n",
      "[LightGBM] [Warning] Found whitespace in feature_names, replace with underlines\n",
      "[LightGBM] [Info] Auto-choosing row-wise multi-threading, the overhead of testing was 0.005010 seconds.\n",
      "You can set `force_row_wise=true` to remove the overhead.\n",
      "And if memory is not enough, you can set `force_col_wise=true`.\n",
      "[LightGBM] [Info] Total Bins 951\n",
      "[LightGBM] [Info] Number of data points in the train set: 159348, number of used features: 290\n",
      "[LightGBM] [Info] Start training from score 4413.717825\n",
      "[LightGBM] [Warning] No further splits with positive gain, best gain: -inf\n",
      "[LightGBM] [Warning] No further splits with positive gain, best gain: -inf\n",
      "[LightGBM] [Warning] No further splits with positive gain, best gain: -inf\n",
      "[LightGBM] [Warning] No further splits with positive gain, best gain: -inf\n",
      "[LightGBM] [Warning] No further splits with positive gain, best gain: -inf\n",
      "[LightGBM] [Warning] No further splits with positive gain, best gain: -inf\n",
      "[LightGBM] [Warning] No further splits with positive gain, best gain: -inf\n",
      "[LightGBM] [Warning] No further splits with positive gain, best gain: -inf\n",
      "[LightGBM] [Warning] No further splits with positive gain, best gain: -inf\n",
      "[LightGBM] [Warning] No further splits with positive gain, best gain: -inf\n",
      "[LightGBM] [Warning] Found whitespace in feature_names, replace with underlines\n",
      "[LightGBM] [Info] Auto-choosing row-wise multi-threading, the overhead of testing was 0.004938 seconds.\n",
      "You can set `force_row_wise=true` to remove the overhead.\n",
      "And if memory is not enough, you can set `force_col_wise=true`.\n",
      "[LightGBM] [Info] Total Bins 946\n",
      "[LightGBM] [Info] Number of data points in the train set: 159348, number of used features: 288\n",
      "[LightGBM] [Info] Start training from score 4418.146842\n",
      "[LightGBM] [Warning] No further splits with positive gain, best gain: -inf\n",
      "[LightGBM] [Warning] No further splits with positive gain, best gain: -inf\n",
      "[LightGBM] [Warning] No further splits with positive gain, best gain: -inf\n",
      "[LightGBM] [Warning] No further splits with positive gain, best gain: -inf\n",
      "[LightGBM] [Warning] No further splits with positive gain, best gain: -inf\n",
      "[LightGBM] [Warning] No further splits with positive gain, best gain: -inf\n",
      "[LightGBM] [Warning] No further splits with positive gain, best gain: -inf\n",
      "[LightGBM] [Warning] No further splits with positive gain, best gain: -inf\n",
      "[LightGBM] [Warning] No further splits with positive gain, best gain: -inf\n",
      "[LightGBM] [Warning] No further splits with positive gain, best gain: -inf\n",
      "[LightGBM] [Warning] Found whitespace in feature_names, replace with underlines\n",
      "[LightGBM] [Info] Auto-choosing row-wise multi-threading, the overhead of testing was 0.005797 seconds.\n",
      "You can set `force_row_wise=true` to remove the overhead.\n",
      "And if memory is not enough, you can set `force_col_wise=true`.\n",
      "[LightGBM] [Info] Total Bins 946\n",
      "[LightGBM] [Info] Number of data points in the train set: 159348, number of used features: 289\n",
      "[LightGBM] [Info] Start training from score 4415.134529\n",
      "[LightGBM] [Warning] No further splits with positive gain, best gain: -inf\n",
      "[LightGBM] [Warning] No further splits with positive gain, best gain: -inf\n",
      "[LightGBM] [Warning] No further splits with positive gain, best gain: -inf\n",
      "[LightGBM] [Warning] No further splits with positive gain, best gain: -inf\n",
      "[LightGBM] [Warning] No further splits with positive gain, best gain: -inf\n",
      "[LightGBM] [Warning] No further splits with positive gain, best gain: -inf\n",
      "[LightGBM] [Warning] No further splits with positive gain, best gain: -inf\n",
      "[LightGBM] [Warning] No further splits with positive gain, best gain: -inf\n",
      "[LightGBM] [Warning] No further splits with positive gain, best gain: -inf\n",
      "[LightGBM] [Warning] No further splits with positive gain, best gain: -inf\n",
      "[LightGBM] [Warning] Found whitespace in feature_names, replace with underlines\n",
      "[LightGBM] [Info] Auto-choosing row-wise multi-threading, the overhead of testing was 0.005818 seconds.\n",
      "You can set `force_row_wise=true` to remove the overhead.\n",
      "And if memory is not enough, you can set `force_col_wise=true`.\n",
      "[LightGBM] [Info] Total Bins 944\n",
      "[LightGBM] [Info] Number of data points in the train set: 159348, number of used features: 289\n",
      "[LightGBM] [Info] Start training from score 4427.849512\n",
      "[LightGBM] [Warning] No further splits with positive gain, best gain: -inf\n",
      "[LightGBM] [Warning] No further splits with positive gain, best gain: -inf\n",
      "[LightGBM] [Warning] No further splits with positive gain, best gain: -inf\n",
      "[LightGBM] [Warning] No further splits with positive gain, best gain: -inf\n",
      "[LightGBM] [Warning] No further splits with positive gain, best gain: -inf\n",
      "[LightGBM] [Warning] No further splits with positive gain, best gain: -inf\n",
      "[LightGBM] [Warning] No further splits with positive gain, best gain: -inf\n",
      "[LightGBM] [Warning] No further splits with positive gain, best gain: -inf\n",
      "[LightGBM] [Warning] No further splits with positive gain, best gain: -inf\n",
      "[LightGBM] [Warning] No further splits with positive gain, best gain: -inf\n",
      "[LightGBM] [Warning] Found whitespace in feature_names, replace with underlines\n",
      "[LightGBM] [Info] Auto-choosing row-wise multi-threading, the overhead of testing was 0.005997 seconds.\n",
      "You can set `force_row_wise=true` to remove the overhead.\n",
      "And if memory is not enough, you can set `force_col_wise=true`.\n",
      "[LightGBM] [Info] Total Bins 951\n",
      "[LightGBM] [Info] Number of data points in the train set: 159348, number of used features: 290\n",
      "[LightGBM] [Info] Start training from score 4413.717825\n",
      "[LightGBM] [Warning] No further splits with positive gain, best gain: -inf\n",
      "[LightGBM] [Warning] No further splits with positive gain, best gain: -inf\n",
      "[LightGBM] [Warning] No further splits with positive gain, best gain: -inf\n",
      "[LightGBM] [Warning] No further splits with positive gain, best gain: -inf\n",
      "[LightGBM] [Warning] No further splits with positive gain, best gain: -inf\n",
      "[LightGBM] [Warning] No further splits with positive gain, best gain: -inf\n",
      "[LightGBM] [Warning] No further splits with positive gain, best gain: -inf\n",
      "[LightGBM] [Warning] No further splits with positive gain, best gain: -inf\n",
      "[LightGBM] [Warning] No further splits with positive gain, best gain: -inf\n",
      "[LightGBM] [Warning] No further splits with positive gain, best gain: -inf\n",
      "[LightGBM] [Warning] No further splits with positive gain, best gain: -inf\n",
      "[LightGBM] [Warning] No further splits with positive gain, best gain: -inf\n",
      "[LightGBM] [Warning] No further splits with positive gain, best gain: -inf\n",
      "[LightGBM] [Warning] No further splits with positive gain, best gain: -inf\n",
      "[LightGBM] [Warning] No further splits with positive gain, best gain: -inf\n",
      "[LightGBM] [Warning] No further splits with positive gain, best gain: -inf\n",
      "[LightGBM] [Warning] No further splits with positive gain, best gain: -inf\n",
      "[LightGBM] [Warning] No further splits with positive gain, best gain: -inf\n",
      "[LightGBM] [Warning] No further splits with positive gain, best gain: -inf\n",
      "[LightGBM] [Warning] No further splits with positive gain, best gain: -inf\n",
      "[LightGBM] [Warning] Found whitespace in feature_names, replace with underlines\n",
      "[LightGBM] [Info] Auto-choosing row-wise multi-threading, the overhead of testing was 0.004934 seconds.\n",
      "You can set `force_row_wise=true` to remove the overhead.\n",
      "And if memory is not enough, you can set `force_col_wise=true`.\n",
      "[LightGBM] [Info] Total Bins 946\n",
      "[LightGBM] [Info] Number of data points in the train set: 159348, number of used features: 288\n",
      "[LightGBM] [Info] Start training from score 4418.146842\n",
      "[LightGBM] [Warning] No further splits with positive gain, best gain: -inf\n",
      "[LightGBM] [Warning] No further splits with positive gain, best gain: -inf\n",
      "[LightGBM] [Warning] No further splits with positive gain, best gain: -inf\n",
      "[LightGBM] [Warning] No further splits with positive gain, best gain: -inf\n",
      "[LightGBM] [Warning] No further splits with positive gain, best gain: -inf\n",
      "[LightGBM] [Warning] No further splits with positive gain, best gain: -inf\n",
      "[LightGBM] [Warning] No further splits with positive gain, best gain: -inf\n",
      "[LightGBM] [Warning] No further splits with positive gain, best gain: -inf\n",
      "[LightGBM] [Warning] No further splits with positive gain, best gain: -inf\n",
      "[LightGBM] [Warning] No further splits with positive gain, best gain: -inf\n",
      "[LightGBM] [Warning] No further splits with positive gain, best gain: -inf\n",
      "[LightGBM] [Warning] No further splits with positive gain, best gain: -inf\n",
      "[LightGBM] [Warning] No further splits with positive gain, best gain: -inf\n",
      "[LightGBM] [Warning] No further splits with positive gain, best gain: -inf\n",
      "[LightGBM] [Warning] No further splits with positive gain, best gain: -inf\n",
      "[LightGBM] [Warning] No further splits with positive gain, best gain: -inf\n",
      "[LightGBM] [Warning] No further splits with positive gain, best gain: -inf\n",
      "[LightGBM] [Warning] No further splits with positive gain, best gain: -inf\n",
      "[LightGBM] [Warning] No further splits with positive gain, best gain: -inf\n",
      "[LightGBM] [Warning] No further splits with positive gain, best gain: -inf\n",
      "[LightGBM] [Warning] Found whitespace in feature_names, replace with underlines\n",
      "[LightGBM] [Info] Auto-choosing row-wise multi-threading, the overhead of testing was 0.005746 seconds.\n",
      "You can set `force_row_wise=true` to remove the overhead.\n",
      "And if memory is not enough, you can set `force_col_wise=true`.\n",
      "[LightGBM] [Info] Total Bins 946\n",
      "[LightGBM] [Info] Number of data points in the train set: 159348, number of used features: 289\n",
      "[LightGBM] [Info] Start training from score 4415.134529\n",
      "[LightGBM] [Warning] No further splits with positive gain, best gain: -inf\n",
      "[LightGBM] [Warning] No further splits with positive gain, best gain: -inf\n",
      "[LightGBM] [Warning] No further splits with positive gain, best gain: -inf\n",
      "[LightGBM] [Warning] No further splits with positive gain, best gain: -inf\n",
      "[LightGBM] [Warning] No further splits with positive gain, best gain: -inf\n",
      "[LightGBM] [Warning] No further splits with positive gain, best gain: -inf\n",
      "[LightGBM] [Warning] No further splits with positive gain, best gain: -inf\n",
      "[LightGBM] [Warning] No further splits with positive gain, best gain: -inf\n",
      "[LightGBM] [Warning] No further splits with positive gain, best gain: -inf\n",
      "[LightGBM] [Warning] No further splits with positive gain, best gain: -inf\n",
      "[LightGBM] [Warning] No further splits with positive gain, best gain: -inf\n",
      "[LightGBM] [Warning] No further splits with positive gain, best gain: -inf\n",
      "[LightGBM] [Warning] No further splits with positive gain, best gain: -inf\n",
      "[LightGBM] [Warning] No further splits with positive gain, best gain: -inf\n",
      "[LightGBM] [Warning] No further splits with positive gain, best gain: -inf\n",
      "[LightGBM] [Warning] No further splits with positive gain, best gain: -inf\n",
      "[LightGBM] [Warning] No further splits with positive gain, best gain: -inf\n",
      "[LightGBM] [Warning] No further splits with positive gain, best gain: -inf\n",
      "[LightGBM] [Warning] No further splits with positive gain, best gain: -inf\n",
      "[LightGBM] [Warning] No further splits with positive gain, best gain: -inf\n",
      "[LightGBM] [Warning] Found whitespace in feature_names, replace with underlines\n",
      "[LightGBM] [Info] Auto-choosing row-wise multi-threading, the overhead of testing was 0.006216 seconds.\n",
      "You can set `force_row_wise=true` to remove the overhead.\n",
      "And if memory is not enough, you can set `force_col_wise=true`.\n",
      "[LightGBM] [Info] Total Bins 944\n",
      "[LightGBM] [Info] Number of data points in the train set: 159348, number of used features: 289\n",
      "[LightGBM] [Info] Start training from score 4427.849512\n",
      "[LightGBM] [Warning] No further splits with positive gain, best gain: -inf\n",
      "[LightGBM] [Warning] No further splits with positive gain, best gain: -inf\n",
      "[LightGBM] [Warning] No further splits with positive gain, best gain: -inf\n",
      "[LightGBM] [Warning] No further splits with positive gain, best gain: -inf\n",
      "[LightGBM] [Warning] No further splits with positive gain, best gain: -inf\n",
      "[LightGBM] [Warning] No further splits with positive gain, best gain: -inf\n",
      "[LightGBM] [Warning] No further splits with positive gain, best gain: -inf\n",
      "[LightGBM] [Warning] No further splits with positive gain, best gain: -inf\n",
      "[LightGBM] [Warning] No further splits with positive gain, best gain: -inf\n",
      "[LightGBM] [Warning] No further splits with positive gain, best gain: -inf\n",
      "[LightGBM] [Warning] No further splits with positive gain, best gain: -inf\n",
      "[LightGBM] [Warning] No further splits with positive gain, best gain: -inf\n",
      "[LightGBM] [Warning] No further splits with positive gain, best gain: -inf\n",
      "[LightGBM] [Warning] No further splits with positive gain, best gain: -inf\n",
      "[LightGBM] [Warning] No further splits with positive gain, best gain: -inf\n",
      "[LightGBM] [Warning] No further splits with positive gain, best gain: -inf\n",
      "[LightGBM] [Warning] No further splits with positive gain, best gain: -inf\n",
      "[LightGBM] [Warning] No further splits with positive gain, best gain: -inf\n",
      "[LightGBM] [Warning] No further splits with positive gain, best gain: -inf\n",
      "[LightGBM] [Warning] No further splits with positive gain, best gain: -inf\n",
      "[LightGBM] [Warning] Found whitespace in feature_names, replace with underlines\n",
      "[LightGBM] [Info] Auto-choosing row-wise multi-threading, the overhead of testing was 0.008289 seconds.\n",
      "You can set `force_row_wise=true` to remove the overhead.\n",
      "And if memory is not enough, you can set `force_col_wise=true`.\n",
      "[LightGBM] [Info] Total Bins 951\n",
      "[LightGBM] [Info] Number of data points in the train set: 159348, number of used features: 290\n",
      "[LightGBM] [Info] Start training from score 4413.717825\n",
      "[LightGBM] [Warning] No further splits with positive gain, best gain: -inf\n",
      "[LightGBM] [Warning] No further splits with positive gain, best gain: -inf\n",
      "[LightGBM] [Warning] No further splits with positive gain, best gain: -inf\n",
      "[LightGBM] [Warning] No further splits with positive gain, best gain: -inf\n",
      "[LightGBM] [Warning] No further splits with positive gain, best gain: -inf\n",
      "[LightGBM] [Warning] No further splits with positive gain, best gain: -inf\n",
      "[LightGBM] [Warning] No further splits with positive gain, best gain: -inf\n",
      "[LightGBM] [Warning] No further splits with positive gain, best gain: -inf\n",
      "[LightGBM] [Warning] No further splits with positive gain, best gain: -inf\n",
      "[LightGBM] [Warning] No further splits with positive gain, best gain: -inf\n",
      "[LightGBM] [Warning] No further splits with positive gain, best gain: -inf\n",
      "[LightGBM] [Warning] No further splits with positive gain, best gain: -inf\n",
      "[LightGBM] [Warning] No further splits with positive gain, best gain: -inf\n",
      "[LightGBM] [Warning] No further splits with positive gain, best gain: -inf\n",
      "[LightGBM] [Warning] No further splits with positive gain, best gain: -inf\n",
      "[LightGBM] [Warning] No further splits with positive gain, best gain: -inf\n",
      "[LightGBM] [Warning] No further splits with positive gain, best gain: -inf\n",
      "[LightGBM] [Warning] No further splits with positive gain, best gain: -inf\n",
      "[LightGBM] [Warning] No further splits with positive gain, best gain: -inf\n",
      "[LightGBM] [Warning] No further splits with positive gain, best gain: -inf\n",
      "[LightGBM] [Warning] No further splits with positive gain, best gain: -inf\n",
      "[LightGBM] [Warning] No further splits with positive gain, best gain: -inf\n",
      "[LightGBM] [Warning] No further splits with positive gain, best gain: -inf\n",
      "[LightGBM] [Warning] No further splits with positive gain, best gain: -inf\n",
      "[LightGBM] [Warning] No further splits with positive gain, best gain: -inf\n",
      "[LightGBM] [Warning] No further splits with positive gain, best gain: -inf\n",
      "[LightGBM] [Warning] No further splits with positive gain, best gain: -inf\n",
      "[LightGBM] [Warning] No further splits with positive gain, best gain: -inf\n",
      "[LightGBM] [Warning] No further splits with positive gain, best gain: -inf\n",
      "[LightGBM] [Warning] No further splits with positive gain, best gain: -inf\n",
      "[LightGBM] [Warning] Found whitespace in feature_names, replace with underlines\n",
      "[LightGBM] [Info] Auto-choosing row-wise multi-threading, the overhead of testing was 0.005727 seconds.\n",
      "You can set `force_row_wise=true` to remove the overhead.\n",
      "And if memory is not enough, you can set `force_col_wise=true`.\n",
      "[LightGBM] [Info] Total Bins 946\n",
      "[LightGBM] [Info] Number of data points in the train set: 159348, number of used features: 288\n",
      "[LightGBM] [Info] Start training from score 4418.146842\n",
      "[LightGBM] [Warning] No further splits with positive gain, best gain: -inf\n",
      "[LightGBM] [Warning] No further splits with positive gain, best gain: -inf\n",
      "[LightGBM] [Warning] No further splits with positive gain, best gain: -inf\n",
      "[LightGBM] [Warning] No further splits with positive gain, best gain: -inf\n",
      "[LightGBM] [Warning] No further splits with positive gain, best gain: -inf\n",
      "[LightGBM] [Warning] No further splits with positive gain, best gain: -inf\n",
      "[LightGBM] [Warning] No further splits with positive gain, best gain: -inf\n",
      "[LightGBM] [Warning] No further splits with positive gain, best gain: -inf\n",
      "[LightGBM] [Warning] No further splits with positive gain, best gain: -inf\n",
      "[LightGBM] [Warning] No further splits with positive gain, best gain: -inf\n",
      "[LightGBM] [Warning] No further splits with positive gain, best gain: -inf\n",
      "[LightGBM] [Warning] No further splits with positive gain, best gain: -inf\n",
      "[LightGBM] [Warning] No further splits with positive gain, best gain: -inf\n",
      "[LightGBM] [Warning] No further splits with positive gain, best gain: -inf\n",
      "[LightGBM] [Warning] No further splits with positive gain, best gain: -inf\n",
      "[LightGBM] [Warning] No further splits with positive gain, best gain: -inf\n",
      "[LightGBM] [Warning] No further splits with positive gain, best gain: -inf\n",
      "[LightGBM] [Warning] No further splits with positive gain, best gain: -inf\n",
      "[LightGBM] [Warning] No further splits with positive gain, best gain: -inf\n",
      "[LightGBM] [Warning] No further splits with positive gain, best gain: -inf\n",
      "[LightGBM] [Warning] No further splits with positive gain, best gain: -inf\n",
      "[LightGBM] [Warning] No further splits with positive gain, best gain: -inf\n",
      "[LightGBM] [Warning] No further splits with positive gain, best gain: -inf\n",
      "[LightGBM] [Warning] No further splits with positive gain, best gain: -inf\n",
      "[LightGBM] [Warning] No further splits with positive gain, best gain: -inf\n",
      "[LightGBM] [Warning] No further splits with positive gain, best gain: -inf\n",
      "[LightGBM] [Warning] No further splits with positive gain, best gain: -inf\n",
      "[LightGBM] [Warning] No further splits with positive gain, best gain: -inf\n",
      "[LightGBM] [Warning] No further splits with positive gain, best gain: -inf\n",
      "[LightGBM] [Warning] No further splits with positive gain, best gain: -inf\n",
      "[LightGBM] [Warning] Found whitespace in feature_names, replace with underlines\n",
      "[LightGBM] [Info] Auto-choosing row-wise multi-threading, the overhead of testing was 0.005685 seconds.\n",
      "You can set `force_row_wise=true` to remove the overhead.\n",
      "And if memory is not enough, you can set `force_col_wise=true`.\n",
      "[LightGBM] [Info] Total Bins 946\n",
      "[LightGBM] [Info] Number of data points in the train set: 159348, number of used features: 289\n",
      "[LightGBM] [Info] Start training from score 4415.134529\n",
      "[LightGBM] [Warning] No further splits with positive gain, best gain: -inf\n",
      "[LightGBM] [Warning] No further splits with positive gain, best gain: -inf\n",
      "[LightGBM] [Warning] No further splits with positive gain, best gain: -inf\n",
      "[LightGBM] [Warning] No further splits with positive gain, best gain: -inf\n",
      "[LightGBM] [Warning] No further splits with positive gain, best gain: -inf\n",
      "[LightGBM] [Warning] No further splits with positive gain, best gain: -inf\n",
      "[LightGBM] [Warning] No further splits with positive gain, best gain: -inf\n",
      "[LightGBM] [Warning] No further splits with positive gain, best gain: -inf\n",
      "[LightGBM] [Warning] No further splits with positive gain, best gain: -inf\n",
      "[LightGBM] [Warning] No further splits with positive gain, best gain: -inf\n",
      "[LightGBM] [Warning] No further splits with positive gain, best gain: -inf\n",
      "[LightGBM] [Warning] No further splits with positive gain, best gain: -inf\n",
      "[LightGBM] [Warning] No further splits with positive gain, best gain: -inf\n",
      "[LightGBM] [Warning] No further splits with positive gain, best gain: -inf\n",
      "[LightGBM] [Warning] No further splits with positive gain, best gain: -inf\n",
      "[LightGBM] [Warning] No further splits with positive gain, best gain: -inf\n",
      "[LightGBM] [Warning] No further splits with positive gain, best gain: -inf\n",
      "[LightGBM] [Warning] No further splits with positive gain, best gain: -inf\n",
      "[LightGBM] [Warning] No further splits with positive gain, best gain: -inf\n",
      "[LightGBM] [Warning] No further splits with positive gain, best gain: -inf\n",
      "[LightGBM] [Warning] No further splits with positive gain, best gain: -inf\n",
      "[LightGBM] [Warning] No further splits with positive gain, best gain: -inf\n",
      "[LightGBM] [Warning] No further splits with positive gain, best gain: -inf\n",
      "[LightGBM] [Warning] No further splits with positive gain, best gain: -inf\n",
      "[LightGBM] [Warning] No further splits with positive gain, best gain: -inf\n",
      "[LightGBM] [Warning] No further splits with positive gain, best gain: -inf\n",
      "[LightGBM] [Warning] No further splits with positive gain, best gain: -inf\n",
      "[LightGBM] [Warning] No further splits with positive gain, best gain: -inf\n",
      "[LightGBM] [Warning] No further splits with positive gain, best gain: -inf\n",
      "[LightGBM] [Warning] No further splits with positive gain, best gain: -inf\n",
      "[LightGBM] [Warning] Found whitespace in feature_names, replace with underlines\n",
      "[LightGBM] [Info] Auto-choosing row-wise multi-threading, the overhead of testing was 0.005726 seconds.\n",
      "You can set `force_row_wise=true` to remove the overhead.\n",
      "And if memory is not enough, you can set `force_col_wise=true`.\n",
      "[LightGBM] [Info] Total Bins 944\n",
      "[LightGBM] [Info] Number of data points in the train set: 159348, number of used features: 289\n",
      "[LightGBM] [Info] Start training from score 4427.849512\n",
      "[LightGBM] [Warning] No further splits with positive gain, best gain: -inf\n",
      "[LightGBM] [Warning] No further splits with positive gain, best gain: -inf\n",
      "[LightGBM] [Warning] No further splits with positive gain, best gain: -inf\n",
      "[LightGBM] [Warning] No further splits with positive gain, best gain: -inf\n",
      "[LightGBM] [Warning] No further splits with positive gain, best gain: -inf\n",
      "[LightGBM] [Warning] No further splits with positive gain, best gain: -inf\n",
      "[LightGBM] [Warning] No further splits with positive gain, best gain: -inf\n",
      "[LightGBM] [Warning] No further splits with positive gain, best gain: -inf\n",
      "[LightGBM] [Warning] No further splits with positive gain, best gain: -inf\n",
      "[LightGBM] [Warning] No further splits with positive gain, best gain: -inf\n",
      "[LightGBM] [Warning] No further splits with positive gain, best gain: -inf\n",
      "[LightGBM] [Warning] No further splits with positive gain, best gain: -inf\n",
      "[LightGBM] [Warning] No further splits with positive gain, best gain: -inf\n",
      "[LightGBM] [Warning] No further splits with positive gain, best gain: -inf\n",
      "[LightGBM] [Warning] No further splits with positive gain, best gain: -inf\n",
      "[LightGBM] [Warning] No further splits with positive gain, best gain: -inf\n",
      "[LightGBM] [Warning] No further splits with positive gain, best gain: -inf\n",
      "[LightGBM] [Warning] No further splits with positive gain, best gain: -inf\n",
      "[LightGBM] [Warning] No further splits with positive gain, best gain: -inf\n",
      "[LightGBM] [Warning] No further splits with positive gain, best gain: -inf\n",
      "[LightGBM] [Warning] No further splits with positive gain, best gain: -inf\n",
      "[LightGBM] [Warning] No further splits with positive gain, best gain: -inf\n",
      "[LightGBM] [Warning] No further splits with positive gain, best gain: -inf\n",
      "[LightGBM] [Warning] No further splits with positive gain, best gain: -inf\n",
      "[LightGBM] [Warning] No further splits with positive gain, best gain: -inf\n",
      "[LightGBM] [Warning] No further splits with positive gain, best gain: -inf\n",
      "[LightGBM] [Warning] No further splits with positive gain, best gain: -inf\n",
      "[LightGBM] [Warning] No further splits with positive gain, best gain: -inf\n",
      "[LightGBM] [Warning] No further splits with positive gain, best gain: -inf\n",
      "[LightGBM] [Warning] No further splits with positive gain, best gain: -inf\n",
      "[LightGBM] [Warning] Found whitespace in feature_names, replace with underlines\n",
      "[LightGBM] [Info] Auto-choosing row-wise multi-threading, the overhead of testing was 0.005472 seconds.\n",
      "You can set `force_row_wise=true` to remove the overhead.\n",
      "And if memory is not enough, you can set `force_col_wise=true`.\n",
      "[LightGBM] [Info] Total Bins 951\n",
      "[LightGBM] [Info] Number of data points in the train set: 159348, number of used features: 290\n",
      "[LightGBM] [Info] Start training from score 4413.717825\n",
      "[LightGBM] [Warning] Found whitespace in feature_names, replace with underlines\n",
      "[LightGBM] [Info] Auto-choosing row-wise multi-threading, the overhead of testing was 0.008142 seconds.\n",
      "You can set `force_row_wise=true` to remove the overhead.\n",
      "And if memory is not enough, you can set `force_col_wise=true`.\n",
      "[LightGBM] [Info] Total Bins 946\n",
      "[LightGBM] [Info] Number of data points in the train set: 159348, number of used features: 288\n",
      "[LightGBM] [Info] Start training from score 4418.146842\n",
      "[LightGBM] [Warning] Found whitespace in feature_names, replace with underlines\n",
      "[LightGBM] [Info] Auto-choosing row-wise multi-threading, the overhead of testing was 0.006347 seconds.\n",
      "You can set `force_row_wise=true` to remove the overhead.\n",
      "And if memory is not enough, you can set `force_col_wise=true`.\n",
      "[LightGBM] [Info] Total Bins 946\n",
      "[LightGBM] [Info] Number of data points in the train set: 159348, number of used features: 289\n",
      "[LightGBM] [Info] Start training from score 4415.134529\n",
      "[LightGBM] [Warning] Found whitespace in feature_names, replace with underlines\n",
      "[LightGBM] [Info] Auto-choosing row-wise multi-threading, the overhead of testing was 0.006193 seconds.\n",
      "You can set `force_row_wise=true` to remove the overhead.\n",
      "And if memory is not enough, you can set `force_col_wise=true`.\n",
      "[LightGBM] [Info] Total Bins 944\n",
      "[LightGBM] [Info] Number of data points in the train set: 159348, number of used features: 289\n",
      "[LightGBM] [Info] Start training from score 4427.849512\n",
      "[LightGBM] [Warning] Found whitespace in feature_names, replace with underlines\n",
      "[LightGBM] [Info] Auto-choosing row-wise multi-threading, the overhead of testing was 0.005007 seconds.\n",
      "You can set `force_row_wise=true` to remove the overhead.\n",
      "And if memory is not enough, you can set `force_col_wise=true`.\n",
      "[LightGBM] [Info] Total Bins 951\n",
      "[LightGBM] [Info] Number of data points in the train set: 159348, number of used features: 290\n",
      "[LightGBM] [Info] Start training from score 4413.717825\n",
      "[LightGBM] [Warning] Found whitespace in feature_names, replace with underlines\n",
      "[LightGBM] [Info] Auto-choosing row-wise multi-threading, the overhead of testing was 0.004098 seconds.\n",
      "You can set `force_row_wise=true` to remove the overhead.\n",
      "And if memory is not enough, you can set `force_col_wise=true`.\n",
      "[LightGBM] [Info] Total Bins 946\n",
      "[LightGBM] [Info] Number of data points in the train set: 159348, number of used features: 288\n",
      "[LightGBM] [Info] Start training from score 4418.146842\n",
      "[LightGBM] [Warning] Found whitespace in feature_names, replace with underlines\n",
      "[LightGBM] [Info] Auto-choosing row-wise multi-threading, the overhead of testing was 0.005427 seconds.\n",
      "You can set `force_row_wise=true` to remove the overhead.\n",
      "And if memory is not enough, you can set `force_col_wise=true`.\n",
      "[LightGBM] [Info] Total Bins 946\n",
      "[LightGBM] [Info] Number of data points in the train set: 159348, number of used features: 289\n",
      "[LightGBM] [Info] Start training from score 4415.134529\n",
      "[LightGBM] [Warning] Found whitespace in feature_names, replace with underlines\n",
      "[LightGBM] [Info] Auto-choosing row-wise multi-threading, the overhead of testing was 0.005780 seconds.\n",
      "You can set `force_row_wise=true` to remove the overhead.\n",
      "And if memory is not enough, you can set `force_col_wise=true`.\n",
      "[LightGBM] [Info] Total Bins 944\n",
      "[LightGBM] [Info] Number of data points in the train set: 159348, number of used features: 289\n",
      "[LightGBM] [Info] Start training from score 4427.849512\n",
      "[LightGBM] [Warning] Found whitespace in feature_names, replace with underlines\n",
      "[LightGBM] [Info] Auto-choosing row-wise multi-threading, the overhead of testing was 0.004938 seconds.\n",
      "You can set `force_row_wise=true` to remove the overhead.\n",
      "And if memory is not enough, you can set `force_col_wise=true`.\n",
      "[LightGBM] [Info] Total Bins 951\n",
      "[LightGBM] [Info] Number of data points in the train set: 159348, number of used features: 290\n",
      "[LightGBM] [Info] Start training from score 4413.717825\n",
      "[LightGBM] [Warning] Found whitespace in feature_names, replace with underlines\n",
      "[LightGBM] [Info] Auto-choosing row-wise multi-threading, the overhead of testing was 0.004760 seconds.\n",
      "You can set `force_row_wise=true` to remove the overhead.\n",
      "And if memory is not enough, you can set `force_col_wise=true`.\n",
      "[LightGBM] [Info] Total Bins 946\n",
      "[LightGBM] [Info] Number of data points in the train set: 159348, number of used features: 288\n",
      "[LightGBM] [Info] Start training from score 4418.146842\n",
      "[LightGBM] [Warning] Found whitespace in feature_names, replace with underlines\n",
      "[LightGBM] [Info] Auto-choosing row-wise multi-threading, the overhead of testing was 0.004230 seconds.\n",
      "You can set `force_row_wise=true` to remove the overhead.\n",
      "And if memory is not enough, you can set `force_col_wise=true`.\n",
      "[LightGBM] [Info] Total Bins 946\n",
      "[LightGBM] [Info] Number of data points in the train set: 159348, number of used features: 289\n",
      "[LightGBM] [Info] Start training from score 4415.134529\n",
      "[LightGBM] [Warning] Found whitespace in feature_names, replace with underlines\n",
      "[LightGBM] [Info] Auto-choosing row-wise multi-threading, the overhead of testing was 0.005432 seconds.\n",
      "You can set `force_row_wise=true` to remove the overhead.\n",
      "And if memory is not enough, you can set `force_col_wise=true`.\n",
      "[LightGBM] [Info] Total Bins 944\n",
      "[LightGBM] [Info] Number of data points in the train set: 159348, number of used features: 289\n",
      "[LightGBM] [Info] Start training from score 4427.849512\n",
      "[LightGBM] [Warning] Found whitespace in feature_names, replace with underlines\n",
      "[LightGBM] [Info] Auto-choosing row-wise multi-threading, the overhead of testing was 0.004868 seconds.\n",
      "You can set `force_row_wise=true` to remove the overhead.\n",
      "And if memory is not enough, you can set `force_col_wise=true`.\n",
      "[LightGBM] [Info] Total Bins 951\n",
      "[LightGBM] [Info] Number of data points in the train set: 159348, number of used features: 290\n",
      "[LightGBM] [Info] Start training from score 4413.717825\n",
      "[LightGBM] [Warning] Found whitespace in feature_names, replace with underlines\n",
      "[LightGBM] [Info] Auto-choosing row-wise multi-threading, the overhead of testing was 0.004024 seconds.\n",
      "You can set `force_row_wise=true` to remove the overhead.\n",
      "And if memory is not enough, you can set `force_col_wise=true`.\n",
      "[LightGBM] [Info] Total Bins 946\n",
      "[LightGBM] [Info] Number of data points in the train set: 159348, number of used features: 288\n",
      "[LightGBM] [Info] Start training from score 4418.146842\n",
      "[LightGBM] [Warning] Found whitespace in feature_names, replace with underlines\n",
      "[LightGBM] [Info] Auto-choosing row-wise multi-threading, the overhead of testing was 0.005357 seconds.\n",
      "You can set `force_row_wise=true` to remove the overhead.\n",
      "And if memory is not enough, you can set `force_col_wise=true`.\n",
      "[LightGBM] [Info] Total Bins 946\n",
      "[LightGBM] [Info] Number of data points in the train set: 159348, number of used features: 289\n",
      "[LightGBM] [Info] Start training from score 4415.134529\n",
      "[LightGBM] [Warning] Found whitespace in feature_names, replace with underlines\n",
      "[LightGBM] [Info] Auto-choosing row-wise multi-threading, the overhead of testing was 0.005950 seconds.\n",
      "You can set `force_row_wise=true` to remove the overhead.\n",
      "And if memory is not enough, you can set `force_col_wise=true`.\n",
      "[LightGBM] [Info] Total Bins 944\n",
      "[LightGBM] [Info] Number of data points in the train set: 159348, number of used features: 289\n",
      "[LightGBM] [Info] Start training from score 4427.849512\n",
      "[LightGBM] [Warning] Found whitespace in feature_names, replace with underlines\n",
      "[LightGBM] [Info] Auto-choosing row-wise multi-threading, the overhead of testing was 0.005682 seconds.\n",
      "You can set `force_row_wise=true` to remove the overhead.\n",
      "And if memory is not enough, you can set `force_col_wise=true`.\n",
      "[LightGBM] [Info] Total Bins 951\n",
      "[LightGBM] [Info] Number of data points in the train set: 159348, number of used features: 290\n",
      "[LightGBM] [Info] Start training from score 4413.717825\n",
      "[LightGBM] [Warning] Found whitespace in feature_names, replace with underlines\n",
      "[LightGBM] [Info] Auto-choosing row-wise multi-threading, the overhead of testing was 0.004650 seconds.\n",
      "You can set `force_row_wise=true` to remove the overhead.\n",
      "And if memory is not enough, you can set `force_col_wise=true`.\n",
      "[LightGBM] [Info] Total Bins 946\n",
      "[LightGBM] [Info] Number of data points in the train set: 159348, number of used features: 288\n",
      "[LightGBM] [Info] Start training from score 4418.146842\n",
      "[LightGBM] [Warning] Found whitespace in feature_names, replace with underlines\n",
      "[LightGBM] [Info] Auto-choosing row-wise multi-threading, the overhead of testing was 0.003935 seconds.\n",
      "You can set `force_row_wise=true` to remove the overhead.\n",
      "And if memory is not enough, you can set `force_col_wise=true`.\n",
      "[LightGBM] [Info] Total Bins 946\n",
      "[LightGBM] [Info] Number of data points in the train set: 159348, number of used features: 289\n",
      "[LightGBM] [Info] Start training from score 4415.134529\n",
      "[LightGBM] [Warning] Found whitespace in feature_names, replace with underlines\n",
      "[LightGBM] [Info] Auto-choosing row-wise multi-threading, the overhead of testing was 0.006066 seconds.\n",
      "You can set `force_row_wise=true` to remove the overhead.\n",
      "And if memory is not enough, you can set `force_col_wise=true`.\n",
      "[LightGBM] [Info] Total Bins 944\n",
      "[LightGBM] [Info] Number of data points in the train set: 159348, number of used features: 289\n",
      "[LightGBM] [Info] Start training from score 4427.849512\n",
      "[LightGBM] [Warning] Found whitespace in feature_names, replace with underlines\n",
      "[LightGBM] [Info] Auto-choosing row-wise multi-threading, the overhead of testing was 0.004044 seconds.\n",
      "You can set `force_row_wise=true` to remove the overhead.\n",
      "And if memory is not enough, you can set `force_col_wise=true`.\n",
      "[LightGBM] [Info] Total Bins 951\n",
      "[LightGBM] [Info] Number of data points in the train set: 159348, number of used features: 290\n",
      "[LightGBM] [Info] Start training from score 4413.717825\n",
      "[LightGBM] [Warning] Found whitespace in feature_names, replace with underlines\n",
      "[LightGBM] [Info] Auto-choosing row-wise multi-threading, the overhead of testing was 0.004012 seconds.\n",
      "You can set `force_row_wise=true` to remove the overhead.\n",
      "And if memory is not enough, you can set `force_col_wise=true`.\n",
      "[LightGBM] [Info] Total Bins 946\n",
      "[LightGBM] [Info] Number of data points in the train set: 159348, number of used features: 288\n",
      "[LightGBM] [Info] Start training from score 4418.146842\n",
      "[LightGBM] [Warning] Found whitespace in feature_names, replace with underlines\n",
      "[LightGBM] [Info] Auto-choosing row-wise multi-threading, the overhead of testing was 0.005319 seconds.\n",
      "You can set `force_row_wise=true` to remove the overhead.\n",
      "And if memory is not enough, you can set `force_col_wise=true`.\n",
      "[LightGBM] [Info] Total Bins 946\n",
      "[LightGBM] [Info] Number of data points in the train set: 159348, number of used features: 289\n",
      "[LightGBM] [Info] Start training from score 4415.134529\n",
      "[LightGBM] [Warning] Found whitespace in feature_names, replace with underlines\n",
      "[LightGBM] [Info] Auto-choosing row-wise multi-threading, the overhead of testing was 0.005737 seconds.\n",
      "You can set `force_row_wise=true` to remove the overhead.\n",
      "And if memory is not enough, you can set `force_col_wise=true`.\n",
      "[LightGBM] [Info] Total Bins 944\n",
      "[LightGBM] [Info] Number of data points in the train set: 159348, number of used features: 289\n",
      "[LightGBM] [Info] Start training from score 4427.849512\n",
      "[LightGBM] [Warning] Found whitespace in feature_names, replace with underlines\n",
      "[LightGBM] [Info] Auto-choosing row-wise multi-threading, the overhead of testing was 0.005600 seconds.\n",
      "You can set `force_row_wise=true` to remove the overhead.\n",
      "And if memory is not enough, you can set `force_col_wise=true`.\n",
      "[LightGBM] [Info] Total Bins 951\n",
      "[LightGBM] [Info] Number of data points in the train set: 159348, number of used features: 290\n",
      "[LightGBM] [Info] Start training from score 4413.717825\n",
      "[LightGBM] [Warning] No further splits with positive gain, best gain: -inf\n",
      "[LightGBM] [Warning] No further splits with positive gain, best gain: -inf\n",
      "[LightGBM] [Warning] No further splits with positive gain, best gain: -inf\n",
      "[LightGBM] [Warning] No further splits with positive gain, best gain: -inf\n",
      "[LightGBM] [Warning] No further splits with positive gain, best gain: -inf\n",
      "[LightGBM] [Warning] No further splits with positive gain, best gain: -inf\n",
      "[LightGBM] [Warning] No further splits with positive gain, best gain: -inf\n",
      "[LightGBM] [Warning] No further splits with positive gain, best gain: -inf\n",
      "[LightGBM] [Warning] No further splits with positive gain, best gain: -inf\n",
      "[LightGBM] [Warning] No further splits with positive gain, best gain: -inf\n",
      "[LightGBM] [Warning] Found whitespace in feature_names, replace with underlines\n",
      "[LightGBM] [Info] Auto-choosing row-wise multi-threading, the overhead of testing was 0.003833 seconds.\n",
      "You can set `force_row_wise=true` to remove the overhead.\n",
      "And if memory is not enough, you can set `force_col_wise=true`.\n",
      "[LightGBM] [Info] Total Bins 946\n",
      "[LightGBM] [Info] Number of data points in the train set: 159348, number of used features: 288\n",
      "[LightGBM] [Info] Start training from score 4418.146842\n",
      "[LightGBM] [Warning] No further splits with positive gain, best gain: -inf\n",
      "[LightGBM] [Warning] No further splits with positive gain, best gain: -inf\n",
      "[LightGBM] [Warning] No further splits with positive gain, best gain: -inf\n",
      "[LightGBM] [Warning] No further splits with positive gain, best gain: -inf\n",
      "[LightGBM] [Warning] No further splits with positive gain, best gain: -inf\n",
      "[LightGBM] [Warning] No further splits with positive gain, best gain: -inf\n",
      "[LightGBM] [Warning] No further splits with positive gain, best gain: -inf\n",
      "[LightGBM] [Warning] No further splits with positive gain, best gain: -inf\n",
      "[LightGBM] [Warning] No further splits with positive gain, best gain: -inf\n",
      "[LightGBM] [Warning] No further splits with positive gain, best gain: -inf\n",
      "[LightGBM] [Warning] Found whitespace in feature_names, replace with underlines\n",
      "[LightGBM] [Info] Auto-choosing row-wise multi-threading, the overhead of testing was 0.004785 seconds.\n",
      "You can set `force_row_wise=true` to remove the overhead.\n",
      "And if memory is not enough, you can set `force_col_wise=true`.\n",
      "[LightGBM] [Info] Total Bins 946\n",
      "[LightGBM] [Info] Number of data points in the train set: 159348, number of used features: 289\n",
      "[LightGBM] [Info] Start training from score 4415.134529\n",
      "[LightGBM] [Warning] No further splits with positive gain, best gain: -inf\n",
      "[LightGBM] [Warning] No further splits with positive gain, best gain: -inf\n",
      "[LightGBM] [Warning] No further splits with positive gain, best gain: -inf\n",
      "[LightGBM] [Warning] No further splits with positive gain, best gain: -inf\n",
      "[LightGBM] [Warning] No further splits with positive gain, best gain: -inf\n",
      "[LightGBM] [Warning] No further splits with positive gain, best gain: -inf\n",
      "[LightGBM] [Warning] No further splits with positive gain, best gain: -inf\n",
      "[LightGBM] [Warning] No further splits with positive gain, best gain: -inf\n",
      "[LightGBM] [Warning] No further splits with positive gain, best gain: -inf\n",
      "[LightGBM] [Warning] No further splits with positive gain, best gain: -inf\n",
      "[LightGBM] [Warning] Found whitespace in feature_names, replace with underlines\n",
      "[LightGBM] [Info] Auto-choosing row-wise multi-threading, the overhead of testing was 0.004372 seconds.\n",
      "You can set `force_row_wise=true` to remove the overhead.\n",
      "And if memory is not enough, you can set `force_col_wise=true`.\n",
      "[LightGBM] [Info] Total Bins 944\n",
      "[LightGBM] [Info] Number of data points in the train set: 159348, number of used features: 289\n",
      "[LightGBM] [Info] Start training from score 4427.849512\n",
      "[LightGBM] [Warning] No further splits with positive gain, best gain: -inf\n",
      "[LightGBM] [Warning] No further splits with positive gain, best gain: -inf\n",
      "[LightGBM] [Warning] No further splits with positive gain, best gain: -inf\n",
      "[LightGBM] [Warning] No further splits with positive gain, best gain: -inf\n",
      "[LightGBM] [Warning] No further splits with positive gain, best gain: -inf\n",
      "[LightGBM] [Warning] No further splits with positive gain, best gain: -inf\n",
      "[LightGBM] [Warning] No further splits with positive gain, best gain: -inf\n",
      "[LightGBM] [Warning] No further splits with positive gain, best gain: -inf\n",
      "[LightGBM] [Warning] No further splits with positive gain, best gain: -inf\n",
      "[LightGBM] [Warning] No further splits with positive gain, best gain: -inf\n",
      "[LightGBM] [Warning] Found whitespace in feature_names, replace with underlines\n",
      "[LightGBM] [Info] Auto-choosing row-wise multi-threading, the overhead of testing was 0.004161 seconds.\n",
      "You can set `force_row_wise=true` to remove the overhead.\n",
      "And if memory is not enough, you can set `force_col_wise=true`.\n",
      "[LightGBM] [Info] Total Bins 951\n",
      "[LightGBM] [Info] Number of data points in the train set: 159348, number of used features: 290\n",
      "[LightGBM] [Info] Start training from score 4413.717825\n",
      "[LightGBM] [Warning] No further splits with positive gain, best gain: -inf\n",
      "[LightGBM] [Warning] No further splits with positive gain, best gain: -inf\n",
      "[LightGBM] [Warning] No further splits with positive gain, best gain: -inf\n",
      "[LightGBM] [Warning] No further splits with positive gain, best gain: -inf\n",
      "[LightGBM] [Warning] No further splits with positive gain, best gain: -inf\n",
      "[LightGBM] [Warning] No further splits with positive gain, best gain: -inf\n",
      "[LightGBM] [Warning] No further splits with positive gain, best gain: -inf\n",
      "[LightGBM] [Warning] No further splits with positive gain, best gain: -inf\n",
      "[LightGBM] [Warning] No further splits with positive gain, best gain: -inf\n",
      "[LightGBM] [Warning] No further splits with positive gain, best gain: -inf\n",
      "[LightGBM] [Warning] No further splits with positive gain, best gain: -inf\n",
      "[LightGBM] [Warning] No further splits with positive gain, best gain: -inf\n",
      "[LightGBM] [Warning] No further splits with positive gain, best gain: -inf\n",
      "[LightGBM] [Warning] No further splits with positive gain, best gain: -inf\n",
      "[LightGBM] [Warning] No further splits with positive gain, best gain: -inf\n",
      "[LightGBM] [Warning] No further splits with positive gain, best gain: -inf\n",
      "[LightGBM] [Warning] No further splits with positive gain, best gain: -inf\n",
      "[LightGBM] [Warning] No further splits with positive gain, best gain: -inf\n",
      "[LightGBM] [Warning] No further splits with positive gain, best gain: -inf\n",
      "[LightGBM] [Warning] No further splits with positive gain, best gain: -inf\n",
      "[LightGBM] [Warning] Found whitespace in feature_names, replace with underlines\n",
      "[LightGBM] [Info] Auto-choosing row-wise multi-threading, the overhead of testing was 0.004106 seconds.\n",
      "You can set `force_row_wise=true` to remove the overhead.\n",
      "And if memory is not enough, you can set `force_col_wise=true`.\n",
      "[LightGBM] [Info] Total Bins 946\n",
      "[LightGBM] [Info] Number of data points in the train set: 159348, number of used features: 288\n",
      "[LightGBM] [Info] Start training from score 4418.146842\n",
      "[LightGBM] [Warning] No further splits with positive gain, best gain: -inf\n",
      "[LightGBM] [Warning] No further splits with positive gain, best gain: -inf\n",
      "[LightGBM] [Warning] No further splits with positive gain, best gain: -inf\n",
      "[LightGBM] [Warning] No further splits with positive gain, best gain: -inf\n",
      "[LightGBM] [Warning] No further splits with positive gain, best gain: -inf\n",
      "[LightGBM] [Warning] No further splits with positive gain, best gain: -inf\n",
      "[LightGBM] [Warning] No further splits with positive gain, best gain: -inf\n",
      "[LightGBM] [Warning] No further splits with positive gain, best gain: -inf\n",
      "[LightGBM] [Warning] No further splits with positive gain, best gain: -inf\n",
      "[LightGBM] [Warning] No further splits with positive gain, best gain: -inf\n",
      "[LightGBM] [Warning] No further splits with positive gain, best gain: -inf\n",
      "[LightGBM] [Warning] No further splits with positive gain, best gain: -inf\n",
      "[LightGBM] [Warning] No further splits with positive gain, best gain: -inf\n",
      "[LightGBM] [Warning] No further splits with positive gain, best gain: -inf\n",
      "[LightGBM] [Warning] No further splits with positive gain, best gain: -inf\n",
      "[LightGBM] [Warning] No further splits with positive gain, best gain: -inf\n",
      "[LightGBM] [Warning] No further splits with positive gain, best gain: -inf\n",
      "[LightGBM] [Warning] No further splits with positive gain, best gain: -inf\n",
      "[LightGBM] [Warning] No further splits with positive gain, best gain: -inf\n",
      "[LightGBM] [Warning] No further splits with positive gain, best gain: -inf\n",
      "[LightGBM] [Warning] Found whitespace in feature_names, replace with underlines\n",
      "[LightGBM] [Info] Auto-choosing row-wise multi-threading, the overhead of testing was 0.004624 seconds.\n",
      "You can set `force_row_wise=true` to remove the overhead.\n",
      "And if memory is not enough, you can set `force_col_wise=true`.\n",
      "[LightGBM] [Info] Total Bins 946\n",
      "[LightGBM] [Info] Number of data points in the train set: 159348, number of used features: 289\n",
      "[LightGBM] [Info] Start training from score 4415.134529\n",
      "[LightGBM] [Warning] No further splits with positive gain, best gain: -inf\n",
      "[LightGBM] [Warning] No further splits with positive gain, best gain: -inf\n",
      "[LightGBM] [Warning] No further splits with positive gain, best gain: -inf\n",
      "[LightGBM] [Warning] No further splits with positive gain, best gain: -inf\n",
      "[LightGBM] [Warning] No further splits with positive gain, best gain: -inf\n",
      "[LightGBM] [Warning] No further splits with positive gain, best gain: -inf\n",
      "[LightGBM] [Warning] No further splits with positive gain, best gain: -inf\n",
      "[LightGBM] [Warning] No further splits with positive gain, best gain: -inf\n",
      "[LightGBM] [Warning] No further splits with positive gain, best gain: -inf\n",
      "[LightGBM] [Warning] No further splits with positive gain, best gain: -inf\n",
      "[LightGBM] [Warning] No further splits with positive gain, best gain: -inf\n",
      "[LightGBM] [Warning] No further splits with positive gain, best gain: -inf\n",
      "[LightGBM] [Warning] No further splits with positive gain, best gain: -inf\n",
      "[LightGBM] [Warning] No further splits with positive gain, best gain: -inf\n",
      "[LightGBM] [Warning] No further splits with positive gain, best gain: -inf\n",
      "[LightGBM] [Warning] No further splits with positive gain, best gain: -inf\n",
      "[LightGBM] [Warning] No further splits with positive gain, best gain: -inf\n",
      "[LightGBM] [Warning] No further splits with positive gain, best gain: -inf\n",
      "[LightGBM] [Warning] No further splits with positive gain, best gain: -inf\n",
      "[LightGBM] [Warning] No further splits with positive gain, best gain: -inf\n",
      "[LightGBM] [Warning] Found whitespace in feature_names, replace with underlines\n",
      "[LightGBM] [Info] Auto-choosing row-wise multi-threading, the overhead of testing was 0.006283 seconds.\n",
      "You can set `force_row_wise=true` to remove the overhead.\n",
      "And if memory is not enough, you can set `force_col_wise=true`.\n",
      "[LightGBM] [Info] Total Bins 944\n",
      "[LightGBM] [Info] Number of data points in the train set: 159348, number of used features: 289\n",
      "[LightGBM] [Info] Start training from score 4427.849512\n",
      "[LightGBM] [Warning] No further splits with positive gain, best gain: -inf\n",
      "[LightGBM] [Warning] No further splits with positive gain, best gain: -inf\n",
      "[LightGBM] [Warning] No further splits with positive gain, best gain: -inf\n",
      "[LightGBM] [Warning] No further splits with positive gain, best gain: -inf\n",
      "[LightGBM] [Warning] No further splits with positive gain, best gain: -inf\n",
      "[LightGBM] [Warning] No further splits with positive gain, best gain: -inf\n",
      "[LightGBM] [Warning] No further splits with positive gain, best gain: -inf\n",
      "[LightGBM] [Warning] No further splits with positive gain, best gain: -inf\n",
      "[LightGBM] [Warning] No further splits with positive gain, best gain: -inf\n",
      "[LightGBM] [Warning] No further splits with positive gain, best gain: -inf\n",
      "[LightGBM] [Warning] No further splits with positive gain, best gain: -inf\n",
      "[LightGBM] [Warning] No further splits with positive gain, best gain: -inf\n",
      "[LightGBM] [Warning] No further splits with positive gain, best gain: -inf\n",
      "[LightGBM] [Warning] No further splits with positive gain, best gain: -inf\n",
      "[LightGBM] [Warning] No further splits with positive gain, best gain: -inf\n",
      "[LightGBM] [Warning] No further splits with positive gain, best gain: -inf\n",
      "[LightGBM] [Warning] No further splits with positive gain, best gain: -inf\n",
      "[LightGBM] [Warning] No further splits with positive gain, best gain: -inf\n",
      "[LightGBM] [Warning] No further splits with positive gain, best gain: -inf\n",
      "[LightGBM] [Warning] No further splits with positive gain, best gain: -inf\n",
      "[LightGBM] [Warning] Found whitespace in feature_names, replace with underlines\n",
      "[LightGBM] [Info] Auto-choosing row-wise multi-threading, the overhead of testing was 0.005499 seconds.\n",
      "You can set `force_row_wise=true` to remove the overhead.\n",
      "And if memory is not enough, you can set `force_col_wise=true`.\n",
      "[LightGBM] [Info] Total Bins 951\n",
      "[LightGBM] [Info] Number of data points in the train set: 159348, number of used features: 290\n",
      "[LightGBM] [Info] Start training from score 4413.717825\n",
      "[LightGBM] [Warning] No further splits with positive gain, best gain: -inf\n",
      "[LightGBM] [Warning] No further splits with positive gain, best gain: -inf\n",
      "[LightGBM] [Warning] No further splits with positive gain, best gain: -inf\n",
      "[LightGBM] [Warning] No further splits with positive gain, best gain: -inf\n",
      "[LightGBM] [Warning] No further splits with positive gain, best gain: -inf\n",
      "[LightGBM] [Warning] No further splits with positive gain, best gain: -inf\n",
      "[LightGBM] [Warning] No further splits with positive gain, best gain: -inf\n",
      "[LightGBM] [Warning] No further splits with positive gain, best gain: -inf\n",
      "[LightGBM] [Warning] No further splits with positive gain, best gain: -inf\n",
      "[LightGBM] [Warning] No further splits with positive gain, best gain: -inf\n",
      "[LightGBM] [Warning] No further splits with positive gain, best gain: -inf\n",
      "[LightGBM] [Warning] No further splits with positive gain, best gain: -inf\n",
      "[LightGBM] [Warning] No further splits with positive gain, best gain: -inf\n",
      "[LightGBM] [Warning] No further splits with positive gain, best gain: -inf\n",
      "[LightGBM] [Warning] No further splits with positive gain, best gain: -inf\n",
      "[LightGBM] [Warning] No further splits with positive gain, best gain: -inf\n",
      "[LightGBM] [Warning] No further splits with positive gain, best gain: -inf\n",
      "[LightGBM] [Warning] No further splits with positive gain, best gain: -inf\n",
      "[LightGBM] [Warning] No further splits with positive gain, best gain: -inf\n",
      "[LightGBM] [Warning] No further splits with positive gain, best gain: -inf\n",
      "[LightGBM] [Warning] No further splits with positive gain, best gain: -inf\n",
      "[LightGBM] [Warning] No further splits with positive gain, best gain: -inf\n",
      "[LightGBM] [Warning] No further splits with positive gain, best gain: -inf\n",
      "[LightGBM] [Warning] No further splits with positive gain, best gain: -inf\n",
      "[LightGBM] [Warning] No further splits with positive gain, best gain: -inf\n",
      "[LightGBM] [Warning] No further splits with positive gain, best gain: -inf\n",
      "[LightGBM] [Warning] No further splits with positive gain, best gain: -inf\n",
      "[LightGBM] [Warning] No further splits with positive gain, best gain: -inf\n",
      "[LightGBM] [Warning] No further splits with positive gain, best gain: -inf\n",
      "[LightGBM] [Warning] No further splits with positive gain, best gain: -inf\n",
      "[LightGBM] [Warning] Found whitespace in feature_names, replace with underlines\n",
      "[LightGBM] [Info] Auto-choosing row-wise multi-threading, the overhead of testing was 0.004121 seconds.\n",
      "You can set `force_row_wise=true` to remove the overhead.\n",
      "And if memory is not enough, you can set `force_col_wise=true`.\n",
      "[LightGBM] [Info] Total Bins 946\n",
      "[LightGBM] [Info] Number of data points in the train set: 159348, number of used features: 288\n",
      "[LightGBM] [Info] Start training from score 4418.146842\n",
      "[LightGBM] [Warning] No further splits with positive gain, best gain: -inf\n",
      "[LightGBM] [Warning] No further splits with positive gain, best gain: -inf\n",
      "[LightGBM] [Warning] No further splits with positive gain, best gain: -inf\n",
      "[LightGBM] [Warning] No further splits with positive gain, best gain: -inf\n",
      "[LightGBM] [Warning] No further splits with positive gain, best gain: -inf\n",
      "[LightGBM] [Warning] No further splits with positive gain, best gain: -inf\n",
      "[LightGBM] [Warning] No further splits with positive gain, best gain: -inf\n",
      "[LightGBM] [Warning] No further splits with positive gain, best gain: -inf\n",
      "[LightGBM] [Warning] No further splits with positive gain, best gain: -inf\n",
      "[LightGBM] [Warning] No further splits with positive gain, best gain: -inf\n",
      "[LightGBM] [Warning] No further splits with positive gain, best gain: -inf\n",
      "[LightGBM] [Warning] No further splits with positive gain, best gain: -inf\n",
      "[LightGBM] [Warning] No further splits with positive gain, best gain: -inf\n",
      "[LightGBM] [Warning] No further splits with positive gain, best gain: -inf\n",
      "[LightGBM] [Warning] No further splits with positive gain, best gain: -inf\n",
      "[LightGBM] [Warning] No further splits with positive gain, best gain: -inf\n",
      "[LightGBM] [Warning] No further splits with positive gain, best gain: -inf\n",
      "[LightGBM] [Warning] No further splits with positive gain, best gain: -inf\n",
      "[LightGBM] [Warning] No further splits with positive gain, best gain: -inf\n",
      "[LightGBM] [Warning] No further splits with positive gain, best gain: -inf\n",
      "[LightGBM] [Warning] No further splits with positive gain, best gain: -inf\n",
      "[LightGBM] [Warning] No further splits with positive gain, best gain: -inf\n",
      "[LightGBM] [Warning] No further splits with positive gain, best gain: -inf\n",
      "[LightGBM] [Warning] No further splits with positive gain, best gain: -inf\n",
      "[LightGBM] [Warning] No further splits with positive gain, best gain: -inf\n",
      "[LightGBM] [Warning] No further splits with positive gain, best gain: -inf\n",
      "[LightGBM] [Warning] No further splits with positive gain, best gain: -inf\n",
      "[LightGBM] [Warning] No further splits with positive gain, best gain: -inf\n",
      "[LightGBM] [Warning] No further splits with positive gain, best gain: -inf\n",
      "[LightGBM] [Warning] No further splits with positive gain, best gain: -inf\n",
      "[LightGBM] [Warning] Found whitespace in feature_names, replace with underlines\n",
      "[LightGBM] [Info] Auto-choosing row-wise multi-threading, the overhead of testing was 0.005159 seconds.\n",
      "You can set `force_row_wise=true` to remove the overhead.\n",
      "And if memory is not enough, you can set `force_col_wise=true`.\n",
      "[LightGBM] [Info] Total Bins 946\n",
      "[LightGBM] [Info] Number of data points in the train set: 159348, number of used features: 289\n",
      "[LightGBM] [Info] Start training from score 4415.134529\n",
      "[LightGBM] [Warning] No further splits with positive gain, best gain: -inf\n",
      "[LightGBM] [Warning] No further splits with positive gain, best gain: -inf\n",
      "[LightGBM] [Warning] No further splits with positive gain, best gain: -inf\n",
      "[LightGBM] [Warning] No further splits with positive gain, best gain: -inf\n",
      "[LightGBM] [Warning] No further splits with positive gain, best gain: -inf\n",
      "[LightGBM] [Warning] No further splits with positive gain, best gain: -inf\n",
      "[LightGBM] [Warning] No further splits with positive gain, best gain: -inf\n",
      "[LightGBM] [Warning] No further splits with positive gain, best gain: -inf\n",
      "[LightGBM] [Warning] No further splits with positive gain, best gain: -inf\n",
      "[LightGBM] [Warning] No further splits with positive gain, best gain: -inf\n",
      "[LightGBM] [Warning] No further splits with positive gain, best gain: -inf\n",
      "[LightGBM] [Warning] No further splits with positive gain, best gain: -inf\n",
      "[LightGBM] [Warning] No further splits with positive gain, best gain: -inf\n",
      "[LightGBM] [Warning] No further splits with positive gain, best gain: -inf\n",
      "[LightGBM] [Warning] No further splits with positive gain, best gain: -inf\n",
      "[LightGBM] [Warning] No further splits with positive gain, best gain: -inf\n",
      "[LightGBM] [Warning] No further splits with positive gain, best gain: -inf\n",
      "[LightGBM] [Warning] No further splits with positive gain, best gain: -inf\n",
      "[LightGBM] [Warning] No further splits with positive gain, best gain: -inf\n",
      "[LightGBM] [Warning] No further splits with positive gain, best gain: -inf\n",
      "[LightGBM] [Warning] No further splits with positive gain, best gain: -inf\n",
      "[LightGBM] [Warning] No further splits with positive gain, best gain: -inf\n",
      "[LightGBM] [Warning] No further splits with positive gain, best gain: -inf\n",
      "[LightGBM] [Warning] No further splits with positive gain, best gain: -inf\n",
      "[LightGBM] [Warning] No further splits with positive gain, best gain: -inf\n",
      "[LightGBM] [Warning] No further splits with positive gain, best gain: -inf\n",
      "[LightGBM] [Warning] No further splits with positive gain, best gain: -inf\n",
      "[LightGBM] [Warning] No further splits with positive gain, best gain: -inf\n",
      "[LightGBM] [Warning] No further splits with positive gain, best gain: -inf\n",
      "[LightGBM] [Warning] No further splits with positive gain, best gain: -inf\n",
      "[LightGBM] [Warning] Found whitespace in feature_names, replace with underlines\n",
      "[LightGBM] [Info] Auto-choosing row-wise multi-threading, the overhead of testing was 0.006111 seconds.\n",
      "You can set `force_row_wise=true` to remove the overhead.\n",
      "And if memory is not enough, you can set `force_col_wise=true`.\n",
      "[LightGBM] [Info] Total Bins 944\n",
      "[LightGBM] [Info] Number of data points in the train set: 159348, number of used features: 289\n",
      "[LightGBM] [Info] Start training from score 4427.849512\n",
      "[LightGBM] [Warning] No further splits with positive gain, best gain: -inf\n",
      "[LightGBM] [Warning] No further splits with positive gain, best gain: -inf\n",
      "[LightGBM] [Warning] No further splits with positive gain, best gain: -inf\n",
      "[LightGBM] [Warning] No further splits with positive gain, best gain: -inf\n",
      "[LightGBM] [Warning] No further splits with positive gain, best gain: -inf\n",
      "[LightGBM] [Warning] No further splits with positive gain, best gain: -inf\n",
      "[LightGBM] [Warning] No further splits with positive gain, best gain: -inf\n",
      "[LightGBM] [Warning] No further splits with positive gain, best gain: -inf\n",
      "[LightGBM] [Warning] No further splits with positive gain, best gain: -inf\n",
      "[LightGBM] [Warning] No further splits with positive gain, best gain: -inf\n",
      "[LightGBM] [Warning] No further splits with positive gain, best gain: -inf\n",
      "[LightGBM] [Warning] No further splits with positive gain, best gain: -inf\n",
      "[LightGBM] [Warning] No further splits with positive gain, best gain: -inf\n",
      "[LightGBM] [Warning] No further splits with positive gain, best gain: -inf\n",
      "[LightGBM] [Warning] No further splits with positive gain, best gain: -inf\n",
      "[LightGBM] [Warning] No further splits with positive gain, best gain: -inf\n",
      "[LightGBM] [Warning] No further splits with positive gain, best gain: -inf\n",
      "[LightGBM] [Warning] No further splits with positive gain, best gain: -inf\n",
      "[LightGBM] [Warning] No further splits with positive gain, best gain: -inf\n",
      "[LightGBM] [Warning] No further splits with positive gain, best gain: -inf\n",
      "[LightGBM] [Warning] No further splits with positive gain, best gain: -inf\n",
      "[LightGBM] [Warning] No further splits with positive gain, best gain: -inf\n",
      "[LightGBM] [Warning] No further splits with positive gain, best gain: -inf\n",
      "[LightGBM] [Warning] No further splits with positive gain, best gain: -inf\n",
      "[LightGBM] [Warning] No further splits with positive gain, best gain: -inf\n",
      "[LightGBM] [Warning] No further splits with positive gain, best gain: -inf\n",
      "[LightGBM] [Warning] No further splits with positive gain, best gain: -inf\n",
      "[LightGBM] [Warning] No further splits with positive gain, best gain: -inf\n",
      "[LightGBM] [Warning] No further splits with positive gain, best gain: -inf\n",
      "[LightGBM] [Warning] No further splits with positive gain, best gain: -inf\n",
      "[LightGBM] [Warning] Found whitespace in feature_names, replace with underlines\n",
      "[LightGBM] [Info] Auto-choosing row-wise multi-threading, the overhead of testing was 0.005331 seconds.\n",
      "You can set `force_row_wise=true` to remove the overhead.\n",
      "And if memory is not enough, you can set `force_col_wise=true`.\n",
      "[LightGBM] [Info] Total Bins 951\n",
      "[LightGBM] [Info] Number of data points in the train set: 159348, number of used features: 290\n",
      "[LightGBM] [Info] Start training from score 4413.717825\n",
      "[LightGBM] [Warning] No further splits with positive gain, best gain: -inf\n",
      "[LightGBM] [Warning] No further splits with positive gain, best gain: -inf\n",
      "[LightGBM] [Warning] No further splits with positive gain, best gain: -inf\n",
      "[LightGBM] [Warning] No further splits with positive gain, best gain: -inf\n",
      "[LightGBM] [Warning] No further splits with positive gain, best gain: -inf\n",
      "[LightGBM] [Warning] No further splits with positive gain, best gain: -inf\n",
      "[LightGBM] [Warning] No further splits with positive gain, best gain: -inf\n",
      "[LightGBM] [Warning] No further splits with positive gain, best gain: -inf\n",
      "[LightGBM] [Warning] No further splits with positive gain, best gain: -inf\n",
      "[LightGBM] [Warning] No further splits with positive gain, best gain: -inf\n",
      "[LightGBM] [Warning] Found whitespace in feature_names, replace with underlines\n",
      "[LightGBM] [Info] Auto-choosing row-wise multi-threading, the overhead of testing was 0.005085 seconds.\n",
      "You can set `force_row_wise=true` to remove the overhead.\n",
      "And if memory is not enough, you can set `force_col_wise=true`.\n",
      "[LightGBM] [Info] Total Bins 946\n",
      "[LightGBM] [Info] Number of data points in the train set: 159348, number of used features: 288\n",
      "[LightGBM] [Info] Start training from score 4418.146842\n",
      "[LightGBM] [Warning] No further splits with positive gain, best gain: -inf\n",
      "[LightGBM] [Warning] No further splits with positive gain, best gain: -inf\n",
      "[LightGBM] [Warning] No further splits with positive gain, best gain: -inf\n",
      "[LightGBM] [Warning] No further splits with positive gain, best gain: -inf\n",
      "[LightGBM] [Warning] No further splits with positive gain, best gain: -inf\n",
      "[LightGBM] [Warning] No further splits with positive gain, best gain: -inf\n",
      "[LightGBM] [Warning] No further splits with positive gain, best gain: -inf\n",
      "[LightGBM] [Warning] No further splits with positive gain, best gain: -inf\n",
      "[LightGBM] [Warning] No further splits with positive gain, best gain: -inf\n",
      "[LightGBM] [Warning] No further splits with positive gain, best gain: -inf\n",
      "[LightGBM] [Warning] Found whitespace in feature_names, replace with underlines\n",
      "[LightGBM] [Info] Auto-choosing row-wise multi-threading, the overhead of testing was 0.004638 seconds.\n",
      "You can set `force_row_wise=true` to remove the overhead.\n",
      "And if memory is not enough, you can set `force_col_wise=true`.\n",
      "[LightGBM] [Info] Total Bins 946\n",
      "[LightGBM] [Info] Number of data points in the train set: 159348, number of used features: 289\n",
      "[LightGBM] [Info] Start training from score 4415.134529\n",
      "[LightGBM] [Warning] No further splits with positive gain, best gain: -inf\n",
      "[LightGBM] [Warning] No further splits with positive gain, best gain: -inf\n",
      "[LightGBM] [Warning] No further splits with positive gain, best gain: -inf\n",
      "[LightGBM] [Warning] No further splits with positive gain, best gain: -inf\n",
      "[LightGBM] [Warning] No further splits with positive gain, best gain: -inf\n",
      "[LightGBM] [Warning] No further splits with positive gain, best gain: -inf\n",
      "[LightGBM] [Warning] No further splits with positive gain, best gain: -inf\n",
      "[LightGBM] [Warning] No further splits with positive gain, best gain: -inf\n",
      "[LightGBM] [Warning] No further splits with positive gain, best gain: -inf\n",
      "[LightGBM] [Warning] No further splits with positive gain, best gain: -inf\n",
      "[LightGBM] [Warning] Found whitespace in feature_names, replace with underlines\n",
      "[LightGBM] [Info] Auto-choosing row-wise multi-threading, the overhead of testing was 0.004485 seconds.\n",
      "You can set `force_row_wise=true` to remove the overhead.\n",
      "And if memory is not enough, you can set `force_col_wise=true`.\n",
      "[LightGBM] [Info] Total Bins 944\n",
      "[LightGBM] [Info] Number of data points in the train set: 159348, number of used features: 289\n",
      "[LightGBM] [Info] Start training from score 4427.849512\n",
      "[LightGBM] [Warning] No further splits with positive gain, best gain: -inf\n",
      "[LightGBM] [Warning] No further splits with positive gain, best gain: -inf\n",
      "[LightGBM] [Warning] No further splits with positive gain, best gain: -inf\n",
      "[LightGBM] [Warning] No further splits with positive gain, best gain: -inf\n",
      "[LightGBM] [Warning] No further splits with positive gain, best gain: -inf\n",
      "[LightGBM] [Warning] No further splits with positive gain, best gain: -inf\n",
      "[LightGBM] [Warning] No further splits with positive gain, best gain: -inf\n",
      "[LightGBM] [Warning] No further splits with positive gain, best gain: -inf\n",
      "[LightGBM] [Warning] No further splits with positive gain, best gain: -inf\n",
      "[LightGBM] [Warning] No further splits with positive gain, best gain: -inf\n",
      "[LightGBM] [Warning] Found whitespace in feature_names, replace with underlines\n",
      "[LightGBM] [Info] Auto-choosing row-wise multi-threading, the overhead of testing was 0.004070 seconds.\n",
      "You can set `force_row_wise=true` to remove the overhead.\n",
      "And if memory is not enough, you can set `force_col_wise=true`.\n",
      "[LightGBM] [Info] Total Bins 951\n",
      "[LightGBM] [Info] Number of data points in the train set: 159348, number of used features: 290\n",
      "[LightGBM] [Info] Start training from score 4413.717825\n",
      "[LightGBM] [Warning] No further splits with positive gain, best gain: -inf\n",
      "[LightGBM] [Warning] No further splits with positive gain, best gain: -inf\n",
      "[LightGBM] [Warning] No further splits with positive gain, best gain: -inf\n",
      "[LightGBM] [Warning] No further splits with positive gain, best gain: -inf\n",
      "[LightGBM] [Warning] No further splits with positive gain, best gain: -inf\n",
      "[LightGBM] [Warning] No further splits with positive gain, best gain: -inf\n",
      "[LightGBM] [Warning] No further splits with positive gain, best gain: -inf\n",
      "[LightGBM] [Warning] No further splits with positive gain, best gain: -inf\n",
      "[LightGBM] [Warning] No further splits with positive gain, best gain: -inf\n",
      "[LightGBM] [Warning] No further splits with positive gain, best gain: -inf\n",
      "[LightGBM] [Warning] No further splits with positive gain, best gain: -inf\n",
      "[LightGBM] [Warning] No further splits with positive gain, best gain: -inf\n",
      "[LightGBM] [Warning] No further splits with positive gain, best gain: -inf\n",
      "[LightGBM] [Warning] No further splits with positive gain, best gain: -inf\n",
      "[LightGBM] [Warning] No further splits with positive gain, best gain: -inf\n",
      "[LightGBM] [Warning] No further splits with positive gain, best gain: -inf\n",
      "[LightGBM] [Warning] No further splits with positive gain, best gain: -inf\n",
      "[LightGBM] [Warning] No further splits with positive gain, best gain: -inf\n",
      "[LightGBM] [Warning] No further splits with positive gain, best gain: -inf\n",
      "[LightGBM] [Warning] No further splits with positive gain, best gain: -inf\n",
      "[LightGBM] [Warning] Found whitespace in feature_names, replace with underlines\n",
      "[LightGBM] [Info] Auto-choosing row-wise multi-threading, the overhead of testing was 0.005382 seconds.\n",
      "You can set `force_row_wise=true` to remove the overhead.\n",
      "And if memory is not enough, you can set `force_col_wise=true`.\n",
      "[LightGBM] [Info] Total Bins 946\n",
      "[LightGBM] [Info] Number of data points in the train set: 159348, number of used features: 288\n",
      "[LightGBM] [Info] Start training from score 4418.146842\n",
      "[LightGBM] [Warning] No further splits with positive gain, best gain: -inf\n",
      "[LightGBM] [Warning] No further splits with positive gain, best gain: -inf\n",
      "[LightGBM] [Warning] No further splits with positive gain, best gain: -inf\n",
      "[LightGBM] [Warning] No further splits with positive gain, best gain: -inf\n",
      "[LightGBM] [Warning] No further splits with positive gain, best gain: -inf\n",
      "[LightGBM] [Warning] No further splits with positive gain, best gain: -inf\n",
      "[LightGBM] [Warning] No further splits with positive gain, best gain: -inf\n",
      "[LightGBM] [Warning] No further splits with positive gain, best gain: -inf\n",
      "[LightGBM] [Warning] No further splits with positive gain, best gain: -inf\n",
      "[LightGBM] [Warning] No further splits with positive gain, best gain: -inf\n",
      "[LightGBM] [Warning] No further splits with positive gain, best gain: -inf\n",
      "[LightGBM] [Warning] No further splits with positive gain, best gain: -inf\n",
      "[LightGBM] [Warning] No further splits with positive gain, best gain: -inf\n",
      "[LightGBM] [Warning] No further splits with positive gain, best gain: -inf\n",
      "[LightGBM] [Warning] No further splits with positive gain, best gain: -inf\n",
      "[LightGBM] [Warning] No further splits with positive gain, best gain: -inf\n",
      "[LightGBM] [Warning] No further splits with positive gain, best gain: -inf\n",
      "[LightGBM] [Warning] No further splits with positive gain, best gain: -inf\n",
      "[LightGBM] [Warning] No further splits with positive gain, best gain: -inf\n",
      "[LightGBM] [Warning] No further splits with positive gain, best gain: -inf\n",
      "[LightGBM] [Warning] Found whitespace in feature_names, replace with underlines\n",
      "[LightGBM] [Info] Auto-choosing row-wise multi-threading, the overhead of testing was 0.004744 seconds.\n",
      "You can set `force_row_wise=true` to remove the overhead.\n",
      "And if memory is not enough, you can set `force_col_wise=true`.\n",
      "[LightGBM] [Info] Total Bins 946\n",
      "[LightGBM] [Info] Number of data points in the train set: 159348, number of used features: 289\n",
      "[LightGBM] [Info] Start training from score 4415.134529\n",
      "[LightGBM] [Warning] No further splits with positive gain, best gain: -inf\n",
      "[LightGBM] [Warning] No further splits with positive gain, best gain: -inf\n",
      "[LightGBM] [Warning] No further splits with positive gain, best gain: -inf\n",
      "[LightGBM] [Warning] No further splits with positive gain, best gain: -inf\n",
      "[LightGBM] [Warning] No further splits with positive gain, best gain: -inf\n",
      "[LightGBM] [Warning] No further splits with positive gain, best gain: -inf\n",
      "[LightGBM] [Warning] No further splits with positive gain, best gain: -inf\n",
      "[LightGBM] [Warning] No further splits with positive gain, best gain: -inf\n",
      "[LightGBM] [Warning] No further splits with positive gain, best gain: -inf\n",
      "[LightGBM] [Warning] No further splits with positive gain, best gain: -inf\n",
      "[LightGBM] [Warning] No further splits with positive gain, best gain: -inf\n",
      "[LightGBM] [Warning] No further splits with positive gain, best gain: -inf\n",
      "[LightGBM] [Warning] No further splits with positive gain, best gain: -inf\n",
      "[LightGBM] [Warning] No further splits with positive gain, best gain: -inf\n",
      "[LightGBM] [Warning] No further splits with positive gain, best gain: -inf\n",
      "[LightGBM] [Warning] No further splits with positive gain, best gain: -inf\n",
      "[LightGBM] [Warning] No further splits with positive gain, best gain: -inf\n",
      "[LightGBM] [Warning] No further splits with positive gain, best gain: -inf\n",
      "[LightGBM] [Warning] No further splits with positive gain, best gain: -inf\n",
      "[LightGBM] [Warning] No further splits with positive gain, best gain: -inf\n",
      "[LightGBM] [Warning] Found whitespace in feature_names, replace with underlines\n",
      "[LightGBM] [Info] Auto-choosing row-wise multi-threading, the overhead of testing was 0.006551 seconds.\n",
      "You can set `force_row_wise=true` to remove the overhead.\n",
      "And if memory is not enough, you can set `force_col_wise=true`.\n",
      "[LightGBM] [Info] Total Bins 944\n",
      "[LightGBM] [Info] Number of data points in the train set: 159348, number of used features: 289\n",
      "[LightGBM] [Info] Start training from score 4427.849512\n",
      "[LightGBM] [Warning] No further splits with positive gain, best gain: -inf\n",
      "[LightGBM] [Warning] No further splits with positive gain, best gain: -inf\n",
      "[LightGBM] [Warning] No further splits with positive gain, best gain: -inf\n",
      "[LightGBM] [Warning] No further splits with positive gain, best gain: -inf\n",
      "[LightGBM] [Warning] No further splits with positive gain, best gain: -inf\n",
      "[LightGBM] [Warning] No further splits with positive gain, best gain: -inf\n",
      "[LightGBM] [Warning] No further splits with positive gain, best gain: -inf\n",
      "[LightGBM] [Warning] No further splits with positive gain, best gain: -inf\n",
      "[LightGBM] [Warning] No further splits with positive gain, best gain: -inf\n",
      "[LightGBM] [Warning] No further splits with positive gain, best gain: -inf\n",
      "[LightGBM] [Warning] No further splits with positive gain, best gain: -inf\n",
      "[LightGBM] [Warning] No further splits with positive gain, best gain: -inf\n",
      "[LightGBM] [Warning] No further splits with positive gain, best gain: -inf\n",
      "[LightGBM] [Warning] No further splits with positive gain, best gain: -inf\n",
      "[LightGBM] [Warning] No further splits with positive gain, best gain: -inf\n",
      "[LightGBM] [Warning] No further splits with positive gain, best gain: -inf\n",
      "[LightGBM] [Warning] No further splits with positive gain, best gain: -inf\n",
      "[LightGBM] [Warning] No further splits with positive gain, best gain: -inf\n",
      "[LightGBM] [Warning] No further splits with positive gain, best gain: -inf\n",
      "[LightGBM] [Warning] No further splits with positive gain, best gain: -inf\n",
      "[LightGBM] [Warning] Found whitespace in feature_names, replace with underlines\n",
      "[LightGBM] [Info] Auto-choosing row-wise multi-threading, the overhead of testing was 0.005332 seconds.\n",
      "You can set `force_row_wise=true` to remove the overhead.\n",
      "And if memory is not enough, you can set `force_col_wise=true`.\n",
      "[LightGBM] [Info] Total Bins 951\n",
      "[LightGBM] [Info] Number of data points in the train set: 159348, number of used features: 290\n",
      "[LightGBM] [Info] Start training from score 4413.717825\n",
      "[LightGBM] [Warning] No further splits with positive gain, best gain: -inf\n",
      "[LightGBM] [Warning] No further splits with positive gain, best gain: -inf\n",
      "[LightGBM] [Warning] No further splits with positive gain, best gain: -inf\n",
      "[LightGBM] [Warning] No further splits with positive gain, best gain: -inf\n",
      "[LightGBM] [Warning] No further splits with positive gain, best gain: -inf\n",
      "[LightGBM] [Warning] No further splits with positive gain, best gain: -inf\n",
      "[LightGBM] [Warning] No further splits with positive gain, best gain: -inf\n",
      "[LightGBM] [Warning] No further splits with positive gain, best gain: -inf\n",
      "[LightGBM] [Warning] No further splits with positive gain, best gain: -inf\n",
      "[LightGBM] [Warning] No further splits with positive gain, best gain: -inf\n",
      "[LightGBM] [Warning] No further splits with positive gain, best gain: -inf\n",
      "[LightGBM] [Warning] No further splits with positive gain, best gain: -inf\n",
      "[LightGBM] [Warning] No further splits with positive gain, best gain: -inf\n",
      "[LightGBM] [Warning] No further splits with positive gain, best gain: -inf\n",
      "[LightGBM] [Warning] No further splits with positive gain, best gain: -inf\n",
      "[LightGBM] [Warning] No further splits with positive gain, best gain: -inf\n",
      "[LightGBM] [Warning] No further splits with positive gain, best gain: -inf\n",
      "[LightGBM] [Warning] No further splits with positive gain, best gain: -inf\n",
      "[LightGBM] [Warning] No further splits with positive gain, best gain: -inf\n",
      "[LightGBM] [Warning] No further splits with positive gain, best gain: -inf\n",
      "[LightGBM] [Warning] No further splits with positive gain, best gain: -inf\n",
      "[LightGBM] [Warning] No further splits with positive gain, best gain: -inf\n",
      "[LightGBM] [Warning] No further splits with positive gain, best gain: -inf\n",
      "[LightGBM] [Warning] No further splits with positive gain, best gain: -inf\n",
      "[LightGBM] [Warning] No further splits with positive gain, best gain: -inf\n",
      "[LightGBM] [Warning] No further splits with positive gain, best gain: -inf\n",
      "[LightGBM] [Warning] No further splits with positive gain, best gain: -inf\n",
      "[LightGBM] [Warning] No further splits with positive gain, best gain: -inf\n",
      "[LightGBM] [Warning] No further splits with positive gain, best gain: -inf\n",
      "[LightGBM] [Warning] No further splits with positive gain, best gain: -inf\n",
      "[LightGBM] [Warning] Found whitespace in feature_names, replace with underlines\n",
      "[LightGBM] [Info] Auto-choosing row-wise multi-threading, the overhead of testing was 0.003770 seconds.\n",
      "You can set `force_row_wise=true` to remove the overhead.\n",
      "And if memory is not enough, you can set `force_col_wise=true`.\n",
      "[LightGBM] [Info] Total Bins 946\n",
      "[LightGBM] [Info] Number of data points in the train set: 159348, number of used features: 288\n",
      "[LightGBM] [Info] Start training from score 4418.146842\n",
      "[LightGBM] [Warning] No further splits with positive gain, best gain: -inf\n",
      "[LightGBM] [Warning] No further splits with positive gain, best gain: -inf\n",
      "[LightGBM] [Warning] No further splits with positive gain, best gain: -inf\n",
      "[LightGBM] [Warning] No further splits with positive gain, best gain: -inf\n",
      "[LightGBM] [Warning] No further splits with positive gain, best gain: -inf\n",
      "[LightGBM] [Warning] No further splits with positive gain, best gain: -inf\n",
      "[LightGBM] [Warning] No further splits with positive gain, best gain: -inf\n",
      "[LightGBM] [Warning] No further splits with positive gain, best gain: -inf\n",
      "[LightGBM] [Warning] No further splits with positive gain, best gain: -inf\n",
      "[LightGBM] [Warning] No further splits with positive gain, best gain: -inf\n",
      "[LightGBM] [Warning] No further splits with positive gain, best gain: -inf\n",
      "[LightGBM] [Warning] No further splits with positive gain, best gain: -inf\n",
      "[LightGBM] [Warning] No further splits with positive gain, best gain: -inf\n",
      "[LightGBM] [Warning] No further splits with positive gain, best gain: -inf\n",
      "[LightGBM] [Warning] No further splits with positive gain, best gain: -inf\n",
      "[LightGBM] [Warning] No further splits with positive gain, best gain: -inf\n",
      "[LightGBM] [Warning] No further splits with positive gain, best gain: -inf\n",
      "[LightGBM] [Warning] No further splits with positive gain, best gain: -inf\n",
      "[LightGBM] [Warning] No further splits with positive gain, best gain: -inf\n",
      "[LightGBM] [Warning] No further splits with positive gain, best gain: -inf\n",
      "[LightGBM] [Warning] No further splits with positive gain, best gain: -inf\n",
      "[LightGBM] [Warning] No further splits with positive gain, best gain: -inf\n",
      "[LightGBM] [Warning] No further splits with positive gain, best gain: -inf\n",
      "[LightGBM] [Warning] No further splits with positive gain, best gain: -inf\n",
      "[LightGBM] [Warning] No further splits with positive gain, best gain: -inf\n",
      "[LightGBM] [Warning] No further splits with positive gain, best gain: -inf\n",
      "[LightGBM] [Warning] No further splits with positive gain, best gain: -inf\n",
      "[LightGBM] [Warning] No further splits with positive gain, best gain: -inf\n",
      "[LightGBM] [Warning] No further splits with positive gain, best gain: -inf\n",
      "[LightGBM] [Warning] No further splits with positive gain, best gain: -inf\n",
      "[LightGBM] [Warning] Found whitespace in feature_names, replace with underlines\n",
      "[LightGBM] [Info] Auto-choosing row-wise multi-threading, the overhead of testing was 0.004752 seconds.\n",
      "You can set `force_row_wise=true` to remove the overhead.\n",
      "And if memory is not enough, you can set `force_col_wise=true`.\n",
      "[LightGBM] [Info] Total Bins 946\n",
      "[LightGBM] [Info] Number of data points in the train set: 159348, number of used features: 289\n",
      "[LightGBM] [Info] Start training from score 4415.134529\n",
      "[LightGBM] [Warning] No further splits with positive gain, best gain: -inf\n",
      "[LightGBM] [Warning] No further splits with positive gain, best gain: -inf\n",
      "[LightGBM] [Warning] No further splits with positive gain, best gain: -inf\n",
      "[LightGBM] [Warning] No further splits with positive gain, best gain: -inf\n",
      "[LightGBM] [Warning] No further splits with positive gain, best gain: -inf\n",
      "[LightGBM] [Warning] No further splits with positive gain, best gain: -inf\n",
      "[LightGBM] [Warning] No further splits with positive gain, best gain: -inf\n",
      "[LightGBM] [Warning] No further splits with positive gain, best gain: -inf\n",
      "[LightGBM] [Warning] No further splits with positive gain, best gain: -inf\n",
      "[LightGBM] [Warning] No further splits with positive gain, best gain: -inf\n",
      "[LightGBM] [Warning] No further splits with positive gain, best gain: -inf\n",
      "[LightGBM] [Warning] No further splits with positive gain, best gain: -inf\n",
      "[LightGBM] [Warning] No further splits with positive gain, best gain: -inf\n",
      "[LightGBM] [Warning] No further splits with positive gain, best gain: -inf\n",
      "[LightGBM] [Warning] No further splits with positive gain, best gain: -inf\n",
      "[LightGBM] [Warning] No further splits with positive gain, best gain: -inf\n",
      "[LightGBM] [Warning] No further splits with positive gain, best gain: -inf\n",
      "[LightGBM] [Warning] No further splits with positive gain, best gain: -inf\n",
      "[LightGBM] [Warning] No further splits with positive gain, best gain: -inf\n",
      "[LightGBM] [Warning] No further splits with positive gain, best gain: -inf\n",
      "[LightGBM] [Warning] No further splits with positive gain, best gain: -inf\n",
      "[LightGBM] [Warning] No further splits with positive gain, best gain: -inf\n",
      "[LightGBM] [Warning] No further splits with positive gain, best gain: -inf\n",
      "[LightGBM] [Warning] No further splits with positive gain, best gain: -inf\n",
      "[LightGBM] [Warning] No further splits with positive gain, best gain: -inf\n",
      "[LightGBM] [Warning] No further splits with positive gain, best gain: -inf\n",
      "[LightGBM] [Warning] No further splits with positive gain, best gain: -inf\n",
      "[LightGBM] [Warning] No further splits with positive gain, best gain: -inf\n",
      "[LightGBM] [Warning] No further splits with positive gain, best gain: -inf\n",
      "[LightGBM] [Warning] No further splits with positive gain, best gain: -inf\n",
      "[LightGBM] [Warning] Found whitespace in feature_names, replace with underlines\n",
      "[LightGBM] [Info] Auto-choosing row-wise multi-threading, the overhead of testing was 0.009827 seconds.\n",
      "You can set `force_row_wise=true` to remove the overhead.\n",
      "And if memory is not enough, you can set `force_col_wise=true`.\n",
      "[LightGBM] [Info] Total Bins 944\n",
      "[LightGBM] [Info] Number of data points in the train set: 159348, number of used features: 289\n",
      "[LightGBM] [Info] Start training from score 4427.849512\n",
      "[LightGBM] [Warning] No further splits with positive gain, best gain: -inf\n",
      "[LightGBM] [Warning] No further splits with positive gain, best gain: -inf\n",
      "[LightGBM] [Warning] No further splits with positive gain, best gain: -inf\n",
      "[LightGBM] [Warning] No further splits with positive gain, best gain: -inf\n",
      "[LightGBM] [Warning] No further splits with positive gain, best gain: -inf\n",
      "[LightGBM] [Warning] No further splits with positive gain, best gain: -inf\n",
      "[LightGBM] [Warning] No further splits with positive gain, best gain: -inf\n",
      "[LightGBM] [Warning] No further splits with positive gain, best gain: -inf\n",
      "[LightGBM] [Warning] No further splits with positive gain, best gain: -inf\n",
      "[LightGBM] [Warning] No further splits with positive gain, best gain: -inf\n",
      "[LightGBM] [Warning] No further splits with positive gain, best gain: -inf\n",
      "[LightGBM] [Warning] No further splits with positive gain, best gain: -inf\n",
      "[LightGBM] [Warning] No further splits with positive gain, best gain: -inf\n",
      "[LightGBM] [Warning] No further splits with positive gain, best gain: -inf\n",
      "[LightGBM] [Warning] No further splits with positive gain, best gain: -inf\n",
      "[LightGBM] [Warning] No further splits with positive gain, best gain: -inf\n",
      "[LightGBM] [Warning] No further splits with positive gain, best gain: -inf\n",
      "[LightGBM] [Warning] No further splits with positive gain, best gain: -inf\n",
      "[LightGBM] [Warning] No further splits with positive gain, best gain: -inf\n",
      "[LightGBM] [Warning] No further splits with positive gain, best gain: -inf\n",
      "[LightGBM] [Warning] No further splits with positive gain, best gain: -inf\n",
      "[LightGBM] [Warning] No further splits with positive gain, best gain: -inf\n",
      "[LightGBM] [Warning] No further splits with positive gain, best gain: -inf\n",
      "[LightGBM] [Warning] No further splits with positive gain, best gain: -inf\n",
      "[LightGBM] [Warning] No further splits with positive gain, best gain: -inf\n",
      "[LightGBM] [Warning] No further splits with positive gain, best gain: -inf\n",
      "[LightGBM] [Warning] No further splits with positive gain, best gain: -inf\n",
      "[LightGBM] [Warning] No further splits with positive gain, best gain: -inf\n",
      "[LightGBM] [Warning] No further splits with positive gain, best gain: -inf\n",
      "[LightGBM] [Warning] No further splits with positive gain, best gain: -inf\n",
      "[LightGBM] [Warning] Found whitespace in feature_names, replace with underlines\n",
      "[LightGBM] [Info] Auto-choosing row-wise multi-threading, the overhead of testing was 0.005136 seconds.\n",
      "You can set `force_row_wise=true` to remove the overhead.\n",
      "And if memory is not enough, you can set `force_col_wise=true`.\n",
      "[LightGBM] [Info] Total Bins 951\n",
      "[LightGBM] [Info] Number of data points in the train set: 159348, number of used features: 290\n",
      "[LightGBM] [Info] Start training from score 4413.717825\n",
      "[LightGBM] [Warning] Found whitespace in feature_names, replace with underlines\n",
      "[LightGBM] [Info] Auto-choosing row-wise multi-threading, the overhead of testing was 0.006190 seconds.\n",
      "You can set `force_row_wise=true` to remove the overhead.\n",
      "And if memory is not enough, you can set `force_col_wise=true`.\n",
      "[LightGBM] [Info] Total Bins 946\n",
      "[LightGBM] [Info] Number of data points in the train set: 159348, number of used features: 288\n",
      "[LightGBM] [Info] Start training from score 4418.146842\n",
      "[LightGBM] [Warning] Found whitespace in feature_names, replace with underlines\n",
      "[LightGBM] [Info] Auto-choosing row-wise multi-threading, the overhead of testing was 0.004795 seconds.\n",
      "You can set `force_row_wise=true` to remove the overhead.\n",
      "And if memory is not enough, you can set `force_col_wise=true`.\n",
      "[LightGBM] [Info] Total Bins 946\n",
      "[LightGBM] [Info] Number of data points in the train set: 159348, number of used features: 289\n",
      "[LightGBM] [Info] Start training from score 4415.134529\n",
      "[LightGBM] [Warning] Found whitespace in feature_names, replace with underlines\n",
      "[LightGBM] [Info] Auto-choosing row-wise multi-threading, the overhead of testing was 0.005518 seconds.\n",
      "You can set `force_row_wise=true` to remove the overhead.\n",
      "And if memory is not enough, you can set `force_col_wise=true`.\n",
      "[LightGBM] [Info] Total Bins 944\n",
      "[LightGBM] [Info] Number of data points in the train set: 159348, number of used features: 289\n",
      "[LightGBM] [Info] Start training from score 4427.849512\n",
      "[LightGBM] [Warning] Found whitespace in feature_names, replace with underlines\n",
      "[LightGBM] [Info] Auto-choosing row-wise multi-threading, the overhead of testing was 0.005549 seconds.\n",
      "You can set `force_row_wise=true` to remove the overhead.\n",
      "And if memory is not enough, you can set `force_col_wise=true`.\n",
      "[LightGBM] [Info] Total Bins 951\n",
      "[LightGBM] [Info] Number of data points in the train set: 159348, number of used features: 290\n",
      "[LightGBM] [Info] Start training from score 4413.717825\n",
      "[LightGBM] [Warning] Found whitespace in feature_names, replace with underlines\n",
      "[LightGBM] [Info] Auto-choosing row-wise multi-threading, the overhead of testing was 0.004625 seconds.\n",
      "You can set `force_row_wise=true` to remove the overhead.\n",
      "And if memory is not enough, you can set `force_col_wise=true`.\n",
      "[LightGBM] [Info] Total Bins 946\n",
      "[LightGBM] [Info] Number of data points in the train set: 159348, number of used features: 288\n",
      "[LightGBM] [Info] Start training from score 4418.146842\n",
      "[LightGBM] [Warning] Found whitespace in feature_names, replace with underlines\n",
      "[LightGBM] [Info] Auto-choosing row-wise multi-threading, the overhead of testing was 0.005931 seconds.\n",
      "You can set `force_row_wise=true` to remove the overhead.\n",
      "And if memory is not enough, you can set `force_col_wise=true`.\n",
      "[LightGBM] [Info] Total Bins 946\n",
      "[LightGBM] [Info] Number of data points in the train set: 159348, number of used features: 289\n",
      "[LightGBM] [Info] Start training from score 4415.134529\n",
      "[LightGBM] [Warning] Found whitespace in feature_names, replace with underlines\n",
      "[LightGBM] [Info] Auto-choosing row-wise multi-threading, the overhead of testing was 0.005622 seconds.\n",
      "You can set `force_row_wise=true` to remove the overhead.\n",
      "And if memory is not enough, you can set `force_col_wise=true`.\n",
      "[LightGBM] [Info] Total Bins 944\n",
      "[LightGBM] [Info] Number of data points in the train set: 159348, number of used features: 289\n",
      "[LightGBM] [Info] Start training from score 4427.849512\n",
      "[LightGBM] [Warning] Found whitespace in feature_names, replace with underlines\n",
      "[LightGBM] [Info] Auto-choosing row-wise multi-threading, the overhead of testing was 0.004380 seconds.\n",
      "You can set `force_row_wise=true` to remove the overhead.\n",
      "And if memory is not enough, you can set `force_col_wise=true`.\n",
      "[LightGBM] [Info] Total Bins 951\n",
      "[LightGBM] [Info] Number of data points in the train set: 159348, number of used features: 290\n",
      "[LightGBM] [Info] Start training from score 4413.717825\n",
      "[LightGBM] [Warning] Found whitespace in feature_names, replace with underlines\n",
      "[LightGBM] [Info] Auto-choosing row-wise multi-threading, the overhead of testing was 0.004210 seconds.\n",
      "You can set `force_row_wise=true` to remove the overhead.\n",
      "And if memory is not enough, you can set `force_col_wise=true`.\n",
      "[LightGBM] [Info] Total Bins 946\n",
      "[LightGBM] [Info] Number of data points in the train set: 159348, number of used features: 288\n",
      "[LightGBM] [Info] Start training from score 4418.146842\n",
      "[LightGBM] [Warning] Found whitespace in feature_names, replace with underlines\n",
      "[LightGBM] [Info] Auto-choosing row-wise multi-threading, the overhead of testing was 0.005449 seconds.\n",
      "You can set `force_row_wise=true` to remove the overhead.\n",
      "And if memory is not enough, you can set `force_col_wise=true`.\n",
      "[LightGBM] [Info] Total Bins 946\n",
      "[LightGBM] [Info] Number of data points in the train set: 159348, number of used features: 289\n",
      "[LightGBM] [Info] Start training from score 4415.134529\n",
      "[LightGBM] [Warning] No further splits with positive gain, best gain: -inf\n",
      "[LightGBM] [Warning] No further splits with positive gain, best gain: -inf\n",
      "[LightGBM] [Warning] Found whitespace in feature_names, replace with underlines\n",
      "[LightGBM] [Info] Auto-choosing row-wise multi-threading, the overhead of testing was 0.004922 seconds.\n",
      "You can set `force_row_wise=true` to remove the overhead.\n",
      "And if memory is not enough, you can set `force_col_wise=true`.\n",
      "[LightGBM] [Info] Total Bins 944\n",
      "[LightGBM] [Info] Number of data points in the train set: 159348, number of used features: 289\n",
      "[LightGBM] [Info] Start training from score 4427.849512\n",
      "[LightGBM] [Warning] Found whitespace in feature_names, replace with underlines\n",
      "[LightGBM] [Info] Auto-choosing row-wise multi-threading, the overhead of testing was 0.004730 seconds.\n",
      "You can set `force_row_wise=true` to remove the overhead.\n",
      "And if memory is not enough, you can set `force_col_wise=true`.\n",
      "[LightGBM] [Info] Total Bins 951\n",
      "[LightGBM] [Info] Number of data points in the train set: 159348, number of used features: 290\n",
      "[LightGBM] [Info] Start training from score 4413.717825\n",
      "[LightGBM] [Warning] Found whitespace in feature_names, replace with underlines\n",
      "[LightGBM] [Info] Auto-choosing row-wise multi-threading, the overhead of testing was 0.004232 seconds.\n",
      "You can set `force_row_wise=true` to remove the overhead.\n",
      "And if memory is not enough, you can set `force_col_wise=true`.\n",
      "[LightGBM] [Info] Total Bins 946\n",
      "[LightGBM] [Info] Number of data points in the train set: 159348, number of used features: 288\n",
      "[LightGBM] [Info] Start training from score 4418.146842\n",
      "[LightGBM] [Warning] Found whitespace in feature_names, replace with underlines\n",
      "[LightGBM] [Info] Auto-choosing row-wise multi-threading, the overhead of testing was 0.005351 seconds.\n",
      "You can set `force_row_wise=true` to remove the overhead.\n",
      "And if memory is not enough, you can set `force_col_wise=true`.\n",
      "[LightGBM] [Info] Total Bins 946\n",
      "[LightGBM] [Info] Number of data points in the train set: 159348, number of used features: 289\n",
      "[LightGBM] [Info] Start training from score 4415.134529\n",
      "[LightGBM] [Warning] Found whitespace in feature_names, replace with underlines\n",
      "[LightGBM] [Info] Auto-choosing row-wise multi-threading, the overhead of testing was 0.005254 seconds.\n",
      "You can set `force_row_wise=true` to remove the overhead.\n",
      "And if memory is not enough, you can set `force_col_wise=true`.\n",
      "[LightGBM] [Info] Total Bins 944\n",
      "[LightGBM] [Info] Number of data points in the train set: 159348, number of used features: 289\n",
      "[LightGBM] [Info] Start training from score 4427.849512\n",
      "[LightGBM] [Warning] Found whitespace in feature_names, replace with underlines\n",
      "[LightGBM] [Info] Auto-choosing row-wise multi-threading, the overhead of testing was 0.005034 seconds.\n",
      "You can set `force_row_wise=true` to remove the overhead.\n",
      "And if memory is not enough, you can set `force_col_wise=true`.\n",
      "[LightGBM] [Info] Total Bins 951\n",
      "[LightGBM] [Info] Number of data points in the train set: 159348, number of used features: 290\n",
      "[LightGBM] [Info] Start training from score 4413.717825\n",
      "[LightGBM] [Warning] Found whitespace in feature_names, replace with underlines\n",
      "[LightGBM] [Info] Auto-choosing row-wise multi-threading, the overhead of testing was 0.005188 seconds.\n",
      "You can set `force_row_wise=true` to remove the overhead.\n",
      "And if memory is not enough, you can set `force_col_wise=true`.\n",
      "[LightGBM] [Info] Total Bins 946\n",
      "[LightGBM] [Info] Number of data points in the train set: 159348, number of used features: 288\n",
      "[LightGBM] [Info] Start training from score 4418.146842\n",
      "[LightGBM] [Warning] Found whitespace in feature_names, replace with underlines\n",
      "[LightGBM] [Info] Auto-choosing row-wise multi-threading, the overhead of testing was 0.005822 seconds.\n",
      "You can set `force_row_wise=true` to remove the overhead.\n",
      "And if memory is not enough, you can set `force_col_wise=true`.\n",
      "[LightGBM] [Info] Total Bins 946\n",
      "[LightGBM] [Info] Number of data points in the train set: 159348, number of used features: 289\n",
      "[LightGBM] [Info] Start training from score 4415.134529\n",
      "[LightGBM] [Warning] Found whitespace in feature_names, replace with underlines\n",
      "[LightGBM] [Info] Auto-choosing row-wise multi-threading, the overhead of testing was 0.004832 seconds.\n",
      "You can set `force_row_wise=true` to remove the overhead.\n",
      "And if memory is not enough, you can set `force_col_wise=true`.\n",
      "[LightGBM] [Info] Total Bins 944\n",
      "[LightGBM] [Info] Number of data points in the train set: 159348, number of used features: 289\n",
      "[LightGBM] [Info] Start training from score 4427.849512\n",
      "[LightGBM] [Warning] Found whitespace in feature_names, replace with underlines\n",
      "[LightGBM] [Info] Auto-choosing row-wise multi-threading, the overhead of testing was 0.006663 seconds.\n",
      "You can set `force_row_wise=true` to remove the overhead.\n",
      "And if memory is not enough, you can set `force_col_wise=true`.\n",
      "[LightGBM] [Info] Total Bins 951\n",
      "[LightGBM] [Info] Number of data points in the train set: 159348, number of used features: 290\n",
      "[LightGBM] [Info] Start training from score 4413.717825\n",
      "[LightGBM] [Warning] Found whitespace in feature_names, replace with underlines\n",
      "[LightGBM] [Info] Auto-choosing row-wise multi-threading, the overhead of testing was 0.004516 seconds.\n",
      "You can set `force_row_wise=true` to remove the overhead.\n",
      "And if memory is not enough, you can set `force_col_wise=true`.\n",
      "[LightGBM] [Info] Total Bins 946\n",
      "[LightGBM] [Info] Number of data points in the train set: 159348, number of used features: 288\n",
      "[LightGBM] [Info] Start training from score 4418.146842\n",
      "[LightGBM] [Warning] Found whitespace in feature_names, replace with underlines\n",
      "[LightGBM] [Info] Auto-choosing row-wise multi-threading, the overhead of testing was 0.005174 seconds.\n",
      "You can set `force_row_wise=true` to remove the overhead.\n",
      "And if memory is not enough, you can set `force_col_wise=true`.\n",
      "[LightGBM] [Info] Total Bins 946\n",
      "[LightGBM] [Info] Number of data points in the train set: 159348, number of used features: 289\n",
      "[LightGBM] [Info] Start training from score 4415.134529\n",
      "[LightGBM] [Warning] Found whitespace in feature_names, replace with underlines\n",
      "[LightGBM] [Info] Auto-choosing row-wise multi-threading, the overhead of testing was 0.005382 seconds.\n",
      "You can set `force_row_wise=true` to remove the overhead.\n",
      "And if memory is not enough, you can set `force_col_wise=true`.\n",
      "[LightGBM] [Info] Total Bins 944\n",
      "[LightGBM] [Info] Number of data points in the train set: 159348, number of used features: 289\n",
      "[LightGBM] [Info] Start training from score 4427.849512\n",
      "[LightGBM] [Warning] Found whitespace in feature_names, replace with underlines\n",
      "[LightGBM] [Info] Auto-choosing row-wise multi-threading, the overhead of testing was 0.004832 seconds.\n",
      "You can set `force_row_wise=true` to remove the overhead.\n",
      "And if memory is not enough, you can set `force_col_wise=true`.\n",
      "[LightGBM] [Info] Total Bins 951\n",
      "[LightGBM] [Info] Number of data points in the train set: 159348, number of used features: 290\n",
      "[LightGBM] [Info] Start training from score 4413.717825\n",
      "[LightGBM] [Warning] No further splits with positive gain, best gain: -inf\n",
      "[LightGBM] [Warning] No further splits with positive gain, best gain: -inf\n",
      "[LightGBM] [Warning] No further splits with positive gain, best gain: -inf\n",
      "[LightGBM] [Warning] No further splits with positive gain, best gain: -inf\n",
      "[LightGBM] [Warning] No further splits with positive gain, best gain: -inf\n",
      "[LightGBM] [Warning] No further splits with positive gain, best gain: -inf\n",
      "[LightGBM] [Warning] No further splits with positive gain, best gain: -inf\n",
      "[LightGBM] [Warning] No further splits with positive gain, best gain: -inf\n",
      "[LightGBM] [Warning] No further splits with positive gain, best gain: -inf\n",
      "[LightGBM] [Warning] No further splits with positive gain, best gain: -inf\n",
      "[LightGBM] [Warning] Found whitespace in feature_names, replace with underlines\n",
      "[LightGBM] [Info] Auto-choosing row-wise multi-threading, the overhead of testing was 0.004730 seconds.\n",
      "You can set `force_row_wise=true` to remove the overhead.\n",
      "And if memory is not enough, you can set `force_col_wise=true`.\n",
      "[LightGBM] [Info] Total Bins 946\n",
      "[LightGBM] [Info] Number of data points in the train set: 159348, number of used features: 288\n",
      "[LightGBM] [Info] Start training from score 4418.146842\n",
      "[LightGBM] [Warning] No further splits with positive gain, best gain: -inf\n",
      "[LightGBM] [Warning] No further splits with positive gain, best gain: -inf\n",
      "[LightGBM] [Warning] No further splits with positive gain, best gain: -inf\n",
      "[LightGBM] [Warning] No further splits with positive gain, best gain: -inf\n",
      "[LightGBM] [Warning] No further splits with positive gain, best gain: -inf\n",
      "[LightGBM] [Warning] No further splits with positive gain, best gain: -inf\n",
      "[LightGBM] [Warning] No further splits with positive gain, best gain: -inf\n",
      "[LightGBM] [Warning] No further splits with positive gain, best gain: -inf\n",
      "[LightGBM] [Warning] No further splits with positive gain, best gain: -inf\n",
      "[LightGBM] [Warning] No further splits with positive gain, best gain: -inf\n",
      "[LightGBM] [Warning] Found whitespace in feature_names, replace with underlines\n",
      "[LightGBM] [Info] Auto-choosing row-wise multi-threading, the overhead of testing was 0.005373 seconds.\n",
      "You can set `force_row_wise=true` to remove the overhead.\n",
      "And if memory is not enough, you can set `force_col_wise=true`.\n",
      "[LightGBM] [Info] Total Bins 946\n",
      "[LightGBM] [Info] Number of data points in the train set: 159348, number of used features: 289\n",
      "[LightGBM] [Info] Start training from score 4415.134529\n",
      "[LightGBM] [Warning] No further splits with positive gain, best gain: -inf\n",
      "[LightGBM] [Warning] No further splits with positive gain, best gain: -inf\n",
      "[LightGBM] [Warning] No further splits with positive gain, best gain: -inf\n",
      "[LightGBM] [Warning] No further splits with positive gain, best gain: -inf\n",
      "[LightGBM] [Warning] No further splits with positive gain, best gain: -inf\n",
      "[LightGBM] [Warning] No further splits with positive gain, best gain: -inf\n",
      "[LightGBM] [Warning] No further splits with positive gain, best gain: -inf\n",
      "[LightGBM] [Warning] No further splits with positive gain, best gain: -inf\n",
      "[LightGBM] [Warning] No further splits with positive gain, best gain: -inf\n",
      "[LightGBM] [Warning] No further splits with positive gain, best gain: -inf\n",
      "[LightGBM] [Warning] Found whitespace in feature_names, replace with underlines\n",
      "[LightGBM] [Info] Auto-choosing row-wise multi-threading, the overhead of testing was 0.004536 seconds.\n",
      "You can set `force_row_wise=true` to remove the overhead.\n",
      "And if memory is not enough, you can set `force_col_wise=true`.\n",
      "[LightGBM] [Info] Total Bins 944\n",
      "[LightGBM] [Info] Number of data points in the train set: 159348, number of used features: 289\n",
      "[LightGBM] [Info] Start training from score 4427.849512\n",
      "[LightGBM] [Warning] No further splits with positive gain, best gain: -inf\n",
      "[LightGBM] [Warning] No further splits with positive gain, best gain: -inf\n",
      "[LightGBM] [Warning] No further splits with positive gain, best gain: -inf\n",
      "[LightGBM] [Warning] No further splits with positive gain, best gain: -inf\n",
      "[LightGBM] [Warning] No further splits with positive gain, best gain: -inf\n",
      "[LightGBM] [Warning] No further splits with positive gain, best gain: -inf\n",
      "[LightGBM] [Warning] No further splits with positive gain, best gain: -inf\n",
      "[LightGBM] [Warning] No further splits with positive gain, best gain: -inf\n",
      "[LightGBM] [Warning] No further splits with positive gain, best gain: -inf\n",
      "[LightGBM] [Warning] No further splits with positive gain, best gain: -inf\n",
      "[LightGBM] [Warning] Found whitespace in feature_names, replace with underlines\n",
      "[LightGBM] [Info] Auto-choosing row-wise multi-threading, the overhead of testing was 0.005220 seconds.\n",
      "You can set `force_row_wise=true` to remove the overhead.\n",
      "And if memory is not enough, you can set `force_col_wise=true`.\n",
      "[LightGBM] [Info] Total Bins 951\n",
      "[LightGBM] [Info] Number of data points in the train set: 159348, number of used features: 290\n",
      "[LightGBM] [Info] Start training from score 4413.717825\n",
      "[LightGBM] [Warning] No further splits with positive gain, best gain: -inf\n",
      "[LightGBM] [Warning] No further splits with positive gain, best gain: -inf\n",
      "[LightGBM] [Warning] No further splits with positive gain, best gain: -inf\n",
      "[LightGBM] [Warning] No further splits with positive gain, best gain: -inf\n",
      "[LightGBM] [Warning] No further splits with positive gain, best gain: -inf\n",
      "[LightGBM] [Warning] No further splits with positive gain, best gain: -inf\n",
      "[LightGBM] [Warning] No further splits with positive gain, best gain: -inf\n",
      "[LightGBM] [Warning] No further splits with positive gain, best gain: -inf\n",
      "[LightGBM] [Warning] No further splits with positive gain, best gain: -inf\n",
      "[LightGBM] [Warning] No further splits with positive gain, best gain: -inf\n",
      "[LightGBM] [Warning] No further splits with positive gain, best gain: -inf\n",
      "[LightGBM] [Warning] No further splits with positive gain, best gain: -inf\n",
      "[LightGBM] [Warning] No further splits with positive gain, best gain: -inf\n",
      "[LightGBM] [Warning] No further splits with positive gain, best gain: -inf\n",
      "[LightGBM] [Warning] No further splits with positive gain, best gain: -inf\n",
      "[LightGBM] [Warning] No further splits with positive gain, best gain: -inf\n",
      "[LightGBM] [Warning] No further splits with positive gain, best gain: -inf\n",
      "[LightGBM] [Warning] No further splits with positive gain, best gain: -inf\n",
      "[LightGBM] [Warning] No further splits with positive gain, best gain: -inf\n",
      "[LightGBM] [Warning] No further splits with positive gain, best gain: -inf\n",
      "[LightGBM] [Warning] Found whitespace in feature_names, replace with underlines\n",
      "[LightGBM] [Info] Auto-choosing row-wise multi-threading, the overhead of testing was 0.004667 seconds.\n",
      "You can set `force_row_wise=true` to remove the overhead.\n",
      "And if memory is not enough, you can set `force_col_wise=true`.\n",
      "[LightGBM] [Info] Total Bins 946\n",
      "[LightGBM] [Info] Number of data points in the train set: 159348, number of used features: 288\n",
      "[LightGBM] [Info] Start training from score 4418.146842\n",
      "[LightGBM] [Warning] No further splits with positive gain, best gain: -inf\n",
      "[LightGBM] [Warning] No further splits with positive gain, best gain: -inf\n",
      "[LightGBM] [Warning] No further splits with positive gain, best gain: -inf\n",
      "[LightGBM] [Warning] No further splits with positive gain, best gain: -inf\n",
      "[LightGBM] [Warning] No further splits with positive gain, best gain: -inf\n",
      "[LightGBM] [Warning] No further splits with positive gain, best gain: -inf\n",
      "[LightGBM] [Warning] No further splits with positive gain, best gain: -inf\n",
      "[LightGBM] [Warning] No further splits with positive gain, best gain: -inf\n",
      "[LightGBM] [Warning] No further splits with positive gain, best gain: -inf\n",
      "[LightGBM] [Warning] No further splits with positive gain, best gain: -inf\n",
      "[LightGBM] [Warning] No further splits with positive gain, best gain: -inf\n",
      "[LightGBM] [Warning] No further splits with positive gain, best gain: -inf\n",
      "[LightGBM] [Warning] No further splits with positive gain, best gain: -inf\n",
      "[LightGBM] [Warning] No further splits with positive gain, best gain: -inf\n",
      "[LightGBM] [Warning] No further splits with positive gain, best gain: -inf\n",
      "[LightGBM] [Warning] No further splits with positive gain, best gain: -inf\n",
      "[LightGBM] [Warning] No further splits with positive gain, best gain: -inf\n",
      "[LightGBM] [Warning] No further splits with positive gain, best gain: -inf\n",
      "[LightGBM] [Warning] No further splits with positive gain, best gain: -inf\n",
      "[LightGBM] [Warning] No further splits with positive gain, best gain: -inf\n",
      "[LightGBM] [Warning] Found whitespace in feature_names, replace with underlines\n",
      "[LightGBM] [Info] Auto-choosing row-wise multi-threading, the overhead of testing was 0.006058 seconds.\n",
      "You can set `force_row_wise=true` to remove the overhead.\n",
      "And if memory is not enough, you can set `force_col_wise=true`.\n",
      "[LightGBM] [Info] Total Bins 946\n",
      "[LightGBM] [Info] Number of data points in the train set: 159348, number of used features: 289\n",
      "[LightGBM] [Info] Start training from score 4415.134529\n",
      "[LightGBM] [Warning] No further splits with positive gain, best gain: -inf\n",
      "[LightGBM] [Warning] No further splits with positive gain, best gain: -inf\n",
      "[LightGBM] [Warning] No further splits with positive gain, best gain: -inf\n",
      "[LightGBM] [Warning] No further splits with positive gain, best gain: -inf\n",
      "[LightGBM] [Warning] No further splits with positive gain, best gain: -inf\n",
      "[LightGBM] [Warning] No further splits with positive gain, best gain: -inf\n",
      "[LightGBM] [Warning] No further splits with positive gain, best gain: -inf\n",
      "[LightGBM] [Warning] No further splits with positive gain, best gain: -inf\n",
      "[LightGBM] [Warning] No further splits with positive gain, best gain: -inf\n",
      "[LightGBM] [Warning] No further splits with positive gain, best gain: -inf\n",
      "[LightGBM] [Warning] No further splits with positive gain, best gain: -inf\n",
      "[LightGBM] [Warning] No further splits with positive gain, best gain: -inf\n",
      "[LightGBM] [Warning] No further splits with positive gain, best gain: -inf\n",
      "[LightGBM] [Warning] No further splits with positive gain, best gain: -inf\n",
      "[LightGBM] [Warning] No further splits with positive gain, best gain: -inf\n",
      "[LightGBM] [Warning] No further splits with positive gain, best gain: -inf\n",
      "[LightGBM] [Warning] No further splits with positive gain, best gain: -inf\n",
      "[LightGBM] [Warning] No further splits with positive gain, best gain: -inf\n",
      "[LightGBM] [Warning] No further splits with positive gain, best gain: -inf\n",
      "[LightGBM] [Warning] No further splits with positive gain, best gain: -inf\n",
      "[LightGBM] [Warning] Found whitespace in feature_names, replace with underlines\n",
      "[LightGBM] [Info] Auto-choosing row-wise multi-threading, the overhead of testing was 0.009386 seconds.\n",
      "You can set `force_row_wise=true` to remove the overhead.\n",
      "And if memory is not enough, you can set `force_col_wise=true`.\n",
      "[LightGBM] [Info] Total Bins 944\n",
      "[LightGBM] [Info] Number of data points in the train set: 159348, number of used features: 289\n",
      "[LightGBM] [Info] Start training from score 4427.849512\n",
      "[LightGBM] [Warning] No further splits with positive gain, best gain: -inf\n",
      "[LightGBM] [Warning] No further splits with positive gain, best gain: -inf\n",
      "[LightGBM] [Warning] No further splits with positive gain, best gain: -inf\n",
      "[LightGBM] [Warning] No further splits with positive gain, best gain: -inf\n",
      "[LightGBM] [Warning] No further splits with positive gain, best gain: -inf\n",
      "[LightGBM] [Warning] No further splits with positive gain, best gain: -inf\n",
      "[LightGBM] [Warning] No further splits with positive gain, best gain: -inf\n",
      "[LightGBM] [Warning] No further splits with positive gain, best gain: -inf\n",
      "[LightGBM] [Warning] No further splits with positive gain, best gain: -inf\n",
      "[LightGBM] [Warning] No further splits with positive gain, best gain: -inf\n",
      "[LightGBM] [Warning] No further splits with positive gain, best gain: -inf\n",
      "[LightGBM] [Warning] No further splits with positive gain, best gain: -inf\n",
      "[LightGBM] [Warning] No further splits with positive gain, best gain: -inf\n",
      "[LightGBM] [Warning] No further splits with positive gain, best gain: -inf\n",
      "[LightGBM] [Warning] No further splits with positive gain, best gain: -inf\n",
      "[LightGBM] [Warning] No further splits with positive gain, best gain: -inf\n",
      "[LightGBM] [Warning] No further splits with positive gain, best gain: -inf\n",
      "[LightGBM] [Warning] No further splits with positive gain, best gain: -inf\n",
      "[LightGBM] [Warning] No further splits with positive gain, best gain: -inf\n",
      "[LightGBM] [Warning] No further splits with positive gain, best gain: -inf\n",
      "[LightGBM] [Warning] Found whitespace in feature_names, replace with underlines\n",
      "[LightGBM] [Info] Auto-choosing row-wise multi-threading, the overhead of testing was 0.004216 seconds.\n",
      "You can set `force_row_wise=true` to remove the overhead.\n",
      "And if memory is not enough, you can set `force_col_wise=true`.\n",
      "[LightGBM] [Info] Total Bins 951\n",
      "[LightGBM] [Info] Number of data points in the train set: 159348, number of used features: 290\n",
      "[LightGBM] [Info] Start training from score 4413.717825\n",
      "[LightGBM] [Warning] No further splits with positive gain, best gain: -inf\n",
      "[LightGBM] [Warning] No further splits with positive gain, best gain: -inf\n",
      "[LightGBM] [Warning] No further splits with positive gain, best gain: -inf\n",
      "[LightGBM] [Warning] No further splits with positive gain, best gain: -inf\n",
      "[LightGBM] [Warning] No further splits with positive gain, best gain: -inf\n",
      "[LightGBM] [Warning] No further splits with positive gain, best gain: -inf\n",
      "[LightGBM] [Warning] No further splits with positive gain, best gain: -inf\n",
      "[LightGBM] [Warning] No further splits with positive gain, best gain: -inf\n",
      "[LightGBM] [Warning] No further splits with positive gain, best gain: -inf\n",
      "[LightGBM] [Warning] No further splits with positive gain, best gain: -inf\n",
      "[LightGBM] [Warning] No further splits with positive gain, best gain: -inf\n",
      "[LightGBM] [Warning] No further splits with positive gain, best gain: -inf\n",
      "[LightGBM] [Warning] No further splits with positive gain, best gain: -inf\n",
      "[LightGBM] [Warning] No further splits with positive gain, best gain: -inf\n",
      "[LightGBM] [Warning] No further splits with positive gain, best gain: -inf\n",
      "[LightGBM] [Warning] No further splits with positive gain, best gain: -inf\n",
      "[LightGBM] [Warning] No further splits with positive gain, best gain: -inf\n",
      "[LightGBM] [Warning] No further splits with positive gain, best gain: -inf\n",
      "[LightGBM] [Warning] No further splits with positive gain, best gain: -inf\n",
      "[LightGBM] [Warning] No further splits with positive gain, best gain: -inf\n",
      "[LightGBM] [Warning] No further splits with positive gain, best gain: -inf\n",
      "[LightGBM] [Warning] No further splits with positive gain, best gain: -inf\n",
      "[LightGBM] [Warning] No further splits with positive gain, best gain: -inf\n",
      "[LightGBM] [Warning] No further splits with positive gain, best gain: -inf\n",
      "[LightGBM] [Warning] No further splits with positive gain, best gain: -inf\n",
      "[LightGBM] [Warning] No further splits with positive gain, best gain: -inf\n",
      "[LightGBM] [Warning] No further splits with positive gain, best gain: -inf\n",
      "[LightGBM] [Warning] No further splits with positive gain, best gain: -inf\n",
      "[LightGBM] [Warning] No further splits with positive gain, best gain: -inf\n",
      "[LightGBM] [Warning] No further splits with positive gain, best gain: -inf\n",
      "[LightGBM] [Warning] Found whitespace in feature_names, replace with underlines\n",
      "[LightGBM] [Info] Auto-choosing row-wise multi-threading, the overhead of testing was 0.005281 seconds.\n",
      "You can set `force_row_wise=true` to remove the overhead.\n",
      "And if memory is not enough, you can set `force_col_wise=true`.\n",
      "[LightGBM] [Info] Total Bins 946\n",
      "[LightGBM] [Info] Number of data points in the train set: 159348, number of used features: 288\n",
      "[LightGBM] [Info] Start training from score 4418.146842\n",
      "[LightGBM] [Warning] No further splits with positive gain, best gain: -inf\n",
      "[LightGBM] [Warning] No further splits with positive gain, best gain: -inf\n",
      "[LightGBM] [Warning] No further splits with positive gain, best gain: -inf\n",
      "[LightGBM] [Warning] No further splits with positive gain, best gain: -inf\n",
      "[LightGBM] [Warning] No further splits with positive gain, best gain: -inf\n",
      "[LightGBM] [Warning] No further splits with positive gain, best gain: -inf\n",
      "[LightGBM] [Warning] No further splits with positive gain, best gain: -inf\n",
      "[LightGBM] [Warning] No further splits with positive gain, best gain: -inf\n",
      "[LightGBM] [Warning] No further splits with positive gain, best gain: -inf\n",
      "[LightGBM] [Warning] No further splits with positive gain, best gain: -inf\n",
      "[LightGBM] [Warning] No further splits with positive gain, best gain: -inf\n",
      "[LightGBM] [Warning] No further splits with positive gain, best gain: -inf\n",
      "[LightGBM] [Warning] No further splits with positive gain, best gain: -inf\n",
      "[LightGBM] [Warning] No further splits with positive gain, best gain: -inf\n",
      "[LightGBM] [Warning] No further splits with positive gain, best gain: -inf\n",
      "[LightGBM] [Warning] No further splits with positive gain, best gain: -inf\n",
      "[LightGBM] [Warning] No further splits with positive gain, best gain: -inf\n",
      "[LightGBM] [Warning] No further splits with positive gain, best gain: -inf\n",
      "[LightGBM] [Warning] No further splits with positive gain, best gain: -inf\n",
      "[LightGBM] [Warning] No further splits with positive gain, best gain: -inf\n",
      "[LightGBM] [Warning] No further splits with positive gain, best gain: -inf\n",
      "[LightGBM] [Warning] No further splits with positive gain, best gain: -inf\n",
      "[LightGBM] [Warning] No further splits with positive gain, best gain: -inf\n",
      "[LightGBM] [Warning] No further splits with positive gain, best gain: -inf\n",
      "[LightGBM] [Warning] No further splits with positive gain, best gain: -inf\n",
      "[LightGBM] [Warning] No further splits with positive gain, best gain: -inf\n",
      "[LightGBM] [Warning] No further splits with positive gain, best gain: -inf\n",
      "[LightGBM] [Warning] No further splits with positive gain, best gain: -inf\n",
      "[LightGBM] [Warning] No further splits with positive gain, best gain: -inf\n",
      "[LightGBM] [Warning] No further splits with positive gain, best gain: -inf\n",
      "[LightGBM] [Warning] Found whitespace in feature_names, replace with underlines\n",
      "[LightGBM] [Info] Auto-choosing row-wise multi-threading, the overhead of testing was 0.006458 seconds.\n",
      "You can set `force_row_wise=true` to remove the overhead.\n",
      "And if memory is not enough, you can set `force_col_wise=true`.\n",
      "[LightGBM] [Info] Total Bins 946\n",
      "[LightGBM] [Info] Number of data points in the train set: 159348, number of used features: 289\n",
      "[LightGBM] [Info] Start training from score 4415.134529\n",
      "[LightGBM] [Warning] No further splits with positive gain, best gain: -inf\n",
      "[LightGBM] [Warning] No further splits with positive gain, best gain: -inf\n",
      "[LightGBM] [Warning] No further splits with positive gain, best gain: -inf\n",
      "[LightGBM] [Warning] No further splits with positive gain, best gain: -inf\n",
      "[LightGBM] [Warning] No further splits with positive gain, best gain: -inf\n",
      "[LightGBM] [Warning] No further splits with positive gain, best gain: -inf\n",
      "[LightGBM] [Warning] No further splits with positive gain, best gain: -inf\n",
      "[LightGBM] [Warning] No further splits with positive gain, best gain: -inf\n",
      "[LightGBM] [Warning] No further splits with positive gain, best gain: -inf\n",
      "[LightGBM] [Warning] No further splits with positive gain, best gain: -inf\n",
      "[LightGBM] [Warning] No further splits with positive gain, best gain: -inf\n",
      "[LightGBM] [Warning] No further splits with positive gain, best gain: -inf\n",
      "[LightGBM] [Warning] No further splits with positive gain, best gain: -inf\n",
      "[LightGBM] [Warning] No further splits with positive gain, best gain: -inf\n",
      "[LightGBM] [Warning] No further splits with positive gain, best gain: -inf\n",
      "[LightGBM] [Warning] No further splits with positive gain, best gain: -inf\n",
      "[LightGBM] [Warning] No further splits with positive gain, best gain: -inf\n",
      "[LightGBM] [Warning] No further splits with positive gain, best gain: -inf\n",
      "[LightGBM] [Warning] No further splits with positive gain, best gain: -inf\n",
      "[LightGBM] [Warning] No further splits with positive gain, best gain: -inf\n",
      "[LightGBM] [Warning] No further splits with positive gain, best gain: -inf\n",
      "[LightGBM] [Warning] No further splits with positive gain, best gain: -inf\n",
      "[LightGBM] [Warning] No further splits with positive gain, best gain: -inf\n",
      "[LightGBM] [Warning] No further splits with positive gain, best gain: -inf\n",
      "[LightGBM] [Warning] No further splits with positive gain, best gain: -inf\n",
      "[LightGBM] [Warning] No further splits with positive gain, best gain: -inf\n",
      "[LightGBM] [Warning] No further splits with positive gain, best gain: -inf\n",
      "[LightGBM] [Warning] No further splits with positive gain, best gain: -inf\n",
      "[LightGBM] [Warning] No further splits with positive gain, best gain: -inf\n",
      "[LightGBM] [Warning] No further splits with positive gain, best gain: -inf\n",
      "[LightGBM] [Warning] Found whitespace in feature_names, replace with underlines\n",
      "[LightGBM] [Info] Auto-choosing row-wise multi-threading, the overhead of testing was 0.008352 seconds.\n",
      "You can set `force_row_wise=true` to remove the overhead.\n",
      "And if memory is not enough, you can set `force_col_wise=true`.\n",
      "[LightGBM] [Info] Total Bins 944\n",
      "[LightGBM] [Info] Number of data points in the train set: 159348, number of used features: 289\n",
      "[LightGBM] [Info] Start training from score 4427.849512\n",
      "[LightGBM] [Warning] No further splits with positive gain, best gain: -inf\n",
      "[LightGBM] [Warning] No further splits with positive gain, best gain: -inf\n",
      "[LightGBM] [Warning] No further splits with positive gain, best gain: -inf\n",
      "[LightGBM] [Warning] No further splits with positive gain, best gain: -inf\n",
      "[LightGBM] [Warning] No further splits with positive gain, best gain: -inf\n",
      "[LightGBM] [Warning] No further splits with positive gain, best gain: -inf\n",
      "[LightGBM] [Warning] No further splits with positive gain, best gain: -inf\n",
      "[LightGBM] [Warning] No further splits with positive gain, best gain: -inf\n",
      "[LightGBM] [Warning] No further splits with positive gain, best gain: -inf\n",
      "[LightGBM] [Warning] No further splits with positive gain, best gain: -inf\n",
      "[LightGBM] [Warning] No further splits with positive gain, best gain: -inf\n",
      "[LightGBM] [Warning] No further splits with positive gain, best gain: -inf\n",
      "[LightGBM] [Warning] No further splits with positive gain, best gain: -inf\n",
      "[LightGBM] [Warning] No further splits with positive gain, best gain: -inf\n",
      "[LightGBM] [Warning] No further splits with positive gain, best gain: -inf\n",
      "[LightGBM] [Warning] No further splits with positive gain, best gain: -inf\n",
      "[LightGBM] [Warning] No further splits with positive gain, best gain: -inf\n",
      "[LightGBM] [Warning] No further splits with positive gain, best gain: -inf\n",
      "[LightGBM] [Warning] No further splits with positive gain, best gain: -inf\n",
      "[LightGBM] [Warning] No further splits with positive gain, best gain: -inf\n",
      "[LightGBM] [Warning] No further splits with positive gain, best gain: -inf\n",
      "[LightGBM] [Warning] No further splits with positive gain, best gain: -inf\n",
      "[LightGBM] [Warning] No further splits with positive gain, best gain: -inf\n",
      "[LightGBM] [Warning] No further splits with positive gain, best gain: -inf\n",
      "[LightGBM] [Warning] No further splits with positive gain, best gain: -inf\n",
      "[LightGBM] [Warning] No further splits with positive gain, best gain: -inf\n",
      "[LightGBM] [Warning] No further splits with positive gain, best gain: -inf\n",
      "[LightGBM] [Warning] No further splits with positive gain, best gain: -inf\n",
      "[LightGBM] [Warning] No further splits with positive gain, best gain: -inf\n",
      "[LightGBM] [Warning] No further splits with positive gain, best gain: -inf\n",
      "[LightGBM] [Warning] Found whitespace in feature_names, replace with underlines\n",
      "[LightGBM] [Info] Auto-choosing row-wise multi-threading, the overhead of testing was 0.006562 seconds.\n",
      "You can set `force_row_wise=true` to remove the overhead.\n",
      "And if memory is not enough, you can set `force_col_wise=true`.\n",
      "[LightGBM] [Info] Total Bins 951\n",
      "[LightGBM] [Info] Number of data points in the train set: 159348, number of used features: 290\n",
      "[LightGBM] [Info] Start training from score 4413.717825\n",
      "[LightGBM] [Warning] No further splits with positive gain, best gain: -inf\n",
      "[LightGBM] [Warning] No further splits with positive gain, best gain: -inf\n",
      "[LightGBM] [Warning] No further splits with positive gain, best gain: -inf\n",
      "[LightGBM] [Warning] No further splits with positive gain, best gain: -inf\n",
      "[LightGBM] [Warning] No further splits with positive gain, best gain: -inf\n",
      "[LightGBM] [Warning] No further splits with positive gain, best gain: -inf\n",
      "[LightGBM] [Warning] No further splits with positive gain, best gain: -inf\n",
      "[LightGBM] [Warning] No further splits with positive gain, best gain: -inf\n",
      "[LightGBM] [Warning] No further splits with positive gain, best gain: -inf\n",
      "[LightGBM] [Warning] No further splits with positive gain, best gain: -inf\n",
      "[LightGBM] [Warning] Found whitespace in feature_names, replace with underlines\n",
      "[LightGBM] [Info] Auto-choosing row-wise multi-threading, the overhead of testing was 0.009499 seconds.\n",
      "You can set `force_row_wise=true` to remove the overhead.\n",
      "And if memory is not enough, you can set `force_col_wise=true`.\n",
      "[LightGBM] [Info] Total Bins 946\n",
      "[LightGBM] [Info] Number of data points in the train set: 159348, number of used features: 288\n",
      "[LightGBM] [Info] Start training from score 4418.146842\n",
      "[LightGBM] [Warning] No further splits with positive gain, best gain: -inf\n",
      "[LightGBM] [Warning] No further splits with positive gain, best gain: -inf\n",
      "[LightGBM] [Warning] No further splits with positive gain, best gain: -inf\n",
      "[LightGBM] [Warning] No further splits with positive gain, best gain: -inf\n",
      "[LightGBM] [Warning] No further splits with positive gain, best gain: -inf\n",
      "[LightGBM] [Warning] No further splits with positive gain, best gain: -inf\n",
      "[LightGBM] [Warning] No further splits with positive gain, best gain: -inf\n",
      "[LightGBM] [Warning] No further splits with positive gain, best gain: -inf\n",
      "[LightGBM] [Warning] No further splits with positive gain, best gain: -inf\n",
      "[LightGBM] [Warning] No further splits with positive gain, best gain: -inf\n",
      "[LightGBM] [Warning] Found whitespace in feature_names, replace with underlines\n",
      "[LightGBM] [Info] Auto-choosing row-wise multi-threading, the overhead of testing was 0.008020 seconds.\n",
      "You can set `force_row_wise=true` to remove the overhead.\n",
      "And if memory is not enough, you can set `force_col_wise=true`.\n",
      "[LightGBM] [Info] Total Bins 946\n",
      "[LightGBM] [Info] Number of data points in the train set: 159348, number of used features: 289\n",
      "[LightGBM] [Info] Start training from score 4415.134529\n",
      "[LightGBM] [Warning] No further splits with positive gain, best gain: -inf\n",
      "[LightGBM] [Warning] No further splits with positive gain, best gain: -inf\n",
      "[LightGBM] [Warning] No further splits with positive gain, best gain: -inf\n",
      "[LightGBM] [Warning] No further splits with positive gain, best gain: -inf\n",
      "[LightGBM] [Warning] No further splits with positive gain, best gain: -inf\n",
      "[LightGBM] [Warning] No further splits with positive gain, best gain: -inf\n",
      "[LightGBM] [Warning] No further splits with positive gain, best gain: -inf\n",
      "[LightGBM] [Warning] No further splits with positive gain, best gain: -inf\n",
      "[LightGBM] [Warning] No further splits with positive gain, best gain: -inf\n",
      "[LightGBM] [Warning] No further splits with positive gain, best gain: -inf\n",
      "[LightGBM] [Warning] Found whitespace in feature_names, replace with underlines\n",
      "[LightGBM] [Info] Auto-choosing row-wise multi-threading, the overhead of testing was 0.007076 seconds.\n",
      "You can set `force_row_wise=true` to remove the overhead.\n",
      "And if memory is not enough, you can set `force_col_wise=true`.\n",
      "[LightGBM] [Info] Total Bins 944\n",
      "[LightGBM] [Info] Number of data points in the train set: 159348, number of used features: 289\n",
      "[LightGBM] [Info] Start training from score 4427.849512\n",
      "[LightGBM] [Warning] No further splits with positive gain, best gain: -inf\n",
      "[LightGBM] [Warning] No further splits with positive gain, best gain: -inf\n",
      "[LightGBM] [Warning] No further splits with positive gain, best gain: -inf\n",
      "[LightGBM] [Warning] No further splits with positive gain, best gain: -inf\n",
      "[LightGBM] [Warning] No further splits with positive gain, best gain: -inf\n",
      "[LightGBM] [Warning] No further splits with positive gain, best gain: -inf\n",
      "[LightGBM] [Warning] No further splits with positive gain, best gain: -inf\n",
      "[LightGBM] [Warning] No further splits with positive gain, best gain: -inf\n",
      "[LightGBM] [Warning] No further splits with positive gain, best gain: -inf\n",
      "[LightGBM] [Warning] No further splits with positive gain, best gain: -inf\n",
      "[LightGBM] [Warning] Found whitespace in feature_names, replace with underlines\n",
      "[LightGBM] [Info] Auto-choosing row-wise multi-threading, the overhead of testing was 0.005202 seconds.\n",
      "You can set `force_row_wise=true` to remove the overhead.\n",
      "And if memory is not enough, you can set `force_col_wise=true`.\n",
      "[LightGBM] [Info] Total Bins 951\n",
      "[LightGBM] [Info] Number of data points in the train set: 159348, number of used features: 290\n",
      "[LightGBM] [Info] Start training from score 4413.717825\n",
      "[LightGBM] [Warning] No further splits with positive gain, best gain: -inf\n",
      "[LightGBM] [Warning] No further splits with positive gain, best gain: -inf\n",
      "[LightGBM] [Warning] No further splits with positive gain, best gain: -inf\n",
      "[LightGBM] [Warning] No further splits with positive gain, best gain: -inf\n",
      "[LightGBM] [Warning] No further splits with positive gain, best gain: -inf\n",
      "[LightGBM] [Warning] No further splits with positive gain, best gain: -inf\n",
      "[LightGBM] [Warning] No further splits with positive gain, best gain: -inf\n",
      "[LightGBM] [Warning] No further splits with positive gain, best gain: -inf\n",
      "[LightGBM] [Warning] No further splits with positive gain, best gain: -inf\n",
      "[LightGBM] [Warning] No further splits with positive gain, best gain: -inf\n",
      "[LightGBM] [Warning] No further splits with positive gain, best gain: -inf\n",
      "[LightGBM] [Warning] No further splits with positive gain, best gain: -inf\n",
      "[LightGBM] [Warning] No further splits with positive gain, best gain: -inf\n",
      "[LightGBM] [Warning] No further splits with positive gain, best gain: -inf\n",
      "[LightGBM] [Warning] No further splits with positive gain, best gain: -inf\n",
      "[LightGBM] [Warning] No further splits with positive gain, best gain: -inf\n",
      "[LightGBM] [Warning] No further splits with positive gain, best gain: -inf\n",
      "[LightGBM] [Warning] No further splits with positive gain, best gain: -inf\n",
      "[LightGBM] [Warning] No further splits with positive gain, best gain: -inf\n",
      "[LightGBM] [Warning] No further splits with positive gain, best gain: -inf\n",
      "[LightGBM] [Warning] Found whitespace in feature_names, replace with underlines\n",
      "[LightGBM] [Info] Auto-choosing row-wise multi-threading, the overhead of testing was 0.006401 seconds.\n",
      "You can set `force_row_wise=true` to remove the overhead.\n",
      "And if memory is not enough, you can set `force_col_wise=true`.\n",
      "[LightGBM] [Info] Total Bins 946\n",
      "[LightGBM] [Info] Number of data points in the train set: 159348, number of used features: 288\n",
      "[LightGBM] [Info] Start training from score 4418.146842\n",
      "[LightGBM] [Warning] No further splits with positive gain, best gain: -inf\n",
      "[LightGBM] [Warning] No further splits with positive gain, best gain: -inf\n",
      "[LightGBM] [Warning] No further splits with positive gain, best gain: -inf\n",
      "[LightGBM] [Warning] No further splits with positive gain, best gain: -inf\n",
      "[LightGBM] [Warning] No further splits with positive gain, best gain: -inf\n",
      "[LightGBM] [Warning] No further splits with positive gain, best gain: -inf\n",
      "[LightGBM] [Warning] No further splits with positive gain, best gain: -inf\n",
      "[LightGBM] [Warning] No further splits with positive gain, best gain: -inf\n",
      "[LightGBM] [Warning] No further splits with positive gain, best gain: -inf\n",
      "[LightGBM] [Warning] No further splits with positive gain, best gain: -inf\n",
      "[LightGBM] [Warning] No further splits with positive gain, best gain: -inf\n",
      "[LightGBM] [Warning] No further splits with positive gain, best gain: -inf\n",
      "[LightGBM] [Warning] No further splits with positive gain, best gain: -inf\n",
      "[LightGBM] [Warning] No further splits with positive gain, best gain: -inf\n",
      "[LightGBM] [Warning] No further splits with positive gain, best gain: -inf\n",
      "[LightGBM] [Warning] No further splits with positive gain, best gain: -inf\n",
      "[LightGBM] [Warning] No further splits with positive gain, best gain: -inf\n",
      "[LightGBM] [Warning] No further splits with positive gain, best gain: -inf\n",
      "[LightGBM] [Warning] No further splits with positive gain, best gain: -inf\n",
      "[LightGBM] [Warning] No further splits with positive gain, best gain: -inf\n",
      "[LightGBM] [Warning] Found whitespace in feature_names, replace with underlines\n",
      "[LightGBM] [Info] Auto-choosing row-wise multi-threading, the overhead of testing was 0.005905 seconds.\n",
      "You can set `force_row_wise=true` to remove the overhead.\n",
      "And if memory is not enough, you can set `force_col_wise=true`.\n",
      "[LightGBM] [Info] Total Bins 946\n",
      "[LightGBM] [Info] Number of data points in the train set: 159348, number of used features: 289\n",
      "[LightGBM] [Info] Start training from score 4415.134529\n",
      "[LightGBM] [Warning] No further splits with positive gain, best gain: -inf\n",
      "[LightGBM] [Warning] No further splits with positive gain, best gain: -inf\n",
      "[LightGBM] [Warning] No further splits with positive gain, best gain: -inf\n",
      "[LightGBM] [Warning] No further splits with positive gain, best gain: -inf\n",
      "[LightGBM] [Warning] No further splits with positive gain, best gain: -inf\n",
      "[LightGBM] [Warning] No further splits with positive gain, best gain: -inf\n",
      "[LightGBM] [Warning] No further splits with positive gain, best gain: -inf\n",
      "[LightGBM] [Warning] No further splits with positive gain, best gain: -inf\n",
      "[LightGBM] [Warning] No further splits with positive gain, best gain: -inf\n",
      "[LightGBM] [Warning] No further splits with positive gain, best gain: -inf\n",
      "[LightGBM] [Warning] No further splits with positive gain, best gain: -inf\n",
      "[LightGBM] [Warning] No further splits with positive gain, best gain: -inf\n",
      "[LightGBM] [Warning] No further splits with positive gain, best gain: -inf\n",
      "[LightGBM] [Warning] No further splits with positive gain, best gain: -inf\n",
      "[LightGBM] [Warning] No further splits with positive gain, best gain: -inf\n",
      "[LightGBM] [Warning] No further splits with positive gain, best gain: -inf\n",
      "[LightGBM] [Warning] No further splits with positive gain, best gain: -inf\n",
      "[LightGBM] [Warning] No further splits with positive gain, best gain: -inf\n",
      "[LightGBM] [Warning] No further splits with positive gain, best gain: -inf\n",
      "[LightGBM] [Warning] No further splits with positive gain, best gain: -inf\n",
      "[LightGBM] [Warning] Found whitespace in feature_names, replace with underlines\n",
      "[LightGBM] [Info] Auto-choosing row-wise multi-threading, the overhead of testing was 0.004624 seconds.\n",
      "You can set `force_row_wise=true` to remove the overhead.\n",
      "And if memory is not enough, you can set `force_col_wise=true`.\n",
      "[LightGBM] [Info] Total Bins 944\n",
      "[LightGBM] [Info] Number of data points in the train set: 159348, number of used features: 289\n",
      "[LightGBM] [Info] Start training from score 4427.849512\n",
      "[LightGBM] [Warning] No further splits with positive gain, best gain: -inf\n",
      "[LightGBM] [Warning] No further splits with positive gain, best gain: -inf\n",
      "[LightGBM] [Warning] No further splits with positive gain, best gain: -inf\n",
      "[LightGBM] [Warning] No further splits with positive gain, best gain: -inf\n",
      "[LightGBM] [Warning] No further splits with positive gain, best gain: -inf\n",
      "[LightGBM] [Warning] No further splits with positive gain, best gain: -inf\n",
      "[LightGBM] [Warning] No further splits with positive gain, best gain: -inf\n",
      "[LightGBM] [Warning] No further splits with positive gain, best gain: -inf\n",
      "[LightGBM] [Warning] No further splits with positive gain, best gain: -inf\n",
      "[LightGBM] [Warning] No further splits with positive gain, best gain: -inf\n",
      "[LightGBM] [Warning] No further splits with positive gain, best gain: -inf\n",
      "[LightGBM] [Warning] No further splits with positive gain, best gain: -inf\n",
      "[LightGBM] [Warning] No further splits with positive gain, best gain: -inf\n",
      "[LightGBM] [Warning] No further splits with positive gain, best gain: -inf\n",
      "[LightGBM] [Warning] No further splits with positive gain, best gain: -inf\n",
      "[LightGBM] [Warning] No further splits with positive gain, best gain: -inf\n",
      "[LightGBM] [Warning] No further splits with positive gain, best gain: -inf\n",
      "[LightGBM] [Warning] No further splits with positive gain, best gain: -inf\n",
      "[LightGBM] [Warning] No further splits with positive gain, best gain: -inf\n",
      "[LightGBM] [Warning] No further splits with positive gain, best gain: -inf\n",
      "[LightGBM] [Warning] Found whitespace in feature_names, replace with underlines\n",
      "[LightGBM] [Info] Auto-choosing row-wise multi-threading, the overhead of testing was 0.004895 seconds.\n",
      "You can set `force_row_wise=true` to remove the overhead.\n",
      "And if memory is not enough, you can set `force_col_wise=true`.\n",
      "[LightGBM] [Info] Total Bins 951\n",
      "[LightGBM] [Info] Number of data points in the train set: 159348, number of used features: 290\n",
      "[LightGBM] [Info] Start training from score 4413.717825\n",
      "[LightGBM] [Warning] No further splits with positive gain, best gain: -inf\n",
      "[LightGBM] [Warning] No further splits with positive gain, best gain: -inf\n",
      "[LightGBM] [Warning] No further splits with positive gain, best gain: -inf\n",
      "[LightGBM] [Warning] No further splits with positive gain, best gain: -inf\n",
      "[LightGBM] [Warning] No further splits with positive gain, best gain: -inf\n",
      "[LightGBM] [Warning] No further splits with positive gain, best gain: -inf\n",
      "[LightGBM] [Warning] No further splits with positive gain, best gain: -inf\n",
      "[LightGBM] [Warning] No further splits with positive gain, best gain: -inf\n",
      "[LightGBM] [Warning] No further splits with positive gain, best gain: -inf\n",
      "[LightGBM] [Warning] No further splits with positive gain, best gain: -inf\n",
      "[LightGBM] [Warning] No further splits with positive gain, best gain: -inf\n",
      "[LightGBM] [Warning] No further splits with positive gain, best gain: -inf\n",
      "[LightGBM] [Warning] No further splits with positive gain, best gain: -inf\n",
      "[LightGBM] [Warning] No further splits with positive gain, best gain: -inf\n",
      "[LightGBM] [Warning] No further splits with positive gain, best gain: -inf\n",
      "[LightGBM] [Warning] No further splits with positive gain, best gain: -inf\n",
      "[LightGBM] [Warning] No further splits with positive gain, best gain: -inf\n",
      "[LightGBM] [Warning] No further splits with positive gain, best gain: -inf\n",
      "[LightGBM] [Warning] No further splits with positive gain, best gain: -inf\n",
      "[LightGBM] [Warning] No further splits with positive gain, best gain: -inf\n",
      "[LightGBM] [Warning] No further splits with positive gain, best gain: -inf\n",
      "[LightGBM] [Warning] No further splits with positive gain, best gain: -inf\n",
      "[LightGBM] [Warning] No further splits with positive gain, best gain: -inf\n",
      "[LightGBM] [Warning] No further splits with positive gain, best gain: -inf\n",
      "[LightGBM] [Warning] No further splits with positive gain, best gain: -inf\n",
      "[LightGBM] [Warning] No further splits with positive gain, best gain: -inf\n",
      "[LightGBM] [Warning] No further splits with positive gain, best gain: -inf\n",
      "[LightGBM] [Warning] No further splits with positive gain, best gain: -inf\n",
      "[LightGBM] [Warning] No further splits with positive gain, best gain: -inf\n",
      "[LightGBM] [Warning] No further splits with positive gain, best gain: -inf\n",
      "[LightGBM] [Warning] Found whitespace in feature_names, replace with underlines\n",
      "[LightGBM] [Info] Auto-choosing row-wise multi-threading, the overhead of testing was 0.004603 seconds.\n",
      "You can set `force_row_wise=true` to remove the overhead.\n",
      "And if memory is not enough, you can set `force_col_wise=true`.\n",
      "[LightGBM] [Info] Total Bins 946\n",
      "[LightGBM] [Info] Number of data points in the train set: 159348, number of used features: 288\n",
      "[LightGBM] [Info] Start training from score 4418.146842\n",
      "[LightGBM] [Warning] No further splits with positive gain, best gain: -inf\n",
      "[LightGBM] [Warning] No further splits with positive gain, best gain: -inf\n",
      "[LightGBM] [Warning] No further splits with positive gain, best gain: -inf\n",
      "[LightGBM] [Warning] No further splits with positive gain, best gain: -inf\n",
      "[LightGBM] [Warning] No further splits with positive gain, best gain: -inf\n",
      "[LightGBM] [Warning] No further splits with positive gain, best gain: -inf\n",
      "[LightGBM] [Warning] No further splits with positive gain, best gain: -inf\n",
      "[LightGBM] [Warning] No further splits with positive gain, best gain: -inf\n",
      "[LightGBM] [Warning] No further splits with positive gain, best gain: -inf\n",
      "[LightGBM] [Warning] No further splits with positive gain, best gain: -inf\n",
      "[LightGBM] [Warning] No further splits with positive gain, best gain: -inf\n",
      "[LightGBM] [Warning] No further splits with positive gain, best gain: -inf\n",
      "[LightGBM] [Warning] No further splits with positive gain, best gain: -inf\n",
      "[LightGBM] [Warning] No further splits with positive gain, best gain: -inf\n",
      "[LightGBM] [Warning] No further splits with positive gain, best gain: -inf\n",
      "[LightGBM] [Warning] No further splits with positive gain, best gain: -inf\n",
      "[LightGBM] [Warning] No further splits with positive gain, best gain: -inf\n",
      "[LightGBM] [Warning] No further splits with positive gain, best gain: -inf\n",
      "[LightGBM] [Warning] No further splits with positive gain, best gain: -inf\n",
      "[LightGBM] [Warning] No further splits with positive gain, best gain: -inf\n",
      "[LightGBM] [Warning] No further splits with positive gain, best gain: -inf\n",
      "[LightGBM] [Warning] No further splits with positive gain, best gain: -inf\n",
      "[LightGBM] [Warning] No further splits with positive gain, best gain: -inf\n",
      "[LightGBM] [Warning] No further splits with positive gain, best gain: -inf\n",
      "[LightGBM] [Warning] No further splits with positive gain, best gain: -inf\n",
      "[LightGBM] [Warning] No further splits with positive gain, best gain: -inf\n",
      "[LightGBM] [Warning] No further splits with positive gain, best gain: -inf\n",
      "[LightGBM] [Warning] No further splits with positive gain, best gain: -inf\n",
      "[LightGBM] [Warning] No further splits with positive gain, best gain: -inf\n",
      "[LightGBM] [Warning] No further splits with positive gain, best gain: -inf\n",
      "[LightGBM] [Warning] Found whitespace in feature_names, replace with underlines\n",
      "[LightGBM] [Info] Auto-choosing row-wise multi-threading, the overhead of testing was 0.004302 seconds.\n",
      "You can set `force_row_wise=true` to remove the overhead.\n",
      "And if memory is not enough, you can set `force_col_wise=true`.\n",
      "[LightGBM] [Info] Total Bins 946\n",
      "[LightGBM] [Info] Number of data points in the train set: 159348, number of used features: 289\n",
      "[LightGBM] [Info] Start training from score 4415.134529\n",
      "[LightGBM] [Warning] No further splits with positive gain, best gain: -inf\n",
      "[LightGBM] [Warning] No further splits with positive gain, best gain: -inf\n",
      "[LightGBM] [Warning] No further splits with positive gain, best gain: -inf\n",
      "[LightGBM] [Warning] No further splits with positive gain, best gain: -inf\n",
      "[LightGBM] [Warning] No further splits with positive gain, best gain: -inf\n",
      "[LightGBM] [Warning] No further splits with positive gain, best gain: -inf\n",
      "[LightGBM] [Warning] No further splits with positive gain, best gain: -inf\n",
      "[LightGBM] [Warning] No further splits with positive gain, best gain: -inf\n",
      "[LightGBM] [Warning] No further splits with positive gain, best gain: -inf\n",
      "[LightGBM] [Warning] No further splits with positive gain, best gain: -inf\n",
      "[LightGBM] [Warning] No further splits with positive gain, best gain: -inf\n",
      "[LightGBM] [Warning] No further splits with positive gain, best gain: -inf\n",
      "[LightGBM] [Warning] No further splits with positive gain, best gain: -inf\n",
      "[LightGBM] [Warning] No further splits with positive gain, best gain: -inf\n",
      "[LightGBM] [Warning] No further splits with positive gain, best gain: -inf\n",
      "[LightGBM] [Warning] No further splits with positive gain, best gain: -inf\n",
      "[LightGBM] [Warning] No further splits with positive gain, best gain: -inf\n",
      "[LightGBM] [Warning] No further splits with positive gain, best gain: -inf\n",
      "[LightGBM] [Warning] No further splits with positive gain, best gain: -inf\n",
      "[LightGBM] [Warning] No further splits with positive gain, best gain: -inf\n",
      "[LightGBM] [Warning] No further splits with positive gain, best gain: -inf\n",
      "[LightGBM] [Warning] No further splits with positive gain, best gain: -inf\n",
      "[LightGBM] [Warning] No further splits with positive gain, best gain: -inf\n",
      "[LightGBM] [Warning] No further splits with positive gain, best gain: -inf\n",
      "[LightGBM] [Warning] No further splits with positive gain, best gain: -inf\n",
      "[LightGBM] [Warning] No further splits with positive gain, best gain: -inf\n",
      "[LightGBM] [Warning] No further splits with positive gain, best gain: -inf\n",
      "[LightGBM] [Warning] No further splits with positive gain, best gain: -inf\n",
      "[LightGBM] [Warning] No further splits with positive gain, best gain: -inf\n",
      "[LightGBM] [Warning] No further splits with positive gain, best gain: -inf\n",
      "[LightGBM] [Warning] Found whitespace in feature_names, replace with underlines\n",
      "[LightGBM] [Info] Auto-choosing row-wise multi-threading, the overhead of testing was 0.006525 seconds.\n",
      "You can set `force_row_wise=true` to remove the overhead.\n",
      "And if memory is not enough, you can set `force_col_wise=true`.\n",
      "[LightGBM] [Info] Total Bins 944\n",
      "[LightGBM] [Info] Number of data points in the train set: 159348, number of used features: 289\n",
      "[LightGBM] [Info] Start training from score 4427.849512\n",
      "[LightGBM] [Warning] No further splits with positive gain, best gain: -inf\n",
      "[LightGBM] [Warning] No further splits with positive gain, best gain: -inf\n",
      "[LightGBM] [Warning] No further splits with positive gain, best gain: -inf\n",
      "[LightGBM] [Warning] No further splits with positive gain, best gain: -inf\n",
      "[LightGBM] [Warning] No further splits with positive gain, best gain: -inf\n",
      "[LightGBM] [Warning] No further splits with positive gain, best gain: -inf\n",
      "[LightGBM] [Warning] No further splits with positive gain, best gain: -inf\n",
      "[LightGBM] [Warning] No further splits with positive gain, best gain: -inf\n",
      "[LightGBM] [Warning] No further splits with positive gain, best gain: -inf\n",
      "[LightGBM] [Warning] No further splits with positive gain, best gain: -inf\n",
      "[LightGBM] [Warning] No further splits with positive gain, best gain: -inf\n",
      "[LightGBM] [Warning] No further splits with positive gain, best gain: -inf\n",
      "[LightGBM] [Warning] No further splits with positive gain, best gain: -inf\n",
      "[LightGBM] [Warning] No further splits with positive gain, best gain: -inf\n",
      "[LightGBM] [Warning] No further splits with positive gain, best gain: -inf\n",
      "[LightGBM] [Warning] No further splits with positive gain, best gain: -inf\n",
      "[LightGBM] [Warning] No further splits with positive gain, best gain: -inf\n",
      "[LightGBM] [Warning] No further splits with positive gain, best gain: -inf\n",
      "[LightGBM] [Warning] No further splits with positive gain, best gain: -inf\n",
      "[LightGBM] [Warning] No further splits with positive gain, best gain: -inf\n",
      "[LightGBM] [Warning] No further splits with positive gain, best gain: -inf\n",
      "[LightGBM] [Warning] No further splits with positive gain, best gain: -inf\n",
      "[LightGBM] [Warning] No further splits with positive gain, best gain: -inf\n",
      "[LightGBM] [Warning] No further splits with positive gain, best gain: -inf\n",
      "[LightGBM] [Warning] No further splits with positive gain, best gain: -inf\n",
      "[LightGBM] [Warning] No further splits with positive gain, best gain: -inf\n",
      "[LightGBM] [Warning] No further splits with positive gain, best gain: -inf\n",
      "[LightGBM] [Warning] No further splits with positive gain, best gain: -inf\n",
      "[LightGBM] [Warning] No further splits with positive gain, best gain: -inf\n",
      "[LightGBM] [Warning] No further splits with positive gain, best gain: -inf\n",
      "[LightGBM] [Warning] Found whitespace in feature_names, replace with underlines\n",
      "[LightGBM] [Info] Auto-choosing row-wise multi-threading, the overhead of testing was 0.005349 seconds.\n",
      "You can set `force_row_wise=true` to remove the overhead.\n",
      "And if memory is not enough, you can set `force_col_wise=true`.\n",
      "[LightGBM] [Info] Total Bins 951\n",
      "[LightGBM] [Info] Number of data points in the train set: 159348, number of used features: 290\n",
      "[LightGBM] [Info] Start training from score 4413.717825\n",
      "[LightGBM] [Warning] Found whitespace in feature_names, replace with underlines\n",
      "[LightGBM] [Info] Auto-choosing row-wise multi-threading, the overhead of testing was 0.005377 seconds.\n",
      "You can set `force_row_wise=true` to remove the overhead.\n",
      "And if memory is not enough, you can set `force_col_wise=true`.\n",
      "[LightGBM] [Info] Total Bins 946\n",
      "[LightGBM] [Info] Number of data points in the train set: 159348, number of used features: 288\n",
      "[LightGBM] [Info] Start training from score 4418.146842\n",
      "[LightGBM] [Warning] Found whitespace in feature_names, replace with underlines\n",
      "[LightGBM] [Info] Auto-choosing row-wise multi-threading, the overhead of testing was 0.006204 seconds.\n",
      "You can set `force_row_wise=true` to remove the overhead.\n",
      "And if memory is not enough, you can set `force_col_wise=true`.\n",
      "[LightGBM] [Info] Total Bins 946\n",
      "[LightGBM] [Info] Number of data points in the train set: 159348, number of used features: 289\n",
      "[LightGBM] [Info] Start training from score 4415.134529\n",
      "[LightGBM] [Warning] Found whitespace in feature_names, replace with underlines\n",
      "[LightGBM] [Info] Auto-choosing row-wise multi-threading, the overhead of testing was 0.006264 seconds.\n",
      "You can set `force_row_wise=true` to remove the overhead.\n",
      "And if memory is not enough, you can set `force_col_wise=true`.\n",
      "[LightGBM] [Info] Total Bins 944\n",
      "[LightGBM] [Info] Number of data points in the train set: 159348, number of used features: 289\n",
      "[LightGBM] [Info] Start training from score 4427.849512\n",
      "[LightGBM] [Warning] Found whitespace in feature_names, replace with underlines\n",
      "[LightGBM] [Info] Auto-choosing row-wise multi-threading, the overhead of testing was 0.004652 seconds.\n",
      "You can set `force_row_wise=true` to remove the overhead.\n",
      "And if memory is not enough, you can set `force_col_wise=true`.\n",
      "[LightGBM] [Info] Total Bins 951\n",
      "[LightGBM] [Info] Number of data points in the train set: 159348, number of used features: 290\n",
      "[LightGBM] [Info] Start training from score 4413.717825\n",
      "[LightGBM] [Warning] Found whitespace in feature_names, replace with underlines\n",
      "[LightGBM] [Info] Auto-choosing row-wise multi-threading, the overhead of testing was 0.004283 seconds.\n",
      "You can set `force_row_wise=true` to remove the overhead.\n",
      "And if memory is not enough, you can set `force_col_wise=true`.\n",
      "[LightGBM] [Info] Total Bins 946\n",
      "[LightGBM] [Info] Number of data points in the train set: 159348, number of used features: 288\n",
      "[LightGBM] [Info] Start training from score 4418.146842\n",
      "[LightGBM] [Warning] No further splits with positive gain, best gain: -inf\n",
      "[LightGBM] [Warning] No further splits with positive gain, best gain: -inf\n",
      "[LightGBM] [Warning] Found whitespace in feature_names, replace with underlines\n",
      "[LightGBM] [Info] Auto-choosing row-wise multi-threading, the overhead of testing was 0.005977 seconds.\n",
      "You can set `force_row_wise=true` to remove the overhead.\n",
      "And if memory is not enough, you can set `force_col_wise=true`.\n",
      "[LightGBM] [Info] Total Bins 946\n",
      "[LightGBM] [Info] Number of data points in the train set: 159348, number of used features: 289\n",
      "[LightGBM] [Info] Start training from score 4415.134529\n",
      "[LightGBM] [Warning] Found whitespace in feature_names, replace with underlines\n",
      "[LightGBM] [Info] Auto-choosing row-wise multi-threading, the overhead of testing was 0.005191 seconds.\n",
      "You can set `force_row_wise=true` to remove the overhead.\n",
      "And if memory is not enough, you can set `force_col_wise=true`.\n",
      "[LightGBM] [Info] Total Bins 944\n",
      "[LightGBM] [Info] Number of data points in the train set: 159348, number of used features: 289\n",
      "[LightGBM] [Info] Start training from score 4427.849512\n",
      "[LightGBM] [Warning] Found whitespace in feature_names, replace with underlines\n",
      "[LightGBM] [Info] Auto-choosing row-wise multi-threading, the overhead of testing was 0.005100 seconds.\n",
      "You can set `force_row_wise=true` to remove the overhead.\n",
      "And if memory is not enough, you can set `force_col_wise=true`.\n",
      "[LightGBM] [Info] Total Bins 951\n",
      "[LightGBM] [Info] Number of data points in the train set: 159348, number of used features: 290\n",
      "[LightGBM] [Info] Start training from score 4413.717825\n",
      "[LightGBM] [Warning] No further splits with positive gain, best gain: -inf\n",
      "[LightGBM] [Warning] No further splits with positive gain, best gain: -inf\n",
      "[LightGBM] [Warning] No further splits with positive gain, best gain: -inf\n",
      "[LightGBM] [Warning] No further splits with positive gain, best gain: -inf\n",
      "[LightGBM] [Warning] Found whitespace in feature_names, replace with underlines\n",
      "[LightGBM] [Info] Auto-choosing row-wise multi-threading, the overhead of testing was 0.004106 seconds.\n",
      "You can set `force_row_wise=true` to remove the overhead.\n",
      "And if memory is not enough, you can set `force_col_wise=true`.\n",
      "[LightGBM] [Info] Total Bins 946\n",
      "[LightGBM] [Info] Number of data points in the train set: 159348, number of used features: 288\n",
      "[LightGBM] [Info] Start training from score 4418.146842\n",
      "[LightGBM] [Warning] No further splits with positive gain, best gain: -inf\n",
      "[LightGBM] [Warning] No further splits with positive gain, best gain: -inf\n",
      "[LightGBM] [Warning] No further splits with positive gain, best gain: -inf\n",
      "[LightGBM] [Warning] No further splits with positive gain, best gain: -inf\n",
      "[LightGBM] [Warning] No further splits with positive gain, best gain: -inf\n",
      "[LightGBM] [Warning] No further splits with positive gain, best gain: -inf\n",
      "[LightGBM] [Warning] Found whitespace in feature_names, replace with underlines\n",
      "[LightGBM] [Info] Auto-choosing row-wise multi-threading, the overhead of testing was 0.005700 seconds.\n",
      "You can set `force_row_wise=true` to remove the overhead.\n",
      "And if memory is not enough, you can set `force_col_wise=true`.\n",
      "[LightGBM] [Info] Total Bins 946\n",
      "[LightGBM] [Info] Number of data points in the train set: 159348, number of used features: 289\n",
      "[LightGBM] [Info] Start training from score 4415.134529\n",
      "[LightGBM] [Warning] No further splits with positive gain, best gain: -inf\n",
      "[LightGBM] [Warning] No further splits with positive gain, best gain: -inf\n",
      "[LightGBM] [Warning] Found whitespace in feature_names, replace with underlines\n",
      "[LightGBM] [Info] Auto-choosing row-wise multi-threading, the overhead of testing was 0.006510 seconds.\n",
      "You can set `force_row_wise=true` to remove the overhead.\n",
      "And if memory is not enough, you can set `force_col_wise=true`.\n",
      "[LightGBM] [Info] Total Bins 944\n",
      "[LightGBM] [Info] Number of data points in the train set: 159348, number of used features: 289\n",
      "[LightGBM] [Info] Start training from score 4427.849512\n",
      "[LightGBM] [Warning] No further splits with positive gain, best gain: -inf\n",
      "[LightGBM] [Warning] No further splits with positive gain, best gain: -inf\n",
      "[LightGBM] [Warning] No further splits with positive gain, best gain: -inf\n",
      "[LightGBM] [Warning] No further splits with positive gain, best gain: -inf\n",
      "[LightGBM] [Warning] Found whitespace in feature_names, replace with underlines\n",
      "[LightGBM] [Info] Auto-choosing row-wise multi-threading, the overhead of testing was 0.005628 seconds.\n",
      "You can set `force_row_wise=true` to remove the overhead.\n",
      "And if memory is not enough, you can set `force_col_wise=true`.\n",
      "[LightGBM] [Info] Total Bins 951\n",
      "[LightGBM] [Info] Number of data points in the train set: 159348, number of used features: 290\n",
      "[LightGBM] [Info] Start training from score 4413.717825\n",
      "[LightGBM] [Warning] Found whitespace in feature_names, replace with underlines\n",
      "[LightGBM] [Info] Auto-choosing row-wise multi-threading, the overhead of testing was 0.005412 seconds.\n",
      "You can set `force_row_wise=true` to remove the overhead.\n",
      "And if memory is not enough, you can set `force_col_wise=true`.\n",
      "[LightGBM] [Info] Total Bins 946\n",
      "[LightGBM] [Info] Number of data points in the train set: 159348, number of used features: 288\n",
      "[LightGBM] [Info] Start training from score 4418.146842\n",
      "[LightGBM] [Warning] Found whitespace in feature_names, replace with underlines\n",
      "[LightGBM] [Info] Auto-choosing row-wise multi-threading, the overhead of testing was 0.006078 seconds.\n",
      "You can set `force_row_wise=true` to remove the overhead.\n",
      "And if memory is not enough, you can set `force_col_wise=true`.\n",
      "[LightGBM] [Info] Total Bins 946\n",
      "[LightGBM] [Info] Number of data points in the train set: 159348, number of used features: 289\n",
      "[LightGBM] [Info] Start training from score 4415.134529\n",
      "[LightGBM] [Warning] Found whitespace in feature_names, replace with underlines\n",
      "[LightGBM] [Info] Auto-choosing row-wise multi-threading, the overhead of testing was 0.005425 seconds.\n",
      "You can set `force_row_wise=true` to remove the overhead.\n",
      "And if memory is not enough, you can set `force_col_wise=true`.\n",
      "[LightGBM] [Info] Total Bins 944\n",
      "[LightGBM] [Info] Number of data points in the train set: 159348, number of used features: 289\n",
      "[LightGBM] [Info] Start training from score 4427.849512\n",
      "[LightGBM] [Warning] Found whitespace in feature_names, replace with underlines\n",
      "[LightGBM] [Info] Auto-choosing row-wise multi-threading, the overhead of testing was 0.007272 seconds.\n",
      "You can set `force_row_wise=true` to remove the overhead.\n",
      "And if memory is not enough, you can set `force_col_wise=true`.\n",
      "[LightGBM] [Info] Total Bins 951\n",
      "[LightGBM] [Info] Number of data points in the train set: 159348, number of used features: 290\n",
      "[LightGBM] [Info] Start training from score 4413.717825\n",
      "[LightGBM] [Warning] Found whitespace in feature_names, replace with underlines\n",
      "[LightGBM] [Info] Auto-choosing row-wise multi-threading, the overhead of testing was 0.005957 seconds.\n",
      "You can set `force_row_wise=true` to remove the overhead.\n",
      "And if memory is not enough, you can set `force_col_wise=true`.\n",
      "[LightGBM] [Info] Total Bins 946\n",
      "[LightGBM] [Info] Number of data points in the train set: 159348, number of used features: 288\n",
      "[LightGBM] [Info] Start training from score 4418.146842\n",
      "[LightGBM] [Warning] Found whitespace in feature_names, replace with underlines\n",
      "[LightGBM] [Info] Auto-choosing row-wise multi-threading, the overhead of testing was 0.005073 seconds.\n",
      "You can set `force_row_wise=true` to remove the overhead.\n",
      "And if memory is not enough, you can set `force_col_wise=true`.\n",
      "[LightGBM] [Info] Total Bins 946\n",
      "[LightGBM] [Info] Number of data points in the train set: 159348, number of used features: 289\n",
      "[LightGBM] [Info] Start training from score 4415.134529\n",
      "[LightGBM] [Warning] Found whitespace in feature_names, replace with underlines\n",
      "[LightGBM] [Info] Auto-choosing row-wise multi-threading, the overhead of testing was 0.006136 seconds.\n",
      "You can set `force_row_wise=true` to remove the overhead.\n",
      "And if memory is not enough, you can set `force_col_wise=true`.\n",
      "[LightGBM] [Info] Total Bins 944\n",
      "[LightGBM] [Info] Number of data points in the train set: 159348, number of used features: 289\n",
      "[LightGBM] [Info] Start training from score 4427.849512\n",
      "[LightGBM] [Warning] Found whitespace in feature_names, replace with underlines\n",
      "[LightGBM] [Info] Auto-choosing row-wise multi-threading, the overhead of testing was 0.004873 seconds.\n",
      "You can set `force_row_wise=true` to remove the overhead.\n",
      "And if memory is not enough, you can set `force_col_wise=true`.\n",
      "[LightGBM] [Info] Total Bins 951\n",
      "[LightGBM] [Info] Number of data points in the train set: 159348, number of used features: 290\n",
      "[LightGBM] [Info] Start training from score 4413.717825\n",
      "[LightGBM] [Warning] Found whitespace in feature_names, replace with underlines\n",
      "[LightGBM] [Info] Auto-choosing row-wise multi-threading, the overhead of testing was 0.008400 seconds.\n",
      "You can set `force_row_wise=true` to remove the overhead.\n",
      "And if memory is not enough, you can set `force_col_wise=true`.\n",
      "[LightGBM] [Info] Total Bins 946\n",
      "[LightGBM] [Info] Number of data points in the train set: 159348, number of used features: 288\n",
      "[LightGBM] [Info] Start training from score 4418.146842\n",
      "[LightGBM] [Warning] Found whitespace in feature_names, replace with underlines\n",
      "[LightGBM] [Info] Auto-choosing row-wise multi-threading, the overhead of testing was 0.006548 seconds.\n",
      "You can set `force_row_wise=true` to remove the overhead.\n",
      "And if memory is not enough, you can set `force_col_wise=true`.\n",
      "[LightGBM] [Info] Total Bins 946\n",
      "[LightGBM] [Info] Number of data points in the train set: 159348, number of used features: 289\n",
      "[LightGBM] [Info] Start training from score 4415.134529\n",
      "[LightGBM] [Warning] Found whitespace in feature_names, replace with underlines\n",
      "[LightGBM] [Info] Auto-choosing row-wise multi-threading, the overhead of testing was 0.005993 seconds.\n",
      "You can set `force_row_wise=true` to remove the overhead.\n",
      "And if memory is not enough, you can set `force_col_wise=true`.\n",
      "[LightGBM] [Info] Total Bins 944\n",
      "[LightGBM] [Info] Number of data points in the train set: 159348, number of used features: 289\n",
      "[LightGBM] [Info] Start training from score 4427.849512\n",
      "[LightGBM] [Warning] Found whitespace in feature_names, replace with underlines\n",
      "[LightGBM] [Info] Auto-choosing row-wise multi-threading, the overhead of testing was 0.008985 seconds.\n",
      "You can set `force_row_wise=true` to remove the overhead.\n",
      "And if memory is not enough, you can set `force_col_wise=true`.\n",
      "[LightGBM] [Info] Total Bins 962\n",
      "[LightGBM] [Info] Number of data points in the train set: 212464, number of used features: 294\n",
      "[LightGBM] [Info] Start training from score 4418.712177\n",
      "Best Hyperparameters: {'learning_rate': 0.1, 'max_depth': 10, 'n_estimators': 30}\n",
      "CPU times: total: 8min 21s\n",
      "Wall time: 2min 24s\n"
     ]
    }
   ],
   "source": [
    "%%time\n",
    "# Fit the GridSearchCV to the training data\n",
    "grid_search_lgbm.fit(features_train, target_train)\n",
    "\n",
    "# Extract the best hyperparameters found during grid search\n",
    "best_params_lgbm = grid_search_lgbm.best_params_\n",
    "\n",
    "# Retrieve the best estimator (model) from the grid search\n",
    "best_model_lgbm = grid_search_lgbm.best_estimator_\n",
    "\n",
    "# Print the best hyperparameters\n",
    "print(f\"Best Hyperparameters: {best_params_lgbm}\")"
   ]
  },
  {
   "cell_type": "code",
   "execution_count": 41,
   "metadata": {},
   "outputs": [
    {
     "name": "stdout",
     "output_type": "stream",
     "text": [
      "CPU times: total: 0 ns\n",
      "Wall time: 0 ns\n"
     ]
    }
   ],
   "source": [
    "%%time\n",
    "# Train a LGBMRegressor with the best hyperparameters found from tuning  \n",
    "lgbm = LGBMRegressor(random_state=7, \n",
    "                    learning_rate = best_params_lgbm['learning_rate'],\n",
    "                    n_estimators = best_params_lgbm['n_estimators'],\n",
    "                    max_depth = best_params_lgbm['max_depth']\n",
    "                    )"
   ]
  },
  {
   "cell_type": "code",
   "execution_count": 42,
   "metadata": {},
   "outputs": [
    {
     "name": "stdout",
     "output_type": "stream",
     "text": [
      "[LightGBM] [Warning] Found whitespace in feature_names, replace with underlines\n",
      "[LightGBM] [Info] Auto-choosing row-wise multi-threading, the overhead of testing was 0.011420 seconds.\n",
      "You can set `force_row_wise=true` to remove the overhead.\n",
      "And if memory is not enough, you can set `force_col_wise=true`.\n",
      "[LightGBM] [Info] Total Bins 962\n",
      "[LightGBM] [Info] Number of data points in the train set: 212464, number of used features: 294\n",
      "[LightGBM] [Info] Start training from score 4418.712177\n"
     ]
    },
    {
     "data": {
      "text/html": [
       "<style>#sk-container-id-5 {\n",
       "  /* Definition of color scheme common for light and dark mode */\n",
       "  --sklearn-color-text: black;\n",
       "  --sklearn-color-line: gray;\n",
       "  /* Definition of color scheme for unfitted estimators */\n",
       "  --sklearn-color-unfitted-level-0: #fff5e6;\n",
       "  --sklearn-color-unfitted-level-1: #f6e4d2;\n",
       "  --sklearn-color-unfitted-level-2: #ffe0b3;\n",
       "  --sklearn-color-unfitted-level-3: chocolate;\n",
       "  /* Definition of color scheme for fitted estimators */\n",
       "  --sklearn-color-fitted-level-0: #f0f8ff;\n",
       "  --sklearn-color-fitted-level-1: #d4ebff;\n",
       "  --sklearn-color-fitted-level-2: #b3dbfd;\n",
       "  --sklearn-color-fitted-level-3: cornflowerblue;\n",
       "\n",
       "  /* Specific color for light theme */\n",
       "  --sklearn-color-text-on-default-background: var(--sg-text-color, var(--theme-code-foreground, var(--jp-content-font-color1, black)));\n",
       "  --sklearn-color-background: var(--sg-background-color, var(--theme-background, var(--jp-layout-color0, white)));\n",
       "  --sklearn-color-border-box: var(--sg-text-color, var(--theme-code-foreground, var(--jp-content-font-color1, black)));\n",
       "  --sklearn-color-icon: #696969;\n",
       "\n",
       "  @media (prefers-color-scheme: dark) {\n",
       "    /* Redefinition of color scheme for dark theme */\n",
       "    --sklearn-color-text-on-default-background: var(--sg-text-color, var(--theme-code-foreground, var(--jp-content-font-color1, white)));\n",
       "    --sklearn-color-background: var(--sg-background-color, var(--theme-background, var(--jp-layout-color0, #111)));\n",
       "    --sklearn-color-border-box: var(--sg-text-color, var(--theme-code-foreground, var(--jp-content-font-color1, white)));\n",
       "    --sklearn-color-icon: #878787;\n",
       "  }\n",
       "}\n",
       "\n",
       "#sk-container-id-5 {\n",
       "  color: var(--sklearn-color-text);\n",
       "}\n",
       "\n",
       "#sk-container-id-5 pre {\n",
       "  padding: 0;\n",
       "}\n",
       "\n",
       "#sk-container-id-5 input.sk-hidden--visually {\n",
       "  border: 0;\n",
       "  clip: rect(1px 1px 1px 1px);\n",
       "  clip: rect(1px, 1px, 1px, 1px);\n",
       "  height: 1px;\n",
       "  margin: -1px;\n",
       "  overflow: hidden;\n",
       "  padding: 0;\n",
       "  position: absolute;\n",
       "  width: 1px;\n",
       "}\n",
       "\n",
       "#sk-container-id-5 div.sk-dashed-wrapped {\n",
       "  border: 1px dashed var(--sklearn-color-line);\n",
       "  margin: 0 0.4em 0.5em 0.4em;\n",
       "  box-sizing: border-box;\n",
       "  padding-bottom: 0.4em;\n",
       "  background-color: var(--sklearn-color-background);\n",
       "}\n",
       "\n",
       "#sk-container-id-5 div.sk-container {\n",
       "  /* jupyter's `normalize.less` sets `[hidden] { display: none; }`\n",
       "     but bootstrap.min.css set `[hidden] { display: none !important; }`\n",
       "     so we also need the `!important` here to be able to override the\n",
       "     default hidden behavior on the sphinx rendered scikit-learn.org.\n",
       "     See: https://github.com/scikit-learn/scikit-learn/issues/21755 */\n",
       "  display: inline-block !important;\n",
       "  position: relative;\n",
       "}\n",
       "\n",
       "#sk-container-id-5 div.sk-text-repr-fallback {\n",
       "  display: none;\n",
       "}\n",
       "\n",
       "div.sk-parallel-item,\n",
       "div.sk-serial,\n",
       "div.sk-item {\n",
       "  /* draw centered vertical line to link estimators */\n",
       "  background-image: linear-gradient(var(--sklearn-color-text-on-default-background), var(--sklearn-color-text-on-default-background));\n",
       "  background-size: 2px 100%;\n",
       "  background-repeat: no-repeat;\n",
       "  background-position: center center;\n",
       "}\n",
       "\n",
       "/* Parallel-specific style estimator block */\n",
       "\n",
       "#sk-container-id-5 div.sk-parallel-item::after {\n",
       "  content: \"\";\n",
       "  width: 100%;\n",
       "  border-bottom: 2px solid var(--sklearn-color-text-on-default-background);\n",
       "  flex-grow: 1;\n",
       "}\n",
       "\n",
       "#sk-container-id-5 div.sk-parallel {\n",
       "  display: flex;\n",
       "  align-items: stretch;\n",
       "  justify-content: center;\n",
       "  background-color: var(--sklearn-color-background);\n",
       "  position: relative;\n",
       "}\n",
       "\n",
       "#sk-container-id-5 div.sk-parallel-item {\n",
       "  display: flex;\n",
       "  flex-direction: column;\n",
       "}\n",
       "\n",
       "#sk-container-id-5 div.sk-parallel-item:first-child::after {\n",
       "  align-self: flex-end;\n",
       "  width: 50%;\n",
       "}\n",
       "\n",
       "#sk-container-id-5 div.sk-parallel-item:last-child::after {\n",
       "  align-self: flex-start;\n",
       "  width: 50%;\n",
       "}\n",
       "\n",
       "#sk-container-id-5 div.sk-parallel-item:only-child::after {\n",
       "  width: 0;\n",
       "}\n",
       "\n",
       "/* Serial-specific style estimator block */\n",
       "\n",
       "#sk-container-id-5 div.sk-serial {\n",
       "  display: flex;\n",
       "  flex-direction: column;\n",
       "  align-items: center;\n",
       "  background-color: var(--sklearn-color-background);\n",
       "  padding-right: 1em;\n",
       "  padding-left: 1em;\n",
       "}\n",
       "\n",
       "\n",
       "/* Toggleable style: style used for estimator/Pipeline/ColumnTransformer box that is\n",
       "clickable and can be expanded/collapsed.\n",
       "- Pipeline and ColumnTransformer use this feature and define the default style\n",
       "- Estimators will overwrite some part of the style using the `sk-estimator` class\n",
       "*/\n",
       "\n",
       "/* Pipeline and ColumnTransformer style (default) */\n",
       "\n",
       "#sk-container-id-5 div.sk-toggleable {\n",
       "  /* Default theme specific background. It is overwritten whether we have a\n",
       "  specific estimator or a Pipeline/ColumnTransformer */\n",
       "  background-color: var(--sklearn-color-background);\n",
       "}\n",
       "\n",
       "/* Toggleable label */\n",
       "#sk-container-id-5 label.sk-toggleable__label {\n",
       "  cursor: pointer;\n",
       "  display: block;\n",
       "  width: 100%;\n",
       "  margin-bottom: 0;\n",
       "  padding: 0.5em;\n",
       "  box-sizing: border-box;\n",
       "  text-align: center;\n",
       "}\n",
       "\n",
       "#sk-container-id-5 label.sk-toggleable__label-arrow:before {\n",
       "  /* Arrow on the left of the label */\n",
       "  content: \"▸\";\n",
       "  float: left;\n",
       "  margin-right: 0.25em;\n",
       "  color: var(--sklearn-color-icon);\n",
       "}\n",
       "\n",
       "#sk-container-id-5 label.sk-toggleable__label-arrow:hover:before {\n",
       "  color: var(--sklearn-color-text);\n",
       "}\n",
       "\n",
       "/* Toggleable content - dropdown */\n",
       "\n",
       "#sk-container-id-5 div.sk-toggleable__content {\n",
       "  max-height: 0;\n",
       "  max-width: 0;\n",
       "  overflow: hidden;\n",
       "  text-align: left;\n",
       "  /* unfitted */\n",
       "  background-color: var(--sklearn-color-unfitted-level-0);\n",
       "}\n",
       "\n",
       "#sk-container-id-5 div.sk-toggleable__content.fitted {\n",
       "  /* fitted */\n",
       "  background-color: var(--sklearn-color-fitted-level-0);\n",
       "}\n",
       "\n",
       "#sk-container-id-5 div.sk-toggleable__content pre {\n",
       "  margin: 0.2em;\n",
       "  border-radius: 0.25em;\n",
       "  color: var(--sklearn-color-text);\n",
       "  /* unfitted */\n",
       "  background-color: var(--sklearn-color-unfitted-level-0);\n",
       "}\n",
       "\n",
       "#sk-container-id-5 div.sk-toggleable__content.fitted pre {\n",
       "  /* unfitted */\n",
       "  background-color: var(--sklearn-color-fitted-level-0);\n",
       "}\n",
       "\n",
       "#sk-container-id-5 input.sk-toggleable__control:checked~div.sk-toggleable__content {\n",
       "  /* Expand drop-down */\n",
       "  max-height: 200px;\n",
       "  max-width: 100%;\n",
       "  overflow: auto;\n",
       "}\n",
       "\n",
       "#sk-container-id-5 input.sk-toggleable__control:checked~label.sk-toggleable__label-arrow:before {\n",
       "  content: \"▾\";\n",
       "}\n",
       "\n",
       "/* Pipeline/ColumnTransformer-specific style */\n",
       "\n",
       "#sk-container-id-5 div.sk-label input.sk-toggleable__control:checked~label.sk-toggleable__label {\n",
       "  color: var(--sklearn-color-text);\n",
       "  background-color: var(--sklearn-color-unfitted-level-2);\n",
       "}\n",
       "\n",
       "#sk-container-id-5 div.sk-label.fitted input.sk-toggleable__control:checked~label.sk-toggleable__label {\n",
       "  background-color: var(--sklearn-color-fitted-level-2);\n",
       "}\n",
       "\n",
       "/* Estimator-specific style */\n",
       "\n",
       "/* Colorize estimator box */\n",
       "#sk-container-id-5 div.sk-estimator input.sk-toggleable__control:checked~label.sk-toggleable__label {\n",
       "  /* unfitted */\n",
       "  background-color: var(--sklearn-color-unfitted-level-2);\n",
       "}\n",
       "\n",
       "#sk-container-id-5 div.sk-estimator.fitted input.sk-toggleable__control:checked~label.sk-toggleable__label {\n",
       "  /* fitted */\n",
       "  background-color: var(--sklearn-color-fitted-level-2);\n",
       "}\n",
       "\n",
       "#sk-container-id-5 div.sk-label label.sk-toggleable__label,\n",
       "#sk-container-id-5 div.sk-label label {\n",
       "  /* The background is the default theme color */\n",
       "  color: var(--sklearn-color-text-on-default-background);\n",
       "}\n",
       "\n",
       "/* On hover, darken the color of the background */\n",
       "#sk-container-id-5 div.sk-label:hover label.sk-toggleable__label {\n",
       "  color: var(--sklearn-color-text);\n",
       "  background-color: var(--sklearn-color-unfitted-level-2);\n",
       "}\n",
       "\n",
       "/* Label box, darken color on hover, fitted */\n",
       "#sk-container-id-5 div.sk-label.fitted:hover label.sk-toggleable__label.fitted {\n",
       "  color: var(--sklearn-color-text);\n",
       "  background-color: var(--sklearn-color-fitted-level-2);\n",
       "}\n",
       "\n",
       "/* Estimator label */\n",
       "\n",
       "#sk-container-id-5 div.sk-label label {\n",
       "  font-family: monospace;\n",
       "  font-weight: bold;\n",
       "  display: inline-block;\n",
       "  line-height: 1.2em;\n",
       "}\n",
       "\n",
       "#sk-container-id-5 div.sk-label-container {\n",
       "  text-align: center;\n",
       "}\n",
       "\n",
       "/* Estimator-specific */\n",
       "#sk-container-id-5 div.sk-estimator {\n",
       "  font-family: monospace;\n",
       "  border: 1px dotted var(--sklearn-color-border-box);\n",
       "  border-radius: 0.25em;\n",
       "  box-sizing: border-box;\n",
       "  margin-bottom: 0.5em;\n",
       "  /* unfitted */\n",
       "  background-color: var(--sklearn-color-unfitted-level-0);\n",
       "}\n",
       "\n",
       "#sk-container-id-5 div.sk-estimator.fitted {\n",
       "  /* fitted */\n",
       "  background-color: var(--sklearn-color-fitted-level-0);\n",
       "}\n",
       "\n",
       "/* on hover */\n",
       "#sk-container-id-5 div.sk-estimator:hover {\n",
       "  /* unfitted */\n",
       "  background-color: var(--sklearn-color-unfitted-level-2);\n",
       "}\n",
       "\n",
       "#sk-container-id-5 div.sk-estimator.fitted:hover {\n",
       "  /* fitted */\n",
       "  background-color: var(--sklearn-color-fitted-level-2);\n",
       "}\n",
       "\n",
       "/* Specification for estimator info (e.g. \"i\" and \"?\") */\n",
       "\n",
       "/* Common style for \"i\" and \"?\" */\n",
       "\n",
       ".sk-estimator-doc-link,\n",
       "a:link.sk-estimator-doc-link,\n",
       "a:visited.sk-estimator-doc-link {\n",
       "  float: right;\n",
       "  font-size: smaller;\n",
       "  line-height: 1em;\n",
       "  font-family: monospace;\n",
       "  background-color: var(--sklearn-color-background);\n",
       "  border-radius: 1em;\n",
       "  height: 1em;\n",
       "  width: 1em;\n",
       "  text-decoration: none !important;\n",
       "  margin-left: 1ex;\n",
       "  /* unfitted */\n",
       "  border: var(--sklearn-color-unfitted-level-1) 1pt solid;\n",
       "  color: var(--sklearn-color-unfitted-level-1);\n",
       "}\n",
       "\n",
       ".sk-estimator-doc-link.fitted,\n",
       "a:link.sk-estimator-doc-link.fitted,\n",
       "a:visited.sk-estimator-doc-link.fitted {\n",
       "  /* fitted */\n",
       "  border: var(--sklearn-color-fitted-level-1) 1pt solid;\n",
       "  color: var(--sklearn-color-fitted-level-1);\n",
       "}\n",
       "\n",
       "/* On hover */\n",
       "div.sk-estimator:hover .sk-estimator-doc-link:hover,\n",
       ".sk-estimator-doc-link:hover,\n",
       "div.sk-label-container:hover .sk-estimator-doc-link:hover,\n",
       ".sk-estimator-doc-link:hover {\n",
       "  /* unfitted */\n",
       "  background-color: var(--sklearn-color-unfitted-level-3);\n",
       "  color: var(--sklearn-color-background);\n",
       "  text-decoration: none;\n",
       "}\n",
       "\n",
       "div.sk-estimator.fitted:hover .sk-estimator-doc-link.fitted:hover,\n",
       ".sk-estimator-doc-link.fitted:hover,\n",
       "div.sk-label-container:hover .sk-estimator-doc-link.fitted:hover,\n",
       ".sk-estimator-doc-link.fitted:hover {\n",
       "  /* fitted */\n",
       "  background-color: var(--sklearn-color-fitted-level-3);\n",
       "  color: var(--sklearn-color-background);\n",
       "  text-decoration: none;\n",
       "}\n",
       "\n",
       "/* Span, style for the box shown on hovering the info icon */\n",
       ".sk-estimator-doc-link span {\n",
       "  display: none;\n",
       "  z-index: 9999;\n",
       "  position: relative;\n",
       "  font-weight: normal;\n",
       "  right: .2ex;\n",
       "  padding: .5ex;\n",
       "  margin: .5ex;\n",
       "  width: min-content;\n",
       "  min-width: 20ex;\n",
       "  max-width: 50ex;\n",
       "  color: var(--sklearn-color-text);\n",
       "  box-shadow: 2pt 2pt 4pt #999;\n",
       "  /* unfitted */\n",
       "  background: var(--sklearn-color-unfitted-level-0);\n",
       "  border: .5pt solid var(--sklearn-color-unfitted-level-3);\n",
       "}\n",
       "\n",
       ".sk-estimator-doc-link.fitted span {\n",
       "  /* fitted */\n",
       "  background: var(--sklearn-color-fitted-level-0);\n",
       "  border: var(--sklearn-color-fitted-level-3);\n",
       "}\n",
       "\n",
       ".sk-estimator-doc-link:hover span {\n",
       "  display: block;\n",
       "}\n",
       "\n",
       "/* \"?\"-specific style due to the `<a>` HTML tag */\n",
       "\n",
       "#sk-container-id-5 a.estimator_doc_link {\n",
       "  float: right;\n",
       "  font-size: 1rem;\n",
       "  line-height: 1em;\n",
       "  font-family: monospace;\n",
       "  background-color: var(--sklearn-color-background);\n",
       "  border-radius: 1rem;\n",
       "  height: 1rem;\n",
       "  width: 1rem;\n",
       "  text-decoration: none;\n",
       "  /* unfitted */\n",
       "  color: var(--sklearn-color-unfitted-level-1);\n",
       "  border: var(--sklearn-color-unfitted-level-1) 1pt solid;\n",
       "}\n",
       "\n",
       "#sk-container-id-5 a.estimator_doc_link.fitted {\n",
       "  /* fitted */\n",
       "  border: var(--sklearn-color-fitted-level-1) 1pt solid;\n",
       "  color: var(--sklearn-color-fitted-level-1);\n",
       "}\n",
       "\n",
       "/* On hover */\n",
       "#sk-container-id-5 a.estimator_doc_link:hover {\n",
       "  /* unfitted */\n",
       "  background-color: var(--sklearn-color-unfitted-level-3);\n",
       "  color: var(--sklearn-color-background);\n",
       "  text-decoration: none;\n",
       "}\n",
       "\n",
       "#sk-container-id-5 a.estimator_doc_link.fitted:hover {\n",
       "  /* fitted */\n",
       "  background-color: var(--sklearn-color-fitted-level-3);\n",
       "}\n",
       "</style><div id=\"sk-container-id-5\" class=\"sk-top-container\"><div class=\"sk-text-repr-fallback\"><pre>LGBMRegressor(max_depth=10, n_estimators=30, random_state=7)</pre><b>In a Jupyter environment, please rerun this cell to show the HTML representation or trust the notebook. <br />On GitHub, the HTML representation is unable to render, please try loading this page with nbviewer.org.</b></div><div class=\"sk-container\" hidden><div class=\"sk-item\"><div class=\"sk-estimator fitted sk-toggleable\"><input class=\"sk-toggleable__control sk-hidden--visually\" id=\"sk-estimator-id-9\" type=\"checkbox\" checked><label for=\"sk-estimator-id-9\" class=\"sk-toggleable__label fitted sk-toggleable__label-arrow fitted\">&nbsp;LGBMRegressor<span class=\"sk-estimator-doc-link fitted\">i<span>Fitted</span></span></label><div class=\"sk-toggleable__content fitted\"><pre>LGBMRegressor(max_depth=10, n_estimators=30, random_state=7)</pre></div> </div></div></div></div>"
      ],
      "text/plain": [
       "LGBMRegressor(max_depth=10, n_estimators=30, random_state=7)"
      ]
     },
     "execution_count": 42,
     "metadata": {},
     "output_type": "execute_result"
    }
   ],
   "source": [
    "# Train a LGBM Regressor using the best hyperparameters from grid search\n",
    "lgbm.fit(features_train,target_train)"
   ]
  },
  {
   "cell_type": "code",
   "execution_count": 43,
   "metadata": {},
   "outputs": [
    {
     "name": "stdout",
     "output_type": "stream",
     "text": [
      "CPU times: total: 891 ms\n",
      "Wall time: 167 ms\n"
     ]
    }
   ],
   "source": [
    "%%time\n",
    "# Predict target values for the validation set using the trained LGBM model   \n",
    "predictions_valid_lgbm = best_model_lgbm.predict(features_valid)"
   ]
  },
  {
   "cell_type": "code",
   "execution_count": 44,
   "metadata": {},
   "outputs": [
    {
     "name": "stdout",
     "output_type": "stream",
     "text": [
      "Best Parameters: {'learning_rate': 0.1, 'max_depth': 10, 'n_estimators': 30}\n",
      "Root Mean Squared Error: 2028.2235056876787\n"
     ]
    }
   ],
   "source": [
    "# Calculate RMSE for the LGBM predictions on the validation set\n",
    "mse_lgbm = mean_squared_error(target_valid, predictions_valid_lgbm)\n",
    "rmse_lgbm = mse_lgbm ** 0.5\n",
    "\n",
    " # Print calculated RMSE along with best hyperparameters used for the model\n",
    "print(\"Best Parameters:\", best_params_lgbm)\n",
    "print(\"Root Mean Squared Error:\", rmse_lgbm)"
   ]
  },
  {
   "cell_type": "markdown",
   "metadata": {},
   "source": [
    "When running the above LightGBMRegressor model with best parameters (max_depth:10, and n_estimators:30, and learning_rate:0.1), RMSE is 2028.2235056876789 which suggests that the model's predictions on average deviate by ~2028 from the actual values. The training time for model fiting is 2.19s while for making predictions is 236ms. It shows that this model is fast but it takes slightly longer to train and predict than CatBoost. "
   ]
  },
  {
   "cell_type": "markdown",
   "metadata": {},
   "source": [
    "### Test Set"
   ]
  },
  {
   "cell_type": "code",
   "execution_count": 45,
   "metadata": {},
   "outputs": [
    {
     "name": "stdout",
     "output_type": "stream",
     "text": [
      "Root Mean Squared Error on Test Set: 2039.588475157083\n"
     ]
    }
   ],
   "source": [
    "# Make predictions on the test set\n",
    "predictions_test = rf.predict(features_test)\n",
    "\n",
    "# Evaluate model performance using RMSE\n",
    "mse_test = mean_squared_error(target_test, predictions_test)\n",
    "rmse_test = mse_test ** 0.5\n",
    "\n",
    "# Print calculated RMSE value\n",
    "print(\"Root Mean Squared Error on Test Set:\", rmse_test)"
   ]
  },
  {
   "cell_type": "markdown",
   "metadata": {},
   "source": [
    "Based on RMSE, RandomForestRegressor model is the best model. Thus, I choose it as the best model for test set which resulted into RMSE of 2039.588475157083 suggesting that model's predictions on average deviate by ~2040 from the actual values. The test RMSE is similar to the validation RMSE suggesting no major overfitting. It also shows that the model generalizes well meaning it perform well on unseen data. "
   ]
  },
  {
   "cell_type": "markdown",
   "metadata": {},
   "source": [
    "## Model analysis"
   ]
  },
  {
   "cell_type": "markdown",
   "metadata": {},
   "source": [
    "The project was based on to build the model to determine the market value(price) of the car. But along with this, the company Rusty Bargain is interested in a model which has a good quality of the prediction, fast speed of the prediction and less time required for training. \n",
    "\n",
    "In this project after cleaning the dataset, multiple regression models were trained and evaluated to predict the target variable (price) accurately. To get a model with a good quality of the prediction, the goal is to minimize the RMSE. A Linear Regression model was used as a sanity check (baseline), and a progessively more complex models, such as Random Forest, CatBoost, and LightGBM, were trained to improve performance. \n",
    "\n",
    "Linear Regression model is the fastest but has a poor predictive performance, confirming the need for more complex models.Random Forest Regressor model has a good improvement in RMSE, but training other more complex models were necessary so CatBoostRegressor and LightGBMRegressor were trained. \n",
    "\n",
    "After training all models it is known that, Random Forest Regressor model has the lowest RMSE, 2018 with training time of 1min 17s while the RMSE of CatBoostModel is 2028 with training time of 2.33s. As both, accuracy and speed to train a model are important aspects in determining the best model, the difference in training both model is insignificant. Based on RMSE Random Forest Regressor is the best model and thus, used to determine the RMSE for test set. RMSE for test set is 2039.588475157083 suggesting that model's predictions on average deviate by ~2040 from the actual values. As the test RMSE is similar to the validation RMSE, it represents that there is no major overfitting and that the model generalizes well meaning it perform well on unseen data."
   ]
  }
 ],
 "metadata": {
  "ExecuteTimeLog": [
   {
    "duration": 3076,
    "start_time": "2025-03-05T04:40:27.602Z"
   },
   {
    "duration": 573,
    "start_time": "2025-03-05T04:40:58.373Z"
   },
   {
    "duration": 1408,
    "start_time": "2025-03-05T04:48:51.458Z"
   },
   {
    "duration": 476,
    "start_time": "2025-03-05T04:48:52.869Z"
   },
   {
    "duration": 7,
    "start_time": "2025-03-05T04:48:53.348Z"
   },
   {
    "duration": 3,
    "start_time": "2025-03-05T04:48:53.359Z"
   },
   {
    "duration": 4,
    "start_time": "2025-03-05T04:48:53.365Z"
   },
   {
    "duration": 80,
    "start_time": "2025-03-05T04:48:53.371Z"
   },
   {
    "duration": 23300,
    "start_time": "2025-03-05T04:48:53.452Z"
   },
   {
    "duration": 75,
    "start_time": "2025-03-05T04:49:16.754Z"
   },
   {
    "duration": 629,
    "start_time": "2025-03-05T04:49:16.831Z"
   },
   {
    "duration": 94,
    "start_time": "2025-03-05T04:49:17.464Z"
   },
   {
    "duration": 184,
    "start_time": "2025-03-05T04:49:17.561Z"
   },
   {
    "duration": 214,
    "start_time": "2025-03-05T04:49:17.750Z"
   },
   {
    "duration": 70,
    "start_time": "2025-03-05T04:49:17.966Z"
   },
   {
    "duration": 15,
    "start_time": "2025-03-05T04:49:18.037Z"
   },
   {
    "duration": 64,
    "start_time": "2025-03-05T04:49:18.054Z"
   },
   {
    "duration": 14,
    "start_time": "2025-03-05T04:49:18.120Z"
   },
   {
    "duration": 55,
    "start_time": "2025-03-05T04:49:18.137Z"
   },
   {
    "duration": 51,
    "start_time": "2025-03-05T04:49:18.206Z"
   },
   {
    "duration": 14,
    "start_time": "2025-03-05T04:49:18.259Z"
   },
   {
    "duration": 83,
    "start_time": "2025-03-05T04:49:18.275Z"
   },
   {
    "duration": 2,
    "start_time": "2025-03-05T04:49:18.360Z"
   },
   {
    "duration": 4,
    "start_time": "2025-03-05T04:49:18.364Z"
   },
   {
    "duration": 19,
    "start_time": "2025-03-05T04:49:18.371Z"
   },
   {
    "duration": 398,
    "start_time": "2025-03-05T04:49:18.407Z"
   },
   {
    "duration": 122,
    "start_time": "2025-03-05T04:49:18.809Z"
   },
   {
    "duration": 3,
    "start_time": "2025-03-05T04:49:18.934Z"
   },
   {
    "duration": 644,
    "start_time": "2025-03-05T04:49:18.939Z"
   },
   {
    "duration": 61,
    "start_time": "2025-03-05T04:49:19.588Z"
   },
   {
    "duration": 3,
    "start_time": "2025-03-05T04:49:19.651Z"
   },
   {
    "duration": 303,
    "start_time": "2025-03-05T04:49:19.657Z"
   },
   {
    "duration": 13,
    "start_time": "2025-03-05T04:49:19.962Z"
   },
   {
    "duration": 3,
    "start_time": "2025-03-05T04:49:19.977Z"
   },
   {
    "duration": 32,
    "start_time": "2025-03-05T04:49:19.982Z"
   },
   {
    "duration": 3,
    "start_time": "2025-03-05T04:49:20.016Z"
   },
   {
    "duration": 10756,
    "start_time": "2025-03-05T04:49:20.021Z"
   },
   {
    "duration": 245,
    "start_time": "2025-03-05T04:52:01.816Z"
   },
   {
    "duration": 357,
    "start_time": "2025-03-05T05:00:44.506Z"
   },
   {
    "duration": 1654,
    "start_time": "2025-03-05T05:05:35.231Z"
   },
   {
    "duration": 5,
    "start_time": "2025-03-05T05:06:36.636Z"
   },
   {
    "duration": 1203,
    "start_time": "2025-03-05T05:06:45.031Z"
   },
   {
    "duration": 448,
    "start_time": "2025-03-05T05:06:46.237Z"
   },
   {
    "duration": 4,
    "start_time": "2025-03-05T05:06:46.688Z"
   },
   {
    "duration": 13,
    "start_time": "2025-03-05T05:06:46.695Z"
   },
   {
    "duration": 6,
    "start_time": "2025-03-05T05:06:46.709Z"
   },
   {
    "duration": 134,
    "start_time": "2025-03-05T05:06:46.718Z"
   },
   {
    "duration": 19564,
    "start_time": "2025-03-05T05:06:46.854Z"
   },
   {
    "duration": 105,
    "start_time": "2025-03-05T05:07:06.420Z"
   },
   {
    "duration": 785,
    "start_time": "2025-03-05T05:07:06.528Z"
   },
   {
    "duration": 67,
    "start_time": "2025-03-05T05:07:07.318Z"
   },
   {
    "duration": 209,
    "start_time": "2025-03-05T05:07:07.388Z"
   },
   {
    "duration": 196,
    "start_time": "2025-03-05T05:07:07.599Z"
   },
   {
    "duration": 61,
    "start_time": "2025-03-05T05:07:07.797Z"
   },
   {
    "duration": 19,
    "start_time": "2025-03-05T05:07:07.860Z"
   },
   {
    "duration": 79,
    "start_time": "2025-03-05T05:07:07.881Z"
   },
   {
    "duration": 17,
    "start_time": "2025-03-05T05:07:07.962Z"
   },
   {
    "duration": 80,
    "start_time": "2025-03-05T05:07:07.981Z"
   },
   {
    "duration": 58,
    "start_time": "2025-03-05T05:07:08.063Z"
   },
   {
    "duration": 16,
    "start_time": "2025-03-05T05:07:08.122Z"
   },
   {
    "duration": 92,
    "start_time": "2025-03-05T05:07:08.141Z"
   },
   {
    "duration": 2,
    "start_time": "2025-03-05T05:07:08.236Z"
   },
   {
    "duration": 3,
    "start_time": "2025-03-05T05:07:08.240Z"
   },
   {
    "duration": 17,
    "start_time": "2025-03-05T05:07:08.245Z"
   },
   {
    "duration": 366,
    "start_time": "2025-03-05T05:07:08.264Z"
   },
   {
    "duration": 125,
    "start_time": "2025-03-05T05:07:08.632Z"
   },
   {
    "duration": 3,
    "start_time": "2025-03-05T05:07:08.759Z"
   },
   {
    "duration": 589,
    "start_time": "2025-03-05T05:07:08.763Z"
   },
   {
    "duration": 69,
    "start_time": "2025-03-05T05:07:09.356Z"
   },
   {
    "duration": 4,
    "start_time": "2025-03-05T05:07:09.427Z"
   },
   {
    "duration": 253,
    "start_time": "2025-03-05T05:07:09.433Z"
   },
   {
    "duration": 22,
    "start_time": "2025-03-05T05:07:09.687Z"
   },
   {
    "duration": 3,
    "start_time": "2025-03-05T05:07:09.711Z"
   },
   {
    "duration": 13,
    "start_time": "2025-03-05T05:07:09.715Z"
   },
   {
    "duration": 4,
    "start_time": "2025-03-05T05:07:09.730Z"
   },
   {
    "duration": 10016,
    "start_time": "2025-03-05T05:07:09.736Z"
   },
   {
    "duration": 1675,
    "start_time": "2025-03-05T05:07:19.754Z"
   },
   {
    "duration": 29,
    "start_time": "2025-03-05T05:19:55.410Z"
   },
   {
    "duration": 1095,
    "start_time": "2025-03-05T05:20:01.972Z"
   },
   {
    "duration": 438,
    "start_time": "2025-03-05T05:20:03.069Z"
   },
   {
    "duration": 4,
    "start_time": "2025-03-05T05:20:03.509Z"
   },
   {
    "duration": 4,
    "start_time": "2025-03-05T05:20:03.516Z"
   },
   {
    "duration": 3,
    "start_time": "2025-03-05T05:20:03.522Z"
   },
   {
    "duration": 86,
    "start_time": "2025-03-05T05:20:03.527Z"
   },
   {
    "duration": 17492,
    "start_time": "2025-03-05T05:20:03.615Z"
   },
   {
    "duration": 60,
    "start_time": "2025-03-05T05:20:21.109Z"
   },
   {
    "duration": 603,
    "start_time": "2025-03-05T05:20:21.170Z"
   },
   {
    "duration": 76,
    "start_time": "2025-03-05T05:20:21.776Z"
   },
   {
    "duration": 185,
    "start_time": "2025-03-05T05:20:21.853Z"
   },
   {
    "duration": 215,
    "start_time": "2025-03-05T05:20:22.040Z"
   },
   {
    "duration": 64,
    "start_time": "2025-03-05T05:20:22.257Z"
   },
   {
    "duration": 13,
    "start_time": "2025-03-05T05:20:22.323Z"
   },
   {
    "duration": 45,
    "start_time": "2025-03-05T05:20:22.338Z"
   },
   {
    "duration": 30,
    "start_time": "2025-03-05T05:20:22.385Z"
   },
   {
    "duration": 60,
    "start_time": "2025-03-05T05:20:22.417Z"
   },
   {
    "duration": 60,
    "start_time": "2025-03-05T05:20:22.479Z"
   },
   {
    "duration": 14,
    "start_time": "2025-03-05T05:20:22.541Z"
   },
   {
    "duration": 78,
    "start_time": "2025-03-05T05:20:22.556Z"
   },
   {
    "duration": 2,
    "start_time": "2025-03-05T05:20:22.636Z"
   },
   {
    "duration": 2,
    "start_time": "2025-03-05T05:20:22.640Z"
   },
   {
    "duration": 21,
    "start_time": "2025-03-05T05:20:22.644Z"
   },
   {
    "duration": 356,
    "start_time": "2025-03-05T05:20:22.667Z"
   },
   {
    "duration": 127,
    "start_time": "2025-03-05T05:20:23.025Z"
   },
   {
    "duration": 3,
    "start_time": "2025-03-05T05:20:23.154Z"
   },
   {
    "duration": 552,
    "start_time": "2025-03-05T05:20:23.159Z"
   },
   {
    "duration": 51,
    "start_time": "2025-03-05T05:20:23.715Z"
   },
   {
    "duration": 3,
    "start_time": "2025-03-05T05:20:23.768Z"
   },
   {
    "duration": 249,
    "start_time": "2025-03-05T05:20:23.772Z"
   },
   {
    "duration": 13,
    "start_time": "2025-03-05T05:20:24.023Z"
   },
   {
    "duration": 3,
    "start_time": "2025-03-05T05:20:24.038Z"
   },
   {
    "duration": 13,
    "start_time": "2025-03-05T05:20:24.043Z"
   },
   {
    "duration": 3,
    "start_time": "2025-03-05T05:20:24.059Z"
   },
   {
    "duration": 8846,
    "start_time": "2025-03-05T05:20:24.064Z"
   },
   {
    "duration": 1570,
    "start_time": "2025-03-05T05:20:32.916Z"
   },
   {
    "duration": 2236,
    "start_time": "2025-03-05T05:20:34.487Z"
   },
   {
    "duration": 2879,
    "start_time": "2025-03-05T18:30:02.772Z"
   },
   {
    "duration": 479,
    "start_time": "2025-03-05T18:30:05.653Z"
   },
   {
    "duration": 4,
    "start_time": "2025-03-05T18:30:06.134Z"
   },
   {
    "duration": 4,
    "start_time": "2025-03-05T18:30:06.140Z"
   },
   {
    "duration": 3,
    "start_time": "2025-03-05T18:30:06.146Z"
   },
   {
    "duration": 85,
    "start_time": "2025-03-05T18:30:06.151Z"
   },
   {
    "duration": 17444,
    "start_time": "2025-03-05T18:30:06.237Z"
   },
   {
    "duration": 54,
    "start_time": "2025-03-05T18:30:23.683Z"
   },
   {
    "duration": 619,
    "start_time": "2025-03-05T18:30:23.739Z"
   },
   {
    "duration": 80,
    "start_time": "2025-03-05T18:30:24.362Z"
   },
   {
    "duration": 172,
    "start_time": "2025-03-05T18:30:24.443Z"
   },
   {
    "duration": 189,
    "start_time": "2025-03-05T18:30:24.617Z"
   },
   {
    "duration": 61,
    "start_time": "2025-03-05T18:30:24.808Z"
   },
   {
    "duration": 14,
    "start_time": "2025-03-05T18:30:24.871Z"
   },
   {
    "duration": 63,
    "start_time": "2025-03-05T18:30:24.887Z"
   },
   {
    "duration": 13,
    "start_time": "2025-03-05T18:30:24.952Z"
   },
   {
    "duration": 74,
    "start_time": "2025-03-05T18:30:24.966Z"
   },
   {
    "duration": 47,
    "start_time": "2025-03-05T18:30:25.042Z"
   },
   {
    "duration": 26,
    "start_time": "2025-03-05T18:30:25.091Z"
   },
   {
    "duration": 60,
    "start_time": "2025-03-05T18:30:25.118Z"
   },
   {
    "duration": 4,
    "start_time": "2025-03-05T18:30:25.179Z"
   },
   {
    "duration": 3,
    "start_time": "2025-03-05T18:30:25.185Z"
   },
   {
    "duration": 20,
    "start_time": "2025-03-05T18:30:25.206Z"
   },
   {
    "duration": 340,
    "start_time": "2025-03-05T18:30:25.228Z"
   },
   {
    "duration": 111,
    "start_time": "2025-03-05T18:30:25.570Z"
   },
   {
    "duration": 3,
    "start_time": "2025-03-05T18:30:25.683Z"
   },
   {
    "duration": 551,
    "start_time": "2025-03-05T18:30:25.688Z"
   },
   {
    "duration": 61,
    "start_time": "2025-03-05T18:30:26.244Z"
   },
   {
    "duration": 4,
    "start_time": "2025-03-05T18:30:26.308Z"
   },
   {
    "duration": 228,
    "start_time": "2025-03-05T18:30:26.314Z"
   },
   {
    "duration": 13,
    "start_time": "2025-03-05T18:30:26.543Z"
   },
   {
    "duration": 3,
    "start_time": "2025-03-05T18:30:26.558Z"
   },
   {
    "duration": 13,
    "start_time": "2025-03-05T18:30:26.563Z"
   },
   {
    "duration": 3,
    "start_time": "2025-03-05T18:30:26.578Z"
   },
   {
    "duration": 8805,
    "start_time": "2025-03-05T18:30:26.606Z"
   },
   {
    "duration": 1606,
    "start_time": "2025-03-05T18:30:35.413Z"
   },
   {
    "duration": 2204,
    "start_time": "2025-03-05T18:30:37.021Z"
   },
   {
    "duration": 6,
    "start_time": "2025-03-05T18:50:30.495Z"
   },
   {
    "duration": 5,
    "start_time": "2025-03-05T18:50:40.240Z"
   },
   {
    "duration": 7582,
    "start_time": "2025-03-05T18:50:45.638Z"
   },
   {
    "duration": 7724,
    "start_time": "2025-03-05T18:51:17.489Z"
   },
   {
    "duration": 7506,
    "start_time": "2025-03-05T18:51:57.505Z"
   },
   {
    "duration": 5,
    "start_time": "2025-03-05T19:03:15.342Z"
   },
   {
    "duration": 243,
    "start_time": "2025-03-05T19:03:20.888Z"
   },
   {
    "duration": 4,
    "start_time": "2025-03-05T19:03:54.365Z"
   },
   {
    "duration": 15,
    "start_time": "2025-03-05T19:03:59.425Z"
   },
   {
    "duration": 4,
    "start_time": "2025-03-05T19:04:10.134Z"
   },
   {
    "duration": 17,
    "start_time": "2025-03-05T19:04:17.675Z"
   },
   {
    "duration": 82271,
    "start_time": "2025-03-05T19:04:29.651Z"
   },
   {
    "duration": 0,
    "start_time": "2025-03-05T19:08:11.343Z"
   },
   {
    "duration": 7,
    "start_time": "2025-03-05T19:08:42.211Z"
   },
   {
    "duration": 427,
    "start_time": "2025-03-05T19:08:42.222Z"
   },
   {
    "duration": 4,
    "start_time": "2025-03-05T19:08:42.651Z"
   },
   {
    "duration": 4,
    "start_time": "2025-03-05T19:08:42.657Z"
   },
   {
    "duration": 3,
    "start_time": "2025-03-05T19:08:42.663Z"
   },
   {
    "duration": 84,
    "start_time": "2025-03-05T19:08:42.668Z"
   },
   {
    "duration": 18006,
    "start_time": "2025-03-05T19:08:42.753Z"
   },
   {
    "duration": 69,
    "start_time": "2025-03-05T19:09:00.760Z"
   },
   {
    "duration": 626,
    "start_time": "2025-03-05T19:09:00.830Z"
   },
   {
    "duration": 78,
    "start_time": "2025-03-05T19:09:01.458Z"
   },
   {
    "duration": 157,
    "start_time": "2025-03-05T19:09:01.538Z"
   },
   {
    "duration": 173,
    "start_time": "2025-03-05T19:09:01.697Z"
   },
   {
    "duration": 82,
    "start_time": "2025-03-05T19:09:01.872Z"
   },
   {
    "duration": 14,
    "start_time": "2025-03-05T19:09:01.957Z"
   },
   {
    "duration": 60,
    "start_time": "2025-03-05T19:09:01.973Z"
   },
   {
    "duration": 14,
    "start_time": "2025-03-05T19:09:02.035Z"
   },
   {
    "duration": 65,
    "start_time": "2025-03-05T19:09:02.051Z"
   },
   {
    "duration": 46,
    "start_time": "2025-03-05T19:09:02.118Z"
   },
   {
    "duration": 13,
    "start_time": "2025-03-05T19:09:02.166Z"
   },
   {
    "duration": 83,
    "start_time": "2025-03-05T19:09:02.182Z"
   },
   {
    "duration": 4,
    "start_time": "2025-03-05T19:09:02.267Z"
   },
   {
    "duration": 4,
    "start_time": "2025-03-05T19:09:02.272Z"
   },
   {
    "duration": 36,
    "start_time": "2025-03-05T19:09:02.277Z"
   },
   {
    "duration": 341,
    "start_time": "2025-03-05T19:09:02.315Z"
   },
   {
    "duration": 121,
    "start_time": "2025-03-05T19:09:02.658Z"
   },
   {
    "duration": 3,
    "start_time": "2025-03-05T19:09:02.781Z"
   },
   {
    "duration": 589,
    "start_time": "2025-03-05T19:09:02.786Z"
   },
   {
    "duration": 42,
    "start_time": "2025-03-05T19:09:03.379Z"
   },
   {
    "duration": 3,
    "start_time": "2025-03-05T19:09:03.423Z"
   },
   {
    "duration": 221,
    "start_time": "2025-03-05T19:09:03.428Z"
   },
   {
    "duration": 8,
    "start_time": "2025-03-05T19:09:03.651Z"
   },
   {
    "duration": 3,
    "start_time": "2025-03-05T19:09:03.661Z"
   },
   {
    "duration": 10,
    "start_time": "2025-03-05T19:09:03.665Z"
   },
   {
    "duration": 2,
    "start_time": "2025-03-05T19:09:03.677Z"
   },
   {
    "duration": 9511,
    "start_time": "2025-03-05T19:09:03.705Z"
   },
   {
    "duration": 1512,
    "start_time": "2025-03-05T19:09:13.218Z"
   },
   {
    "duration": 273272,
    "start_time": "2025-03-05T19:09:14.732Z"
   },
   {
    "duration": 5,
    "start_time": "2025-03-05T19:26:14.360Z"
   },
   {
    "duration": 212855,
    "start_time": "2025-03-05T19:26:27.814Z"
   },
   {
    "duration": 209013,
    "start_time": "2025-03-05T19:31:04.040Z"
   },
   {
    "duration": 2750,
    "start_time": "2025-03-09T23:02:50.529Z"
   },
   {
    "duration": 469,
    "start_time": "2025-03-09T23:02:53.281Z"
   },
   {
    "duration": 4,
    "start_time": "2025-03-09T23:02:53.752Z"
   },
   {
    "duration": 13,
    "start_time": "2025-03-09T23:02:53.758Z"
   },
   {
    "duration": 3,
    "start_time": "2025-03-09T23:02:53.773Z"
   },
   {
    "duration": 94,
    "start_time": "2025-03-09T23:02:53.777Z"
   },
   {
    "duration": 18039,
    "start_time": "2025-03-09T23:02:53.873Z"
   },
   {
    "duration": 68,
    "start_time": "2025-03-09T23:03:11.913Z"
   },
   {
    "duration": 599,
    "start_time": "2025-03-09T23:03:11.982Z"
   },
   {
    "duration": 66,
    "start_time": "2025-03-09T23:03:12.585Z"
   },
   {
    "duration": 195,
    "start_time": "2025-03-09T23:03:12.653Z"
   },
   {
    "duration": 183,
    "start_time": "2025-03-09T23:03:12.849Z"
   },
   {
    "duration": 68,
    "start_time": "2025-03-09T23:03:13.034Z"
   },
   {
    "duration": 13,
    "start_time": "2025-03-09T23:03:13.104Z"
   },
   {
    "duration": 57,
    "start_time": "2025-03-09T23:03:13.119Z"
   },
   {
    "duration": 12,
    "start_time": "2025-03-09T23:03:13.178Z"
   },
   {
    "duration": 54,
    "start_time": "2025-03-09T23:03:13.191Z"
   },
   {
    "duration": 60,
    "start_time": "2025-03-09T23:03:13.246Z"
   },
   {
    "duration": 14,
    "start_time": "2025-03-09T23:03:13.307Z"
   },
   {
    "duration": 78,
    "start_time": "2025-03-09T23:03:13.322Z"
   },
   {
    "duration": 2,
    "start_time": "2025-03-09T23:03:13.402Z"
   },
   {
    "duration": 4,
    "start_time": "2025-03-09T23:03:13.405Z"
   },
   {
    "duration": 16,
    "start_time": "2025-03-09T23:03:13.410Z"
   },
   {
    "duration": 301,
    "start_time": "2025-03-09T23:03:13.427Z"
   },
   {
    "duration": 0,
    "start_time": "2025-03-09T23:03:13.731Z"
   },
   {
    "duration": 0,
    "start_time": "2025-03-09T23:03:13.733Z"
   },
   {
    "duration": 0,
    "start_time": "2025-03-09T23:03:13.734Z"
   },
   {
    "duration": 0,
    "start_time": "2025-03-09T23:03:13.736Z"
   },
   {
    "duration": 0,
    "start_time": "2025-03-09T23:03:13.737Z"
   },
   {
    "duration": 0,
    "start_time": "2025-03-09T23:03:13.739Z"
   },
   {
    "duration": 0,
    "start_time": "2025-03-09T23:03:13.740Z"
   },
   {
    "duration": 0,
    "start_time": "2025-03-09T23:03:13.742Z"
   },
   {
    "duration": 0,
    "start_time": "2025-03-09T23:03:13.743Z"
   },
   {
    "duration": 0,
    "start_time": "2025-03-09T23:03:13.744Z"
   },
   {
    "duration": 0,
    "start_time": "2025-03-09T23:03:13.770Z"
   },
   {
    "duration": 0,
    "start_time": "2025-03-09T23:03:13.771Z"
   },
   {
    "duration": 0,
    "start_time": "2025-03-09T23:03:13.772Z"
   },
   {
    "duration": 0,
    "start_time": "2025-03-09T23:03:13.773Z"
   },
   {
    "duration": 0,
    "start_time": "2025-03-09T23:03:13.774Z"
   },
   {
    "duration": 0,
    "start_time": "2025-03-09T23:03:13.775Z"
   },
   {
    "duration": 0,
    "start_time": "2025-03-09T23:03:13.776Z"
   },
   {
    "duration": 2,
    "start_time": "2025-03-09T23:08:08.925Z"
   },
   {
    "duration": 62,
    "start_time": "2025-03-09T23:10:01.160Z"
   },
   {
    "duration": 607,
    "start_time": "2025-03-09T23:12:19.664Z"
   },
   {
    "duration": 1013,
    "start_time": "2025-03-09T23:12:57.966Z"
   },
   {
    "duration": 424,
    "start_time": "2025-03-09T23:12:58.981Z"
   },
   {
    "duration": 4,
    "start_time": "2025-03-09T23:12:59.407Z"
   },
   {
    "duration": 4,
    "start_time": "2025-03-09T23:12:59.413Z"
   },
   {
    "duration": 3,
    "start_time": "2025-03-09T23:12:59.419Z"
   },
   {
    "duration": 81,
    "start_time": "2025-03-09T23:12:59.425Z"
   },
   {
    "duration": 18369,
    "start_time": "2025-03-09T23:12:59.509Z"
   },
   {
    "duration": 60,
    "start_time": "2025-03-09T23:13:17.880Z"
   },
   {
    "duration": 637,
    "start_time": "2025-03-09T23:13:17.942Z"
   },
   {
    "duration": 69,
    "start_time": "2025-03-09T23:13:18.580Z"
   },
   {
    "duration": 178,
    "start_time": "2025-03-09T23:13:18.651Z"
   },
   {
    "duration": 187,
    "start_time": "2025-03-09T23:13:18.832Z"
   },
   {
    "duration": 65,
    "start_time": "2025-03-09T23:13:19.021Z"
   },
   {
    "duration": 13,
    "start_time": "2025-03-09T23:13:19.090Z"
   },
   {
    "duration": 45,
    "start_time": "2025-03-09T23:13:19.105Z"
   },
   {
    "duration": 25,
    "start_time": "2025-03-09T23:13:19.152Z"
   },
   {
    "duration": 4,
    "start_time": "2025-03-09T23:13:19.178Z"
   },
   {
    "duration": 47,
    "start_time": "2025-03-09T23:13:19.183Z"
   },
   {
    "duration": 13,
    "start_time": "2025-03-09T23:13:19.232Z"
   },
   {
    "duration": 81,
    "start_time": "2025-03-09T23:13:19.247Z"
   },
   {
    "duration": 2,
    "start_time": "2025-03-09T23:13:19.329Z"
   },
   {
    "duration": 3,
    "start_time": "2025-03-09T23:13:19.333Z"
   },
   {
    "duration": 33,
    "start_time": "2025-03-09T23:13:19.339Z"
   },
   {
    "duration": 62,
    "start_time": "2025-03-09T23:13:19.373Z"
   },
   {
    "duration": 223,
    "start_time": "2025-03-09T23:13:19.436Z"
   },
   {
    "duration": 0,
    "start_time": "2025-03-09T23:13:19.661Z"
   },
   {
    "duration": 0,
    "start_time": "2025-03-09T23:13:19.662Z"
   },
   {
    "duration": 0,
    "start_time": "2025-03-09T23:13:19.670Z"
   },
   {
    "duration": 0,
    "start_time": "2025-03-09T23:13:19.672Z"
   },
   {
    "duration": 0,
    "start_time": "2025-03-09T23:13:19.673Z"
   },
   {
    "duration": 1,
    "start_time": "2025-03-09T23:13:19.674Z"
   },
   {
    "duration": 0,
    "start_time": "2025-03-09T23:13:19.676Z"
   },
   {
    "duration": 0,
    "start_time": "2025-03-09T23:13:19.678Z"
   },
   {
    "duration": 0,
    "start_time": "2025-03-09T23:13:19.679Z"
   },
   {
    "duration": 0,
    "start_time": "2025-03-09T23:13:19.680Z"
   },
   {
    "duration": 0,
    "start_time": "2025-03-09T23:13:19.681Z"
   },
   {
    "duration": 0,
    "start_time": "2025-03-09T23:13:19.682Z"
   },
   {
    "duration": 0,
    "start_time": "2025-03-09T23:13:19.684Z"
   },
   {
    "duration": 0,
    "start_time": "2025-03-09T23:13:19.685Z"
   },
   {
    "duration": 0,
    "start_time": "2025-03-09T23:13:19.686Z"
   },
   {
    "duration": 0,
    "start_time": "2025-03-09T23:13:19.688Z"
   },
   {
    "duration": 0,
    "start_time": "2025-03-09T23:13:19.688Z"
   },
   {
    "duration": 141,
    "start_time": "2025-03-09T23:13:47.646Z"
   },
   {
    "duration": 315,
    "start_time": "2025-03-09T23:13:49.331Z"
   },
   {
    "duration": 466,
    "start_time": "2025-03-09T23:13:57.815Z"
   },
   {
    "duration": 0,
    "start_time": "2025-03-09T23:13:58.283Z"
   },
   {
    "duration": 0,
    "start_time": "2025-03-09T23:13:58.285Z"
   },
   {
    "duration": 0,
    "start_time": "2025-03-09T23:13:58.286Z"
   },
   {
    "duration": 0,
    "start_time": "2025-03-09T23:13:58.288Z"
   },
   {
    "duration": 0,
    "start_time": "2025-03-09T23:13:58.289Z"
   },
   {
    "duration": 0,
    "start_time": "2025-03-09T23:13:58.291Z"
   },
   {
    "duration": 0,
    "start_time": "2025-03-09T23:13:58.292Z"
   },
   {
    "duration": 0,
    "start_time": "2025-03-09T23:13:58.294Z"
   },
   {
    "duration": 0,
    "start_time": "2025-03-09T23:13:58.295Z"
   },
   {
    "duration": 0,
    "start_time": "2025-03-09T23:13:58.297Z"
   },
   {
    "duration": 0,
    "start_time": "2025-03-09T23:13:58.298Z"
   },
   {
    "duration": 0,
    "start_time": "2025-03-09T23:13:58.301Z"
   },
   {
    "duration": 0,
    "start_time": "2025-03-09T23:13:58.302Z"
   },
   {
    "duration": 0,
    "start_time": "2025-03-09T23:13:58.303Z"
   },
   {
    "duration": 0,
    "start_time": "2025-03-09T23:13:58.304Z"
   },
   {
    "duration": 0,
    "start_time": "2025-03-09T23:13:58.305Z"
   },
   {
    "duration": 1026,
    "start_time": "2025-03-09T23:14:10.948Z"
   },
   {
    "duration": 419,
    "start_time": "2025-03-09T23:14:11.976Z"
   },
   {
    "duration": 4,
    "start_time": "2025-03-09T23:14:12.397Z"
   },
   {
    "duration": 3,
    "start_time": "2025-03-09T23:14:12.405Z"
   },
   {
    "duration": 3,
    "start_time": "2025-03-09T23:14:12.410Z"
   },
   {
    "duration": 73,
    "start_time": "2025-03-09T23:14:12.415Z"
   },
   {
    "duration": 18750,
    "start_time": "2025-03-09T23:14:12.489Z"
   },
   {
    "duration": 53,
    "start_time": "2025-03-09T23:14:31.241Z"
   },
   {
    "duration": 649,
    "start_time": "2025-03-09T23:14:31.295Z"
   },
   {
    "duration": 80,
    "start_time": "2025-03-09T23:14:31.947Z"
   },
   {
    "duration": 172,
    "start_time": "2025-03-09T23:14:32.029Z"
   },
   {
    "duration": 182,
    "start_time": "2025-03-09T23:14:32.203Z"
   },
   {
    "duration": 60,
    "start_time": "2025-03-09T23:14:32.387Z"
   },
   {
    "duration": 26,
    "start_time": "2025-03-09T23:14:32.449Z"
   },
   {
    "duration": 48,
    "start_time": "2025-03-09T23:14:32.476Z"
   },
   {
    "duration": 14,
    "start_time": "2025-03-09T23:14:32.526Z"
   },
   {
    "duration": 3,
    "start_time": "2025-03-09T23:14:32.543Z"
   },
   {
    "duration": 68,
    "start_time": "2025-03-09T23:14:32.547Z"
   },
   {
    "duration": 14,
    "start_time": "2025-03-09T23:14:32.616Z"
   },
   {
    "duration": 72,
    "start_time": "2025-03-09T23:14:32.631Z"
   },
   {
    "duration": 2,
    "start_time": "2025-03-09T23:14:32.705Z"
   },
   {
    "duration": 3,
    "start_time": "2025-03-09T23:14:32.708Z"
   },
   {
    "duration": 17,
    "start_time": "2025-03-09T23:14:32.713Z"
   },
   {
    "duration": 82,
    "start_time": "2025-03-09T23:14:32.731Z"
   },
   {
    "duration": 149,
    "start_time": "2025-03-09T23:14:32.815Z"
   },
   {
    "duration": 304,
    "start_time": "2025-03-09T23:14:32.966Z"
   },
   {
    "duration": 118,
    "start_time": "2025-03-09T23:14:33.272Z"
   },
   {
    "duration": 3,
    "start_time": "2025-03-09T23:14:33.394Z"
   },
   {
    "duration": 575,
    "start_time": "2025-03-09T23:14:33.398Z"
   },
   {
    "duration": 49,
    "start_time": "2025-03-09T23:14:33.975Z"
   },
   {
    "duration": 4,
    "start_time": "2025-03-09T23:14:34.026Z"
   },
   {
    "duration": 221,
    "start_time": "2025-03-09T23:14:34.032Z"
   },
   {
    "duration": 16,
    "start_time": "2025-03-09T23:14:34.254Z"
   },
   {
    "duration": 3,
    "start_time": "2025-03-09T23:14:34.272Z"
   },
   {
    "duration": 12,
    "start_time": "2025-03-09T23:14:34.277Z"
   },
   {
    "duration": 3,
    "start_time": "2025-03-09T23:14:34.291Z"
   },
   {
    "duration": 8082,
    "start_time": "2025-03-09T23:14:34.296Z"
   },
   {
    "duration": 1539,
    "start_time": "2025-03-09T23:14:42.380Z"
   },
   {
    "duration": 204531,
    "start_time": "2025-03-09T23:14:43.921Z"
   },
   {
    "duration": 7334,
    "start_time": "2025-03-09T23:18:08.454Z"
   },
   {
    "duration": 221020,
    "start_time": "2025-03-09T23:18:15.791Z"
   },
   {
    "duration": 0,
    "start_time": "2025-03-09T23:21:56.813Z"
   },
   {
    "duration": 7743,
    "start_time": "2025-03-09T23:22:03.027Z"
   },
   {
    "duration": 46,
    "start_time": "2025-03-09T23:22:17.968Z"
   },
   {
    "duration": 265440,
    "start_time": "2025-03-09T23:22:27.149Z"
   },
   {
    "duration": 5441401,
    "start_time": "2025-03-09T23:26:52.591Z"
   },
   {
    "duration": 2775,
    "start_time": "2025-03-13T03:27:48.244Z"
   },
   {
    "duration": 464,
    "start_time": "2025-03-13T03:27:51.021Z"
   },
   {
    "duration": 4,
    "start_time": "2025-03-13T03:27:51.487Z"
   },
   {
    "duration": 4,
    "start_time": "2025-03-13T03:27:51.493Z"
   },
   {
    "duration": 4,
    "start_time": "2025-03-13T03:27:51.498Z"
   },
   {
    "duration": 82,
    "start_time": "2025-03-13T03:27:51.503Z"
   },
   {
    "duration": 17397,
    "start_time": "2025-03-13T03:27:51.587Z"
   },
   {
    "duration": 58,
    "start_time": "2025-03-13T03:28:08.985Z"
   },
   {
    "duration": 609,
    "start_time": "2025-03-13T03:28:09.045Z"
   },
   {
    "duration": 71,
    "start_time": "2025-03-13T03:28:09.657Z"
   },
   {
    "duration": 190,
    "start_time": "2025-03-13T03:28:09.730Z"
   },
   {
    "duration": 201,
    "start_time": "2025-03-13T03:28:09.922Z"
   },
   {
    "duration": 69,
    "start_time": "2025-03-13T03:28:10.125Z"
   },
   {
    "duration": 12,
    "start_time": "2025-03-13T03:28:10.196Z"
   },
   {
    "duration": 62,
    "start_time": "2025-03-13T03:28:10.210Z"
   },
   {
    "duration": 18,
    "start_time": "2025-03-13T03:28:10.274Z"
   },
   {
    "duration": 3,
    "start_time": "2025-03-13T03:28:10.295Z"
   },
   {
    "duration": 72,
    "start_time": "2025-03-13T03:28:10.300Z"
   },
   {
    "duration": 21,
    "start_time": "2025-03-13T03:28:10.376Z"
   },
   {
    "duration": 93,
    "start_time": "2025-03-13T03:28:10.400Z"
   },
   {
    "duration": 4,
    "start_time": "2025-03-13T03:28:10.495Z"
   },
   {
    "duration": 4,
    "start_time": "2025-03-13T03:28:10.501Z"
   },
   {
    "duration": 20,
    "start_time": "2025-03-13T03:28:10.508Z"
   },
   {
    "duration": 82,
    "start_time": "2025-03-13T03:28:10.530Z"
   },
   {
    "duration": 154,
    "start_time": "2025-03-13T03:28:10.614Z"
   },
   {
    "duration": 322,
    "start_time": "2025-03-13T03:28:10.770Z"
   },
   {
    "duration": 117,
    "start_time": "2025-03-13T03:28:11.093Z"
   },
   {
    "duration": 4,
    "start_time": "2025-03-13T03:28:11.215Z"
   },
   {
    "duration": 586,
    "start_time": "2025-03-13T03:28:11.220Z"
   },
   {
    "duration": 50,
    "start_time": "2025-03-13T03:28:11.808Z"
   },
   {
    "duration": 4,
    "start_time": "2025-03-13T03:28:11.870Z"
   },
   {
    "duration": 239,
    "start_time": "2025-03-13T03:28:11.875Z"
   },
   {
    "duration": 12,
    "start_time": "2025-03-13T03:28:12.116Z"
   },
   {
    "duration": 3,
    "start_time": "2025-03-13T03:28:12.130Z"
   },
   {
    "duration": 12,
    "start_time": "2025-03-13T03:28:12.134Z"
   },
   {
    "duration": 23,
    "start_time": "2025-03-13T03:28:12.148Z"
   },
   {
    "duration": 7897,
    "start_time": "2025-03-13T03:28:12.174Z"
   },
   {
    "duration": 1577,
    "start_time": "2025-03-13T03:28:20.073Z"
   },
   {
    "duration": 204004,
    "start_time": "2025-03-13T03:28:21.652Z"
   },
   {
    "duration": 7323,
    "start_time": "2025-03-13T03:31:45.657Z"
   },
   {
    "duration": 269594,
    "start_time": "2025-03-13T03:31:52.982Z"
   },
   {
    "duration": 0,
    "start_time": "2025-03-13T04:19:17.004Z"
   },
   {
    "duration": 0,
    "start_time": "2025-03-13T04:19:17.011Z"
   },
   {
    "duration": 1088,
    "start_time": "2025-03-13T04:19:25.562Z"
   },
   {
    "duration": 455,
    "start_time": "2025-03-13T04:19:26.652Z"
   },
   {
    "duration": 4,
    "start_time": "2025-03-13T04:19:27.109Z"
   },
   {
    "duration": 4,
    "start_time": "2025-03-13T04:19:27.115Z"
   },
   {
    "duration": 3,
    "start_time": "2025-03-13T04:19:27.121Z"
   },
   {
    "duration": 118,
    "start_time": "2025-03-13T04:19:27.127Z"
   },
   {
    "duration": 19340,
    "start_time": "2025-03-13T04:19:27.248Z"
   },
   {
    "duration": 62,
    "start_time": "2025-03-13T04:19:46.590Z"
   },
   {
    "duration": 640,
    "start_time": "2025-03-13T04:19:46.654Z"
   },
   {
    "duration": 81,
    "start_time": "2025-03-13T04:19:47.297Z"
   },
   {
    "duration": 180,
    "start_time": "2025-03-13T04:19:47.381Z"
   },
   {
    "duration": 212,
    "start_time": "2025-03-13T04:19:47.570Z"
   },
   {
    "duration": 60,
    "start_time": "2025-03-13T04:19:47.785Z"
   },
   {
    "duration": 25,
    "start_time": "2025-03-13T04:19:47.847Z"
   },
   {
    "duration": 45,
    "start_time": "2025-03-13T04:19:47.874Z"
   },
   {
    "duration": 13,
    "start_time": "2025-03-13T04:19:47.921Z"
   },
   {
    "duration": 3,
    "start_time": "2025-03-13T04:19:47.936Z"
   },
   {
    "duration": 71,
    "start_time": "2025-03-13T04:19:47.941Z"
   },
   {
    "duration": 15,
    "start_time": "2025-03-13T04:19:48.013Z"
   },
   {
    "duration": 72,
    "start_time": "2025-03-13T04:19:48.030Z"
   },
   {
    "duration": 2,
    "start_time": "2025-03-13T04:19:48.104Z"
   },
   {
    "duration": 4,
    "start_time": "2025-03-13T04:19:48.107Z"
   },
   {
    "duration": 17,
    "start_time": "2025-03-13T04:19:48.113Z"
   },
   {
    "duration": 83,
    "start_time": "2025-03-13T04:19:48.132Z"
   },
   {
    "duration": 151,
    "start_time": "2025-03-13T04:19:48.219Z"
   },
   {
    "duration": 326,
    "start_time": "2025-03-13T04:19:48.372Z"
   },
   {
    "duration": 121,
    "start_time": "2025-03-13T04:19:48.701Z"
   },
   {
    "duration": 3,
    "start_time": "2025-03-13T04:19:48.824Z"
   },
   {
    "duration": 545,
    "start_time": "2025-03-13T04:19:48.829Z"
   },
   {
    "duration": 54,
    "start_time": "2025-03-13T04:19:49.376Z"
   },
   {
    "duration": 2,
    "start_time": "2025-03-13T04:19:49.432Z"
   },
   {
    "duration": 222,
    "start_time": "2025-03-13T04:19:49.436Z"
   },
   {
    "duration": 16,
    "start_time": "2025-03-13T04:19:49.660Z"
   },
   {
    "duration": 2,
    "start_time": "2025-03-13T04:19:49.678Z"
   },
   {
    "duration": 12,
    "start_time": "2025-03-13T04:19:49.682Z"
   },
   {
    "duration": 2,
    "start_time": "2025-03-13T04:19:49.696Z"
   },
   {
    "duration": 8189,
    "start_time": "2025-03-13T04:19:49.700Z"
   },
   {
    "duration": 1568,
    "start_time": "2025-03-13T04:19:57.891Z"
   },
   {
    "duration": 205796,
    "start_time": "2025-03-13T04:19:59.461Z"
   },
   {
    "duration": 7319,
    "start_time": "2025-03-13T04:23:25.259Z"
   },
   {
    "duration": 272102,
    "start_time": "2025-03-13T04:23:32.580Z"
   },
   {
    "duration": 1122,
    "start_time": "2025-03-13T05:03:31.088Z"
   },
   {
    "duration": 434,
    "start_time": "2025-03-13T05:03:32.212Z"
   },
   {
    "duration": 4,
    "start_time": "2025-03-13T05:03:32.647Z"
   },
   {
    "duration": 4,
    "start_time": "2025-03-13T05:03:32.654Z"
   },
   {
    "duration": 2,
    "start_time": "2025-03-13T05:03:32.670Z"
   },
   {
    "duration": 57,
    "start_time": "2025-03-13T05:03:32.674Z"
   },
   {
    "duration": 18228,
    "start_time": "2025-03-13T05:03:32.733Z"
   },
   {
    "duration": 63,
    "start_time": "2025-03-13T05:03:50.969Z"
   },
   {
    "duration": 636,
    "start_time": "2025-03-13T05:03:51.034Z"
   },
   {
    "duration": 73,
    "start_time": "2025-03-13T05:03:51.672Z"
   },
   {
    "duration": 178,
    "start_time": "2025-03-13T05:03:51.747Z"
   },
   {
    "duration": 198,
    "start_time": "2025-03-13T05:03:51.927Z"
   },
   {
    "duration": 68,
    "start_time": "2025-03-13T05:03:52.129Z"
   },
   {
    "duration": 14,
    "start_time": "2025-03-13T05:03:52.199Z"
   },
   {
    "duration": 14,
    "start_time": "2025-03-13T05:03:52.214Z"
   },
   {
    "duration": 13,
    "start_time": "2025-03-13T05:03:52.229Z"
   },
   {
    "duration": 29,
    "start_time": "2025-03-13T05:03:52.244Z"
   },
   {
    "duration": 13,
    "start_time": "2025-03-13T05:03:52.275Z"
   },
   {
    "duration": 61,
    "start_time": "2025-03-13T05:03:52.290Z"
   },
   {
    "duration": 32,
    "start_time": "2025-03-13T05:03:52.353Z"
   },
   {
    "duration": 62,
    "start_time": "2025-03-13T05:03:52.387Z"
   },
   {
    "duration": 159,
    "start_time": "2025-03-13T05:03:52.451Z"
   },
   {
    "duration": 319,
    "start_time": "2025-03-13T05:03:52.612Z"
   },
   {
    "duration": 585,
    "start_time": "2025-03-13T05:03:52.932Z"
   },
   {
    "duration": 63,
    "start_time": "2025-03-13T05:03:53.519Z"
   },
   {
    "duration": 3,
    "start_time": "2025-03-13T05:03:53.583Z"
   },
   {
    "duration": 229,
    "start_time": "2025-03-13T05:03:53.588Z"
   },
   {
    "duration": 10,
    "start_time": "2025-03-13T05:03:53.819Z"
   },
   {
    "duration": 3,
    "start_time": "2025-03-13T05:03:53.831Z"
   },
   {
    "duration": 11,
    "start_time": "2025-03-13T05:03:53.836Z"
   },
   {
    "duration": 22,
    "start_time": "2025-03-13T05:03:53.849Z"
   },
   {
    "duration": 8028,
    "start_time": "2025-03-13T05:03:53.873Z"
   },
   {
    "duration": 204103,
    "start_time": "2025-03-13T05:04:01.971Z"
   },
   {
    "duration": 7213,
    "start_time": "2025-03-13T05:07:26.077Z"
   },
   {
    "duration": 267226,
    "start_time": "2025-03-13T05:07:33.371Z"
   },
   {
    "duration": 0,
    "start_time": "2025-03-13T05:25:25.252Z"
   },
   {
    "duration": 0,
    "start_time": "2025-03-13T05:25:25.253Z"
   },
   {
    "duration": 0,
    "start_time": "2025-03-13T05:25:25.255Z"
   },
   {
    "duration": 22472,
    "start_time": "2025-03-13T05:25:28.617Z"
   },
   {
    "duration": 184,
    "start_time": "2025-03-13T05:29:22.609Z"
   },
   {
    "duration": 1055,
    "start_time": "2025-03-13T05:45:33.140Z"
   },
   {
    "duration": 419,
    "start_time": "2025-03-13T05:45:34.197Z"
   },
   {
    "duration": 4,
    "start_time": "2025-03-13T05:45:34.618Z"
   },
   {
    "duration": 4,
    "start_time": "2025-03-13T05:45:34.624Z"
   },
   {
    "duration": 3,
    "start_time": "2025-03-13T05:45:34.631Z"
   },
   {
    "duration": 112,
    "start_time": "2025-03-13T05:45:34.636Z"
   },
   {
    "duration": 19156,
    "start_time": "2025-03-13T05:45:34.750Z"
   },
   {
    "duration": 66,
    "start_time": "2025-03-13T05:45:53.908Z"
   },
   {
    "duration": 651,
    "start_time": "2025-03-13T05:45:53.976Z"
   },
   {
    "duration": 68,
    "start_time": "2025-03-13T05:45:54.629Z"
   },
   {
    "duration": 182,
    "start_time": "2025-03-13T05:45:54.699Z"
   },
   {
    "duration": 197,
    "start_time": "2025-03-13T05:45:54.883Z"
   },
   {
    "duration": 89,
    "start_time": "2025-03-13T05:45:55.082Z"
   },
   {
    "duration": 17,
    "start_time": "2025-03-13T05:45:55.175Z"
   },
   {
    "duration": 14,
    "start_time": "2025-03-13T05:45:55.195Z"
   },
   {
    "duration": 14,
    "start_time": "2025-03-13T05:45:55.210Z"
   },
   {
    "duration": 16,
    "start_time": "2025-03-13T05:45:55.226Z"
   },
   {
    "duration": 38,
    "start_time": "2025-03-13T05:45:55.244Z"
   },
   {
    "duration": 87,
    "start_time": "2025-03-13T05:45:55.285Z"
   },
   {
    "duration": 20,
    "start_time": "2025-03-13T05:45:55.374Z"
   },
   {
    "duration": 82,
    "start_time": "2025-03-13T05:45:55.396Z"
   },
   {
    "duration": 159,
    "start_time": "2025-03-13T05:45:55.480Z"
   },
   {
    "duration": 327,
    "start_time": "2025-03-13T05:45:55.640Z"
   },
   {
    "duration": 575,
    "start_time": "2025-03-13T05:45:55.971Z"
   },
   {
    "duration": 63,
    "start_time": "2025-03-13T05:45:56.549Z"
   },
   {
    "duration": 3,
    "start_time": "2025-03-13T05:45:56.614Z"
   },
   {
    "duration": 219,
    "start_time": "2025-03-13T05:45:56.619Z"
   },
   {
    "duration": 9,
    "start_time": "2025-03-13T05:45:56.840Z"
   },
   {
    "duration": 3,
    "start_time": "2025-03-13T05:45:56.851Z"
   },
   {
    "duration": 24,
    "start_time": "2025-03-13T05:45:56.856Z"
   },
   {
    "duration": 3,
    "start_time": "2025-03-13T05:45:56.882Z"
   },
   {
    "duration": 7885,
    "start_time": "2025-03-13T05:45:56.887Z"
   },
   {
    "duration": 0,
    "start_time": "2025-03-13T05:57:46.851Z"
   },
   {
    "duration": 0,
    "start_time": "2025-03-13T05:57:46.852Z"
   },
   {
    "duration": 0,
    "start_time": "2025-03-13T05:57:46.854Z"
   },
   {
    "duration": 0,
    "start_time": "2025-03-13T05:57:46.873Z"
   },
   {
    "duration": 18027,
    "start_time": "2025-03-13T05:57:48.375Z"
   },
   {
    "duration": 0,
    "start_time": "2025-03-13T05:58:06.404Z"
   },
   {
    "duration": 0,
    "start_time": "2025-03-13T05:58:06.406Z"
   },
   {
    "duration": 0,
    "start_time": "2025-03-13T05:58:06.407Z"
   },
   {
    "duration": 2929,
    "start_time": "2025-03-14T05:08:23.327Z"
   },
   {
    "duration": 119,
    "start_time": "2025-03-14T05:11:54.484Z"
   },
   {
    "duration": 463,
    "start_time": "2025-03-14T05:12:02.223Z"
   },
   {
    "duration": 3,
    "start_time": "2025-03-14T05:12:02.885Z"
   },
   {
    "duration": 4,
    "start_time": "2025-03-14T05:12:03.690Z"
   },
   {
    "duration": 3,
    "start_time": "2025-03-14T05:12:04.355Z"
   },
   {
    "duration": 65,
    "start_time": "2025-03-14T05:12:04.870Z"
   },
   {
    "duration": 249,
    "start_time": "2025-03-14T05:12:21.388Z"
   },
   {
    "duration": 742,
    "start_time": "2025-03-14T05:12:31.503Z"
   },
   {
    "duration": 1061,
    "start_time": "2025-03-14T05:12:51.709Z"
   },
   {
    "duration": 426,
    "start_time": "2025-03-14T05:12:52.772Z"
   },
   {
    "duration": 4,
    "start_time": "2025-03-14T05:12:53.202Z"
   },
   {
    "duration": 4,
    "start_time": "2025-03-14T05:12:53.214Z"
   },
   {
    "duration": 3,
    "start_time": "2025-03-14T05:12:53.220Z"
   },
   {
    "duration": 90,
    "start_time": "2025-03-14T05:12:53.225Z"
   },
   {
    "duration": 947,
    "start_time": "2025-03-14T05:12:53.317Z"
   },
   {
    "duration": 0,
    "start_time": "2025-03-14T05:12:54.266Z"
   },
   {
    "duration": 0,
    "start_time": "2025-03-14T05:12:54.267Z"
   },
   {
    "duration": 0,
    "start_time": "2025-03-14T05:12:54.269Z"
   },
   {
    "duration": 0,
    "start_time": "2025-03-14T05:12:54.270Z"
   },
   {
    "duration": 0,
    "start_time": "2025-03-14T05:12:54.270Z"
   },
   {
    "duration": 0,
    "start_time": "2025-03-14T05:12:54.274Z"
   },
   {
    "duration": 0,
    "start_time": "2025-03-14T05:12:54.275Z"
   },
   {
    "duration": 0,
    "start_time": "2025-03-14T05:12:54.277Z"
   },
   {
    "duration": 0,
    "start_time": "2025-03-14T05:12:54.278Z"
   },
   {
    "duration": 0,
    "start_time": "2025-03-14T05:12:54.280Z"
   },
   {
    "duration": 0,
    "start_time": "2025-03-14T05:12:54.281Z"
   },
   {
    "duration": 0,
    "start_time": "2025-03-14T05:12:54.282Z"
   },
   {
    "duration": 0,
    "start_time": "2025-03-14T05:12:54.282Z"
   },
   {
    "duration": 0,
    "start_time": "2025-03-14T05:12:54.284Z"
   },
   {
    "duration": 0,
    "start_time": "2025-03-14T05:12:54.285Z"
   },
   {
    "duration": 0,
    "start_time": "2025-03-14T05:12:54.312Z"
   },
   {
    "duration": 0,
    "start_time": "2025-03-14T05:12:54.313Z"
   },
   {
    "duration": 0,
    "start_time": "2025-03-14T05:12:54.314Z"
   },
   {
    "duration": 0,
    "start_time": "2025-03-14T05:12:54.315Z"
   },
   {
    "duration": 0,
    "start_time": "2025-03-14T05:12:54.317Z"
   },
   {
    "duration": 0,
    "start_time": "2025-03-14T05:12:54.318Z"
   },
   {
    "duration": 0,
    "start_time": "2025-03-14T05:12:54.319Z"
   },
   {
    "duration": 0,
    "start_time": "2025-03-14T05:12:54.321Z"
   },
   {
    "duration": 0,
    "start_time": "2025-03-14T05:12:54.322Z"
   },
   {
    "duration": 0,
    "start_time": "2025-03-14T05:12:54.324Z"
   },
   {
    "duration": 0,
    "start_time": "2025-03-14T05:12:54.325Z"
   },
   {
    "duration": 0,
    "start_time": "2025-03-14T05:12:54.325Z"
   },
   {
    "duration": 0,
    "start_time": "2025-03-14T05:12:54.326Z"
   },
   {
    "duration": 17,
    "start_time": "2025-03-14T05:13:55.189Z"
   },
   {
    "duration": 63,
    "start_time": "2025-03-14T05:13:57.409Z"
   },
   {
    "duration": 147,
    "start_time": "2025-03-14T05:14:00.215Z"
   },
   {
    "duration": 174,
    "start_time": "2025-03-14T05:14:01.922Z"
   },
   {
    "duration": 1107,
    "start_time": "2025-03-14T05:14:32.017Z"
   },
   {
    "duration": 445,
    "start_time": "2025-03-14T05:14:33.126Z"
   },
   {
    "duration": 6,
    "start_time": "2025-03-14T05:14:33.573Z"
   },
   {
    "duration": 4,
    "start_time": "2025-03-14T05:14:33.582Z"
   },
   {
    "duration": 3,
    "start_time": "2025-03-14T05:14:33.730Z"
   },
   {
    "duration": 83,
    "start_time": "2025-03-14T05:14:33.944Z"
   },
   {
    "duration": 16,
    "start_time": "2025-03-14T05:14:34.154Z"
   },
   {
    "duration": 68,
    "start_time": "2025-03-14T05:14:39.442Z"
   },
   {
    "duration": 165,
    "start_time": "2025-03-14T05:14:40.637Z"
   },
   {
    "duration": 157,
    "start_time": "2025-03-14T05:17:03.374Z"
   },
   {
    "duration": 1090,
    "start_time": "2025-03-14T05:17:08.456Z"
   },
   {
    "duration": 90,
    "start_time": "2025-03-14T05:17:10.936Z"
   },
   {
    "duration": 423,
    "start_time": "2025-03-14T05:17:18.007Z"
   },
   {
    "duration": 3,
    "start_time": "2025-03-14T05:17:18.682Z"
   },
   {
    "duration": 5,
    "start_time": "2025-03-14T05:17:20.409Z"
   },
   {
    "duration": 3,
    "start_time": "2025-03-14T05:17:21.267Z"
   },
   {
    "duration": 58,
    "start_time": "2025-03-14T05:17:21.957Z"
   },
   {
    "duration": 90,
    "start_time": "2025-03-14T05:17:24.559Z"
   },
   {
    "duration": 223,
    "start_time": "2025-03-14T05:17:25.502Z"
   },
   {
    "duration": 256,
    "start_time": "2025-03-14T05:17:26.394Z"
   },
   {
    "duration": 89,
    "start_time": "2025-03-14T05:17:28.150Z"
   },
   {
    "duration": 14,
    "start_time": "2025-03-14T05:17:29.331Z"
   },
   {
    "duration": 13,
    "start_time": "2025-03-14T05:17:31.113Z"
   },
   {
    "duration": 12,
    "start_time": "2025-03-14T05:17:31.974Z"
   },
   {
    "duration": 13,
    "start_time": "2025-03-14T05:17:32.673Z"
   },
   {
    "duration": 15,
    "start_time": "2025-03-14T05:17:33.356Z"
   },
   {
    "duration": 105,
    "start_time": "2025-03-14T05:17:34.860Z"
   },
   {
    "duration": 22,
    "start_time": "2025-03-14T05:17:58.322Z"
   },
   {
    "duration": 63,
    "start_time": "2025-03-14T05:18:00.164Z"
   },
   {
    "duration": 322,
    "start_time": "2025-03-14T05:18:37.390Z"
   },
   {
    "duration": 559,
    "start_time": "2025-03-14T05:18:40.196Z"
   },
   {
    "duration": 50,
    "start_time": "2025-03-14T05:18:41.746Z"
   },
   {
    "duration": 3,
    "start_time": "2025-03-14T05:18:43.384Z"
   },
   {
    "duration": 225,
    "start_time": "2025-03-14T05:18:44.500Z"
   },
   {
    "duration": 12,
    "start_time": "2025-03-14T05:18:46.170Z"
   },
   {
    "duration": 3,
    "start_time": "2025-03-14T05:18:47.917Z"
   },
   {
    "duration": 10,
    "start_time": "2025-03-14T05:18:49.437Z"
   },
   {
    "duration": 3,
    "start_time": "2025-03-14T05:18:50.498Z"
   },
   {
    "duration": 89,
    "start_time": "2025-03-14T05:19:40.161Z"
   },
   {
    "duration": 64,
    "start_time": "2025-03-14T05:20:00.603Z"
   },
   {
    "duration": 1062,
    "start_time": "2025-03-14T05:20:29.260Z"
   },
   {
    "duration": 407,
    "start_time": "2025-03-14T05:20:30.324Z"
   },
   {
    "duration": 3,
    "start_time": "2025-03-14T05:20:30.733Z"
   },
   {
    "duration": 4,
    "start_time": "2025-03-14T05:20:30.738Z"
   },
   {
    "duration": 3,
    "start_time": "2025-03-14T05:20:30.744Z"
   },
   {
    "duration": 76,
    "start_time": "2025-03-14T05:20:30.749Z"
   },
   {
    "duration": 96,
    "start_time": "2025-03-14T05:20:30.827Z"
   },
   {
    "duration": 244,
    "start_time": "2025-03-14T05:20:30.925Z"
   },
   {
    "duration": 251,
    "start_time": "2025-03-14T05:20:31.172Z"
   },
   {
    "duration": 91,
    "start_time": "2025-03-14T05:20:31.427Z"
   },
   {
    "duration": 13,
    "start_time": "2025-03-14T05:20:31.519Z"
   },
   {
    "duration": 13,
    "start_time": "2025-03-14T05:20:31.534Z"
   },
   {
    "duration": 13,
    "start_time": "2025-03-14T05:20:31.548Z"
   },
   {
    "duration": 13,
    "start_time": "2025-03-14T05:20:31.562Z"
   },
   {
    "duration": 38,
    "start_time": "2025-03-14T05:20:31.577Z"
   },
   {
    "duration": 88,
    "start_time": "2025-03-14T05:20:31.616Z"
   },
   {
    "duration": 27,
    "start_time": "2025-03-14T05:20:31.705Z"
   },
   {
    "duration": 62,
    "start_time": "2025-03-14T05:20:31.733Z"
   },
   {
    "duration": 332,
    "start_time": "2025-03-14T05:20:31.796Z"
   },
   {
    "duration": 583,
    "start_time": "2025-03-14T05:20:32.129Z"
   },
   {
    "duration": 50,
    "start_time": "2025-03-14T05:20:32.713Z"
   },
   {
    "duration": 3,
    "start_time": "2025-03-14T05:20:32.766Z"
   },
   {
    "duration": 227,
    "start_time": "2025-03-14T05:20:32.770Z"
   },
   {
    "duration": 15,
    "start_time": "2025-03-14T05:20:32.999Z"
   },
   {
    "duration": 3,
    "start_time": "2025-03-14T05:20:33.016Z"
   },
   {
    "duration": 11,
    "start_time": "2025-03-14T05:20:33.021Z"
   },
   {
    "duration": 3,
    "start_time": "2025-03-14T05:20:33.034Z"
   },
   {
    "duration": 96,
    "start_time": "2025-03-14T05:20:33.042Z"
   },
   {
    "duration": 145,
    "start_time": "2025-03-14T05:26:18.646Z"
   },
   {
    "duration": 74,
    "start_time": "2025-03-14T05:29:22.272Z"
   },
   {
    "duration": 7984,
    "start_time": "2025-03-14T05:29:41.833Z"
   },
   {
    "duration": 203656,
    "start_time": "2025-03-14T05:38:12.825Z"
   },
   {
    "duration": 2913,
    "start_time": "2025-03-14T16:40:20.898Z"
   },
   {
    "duration": 465,
    "start_time": "2025-03-14T16:40:23.813Z"
   },
   {
    "duration": 4,
    "start_time": "2025-03-14T16:40:24.280Z"
   },
   {
    "duration": 4,
    "start_time": "2025-03-14T16:40:24.286Z"
   },
   {
    "duration": 2,
    "start_time": "2025-03-14T16:40:24.305Z"
   },
   {
    "duration": 99,
    "start_time": "2025-03-14T16:40:24.309Z"
   },
   {
    "duration": 102,
    "start_time": "2025-03-14T16:40:24.410Z"
   },
   {
    "duration": 232,
    "start_time": "2025-03-14T16:40:24.514Z"
   },
   {
    "duration": 268,
    "start_time": "2025-03-14T16:40:24.747Z"
   },
   {
    "duration": 95,
    "start_time": "2025-03-14T16:40:25.016Z"
   },
   {
    "duration": 13,
    "start_time": "2025-03-14T16:40:25.113Z"
   },
   {
    "duration": 17,
    "start_time": "2025-03-14T16:40:25.128Z"
   },
   {
    "duration": 16,
    "start_time": "2025-03-14T16:40:25.147Z"
   },
   {
    "duration": 38,
    "start_time": "2025-03-14T16:40:25.167Z"
   },
   {
    "duration": 14,
    "start_time": "2025-03-14T16:40:25.207Z"
   },
   {
    "duration": 96,
    "start_time": "2025-03-14T16:40:25.223Z"
   },
   {
    "duration": 24,
    "start_time": "2025-03-14T16:40:25.320Z"
   },
   {
    "duration": 75,
    "start_time": "2025-03-14T16:40:25.346Z"
   },
   {
    "duration": 330,
    "start_time": "2025-03-14T16:40:25.424Z"
   },
   {
    "duration": 565,
    "start_time": "2025-03-14T16:40:25.755Z"
   },
   {
    "duration": 48,
    "start_time": "2025-03-14T16:40:26.322Z"
   },
   {
    "duration": 3,
    "start_time": "2025-03-14T16:40:26.371Z"
   },
   {
    "duration": 224,
    "start_time": "2025-03-14T16:40:26.375Z"
   },
   {
    "duration": 12,
    "start_time": "2025-03-14T16:40:26.604Z"
   },
   {
    "duration": 6,
    "start_time": "2025-03-14T16:40:26.617Z"
   },
   {
    "duration": 11,
    "start_time": "2025-03-14T16:40:26.625Z"
   },
   {
    "duration": 3,
    "start_time": "2025-03-14T16:40:26.638Z"
   },
   {
    "duration": 100,
    "start_time": "2025-03-14T16:40:26.643Z"
   },
   {
    "duration": 8364,
    "start_time": "2025-03-14T16:40:26.745Z"
   },
   {
    "duration": 123162,
    "start_time": "2025-03-14T16:40:35.113Z"
   },
   {
    "duration": 0,
    "start_time": "2025-03-14T16:42:38.277Z"
   },
   {
    "duration": 211809,
    "start_time": "2025-03-14T16:42:40.101Z"
   },
   {
    "duration": 25,
    "start_time": "2025-03-14T16:46:11.912Z"
   },
   {
    "duration": 97,
    "start_time": "2025-03-14T17:14:13.488Z"
   },
   {
    "duration": 85,
    "start_time": "2025-03-14T17:14:19.197Z"
   },
   {
    "duration": 161,
    "start_time": "2025-03-14T22:46:48.416Z"
   },
   {
    "duration": 2,
    "start_time": "2025-03-14T23:00:52.376Z"
   },
   {
    "duration": 14,
    "start_time": "2025-03-14T23:26:47.000Z"
   },
   {
    "duration": 16,
    "start_time": "2025-03-15T00:14:40.738Z"
   },
   {
    "duration": 11,
    "start_time": "2025-03-15T00:14:48.995Z"
   },
   {
    "duration": 11,
    "start_time": "2025-03-15T00:16:03.521Z"
   },
   {
    "duration": 12,
    "start_time": "2025-03-15T00:17:11.839Z"
   },
   {
    "duration": 41,
    "start_time": "2025-03-15T00:29:59.078Z"
   },
   {
    "duration": 2828,
    "start_time": "2025-03-15T00:39:44.456Z"
   },
   {
    "duration": 461,
    "start_time": "2025-03-15T00:39:47.287Z"
   },
   {
    "duration": 4,
    "start_time": "2025-03-15T00:39:47.749Z"
   },
   {
    "duration": 4,
    "start_time": "2025-03-15T00:39:47.755Z"
   },
   {
    "duration": 3,
    "start_time": "2025-03-15T00:39:47.762Z"
   },
   {
    "duration": 110,
    "start_time": "2025-03-15T00:39:47.766Z"
   },
   {
    "duration": 97,
    "start_time": "2025-03-15T00:39:47.878Z"
   },
   {
    "duration": 238,
    "start_time": "2025-03-15T00:39:47.977Z"
   },
   {
    "duration": 277,
    "start_time": "2025-03-15T00:39:48.217Z"
   },
   {
    "duration": 92,
    "start_time": "2025-03-15T00:39:48.496Z"
   },
   {
    "duration": 13,
    "start_time": "2025-03-15T00:39:48.590Z"
   },
   {
    "duration": 13,
    "start_time": "2025-03-15T00:39:48.604Z"
   },
   {
    "duration": 33,
    "start_time": "2025-03-15T00:39:48.619Z"
   },
   {
    "duration": 16,
    "start_time": "2025-03-15T00:39:48.656Z"
   },
   {
    "duration": 14,
    "start_time": "2025-03-15T00:39:48.674Z"
   },
   {
    "duration": 99,
    "start_time": "2025-03-15T00:39:48.690Z"
   },
   {
    "duration": 25,
    "start_time": "2025-03-15T00:39:48.791Z"
   },
   {
    "duration": 75,
    "start_time": "2025-03-15T00:39:48.817Z"
   },
   {
    "duration": 330,
    "start_time": "2025-03-15T00:39:48.894Z"
   },
   {
    "duration": 575,
    "start_time": "2025-03-15T00:39:49.225Z"
   },
   {
    "duration": 53,
    "start_time": "2025-03-15T00:39:49.802Z"
   },
   {
    "duration": 4,
    "start_time": "2025-03-15T00:39:49.856Z"
   },
   {
    "duration": 213,
    "start_time": "2025-03-15T00:39:49.861Z"
   },
   {
    "duration": 12,
    "start_time": "2025-03-15T00:39:50.075Z"
   },
   {
    "duration": 3,
    "start_time": "2025-03-15T00:39:50.089Z"
   },
   {
    "duration": 13,
    "start_time": "2025-03-15T00:39:50.093Z"
   },
   {
    "duration": 3,
    "start_time": "2025-03-15T00:39:50.108Z"
   },
   {
    "duration": 137,
    "start_time": "2025-03-15T00:39:50.113Z"
   },
   {
    "duration": 7896,
    "start_time": "2025-03-15T00:39:50.252Z"
   },
   {
    "duration": 134,
    "start_time": "2025-03-15T00:39:58.150Z"
   },
   {
    "duration": 3,
    "start_time": "2025-03-15T00:39:58.286Z"
   },
   {
    "duration": 3,
    "start_time": "2025-03-15T00:39:58.342Z"
   },
   {
    "duration": 300,
    "start_time": "2025-03-15T00:39:58.348Z"
   },
   {
    "duration": 8,
    "start_time": "2025-03-15T00:39:58.650Z"
   },
   {
    "duration": 115,
    "start_time": "2025-03-15T00:39:58.661Z"
   },
   {
    "duration": 0,
    "start_time": "2025-03-15T00:39:58.778Z"
   },
   {
    "duration": 0,
    "start_time": "2025-03-15T00:39:58.779Z"
   },
   {
    "duration": 0,
    "start_time": "2025-03-15T00:39:58.781Z"
   },
   {
    "duration": 0,
    "start_time": "2025-03-15T00:39:58.782Z"
   },
   {
    "duration": 0,
    "start_time": "2025-03-15T00:39:58.783Z"
   },
   {
    "duration": 0,
    "start_time": "2025-03-15T00:39:58.785Z"
   },
   {
    "duration": 0,
    "start_time": "2025-03-15T00:39:58.786Z"
   },
   {
    "duration": 0,
    "start_time": "2025-03-15T00:39:58.788Z"
   },
   {
    "duration": 0,
    "start_time": "2025-03-15T00:39:58.789Z"
   },
   {
    "duration": 0,
    "start_time": "2025-03-15T00:39:58.791Z"
   },
   {
    "duration": 0,
    "start_time": "2025-03-15T00:39:58.792Z"
   },
   {
    "duration": 58,
    "start_time": "2025-03-15T00:45:54.441Z"
   },
   {
    "duration": 18,
    "start_time": "2025-03-15T00:46:04.491Z"
   },
   {
    "duration": 2,
    "start_time": "2025-03-15T00:46:16.653Z"
   },
   {
    "duration": 6,
    "start_time": "2025-03-15T00:46:18.752Z"
   },
   {
    "duration": 1070,
    "start_time": "2025-03-15T00:49:44.960Z"
   },
   {
    "duration": 418,
    "start_time": "2025-03-15T00:49:46.032Z"
   },
   {
    "duration": 3,
    "start_time": "2025-03-15T00:49:46.453Z"
   },
   {
    "duration": 3,
    "start_time": "2025-03-15T00:49:46.458Z"
   },
   {
    "duration": 3,
    "start_time": "2025-03-15T00:49:46.464Z"
   },
   {
    "duration": 78,
    "start_time": "2025-03-15T00:49:46.469Z"
   },
   {
    "duration": 100,
    "start_time": "2025-03-15T00:49:46.549Z"
   },
   {
    "duration": 243,
    "start_time": "2025-03-15T00:49:46.651Z"
   },
   {
    "duration": 384,
    "start_time": "2025-03-15T00:49:46.896Z"
   },
   {
    "duration": 101,
    "start_time": "2025-03-15T00:49:47.282Z"
   },
   {
    "duration": 18,
    "start_time": "2025-03-15T00:49:47.386Z"
   },
   {
    "duration": 15,
    "start_time": "2025-03-15T00:49:47.407Z"
   },
   {
    "duration": 26,
    "start_time": "2025-03-15T00:49:47.425Z"
   },
   {
    "duration": 13,
    "start_time": "2025-03-15T00:49:47.454Z"
   },
   {
    "duration": 14,
    "start_time": "2025-03-15T00:49:47.469Z"
   },
   {
    "duration": 111,
    "start_time": "2025-03-15T00:49:47.486Z"
   },
   {
    "duration": 25,
    "start_time": "2025-03-15T00:49:47.599Z"
   },
   {
    "duration": 78,
    "start_time": "2025-03-15T00:49:47.626Z"
   },
   {
    "duration": 344,
    "start_time": "2025-03-15T00:49:47.706Z"
   },
   {
    "duration": 578,
    "start_time": "2025-03-15T00:49:48.052Z"
   },
   {
    "duration": 57,
    "start_time": "2025-03-15T00:49:48.632Z"
   },
   {
    "duration": 3,
    "start_time": "2025-03-15T00:49:48.691Z"
   },
   {
    "duration": 255,
    "start_time": "2025-03-15T00:49:48.696Z"
   },
   {
    "duration": 14,
    "start_time": "2025-03-15T00:49:48.952Z"
   },
   {
    "duration": 4,
    "start_time": "2025-03-15T00:49:48.968Z"
   },
   {
    "duration": 14,
    "start_time": "2025-03-15T00:49:48.974Z"
   },
   {
    "duration": 3,
    "start_time": "2025-03-15T00:49:48.991Z"
   },
   {
    "duration": 168,
    "start_time": "2025-03-15T00:49:48.996Z"
   },
   {
    "duration": 8287,
    "start_time": "2025-03-15T00:49:49.165Z"
   },
   {
    "duration": 150,
    "start_time": "2025-03-15T00:49:57.453Z"
   },
   {
    "duration": 4,
    "start_time": "2025-03-15T00:49:57.643Z"
   },
   {
    "duration": 3,
    "start_time": "2025-03-15T00:49:57.648Z"
   },
   {
    "duration": 4,
    "start_time": "2025-03-15T00:49:57.652Z"
   },
   {
    "duration": 1919649,
    "start_time": "2025-03-15T00:49:57.657Z"
   },
   {
    "duration": 51,
    "start_time": "2025-03-15T01:21:57.307Z"
   },
   {
    "duration": 74,
    "start_time": "2025-03-15T01:21:57.360Z"
   },
   {
    "duration": 0,
    "start_time": "2025-03-15T01:21:57.443Z"
   },
   {
    "duration": 0,
    "start_time": "2025-03-15T01:21:57.444Z"
   },
   {
    "duration": 0,
    "start_time": "2025-03-15T01:21:57.445Z"
   },
   {
    "duration": 0,
    "start_time": "2025-03-15T01:21:57.447Z"
   },
   {
    "duration": 0,
    "start_time": "2025-03-15T01:21:57.448Z"
   },
   {
    "duration": 0,
    "start_time": "2025-03-15T01:21:57.449Z"
   },
   {
    "duration": 0,
    "start_time": "2025-03-15T01:21:57.450Z"
   },
   {
    "duration": 0,
    "start_time": "2025-03-15T01:21:57.451Z"
   },
   {
    "duration": 0,
    "start_time": "2025-03-15T01:21:57.453Z"
   },
   {
    "duration": 0,
    "start_time": "2025-03-15T01:21:57.455Z"
   },
   {
    "duration": 0,
    "start_time": "2025-03-15T01:21:57.456Z"
   },
   {
    "duration": 3,
    "start_time": "2025-03-15T01:22:18.366Z"
   },
   {
    "duration": 1504814,
    "start_time": "2025-03-15T01:22:19.737Z"
   },
   {
    "duration": 26,
    "start_time": "2025-03-15T01:47:24.557Z"
   },
   {
    "duration": 37,
    "start_time": "2025-03-15T01:59:37.216Z"
   },
   {
    "duration": 40,
    "start_time": "2025-03-15T01:59:38.545Z"
   },
   {
    "duration": 3,
    "start_time": "2025-03-15T02:00:04.512Z"
   },
   {
    "duration": 3,
    "start_time": "2025-03-15T02:00:06.361Z"
   },
   {
    "duration": 218504,
    "start_time": "2025-03-15T02:00:07.827Z"
   },
   {
    "duration": 336,
    "start_time": "2025-03-15T02:04:56.639Z"
   },
   {
    "duration": 29,
    "start_time": "2025-03-15T02:05:25.837Z"
   },
   {
    "duration": 4,
    "start_time": "2025-03-15T02:05:34.760Z"
   },
   {
    "duration": 16,
    "start_time": "2025-03-15T02:05:59.136Z"
   },
   {
    "duration": 5,
    "start_time": "2025-03-15T02:06:00.818Z"
   },
   {
    "duration": 5,
    "start_time": "2025-03-15T02:06:10.227Z"
   },
   {
    "duration": 4,
    "start_time": "2025-03-15T02:06:11.310Z"
   },
   {
    "duration": 469278,
    "start_time": "2025-03-15T02:06:12.865Z"
   },
   {
    "duration": 3,
    "start_time": "2025-03-15T02:14:02.146Z"
   },
   {
    "duration": 4,
    "start_time": "2025-03-15T02:14:10.438Z"
   },
   {
    "duration": 3,
    "start_time": "2025-03-15T02:14:32.125Z"
   },
   {
    "duration": 10024,
    "start_time": "2025-03-15T02:14:32.142Z"
   },
   {
    "duration": 3,
    "start_time": "2025-03-15T02:14:42.170Z"
   },
   {
    "duration": 320857,
    "start_time": "2025-03-15T02:14:44.987Z"
   },
   {
    "duration": 165,
    "start_time": "2025-03-15T02:22:07.199Z"
   },
   {
    "duration": 6,
    "start_time": "2025-03-15T02:22:10.692Z"
   },
   {
    "duration": 193,
    "start_time": "2025-03-15T02:22:30.160Z"
   },
   {
    "duration": 10,
    "start_time": "2025-03-15T02:23:36.104Z"
   },
   {
    "duration": 233,
    "start_time": "2025-03-15T02:25:31.712Z"
   },
   {
    "duration": 2,
    "start_time": "2025-03-15T02:28:16.293Z"
   },
   {
    "duration": 3,
    "start_time": "2025-03-15T02:28:17.474Z"
   },
   {
    "duration": 210289,
    "start_time": "2025-03-15T02:28:19.212Z"
   },
   {
    "duration": 26,
    "start_time": "2025-03-15T02:32:57.431Z"
   },
   {
    "duration": 18,
    "start_time": "2025-03-15T02:33:00.575Z"
   },
   {
    "duration": 17,
    "start_time": "2025-03-15T02:33:01.731Z"
   },
   {
    "duration": 3,
    "start_time": "2025-03-15T02:33:06.877Z"
   },
   {
    "duration": 3,
    "start_time": "2025-03-15T02:33:08.913Z"
   },
   {
    "duration": 264622,
    "start_time": "2025-03-15T02:33:12.327Z"
   },
   {
    "duration": 291,
    "start_time": "2025-03-15T02:37:36.951Z"
   },
   {
    "duration": 5,
    "start_time": "2025-03-15T02:37:37.243Z"
   },
   {
    "duration": 210,
    "start_time": "2025-03-15T02:37:37.249Z"
   },
   {
    "duration": 299,
    "start_time": "2025-03-15T02:59:59.245Z"
   },
   {
    "duration": 3016,
    "start_time": "2025-03-15T06:35:15.518Z"
   },
   {
    "duration": 487,
    "start_time": "2025-03-15T06:35:18.539Z"
   },
   {
    "duration": 4,
    "start_time": "2025-03-15T06:35:19.028Z"
   },
   {
    "duration": 4,
    "start_time": "2025-03-15T06:35:19.034Z"
   },
   {
    "duration": 3,
    "start_time": "2025-03-15T06:35:19.040Z"
   },
   {
    "duration": 91,
    "start_time": "2025-03-15T06:35:19.045Z"
   },
   {
    "duration": 95,
    "start_time": "2025-03-15T06:35:19.138Z"
   },
   {
    "duration": 223,
    "start_time": "2025-03-15T06:35:19.235Z"
   },
   {
    "duration": 247,
    "start_time": "2025-03-15T06:35:19.460Z"
   },
   {
    "duration": 90,
    "start_time": "2025-03-15T06:35:19.710Z"
   },
   {
    "duration": 24,
    "start_time": "2025-03-15T06:35:19.801Z"
   },
   {
    "duration": 15,
    "start_time": "2025-03-15T06:35:19.827Z"
   },
   {
    "duration": 15,
    "start_time": "2025-03-15T06:35:19.843Z"
   },
   {
    "duration": 15,
    "start_time": "2025-03-15T06:35:19.859Z"
   },
   {
    "duration": 15,
    "start_time": "2025-03-15T06:35:19.875Z"
   },
   {
    "duration": 78,
    "start_time": "2025-03-15T06:35:19.892Z"
   },
   {
    "duration": 21,
    "start_time": "2025-03-15T06:35:19.972Z"
   },
   {
    "duration": 48,
    "start_time": "2025-03-15T06:35:19.995Z"
   },
   {
    "duration": 128,
    "start_time": "2025-03-15T06:35:20.045Z"
   },
   {
    "duration": 88,
    "start_time": "2025-03-15T06:35:20.175Z"
   },
   {
    "duration": 8,
    "start_time": "2025-03-15T06:35:20.265Z"
   },
   {
    "duration": 3,
    "start_time": "2025-03-15T06:35:20.275Z"
   },
   {
    "duration": 55,
    "start_time": "2025-03-15T06:35:20.279Z"
   },
   {
    "duration": 4,
    "start_time": "2025-03-15T06:35:20.336Z"
   },
   {
    "duration": 3,
    "start_time": "2025-03-15T06:35:20.342Z"
   },
   {
    "duration": 5,
    "start_time": "2025-03-15T06:35:20.346Z"
   },
   {
    "duration": 3,
    "start_time": "2025-03-15T06:35:20.352Z"
   },
   {
    "duration": 114,
    "start_time": "2025-03-15T06:35:20.359Z"
   },
   {
    "duration": 450,
    "start_time": "2025-03-15T06:35:20.474Z"
   },
   {
    "duration": 19,
    "start_time": "2025-03-15T06:35:22.274Z"
   },
   {
    "duration": 4,
    "start_time": "2025-03-15T06:35:27.196Z"
   },
   {
    "duration": 3,
    "start_time": "2025-03-15T06:35:47.255Z"
   },
   {
    "duration": 2,
    "start_time": "2025-03-15T06:35:48.039Z"
   },
   {
    "duration": 81618,
    "start_time": "2025-03-15T06:35:48.593Z"
   },
   {
    "duration": 14,
    "start_time": "2025-03-15T06:37:10.213Z"
   },
   {
    "duration": 4,
    "start_time": "2025-03-15T06:37:10.229Z"
   },
   {
    "duration": 2,
    "start_time": "2025-03-15T06:37:10.236Z"
   },
   {
    "duration": 4,
    "start_time": "2025-03-15T06:37:10.240Z"
   },
   {
    "duration": 85485,
    "start_time": "2025-03-15T06:37:10.245Z"
   },
   {
    "duration": 111,
    "start_time": "2025-03-15T06:38:35.731Z"
   },
   {
    "duration": 79,
    "start_time": "2025-03-15T06:38:35.845Z"
   },
   {
    "duration": 106,
    "start_time": "2025-03-15T06:38:35.926Z"
   },
   {
    "duration": 2,
    "start_time": "2025-03-15T06:49:00.915Z"
   },
   {
    "duration": 2,
    "start_time": "2025-03-15T06:49:02.754Z"
   },
   {
    "duration": 307596,
    "start_time": "2025-03-15T06:49:05.522Z"
   },
   {
    "duration": 108,
    "start_time": "2025-03-15T06:54:13.125Z"
   },
   {
    "duration": 3,
    "start_time": "2025-03-15T06:54:13.236Z"
   },
   {
    "duration": 3,
    "start_time": "2025-03-15T06:54:38.923Z"
   },
   {
    "duration": 1856,
    "start_time": "2025-03-15T06:54:40.314Z"
   },
   {
    "duration": 2,
    "start_time": "2025-03-15T06:55:09.329Z"
   },
   {
    "duration": 3,
    "start_time": "2025-03-15T06:55:10.622Z"
   },
   {
    "duration": 1055,
    "start_time": "2025-03-15T06:56:01.543Z"
   },
   {
    "duration": 411,
    "start_time": "2025-03-15T06:56:02.600Z"
   },
   {
    "duration": 11,
    "start_time": "2025-03-15T06:56:03.013Z"
   },
   {
    "duration": 4,
    "start_time": "2025-03-15T06:56:03.027Z"
   },
   {
    "duration": 4,
    "start_time": "2025-03-15T06:56:03.032Z"
   },
   {
    "duration": 60,
    "start_time": "2025-03-15T06:56:03.037Z"
   },
   {
    "duration": 118,
    "start_time": "2025-03-15T06:56:03.098Z"
   },
   {
    "duration": 242,
    "start_time": "2025-03-15T06:56:03.218Z"
   },
   {
    "duration": 253,
    "start_time": "2025-03-15T06:56:03.461Z"
   },
   {
    "duration": 93,
    "start_time": "2025-03-15T06:56:03.716Z"
   },
   {
    "duration": 15,
    "start_time": "2025-03-15T06:56:03.823Z"
   },
   {
    "duration": 15,
    "start_time": "2025-03-15T06:56:03.840Z"
   },
   {
    "duration": 18,
    "start_time": "2025-03-15T06:56:03.856Z"
   },
   {
    "duration": 14,
    "start_time": "2025-03-15T06:56:03.878Z"
   },
   {
    "duration": 32,
    "start_time": "2025-03-15T06:56:03.894Z"
   },
   {
    "duration": 59,
    "start_time": "2025-03-15T06:56:03.928Z"
   },
   {
    "duration": 36,
    "start_time": "2025-03-15T06:56:03.989Z"
   },
   {
    "duration": 36,
    "start_time": "2025-03-15T06:56:04.026Z"
   },
   {
    "duration": 125,
    "start_time": "2025-03-15T06:56:04.064Z"
   },
   {
    "duration": 92,
    "start_time": "2025-03-15T06:56:04.191Z"
   },
   {
    "duration": 9,
    "start_time": "2025-03-15T06:56:04.285Z"
   },
   {
    "duration": 3,
    "start_time": "2025-03-15T06:56:04.296Z"
   },
   {
    "duration": 49,
    "start_time": "2025-03-15T06:56:04.301Z"
   },
   {
    "duration": 4,
    "start_time": "2025-03-15T06:56:04.352Z"
   },
   {
    "duration": 3,
    "start_time": "2025-03-15T06:56:04.358Z"
   },
   {
    "duration": 4,
    "start_time": "2025-03-15T06:56:04.363Z"
   },
   {
    "duration": 3,
    "start_time": "2025-03-15T06:56:04.369Z"
   },
   {
    "duration": 120,
    "start_time": "2025-03-15T06:56:04.377Z"
   },
   {
    "duration": 427,
    "start_time": "2025-03-15T06:56:04.499Z"
   },
   {
    "duration": 23,
    "start_time": "2025-03-15T06:56:04.927Z"
   },
   {
    "duration": 74,
    "start_time": "2025-03-15T06:56:04.952Z"
   },
   {
    "duration": 3,
    "start_time": "2025-03-15T06:56:05.028Z"
   },
   {
    "duration": 3,
    "start_time": "2025-03-15T06:56:05.033Z"
   },
   {
    "duration": 301481,
    "start_time": "2025-03-15T06:56:05.037Z"
   },
   {
    "duration": 179,
    "start_time": "2025-03-15T07:01:06.520Z"
   },
   {
    "duration": 2,
    "start_time": "2025-03-15T07:01:06.701Z"
   },
   {
    "duration": 3,
    "start_time": "2025-03-15T07:01:06.705Z"
   },
   {
    "duration": 15,
    "start_time": "2025-03-15T07:01:06.710Z"
   },
   {
    "duration": 104986,
    "start_time": "2025-03-15T07:01:06.728Z"
   },
   {
    "duration": 13,
    "start_time": "2025-03-15T07:02:51.716Z"
   },
   {
    "duration": 4,
    "start_time": "2025-03-15T07:02:51.731Z"
   },
   {
    "duration": 2,
    "start_time": "2025-03-15T07:02:51.737Z"
   },
   {
    "duration": 4,
    "start_time": "2025-03-15T07:02:51.741Z"
   },
   {
    "duration": 83989,
    "start_time": "2025-03-15T07:02:51.747Z"
   },
   {
    "duration": 184,
    "start_time": "2025-03-15T07:04:15.740Z"
   },
   {
    "duration": 3,
    "start_time": "2025-03-15T07:04:15.927Z"
   },
   {
    "duration": 107,
    "start_time": "2025-03-15T07:04:15.932Z"
   },
   {
    "duration": 186,
    "start_time": "2025-03-15T07:04:16.043Z"
   },
   {
    "duration": 3,
    "start_time": "2025-03-15T07:05:49.421Z"
   },
   {
    "duration": 3,
    "start_time": "2025-03-15T07:05:50.874Z"
   },
   {
    "duration": 105253,
    "start_time": "2025-03-15T07:05:52.958Z"
   },
   {
    "duration": 14,
    "start_time": "2025-03-15T07:07:38.213Z"
   },
   {
    "duration": 4,
    "start_time": "2025-03-15T07:07:38.229Z"
   },
   {
    "duration": 4,
    "start_time": "2025-03-15T07:08:03.391Z"
   },
   {
    "duration": 2,
    "start_time": "2025-03-15T07:08:46.980Z"
   },
   {
    "duration": 3,
    "start_time": "2025-03-15T07:08:49.408Z"
   },
   {
    "duration": 84181,
    "start_time": "2025-03-15T07:09:16.748Z"
   },
   {
    "duration": 109,
    "start_time": "2025-03-15T07:10:40.932Z"
   },
   {
    "duration": 81,
    "start_time": "2025-03-15T07:10:41.044Z"
   },
   {
    "duration": 104,
    "start_time": "2025-03-15T07:10:41.127Z"
   },
   {
    "duration": 80,
    "start_time": "2025-03-15T07:10:50.553Z"
   },
   {
    "duration": 54,
    "start_time": "2025-03-15T07:14:46.476Z"
   },
   {
    "duration": 2,
    "start_time": "2025-03-15T07:21:58.029Z"
   },
   {
    "duration": 2,
    "start_time": "2025-03-15T07:21:59.579Z"
   },
   {
    "duration": 302592,
    "start_time": "2025-03-15T07:22:02.061Z"
   },
   {
    "duration": 3,
    "start_time": "2025-03-15T07:27:04.655Z"
   },
   {
    "duration": 79,
    "start_time": "2025-03-15T07:27:04.660Z"
   },
   {
    "duration": 3,
    "start_time": "2025-03-15T07:28:21.772Z"
   },
   {
    "duration": 3,
    "start_time": "2025-03-15T07:28:23.591Z"
   },
   {
    "duration": 80767,
    "start_time": "2025-03-15T07:28:29.937Z"
   },
   {
    "duration": 13,
    "start_time": "2025-03-15T07:29:50.707Z"
   },
   {
    "duration": 4,
    "start_time": "2025-03-15T07:29:50.721Z"
   },
   {
    "duration": 3,
    "start_time": "2025-03-15T07:29:50.727Z"
   },
   {
    "duration": 3,
    "start_time": "2025-03-15T07:29:50.731Z"
   },
   {
    "duration": 84198,
    "start_time": "2025-03-15T07:29:50.736Z"
   },
   {
    "duration": 107,
    "start_time": "2025-03-15T07:31:14.937Z"
   },
   {
    "duration": 4,
    "start_time": "2025-03-15T07:31:15.125Z"
   },
   {
    "duration": 104,
    "start_time": "2025-03-15T07:31:15.131Z"
   },
   {
    "duration": 2881,
    "start_time": "2025-03-15T16:58:40.135Z"
   },
   {
    "duration": 482,
    "start_time": "2025-03-15T16:58:43.018Z"
   },
   {
    "duration": 4,
    "start_time": "2025-03-15T16:58:43.502Z"
   },
   {
    "duration": 16,
    "start_time": "2025-03-15T16:58:43.508Z"
   },
   {
    "duration": 3,
    "start_time": "2025-03-15T16:58:43.527Z"
   },
   {
    "duration": 56,
    "start_time": "2025-03-15T16:58:43.531Z"
   },
   {
    "duration": 101,
    "start_time": "2025-03-15T16:58:43.589Z"
   },
   {
    "duration": 241,
    "start_time": "2025-03-15T16:58:43.691Z"
   },
   {
    "duration": 247,
    "start_time": "2025-03-15T16:58:43.933Z"
   },
   {
    "duration": 98,
    "start_time": "2025-03-15T16:58:44.181Z"
   },
   {
    "duration": 14,
    "start_time": "2025-03-15T16:58:44.281Z"
   },
   {
    "duration": 30,
    "start_time": "2025-03-15T16:58:44.297Z"
   },
   {
    "duration": 13,
    "start_time": "2025-03-15T16:58:44.329Z"
   },
   {
    "duration": 14,
    "start_time": "2025-03-15T16:58:44.346Z"
   },
   {
    "duration": 15,
    "start_time": "2025-03-15T16:58:44.362Z"
   },
   {
    "duration": 81,
    "start_time": "2025-03-15T16:58:44.379Z"
   },
   {
    "duration": 21,
    "start_time": "2025-03-15T16:58:44.462Z"
   },
   {
    "duration": 47,
    "start_time": "2025-03-15T16:58:44.485Z"
   },
   {
    "duration": 120,
    "start_time": "2025-03-15T16:58:44.534Z"
   },
   {
    "duration": 92,
    "start_time": "2025-03-15T16:58:44.656Z"
   },
   {
    "duration": 8,
    "start_time": "2025-03-15T16:58:44.750Z"
   },
   {
    "duration": 2,
    "start_time": "2025-03-15T16:58:44.760Z"
   },
   {
    "duration": 35,
    "start_time": "2025-03-15T16:58:44.764Z"
   },
   {
    "duration": 24,
    "start_time": "2025-03-15T16:58:44.800Z"
   },
   {
    "duration": 3,
    "start_time": "2025-03-15T16:58:44.826Z"
   },
   {
    "duration": 6,
    "start_time": "2025-03-15T16:58:44.831Z"
   },
   {
    "duration": 4,
    "start_time": "2025-03-15T16:58:44.838Z"
   },
   {
    "duration": 118,
    "start_time": "2025-03-15T16:58:44.843Z"
   },
   {
    "duration": 378,
    "start_time": "2025-03-15T16:58:44.962Z"
   },
   {
    "duration": 92,
    "start_time": "2025-03-15T16:58:45.342Z"
   },
   {
    "duration": 4,
    "start_time": "2025-03-15T16:58:45.435Z"
   },
   {
    "duration": 4,
    "start_time": "2025-03-15T16:58:45.443Z"
   },
   {
    "duration": 73,
    "start_time": "2025-03-15T16:58:45.451Z"
   },
   {
    "duration": 488741,
    "start_time": "2025-03-15T16:58:45.526Z"
   },
   {
    "duration": 3,
    "start_time": "2025-03-15T17:06:54.269Z"
   },
   {
    "duration": 180,
    "start_time": "2025-03-15T17:06:54.274Z"
   },
   {
    "duration": 3,
    "start_time": "2025-03-15T17:06:54.456Z"
   },
   {
    "duration": 3,
    "start_time": "2025-03-15T17:06:54.461Z"
   },
   {
    "duration": 82458,
    "start_time": "2025-03-15T17:06:54.466Z"
   },
   {
    "duration": 14,
    "start_time": "2025-03-15T17:08:16.926Z"
   },
   {
    "duration": 4,
    "start_time": "2025-03-15T17:08:16.944Z"
   },
   {
    "duration": 3,
    "start_time": "2025-03-15T17:08:16.950Z"
   },
   {
    "duration": 4,
    "start_time": "2025-03-15T17:08:16.954Z"
   },
   {
    "duration": 92077,
    "start_time": "2025-03-15T17:08:16.959Z"
   },
   {
    "duration": 191,
    "start_time": "2025-03-15T17:09:49.038Z"
   },
   {
    "duration": 3,
    "start_time": "2025-03-15T17:09:49.233Z"
   },
   {
    "duration": 102,
    "start_time": "2025-03-15T17:09:49.238Z"
   },
   {
    "duration": 1212,
    "start_time": "2025-03-15T17:12:07.353Z"
   },
   {
    "duration": 436,
    "start_time": "2025-03-15T17:12:08.568Z"
   },
   {
    "duration": 4,
    "start_time": "2025-03-15T17:12:09.007Z"
   },
   {
    "duration": 5,
    "start_time": "2025-03-15T17:12:09.023Z"
   },
   {
    "duration": 3,
    "start_time": "2025-03-15T17:12:09.030Z"
   },
   {
    "duration": 109,
    "start_time": "2025-03-15T17:12:09.035Z"
   },
   {
    "duration": 94,
    "start_time": "2025-03-15T17:12:09.146Z"
   },
   {
    "duration": 252,
    "start_time": "2025-03-15T17:12:09.242Z"
   },
   {
    "duration": 280,
    "start_time": "2025-03-15T17:12:09.496Z"
   },
   {
    "duration": 92,
    "start_time": "2025-03-15T17:12:09.779Z"
   },
   {
    "duration": 15,
    "start_time": "2025-03-15T17:12:09.872Z"
   },
   {
    "duration": 15,
    "start_time": "2025-03-15T17:12:09.889Z"
   },
   {
    "duration": 31,
    "start_time": "2025-03-15T17:12:09.906Z"
   },
   {
    "duration": 15,
    "start_time": "2025-03-15T17:12:09.938Z"
   },
   {
    "duration": 16,
    "start_time": "2025-03-15T17:12:09.955Z"
   },
   {
    "duration": 82,
    "start_time": "2025-03-15T17:12:09.973Z"
   },
   {
    "duration": 24,
    "start_time": "2025-03-15T17:12:10.056Z"
   },
   {
    "duration": 58,
    "start_time": "2025-03-15T17:12:10.083Z"
   },
   {
    "duration": 119,
    "start_time": "2025-03-15T17:12:10.143Z"
   },
   {
    "duration": 99,
    "start_time": "2025-03-15T17:12:10.264Z"
   },
   {
    "duration": 8,
    "start_time": "2025-03-15T17:12:10.367Z"
   },
   {
    "duration": 3,
    "start_time": "2025-03-15T17:12:10.377Z"
   },
   {
    "duration": 48,
    "start_time": "2025-03-15T17:12:10.382Z"
   },
   {
    "duration": 5,
    "start_time": "2025-03-15T17:12:10.432Z"
   },
   {
    "duration": 4,
    "start_time": "2025-03-15T17:12:10.438Z"
   },
   {
    "duration": 8,
    "start_time": "2025-03-15T17:12:10.443Z"
   },
   {
    "duration": 3,
    "start_time": "2025-03-15T17:12:10.452Z"
   },
   {
    "duration": 129,
    "start_time": "2025-03-15T17:12:10.461Z"
   },
   {
    "duration": 537,
    "start_time": "2025-03-15T17:12:10.591Z"
   },
   {
    "duration": 91,
    "start_time": "2025-03-15T17:12:11.133Z"
   },
   {
    "duration": 7,
    "start_time": "2025-03-15T17:12:11.228Z"
   },
   {
    "duration": 4,
    "start_time": "2025-03-15T17:12:11.239Z"
   },
   {
    "duration": 78,
    "start_time": "2025-03-15T17:12:11.246Z"
   },
   {
    "duration": 478545,
    "start_time": "2025-03-15T17:12:11.326Z"
   },
   {
    "duration": 2,
    "start_time": "2025-03-15T17:20:09.873Z"
   },
   {
    "duration": 4,
    "start_time": "2025-03-15T17:20:09.877Z"
   },
   {
    "duration": 242,
    "start_time": "2025-03-15T17:20:09.883Z"
   },
   {
    "duration": 3,
    "start_time": "2025-03-15T17:20:10.128Z"
   },
   {
    "duration": 5,
    "start_time": "2025-03-15T17:20:10.132Z"
   },
   {
    "duration": 81294,
    "start_time": "2025-03-15T17:20:10.139Z"
   },
   {
    "duration": 14,
    "start_time": "2025-03-15T17:21:31.435Z"
   },
   {
    "duration": 5,
    "start_time": "2025-03-15T17:21:31.451Z"
   },
   {
    "duration": 2,
    "start_time": "2025-03-15T17:21:31.459Z"
   },
   {
    "duration": 4,
    "start_time": "2025-03-15T17:21:31.463Z"
   },
   {
    "duration": 83862,
    "start_time": "2025-03-15T17:21:31.468Z"
   },
   {
    "duration": 109,
    "start_time": "2025-03-15T17:22:55.332Z"
   },
   {
    "duration": 82,
    "start_time": "2025-03-15T17:22:55.443Z"
   },
   {
    "duration": 106,
    "start_time": "2025-03-15T17:22:55.526Z"
   },
   {
    "duration": 1013,
    "start_time": "2025-03-15T17:23:26.480Z"
   },
   {
    "duration": 492,
    "start_time": "2025-03-15T17:23:27.496Z"
   },
   {
    "duration": 4,
    "start_time": "2025-03-15T17:23:27.989Z"
   },
   {
    "duration": 3,
    "start_time": "2025-03-15T17:23:27.994Z"
   },
   {
    "duration": 2,
    "start_time": "2025-03-15T17:23:28.000Z"
   },
   {
    "duration": 72,
    "start_time": "2025-03-15T17:23:28.004Z"
   },
   {
    "duration": 118,
    "start_time": "2025-03-15T17:23:28.078Z"
   },
   {
    "duration": 239,
    "start_time": "2025-03-15T17:23:28.198Z"
   },
   {
    "duration": 248,
    "start_time": "2025-03-15T17:23:28.438Z"
   },
   {
    "duration": 91,
    "start_time": "2025-03-15T17:23:28.688Z"
   },
   {
    "duration": 16,
    "start_time": "2025-03-15T17:23:28.781Z"
   },
   {
    "duration": 27,
    "start_time": "2025-03-15T17:23:28.798Z"
   },
   {
    "duration": 14,
    "start_time": "2025-03-15T17:23:28.827Z"
   },
   {
    "duration": 14,
    "start_time": "2025-03-15T17:23:28.845Z"
   },
   {
    "duration": 15,
    "start_time": "2025-03-15T17:23:28.860Z"
   },
   {
    "duration": 77,
    "start_time": "2025-03-15T17:23:28.878Z"
   },
   {
    "duration": 21,
    "start_time": "2025-03-15T17:23:28.957Z"
   },
   {
    "duration": 49,
    "start_time": "2025-03-15T17:23:28.980Z"
   },
   {
    "duration": 118,
    "start_time": "2025-03-15T17:23:29.031Z"
   },
   {
    "duration": 92,
    "start_time": "2025-03-15T17:23:29.151Z"
   },
   {
    "duration": 8,
    "start_time": "2025-03-15T17:23:29.244Z"
   },
   {
    "duration": 3,
    "start_time": "2025-03-15T17:23:29.254Z"
   },
   {
    "duration": 33,
    "start_time": "2025-03-15T17:23:29.258Z"
   },
   {
    "duration": 7,
    "start_time": "2025-03-15T17:23:29.293Z"
   },
   {
    "duration": 25,
    "start_time": "2025-03-15T17:23:29.301Z"
   },
   {
    "duration": 6,
    "start_time": "2025-03-15T17:23:29.328Z"
   },
   {
    "duration": 3,
    "start_time": "2025-03-15T17:23:29.336Z"
   },
   {
    "duration": 114,
    "start_time": "2025-03-15T17:23:29.340Z"
   },
   {
    "duration": 385,
    "start_time": "2025-03-15T17:23:29.456Z"
   },
   {
    "duration": 95,
    "start_time": "2025-03-15T17:23:29.843Z"
   },
   {
    "duration": 5,
    "start_time": "2025-03-15T17:23:29.943Z"
   },
   {
    "duration": 4,
    "start_time": "2025-03-15T17:23:30.025Z"
   },
   {
    "duration": 2,
    "start_time": "2025-03-15T17:23:30.034Z"
   },
   {
    "duration": 4,
    "start_time": "2025-03-15T17:23:30.037Z"
   },
   {
    "duration": 485972,
    "start_time": "2025-03-15T17:23:30.042Z"
   },
   {
    "duration": 9,
    "start_time": "2025-03-15T17:31:36.016Z"
   },
   {
    "duration": 228,
    "start_time": "2025-03-15T17:31:36.027Z"
   },
   {
    "duration": 4,
    "start_time": "2025-03-15T17:31:36.257Z"
   },
   {
    "duration": 2,
    "start_time": "2025-03-15T17:31:36.263Z"
   },
   {
    "duration": 3,
    "start_time": "2025-03-15T17:31:36.267Z"
   },
   {
    "duration": 81601,
    "start_time": "2025-03-15T17:31:36.274Z"
   },
   {
    "duration": 13,
    "start_time": "2025-03-15T17:32:57.876Z"
   },
   {
    "duration": 4,
    "start_time": "2025-03-15T17:32:57.891Z"
   },
   {
    "duration": 3,
    "start_time": "2025-03-15T17:32:57.897Z"
   },
   {
    "duration": 4,
    "start_time": "2025-03-15T17:32:57.901Z"
   },
   {
    "duration": 91418,
    "start_time": "2025-03-15T17:32:57.907Z"
   },
   {
    "duration": 108,
    "start_time": "2025-03-15T17:34:29.327Z"
   },
   {
    "duration": 3,
    "start_time": "2025-03-15T17:34:29.439Z"
   },
   {
    "duration": 182,
    "start_time": "2025-03-15T17:34:29.444Z"
   },
   {
    "duration": 994,
    "start_time": "2025-03-15T17:55:39.193Z"
   },
   {
    "duration": 418,
    "start_time": "2025-03-15T17:55:40.190Z"
   },
   {
    "duration": 4,
    "start_time": "2025-03-15T17:55:40.609Z"
   },
   {
    "duration": 4,
    "start_time": "2025-03-15T17:55:40.624Z"
   },
   {
    "duration": 3,
    "start_time": "2025-03-15T17:55:40.630Z"
   },
   {
    "duration": 58,
    "start_time": "2025-03-15T17:55:40.634Z"
   },
   {
    "duration": 110,
    "start_time": "2025-03-15T17:55:40.695Z"
   },
   {
    "duration": 225,
    "start_time": "2025-03-15T17:55:40.806Z"
   },
   {
    "duration": 259,
    "start_time": "2025-03-15T17:55:41.033Z"
   },
   {
    "duration": 92,
    "start_time": "2025-03-15T17:55:41.296Z"
   },
   {
    "duration": 15,
    "start_time": "2025-03-15T17:55:41.389Z"
   },
   {
    "duration": 31,
    "start_time": "2025-03-15T17:55:41.405Z"
   },
   {
    "duration": 15,
    "start_time": "2025-03-15T17:55:41.439Z"
   },
   {
    "duration": 15,
    "start_time": "2025-03-15T17:55:41.455Z"
   },
   {
    "duration": 18,
    "start_time": "2025-03-15T17:55:41.472Z"
   },
   {
    "duration": 85,
    "start_time": "2025-03-15T17:55:41.491Z"
   },
   {
    "duration": 23,
    "start_time": "2025-03-15T17:55:41.577Z"
   },
   {
    "duration": 47,
    "start_time": "2025-03-15T17:55:41.602Z"
   },
   {
    "duration": 123,
    "start_time": "2025-03-15T17:55:41.651Z"
   },
   {
    "duration": 93,
    "start_time": "2025-03-15T17:55:41.776Z"
   },
   {
    "duration": 8,
    "start_time": "2025-03-15T17:55:41.870Z"
   },
   {
    "duration": 3,
    "start_time": "2025-03-15T17:55:41.880Z"
   },
   {
    "duration": 50,
    "start_time": "2025-03-15T17:55:41.885Z"
   },
   {
    "duration": 4,
    "start_time": "2025-03-15T17:55:41.937Z"
   },
   {
    "duration": 3,
    "start_time": "2025-03-15T17:55:41.943Z"
   },
   {
    "duration": 4,
    "start_time": "2025-03-15T17:55:41.948Z"
   },
   {
    "duration": 3,
    "start_time": "2025-03-15T17:55:41.954Z"
   },
   {
    "duration": 118,
    "start_time": "2025-03-15T17:55:41.962Z"
   },
   {
    "duration": 357,
    "start_time": "2025-03-15T17:55:42.082Z"
   },
   {
    "duration": 99,
    "start_time": "2025-03-15T17:55:42.441Z"
   },
   {
    "duration": 4,
    "start_time": "2025-03-15T17:55:42.542Z"
   },
   {
    "duration": 3,
    "start_time": "2025-03-15T17:55:42.548Z"
   },
   {
    "duration": 2,
    "start_time": "2025-03-15T17:55:42.553Z"
   },
   {
    "duration": 3,
    "start_time": "2025-03-15T17:55:42.557Z"
   },
   {
    "duration": 487178,
    "start_time": "2025-03-15T17:55:42.563Z"
   },
   {
    "duration": 235,
    "start_time": "2025-03-15T18:03:49.744Z"
   },
   {
    "duration": 0,
    "start_time": "2025-03-15T18:03:49.981Z"
   },
   {
    "duration": 0,
    "start_time": "2025-03-15T18:03:49.982Z"
   },
   {
    "duration": 0,
    "start_time": "2025-03-15T18:03:49.984Z"
   },
   {
    "duration": 0,
    "start_time": "2025-03-15T18:03:49.985Z"
   },
   {
    "duration": 0,
    "start_time": "2025-03-15T18:03:49.987Z"
   },
   {
    "duration": 0,
    "start_time": "2025-03-15T18:03:49.988Z"
   },
   {
    "duration": 0,
    "start_time": "2025-03-15T18:03:49.990Z"
   },
   {
    "duration": 0,
    "start_time": "2025-03-15T18:03:49.992Z"
   },
   {
    "duration": 0,
    "start_time": "2025-03-15T18:03:49.993Z"
   },
   {
    "duration": 0,
    "start_time": "2025-03-15T18:03:49.995Z"
   },
   {
    "duration": 0,
    "start_time": "2025-03-15T18:03:49.996Z"
   },
   {
    "duration": 0,
    "start_time": "2025-03-15T18:03:49.997Z"
   },
   {
    "duration": 0,
    "start_time": "2025-03-15T18:03:49.998Z"
   },
   {
    "duration": 3,
    "start_time": "2025-03-15T18:03:55.119Z"
   },
   {
    "duration": 218,
    "start_time": "2025-03-15T18:03:56.736Z"
   },
   {
    "duration": 4,
    "start_time": "2025-03-15T18:03:58.708Z"
   },
   {
    "duration": 3,
    "start_time": "2025-03-15T18:08:29.620Z"
   },
   {
    "duration": 15,
    "start_time": "2025-03-15T18:08:35.402Z"
   },
   {
    "duration": 3,
    "start_time": "2025-03-15T18:08:47.568Z"
   },
   {
    "duration": 83568,
    "start_time": "2025-03-15T18:08:53.679Z"
   },
   {
    "duration": 13,
    "start_time": "2025-03-15T18:10:17.250Z"
   },
   {
    "duration": 4,
    "start_time": "2025-03-15T18:10:17.264Z"
   },
   {
    "duration": 2,
    "start_time": "2025-03-15T18:12:49.596Z"
   },
   {
    "duration": 14,
    "start_time": "2025-03-15T18:12:51.430Z"
   },
   {
    "duration": 2,
    "start_time": "2025-03-15T18:13:05.865Z"
   },
   {
    "duration": 84416,
    "start_time": "2025-03-15T18:13:08.224Z"
   },
   {
    "duration": 108,
    "start_time": "2025-03-15T18:14:32.723Z"
   },
   {
    "duration": 14,
    "start_time": "2025-03-15T18:14:32.834Z"
   },
   {
    "duration": 4,
    "start_time": "2025-03-15T18:14:43.654Z"
   },
   {
    "duration": 227,
    "start_time": "2025-03-15T18:14:51.865Z"
   },
   {
    "duration": 104,
    "start_time": "2025-03-15T18:15:04.122Z"
   },
   {
    "duration": 3,
    "start_time": "2025-03-15T18:24:53.208Z"
   },
   {
    "duration": 3,
    "start_time": "2025-03-15T18:24:54.670Z"
   },
   {
    "duration": 3,
    "start_time": "2025-03-15T18:24:58.167Z"
   },
   {
    "duration": 1071,
    "start_time": "2025-03-15T18:29:35.334Z"
   },
   {
    "duration": 422,
    "start_time": "2025-03-15T18:29:36.407Z"
   },
   {
    "duration": 3,
    "start_time": "2025-03-15T18:29:36.832Z"
   },
   {
    "duration": 3,
    "start_time": "2025-03-15T18:29:36.838Z"
   },
   {
    "duration": 4,
    "start_time": "2025-03-15T18:29:36.843Z"
   },
   {
    "duration": 78,
    "start_time": "2025-03-15T18:29:36.848Z"
   },
   {
    "duration": 100,
    "start_time": "2025-03-15T18:29:36.927Z"
   },
   {
    "duration": 227,
    "start_time": "2025-03-15T18:29:37.029Z"
   },
   {
    "duration": 267,
    "start_time": "2025-03-15T18:29:37.258Z"
   },
   {
    "duration": 96,
    "start_time": "2025-03-15T18:29:37.529Z"
   },
   {
    "duration": 19,
    "start_time": "2025-03-15T18:29:37.626Z"
   },
   {
    "duration": 15,
    "start_time": "2025-03-15T18:29:37.646Z"
   },
   {
    "duration": 14,
    "start_time": "2025-03-15T18:29:37.662Z"
   },
   {
    "duration": 14,
    "start_time": "2025-03-15T18:29:37.677Z"
   },
   {
    "duration": 36,
    "start_time": "2025-03-15T18:29:37.693Z"
   },
   {
    "duration": 78,
    "start_time": "2025-03-15T18:29:37.731Z"
   },
   {
    "duration": 34,
    "start_time": "2025-03-15T18:29:37.810Z"
   },
   {
    "duration": 37,
    "start_time": "2025-03-15T18:29:37.846Z"
   },
   {
    "duration": 141,
    "start_time": "2025-03-15T18:29:37.885Z"
   },
   {
    "duration": 95,
    "start_time": "2025-03-15T18:29:38.029Z"
   },
   {
    "duration": 9,
    "start_time": "2025-03-15T18:29:38.126Z"
   },
   {
    "duration": 2,
    "start_time": "2025-03-15T18:29:38.137Z"
   },
   {
    "duration": 34,
    "start_time": "2025-03-15T18:29:38.142Z"
   },
   {
    "duration": 5,
    "start_time": "2025-03-15T18:29:38.178Z"
   },
   {
    "duration": 5,
    "start_time": "2025-03-15T18:29:38.187Z"
   },
   {
    "duration": 31,
    "start_time": "2025-03-15T18:29:38.195Z"
   },
   {
    "duration": 3,
    "start_time": "2025-03-15T18:29:38.228Z"
   },
   {
    "duration": 108,
    "start_time": "2025-03-15T18:29:38.235Z"
   },
   {
    "duration": 388,
    "start_time": "2025-03-15T18:29:38.345Z"
   },
   {
    "duration": 92,
    "start_time": "2025-03-15T18:29:38.735Z"
   },
   {
    "duration": 4,
    "start_time": "2025-03-15T18:29:38.829Z"
   },
   {
    "duration": 2,
    "start_time": "2025-03-15T18:29:38.835Z"
   },
   {
    "duration": 5,
    "start_time": "2025-03-15T18:29:38.839Z"
   },
   {
    "duration": 78,
    "start_time": "2025-03-15T18:29:38.845Z"
   },
   {
    "duration": 486913,
    "start_time": "2025-03-15T18:29:38.925Z"
   },
   {
    "duration": 2,
    "start_time": "2025-03-15T18:37:45.840Z"
   },
   {
    "duration": 244,
    "start_time": "2025-03-15T18:37:45.844Z"
   },
   {
    "duration": 4,
    "start_time": "2025-03-15T18:37:46.090Z"
   },
   {
    "duration": 3,
    "start_time": "2025-03-15T18:37:46.097Z"
   },
   {
    "duration": 3,
    "start_time": "2025-03-15T18:37:46.102Z"
   },
   {
    "duration": 81517,
    "start_time": "2025-03-15T18:37:46.124Z"
   },
   {
    "duration": 13,
    "start_time": "2025-03-15T18:39:07.644Z"
   },
   {
    "duration": 4,
    "start_time": "2025-03-15T18:39:07.658Z"
   },
   {
    "duration": 3,
    "start_time": "2025-03-15T18:39:07.664Z"
   },
   {
    "duration": 3,
    "start_time": "2025-03-15T18:39:07.668Z"
   },
   {
    "duration": 85258,
    "start_time": "2025-03-15T18:39:07.673Z"
   },
   {
    "duration": 109,
    "start_time": "2025-03-15T18:40:32.933Z"
   },
   {
    "duration": 4,
    "start_time": "2025-03-15T18:40:33.124Z"
   },
   {
    "duration": 104,
    "start_time": "2025-03-15T18:40:33.130Z"
   },
   {
    "duration": 224,
    "start_time": "2025-03-15T18:41:43.913Z"
   },
   {
    "duration": 2776,
    "start_time": "2025-03-16T15:08:36.670Z"
   },
   {
    "duration": 479,
    "start_time": "2025-03-16T15:08:39.448Z"
   },
   {
    "duration": 4,
    "start_time": "2025-03-16T15:08:39.928Z"
   },
   {
    "duration": 4,
    "start_time": "2025-03-16T15:08:39.934Z"
   },
   {
    "duration": 3,
    "start_time": "2025-03-16T15:08:39.940Z"
   },
   {
    "duration": 105,
    "start_time": "2025-03-16T15:08:39.945Z"
   },
   {
    "duration": 104,
    "start_time": "2025-03-16T15:08:40.051Z"
   },
   {
    "duration": 228,
    "start_time": "2025-03-16T15:08:40.157Z"
   },
   {
    "duration": 260,
    "start_time": "2025-03-16T15:08:40.386Z"
   },
   {
    "duration": 95,
    "start_time": "2025-03-16T15:08:40.648Z"
   },
   {
    "duration": 27,
    "start_time": "2025-03-16T15:08:40.745Z"
   },
   {
    "duration": 16,
    "start_time": "2025-03-16T15:08:40.774Z"
   },
   {
    "duration": 14,
    "start_time": "2025-03-16T15:08:40.791Z"
   },
   {
    "duration": 16,
    "start_time": "2025-03-16T15:08:40.807Z"
   },
   {
    "duration": 16,
    "start_time": "2025-03-16T15:08:40.824Z"
   },
   {
    "duration": 105,
    "start_time": "2025-03-16T15:08:40.842Z"
   },
   {
    "duration": 2752,
    "start_time": "2025-03-16T16:49:45.138Z"
   },
   {
    "duration": 462,
    "start_time": "2025-03-16T16:49:47.893Z"
   },
   {
    "duration": 4,
    "start_time": "2025-03-16T16:49:48.357Z"
   },
   {
    "duration": 3,
    "start_time": "2025-03-16T16:49:48.363Z"
   },
   {
    "duration": 3,
    "start_time": "2025-03-16T16:49:48.368Z"
   },
   {
    "duration": 108,
    "start_time": "2025-03-16T16:49:48.373Z"
   },
   {
    "duration": 105,
    "start_time": "2025-03-16T16:49:48.483Z"
   },
   {
    "duration": 225,
    "start_time": "2025-03-16T16:49:48.590Z"
   },
   {
    "duration": 253,
    "start_time": "2025-03-16T16:49:48.816Z"
   },
   {
    "duration": 98,
    "start_time": "2025-03-16T16:49:49.072Z"
   },
   {
    "duration": 14,
    "start_time": "2025-03-16T16:49:49.172Z"
   },
   {
    "duration": 14,
    "start_time": "2025-03-16T16:49:49.188Z"
   },
   {
    "duration": 14,
    "start_time": "2025-03-16T16:49:49.204Z"
   },
   {
    "duration": 36,
    "start_time": "2025-03-16T16:49:49.219Z"
   },
   {
    "duration": 16,
    "start_time": "2025-03-16T16:49:49.256Z"
   },
   {
    "duration": 94,
    "start_time": "2025-03-16T16:49:49.274Z"
   },
   {
    "duration": 23,
    "start_time": "2025-03-16T16:49:49.369Z"
   },
   {
    "duration": 81,
    "start_time": "2025-03-16T16:49:49.394Z"
   },
   {
    "duration": 309,
    "start_time": "2025-03-16T16:49:49.477Z"
   },
   {
    "duration": 555,
    "start_time": "2025-03-16T16:49:49.788Z"
   },
   {
    "duration": 49,
    "start_time": "2025-03-16T16:49:50.345Z"
   },
   {
    "duration": 3,
    "start_time": "2025-03-16T16:49:50.396Z"
   },
   {
    "duration": 241,
    "start_time": "2025-03-16T16:49:50.401Z"
   },
   {
    "duration": 10,
    "start_time": "2025-03-16T16:49:50.644Z"
   },
   {
    "duration": 3,
    "start_time": "2025-03-16T16:49:50.656Z"
   },
   {
    "duration": 13,
    "start_time": "2025-03-16T16:49:50.660Z"
   },
   {
    "duration": 3,
    "start_time": "2025-03-16T16:49:50.675Z"
   },
   {
    "duration": 134,
    "start_time": "2025-03-16T16:49:50.683Z"
   },
   {
    "duration": 7647,
    "start_time": "2025-03-16T16:49:50.819Z"
   },
   {
    "duration": 190,
    "start_time": "2025-03-16T16:49:58.467Z"
   },
   {
    "duration": 7,
    "start_time": "2025-03-16T16:49:58.662Z"
   },
   {
    "duration": 3,
    "start_time": "2025-03-16T16:49:58.743Z"
   },
   {
    "duration": 2,
    "start_time": "2025-03-16T16:49:58.750Z"
   },
   {
    "duration": 4,
    "start_time": "2025-03-16T16:49:58.753Z"
   },
   {
    "duration": 2356230,
    "start_time": "2025-03-16T16:49:58.759Z"
   },
   {
    "duration": 4,
    "start_time": "2025-03-16T17:29:14.991Z"
   },
   {
    "duration": 272,
    "start_time": "2025-03-16T17:29:14.996Z"
   },
   {
    "duration": 4,
    "start_time": "2025-03-16T17:29:15.271Z"
   },
   {
    "duration": 3,
    "start_time": "2025-03-16T17:29:15.277Z"
   },
   {
    "duration": 3,
    "start_time": "2025-03-16T17:29:15.282Z"
   },
   {
    "duration": 204812,
    "start_time": "2025-03-16T17:29:15.287Z"
   },
   {
    "duration": 23,
    "start_time": "2025-03-16T17:32:40.100Z"
   },
   {
    "duration": 4,
    "start_time": "2025-03-16T17:32:40.125Z"
   },
   {
    "duration": 2,
    "start_time": "2025-03-16T17:32:40.131Z"
   },
   {
    "duration": 4,
    "start_time": "2025-03-16T17:32:40.135Z"
   },
   {
    "duration": 33869,
    "start_time": "2025-03-16T17:32:40.140Z"
   },
   {
    "duration": 10,
    "start_time": "2025-03-16T17:33:14.011Z"
   },
   {
    "duration": 174,
    "start_time": "2025-03-16T17:33:14.022Z"
   },
   {
    "duration": 0,
    "start_time": "2025-03-16T17:33:14.198Z"
   },
   {
    "duration": 4,
    "start_time": "2025-03-16T17:37:23.652Z"
   },
   {
    "duration": 0,
    "start_time": "2025-03-16T17:43:48.326Z"
   },
   {
    "duration": 77717,
    "start_time": "2025-03-16T17:44:01.031Z"
   },
   {
    "duration": 266,
    "start_time": "2025-03-16T17:45:18.750Z"
   },
   {
    "duration": 4,
    "start_time": "2025-03-16T17:46:36.266Z"
   },
   {
    "duration": 16,
    "start_time": "2025-03-16T17:48:02.863Z"
   },
   {
    "duration": 2436,
    "start_time": "2025-03-16T17:48:24.052Z"
   },
   {
    "duration": 16,
    "start_time": "2025-03-16T17:48:40.373Z"
   },
   {
    "duration": 4,
    "start_time": "2025-03-16T17:48:44.436Z"
   },
   {
    "duration": 5,
    "start_time": "2025-03-16T17:48:53.815Z"
   },
   {
    "duration": 4,
    "start_time": "2025-03-16T17:49:23.708Z"
   },
   {
    "duration": 262831,
    "start_time": "2025-03-16T17:49:53.022Z"
   },
   {
    "duration": 4,
    "start_time": "2025-03-16T17:54:15.857Z"
   },
   {
    "duration": 291,
    "start_time": "2025-03-16T17:54:15.862Z"
   },
   {
    "duration": 4,
    "start_time": "2025-03-16T17:54:16.156Z"
   },
   {
    "duration": 68,
    "start_time": "2025-03-16T17:55:40.912Z"
   },
   {
    "duration": 5,
    "start_time": "2025-03-16T17:56:15.667Z"
   },
   {
    "duration": 2148,
    "start_time": "2025-03-16T17:56:38.810Z"
   },
   {
    "duration": 229,
    "start_time": "2025-03-16T17:56:43.018Z"
   },
   {
    "duration": 4,
    "start_time": "2025-03-16T17:56:45.263Z"
   },
   {
    "duration": 270,
    "start_time": "2025-03-16T17:58:30.887Z"
   }
  ],
  "kernelspec": {
   "display_name": "base",
   "language": "python",
   "name": "python3"
  },
  "language_info": {
   "codemirror_mode": {
    "name": "ipython",
    "version": 3
   },
   "file_extension": ".py",
   "mimetype": "text/x-python",
   "name": "python",
   "nbconvert_exporter": "python",
   "pygments_lexer": "ipython3",
   "version": "3.12.4"
  },
  "toc": {
   "base_numbering": 1,
   "nav_menu": {},
   "number_sections": true,
   "sideBar": true,
   "skip_h1_title": true,
   "title_cell": "Table of Contents",
   "title_sidebar": "Contents",
   "toc_cell": false,
   "toc_position": {},
   "toc_section_display": true,
   "toc_window_display": false
  }
 },
 "nbformat": 4,
 "nbformat_minor": 2
}
